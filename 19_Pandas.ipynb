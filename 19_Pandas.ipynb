{
  "nbformat": 4,
  "nbformat_minor": 0,
  "metadata": {
    "colab": {
      "name": "19_Pandas.ipynb",
      "provenance": [],
      "authorship_tag": "ABX9TyOOLhe/I1XwVG+wrwIuXMWg",
      "include_colab_link": true
    },
    "kernelspec": {
      "name": "python3",
      "display_name": "Python 3"
    },
    "language_info": {
      "name": "python"
    }
  },
  "cells": [
    {
      "cell_type": "markdown",
      "metadata": {
        "id": "view-in-github",
        "colab_type": "text"
      },
      "source": [
        "<a href=\"https://colab.research.google.com/github/maheshpandao/Mahesh/blob/main/19_Pandas.ipynb\" target=\"_parent\"><img src=\"https://colab.research.google.com/assets/colab-badge.svg\" alt=\"Open In Colab\"/></a>"
      ]
    },
    {
      "cell_type": "markdown",
      "source": [
        "Import Library"
      ],
      "metadata": {
        "id": "ivOt4u9P4_51"
      }
    },
    {
      "cell_type": "code",
      "source": [
        "!pip install pandas"
      ],
      "metadata": {
        "colab": {
          "base_uri": "https://localhost:8080/"
        },
        "id": "lCEgHHc_5HFw",
        "outputId": "00e8d5ba-5fe1-4042-9b1a-9170ff79b57f"
      },
      "execution_count": 3,
      "outputs": [
        {
          "output_type": "stream",
          "name": "stdout",
          "text": [
            "Requirement already satisfied: pandas in /usr/local/lib/python3.7/dist-packages (1.1.5)\n",
            "Requirement already satisfied: pytz>=2017.2 in /usr/local/lib/python3.7/dist-packages (from pandas) (2018.9)\n",
            "Requirement already satisfied: numpy>=1.15.4 in /usr/local/lib/python3.7/dist-packages (from pandas) (1.19.5)\n",
            "Requirement already satisfied: python-dateutil>=2.7.3 in /usr/local/lib/python3.7/dist-packages (from pandas) (2.8.2)\n",
            "Requirement already satisfied: six>=1.5 in /usr/local/lib/python3.7/dist-packages (from python-dateutil>=2.7.3->pandas) (1.15.0)\n"
          ]
        }
      ]
    },
    {
      "cell_type": "code",
      "source": [
        "import pandas"
      ],
      "metadata": {
        "id": "WvFTqa3t5PbL"
      },
      "execution_count": 4,
      "outputs": []
    },
    {
      "cell_type": "code",
      "source": [
        "pandas.__version__"
      ],
      "metadata": {
        "colab": {
          "base_uri": "https://localhost:8080/",
          "height": 35
        },
        "id": "dayZDoyy5SWN",
        "outputId": "95b5e77e-5756-4c9f-d964-9c1a69ac1880"
      },
      "execution_count": 5,
      "outputs": [
        {
          "output_type": "execute_result",
          "data": {
            "application/vnd.google.colaboratory.intrinsic+json": {
              "type": "string"
            },
            "text/plain": [
              "'1.1.5'"
            ]
          },
          "metadata": {},
          "execution_count": 5
        }
      ]
    },
    {
      "cell_type": "markdown",
      "source": [
        "Loading Data-series\n",
        "\n"
      ],
      "metadata": {
        "id": "dPuSMdHW5uEK"
      }
    },
    {
      "cell_type": "code",
      "source": [
        "import pandas as pd\n",
        "a = [7,9,4]\n",
        "dataset = pd.Series(a)\n",
        "print(dataset)"
      ],
      "metadata": {
        "colab": {
          "base_uri": "https://localhost:8080/"
        },
        "id": "JCpsFqox5wrR",
        "outputId": "51786d3a-f6f9-4e73-f83a-2d5224ecfaef"
      },
      "execution_count": 6,
      "outputs": [
        {
          "output_type": "stream",
          "name": "stdout",
          "text": [
            "0    7\n",
            "1    9\n",
            "2    4\n",
            "dtype: int64\n"
          ]
        }
      ]
    },
    {
      "cell_type": "code",
      "source": [
        "import pandas as pd \n",
        "a = [7,9,4]\n",
        "dataset = pd.Series(a, index = [\"No.1\",\"No.2\",\"No.3\"])\n",
        "print(dataset)"
      ],
      "metadata": {
        "colab": {
          "base_uri": "https://localhost:8080/"
        },
        "id": "lFuvmNM27TOP",
        "outputId": "cda8dc94-b30c-452d-a914-11020f791e22"
      },
      "execution_count": 7,
      "outputs": [
        {
          "output_type": "stream",
          "name": "stdout",
          "text": [
            "No.1    7\n",
            "No.2    9\n",
            "No.3    4\n",
            "dtype: int64\n"
          ]
        }
      ]
    },
    {
      "cell_type": "markdown",
      "source": [
        "Loading Data-Data frame"
      ],
      "metadata": {
        "id": "rPNmHGK6INXF"
      }
    },
    {
      "cell_type": "code",
      "source": [
        "import pandas as pd\n",
        "data ={\"Name\":[\"Champ\",\"Mr.X\",\"Mr.Y\"],\"Color\":[\"Red\",\"Black\",\"White\"]}\n",
        "dataset=pd.DataFrame(data)\n",
        "print(dataset)"
      ],
      "metadata": {
        "colab": {
          "base_uri": "https://localhost:8080/"
        },
        "id": "hzg5EBJeIW2z",
        "outputId": "4f3f3f4b-5e78-4284-90b9-50423d5ce154"
      },
      "execution_count": 8,
      "outputs": [
        {
          "output_type": "stream",
          "name": "stdout",
          "text": [
            "    Name  Color\n",
            "0  Champ    Red\n",
            "1   Mr.X  Black\n",
            "2   Mr.Y  White\n"
          ]
        }
      ]
    },
    {
      "cell_type": "markdown",
      "source": [
        "Loading Dataset from File"
      ],
      "metadata": {
        "id": "NTyzgEfBLjHb"
      }
    },
    {
      "cell_type": "code",
      "source": [
        "from google.colab import files\n",
        "uploaded=files.upload()\n",
        "uploaded"
      ],
      "metadata": {
        "colab": {
          "resources": {
            "http://localhost:8080/nbextensions/google.colab/files.js": {
              "data": "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",
              "ok": true,
              "headers": [
                [
                  "content-type",
                  "application/javascript"
                ]
              ],
              "status": 200,
              "status_text": ""
            }
          },
          "base_uri": "https://localhost:8080/",
          "height": 110
        },
        "id": "DazyQHJuOVjW",
        "outputId": "e25fa34b-b682-4aba-99b7-cf5425828eff"
      },
      "execution_count": 9,
      "outputs": [
        {
          "output_type": "display_data",
          "data": {
            "text/html": [
              "\n",
              "     <input type=\"file\" id=\"files-3fa0a474-d271-4a1b-876e-338b0aa95181\" name=\"files[]\" multiple disabled\n",
              "        style=\"border:none\" />\n",
              "     <output id=\"result-3fa0a474-d271-4a1b-876e-338b0aa95181\">\n",
              "      Upload widget is only available when the cell has been executed in the\n",
              "      current browser session. Please rerun this cell to enable.\n",
              "      </output>\n",
              "      <script src=\"/nbextensions/google.colab/files.js\"></script> "
            ],
            "text/plain": [
              "<IPython.core.display.HTML object>"
            ]
          },
          "metadata": {}
        },
        {
          "output_type": "stream",
          "name": "stdout",
          "text": [
            "Saving dataset.csv to dataset.csv\n"
          ]
        },
        {
          "output_type": "execute_result",
          "data": {
            "text/plain": [
              "{'dataset.csv': b\"#,Name,Type 1,Type 2,HP,Attack,Defense,Sp. Atk,Sp. Def,Speed,Generation,Legendary\\n1,Bulbasaur,Grass,Poison,45,49,49,65,65,45,1,FALSE\\n2,Ivysaur,Grass,Poison,60,62,63,80,80,60,1,FALSE\\n3,Venusaur,Grass,Poison,80,82,83,100,100,80,1,FALSE\\n3,VenusaurMega Venusaur,Grass,Poison,80,100,123,122,120,80,1,FALSE\\n4,Charmander,Fire,,39,52,43,60,50,65,1,FALSE\\n5,Charmeleon,Fire,,58,64,58,80,65,80,1,FALSE\\n6,Charizard,Fire,Flying,78,84,78,109,85,100,1,FALSE\\n6,CharizardMega Charizard X,Fire,Dragon,78,130,111,130,85,100,1,FALSE\\n6,CharizardMega Charizard Y,Fire,Flying,78,104,78,159,115,100,1,FALSE\\n7,Squirtle,Water,,44,48,65,50,64,43,1,FALSE\\n8,Wartortle,Water,,59,63,80,65,80,58,1,FALSE\\n9,Blastoise,Water,,79,83,100,85,105,78,1,FALSE\\n9,BlastoiseMega Blastoise,Water,,79,103,120,135,115,78,1,FALSE\\n10,Caterpie,Bug,,45,30,35,20,20,45,1,FALSE\\n11,Metapod,Bug,,50,20,55,25,25,30,1,FALSE\\n12,Butterfree,Bug,Flying,60,45,50,90,80,70,1,FALSE\\n13,Weedle,Bug,Poison,40,35,30,20,20,50,1,FALSE\\n14,Kakuna,Bug,Poison,45,25,50,25,25,35,1,FALSE\\n15,Beedrill,Bug,Poison,65,90,40,45,80,75,1,FALSE\\n15,BeedrillMega Beedrill,Bug,Poison,65,150,40,15,80,145,1,FALSE\\n16,Pidgey,Normal,Flying,40,45,40,35,35,56,1,FALSE\\n17,Pidgeotto,Normal,Flying,63,60,55,50,50,71,1,FALSE\\n18,Pidgeot,Normal,Flying,83,80,75,70,70,101,1,FALSE\\n18,PidgeotMega Pidgeot,Normal,Flying,83,80,80,135,80,121,1,FALSE\\n19,Rattata,Normal,,30,56,35,25,35,72,1,FALSE\\n20,Raticate,Normal,,55,81,60,50,70,97,1,FALSE\\n21,Spearow,Normal,Flying,40,60,30,31,31,70,1,FALSE\\n22,Fearow,Normal,Flying,65,90,65,61,61,100,1,FALSE\\n23,Ekans,Poison,,35,60,44,40,54,55,1,FALSE\\n24,Arbok,Poison,,60,85,69,65,79,80,1,FALSE\\n25,Pikachu,Electric,,35,55,40,50,50,90,1,FALSE\\n26,Raichu,Electric,,60,90,55,90,80,110,1,FALSE\\n27,Sandshrew,Ground,,50,75,85,20,30,40,1,FALSE\\n28,Sandslash,Ground,,75,100,110,45,55,65,1,FALSE\\n29,Nidoran (Female),Poison,,55,47,52,40,40,41,1,FALSE\\n30,Nidorina,Poison,,70,62,67,55,55,56,1,FALSE\\n31,Nidoqueen,Poison,Ground,90,92,87,75,85,76,1,FALSE\\n32,Nidoran (Male),Poison,,46,57,40,40,40,50,1,FALSE\\n33,Nidorino,Poison,,61,72,57,55,55,65,1,FALSE\\n34,Nidoking,Poison,Ground,81,102,77,85,75,85,1,FALSE\\n35,Clefairy,Fairy,,70,45,48,60,65,35,1,FALSE\\n36,Clefable,Fairy,,95,70,73,95,90,60,1,FALSE\\n37,Vulpix,Fire,,38,41,40,50,65,65,1,FALSE\\n38,Ninetales,Fire,,73,76,75,81,100,100,1,FALSE\\n39,Jigglypuff,Normal,Fairy,115,45,20,45,25,20,1,FALSE\\n40,Wigglytuff,Normal,Fairy,140,70,45,85,50,45,1,FALSE\\n41,Zubat,Poison,Flying,40,45,35,30,40,55,1,FALSE\\n42,Golbat,Poison,Flying,75,80,70,65,75,90,1,FALSE\\n43,Oddish,Grass,Poison,45,50,55,75,65,30,1,FALSE\\n44,Gloom,Grass,Poison,60,65,70,85,75,40,1,FALSE\\n45,Vileplume,Grass,Poison,75,80,85,110,90,50,1,FALSE\\n46,Paras,Bug,Grass,35,70,55,45,55,25,1,FALSE\\n47,Parasect,Bug,Grass,60,95,80,60,80,30,1,FALSE\\n48,Venonat,Bug,Poison,60,55,50,40,55,45,1,FALSE\\n49,Venomoth,Bug,Poison,70,65,60,90,75,90,1,FALSE\\n50,Diglett,Ground,,10,55,25,35,45,95,1,FALSE\\n51,Dugtrio,Ground,,35,80,50,50,70,120,1,FALSE\\n52,Meowth,Normal,,40,45,35,40,40,90,1,FALSE\\n53,Persian,Normal,,65,70,60,65,65,115,1,FALSE\\n54,Psyduck,Water,,50,52,48,65,50,55,1,FALSE\\n55,Golduck,Water,,80,82,78,95,80,85,1,FALSE\\n56,Mankey,Fighting,,40,80,35,35,45,70,1,FALSE\\n57,Primeape,Fighting,,65,105,60,60,70,95,1,FALSE\\n58,Growlithe,Fire,,55,70,45,70,50,60,1,FALSE\\n59,Arcanine,Fire,,90,110,80,100,80,95,1,FALSE\\n60,Poliwag,Water,,40,50,40,40,40,90,1,FALSE\\n61,Poliwhirl,Water,,65,65,65,50,50,90,1,FALSE\\n62,Poliwrath,Water,Fighting,90,95,95,70,90,70,1,FALSE\\n63,Abra,Psychic,,25,20,15,105,55,90,1,FALSE\\n64,Kadabra,Psychic,,40,35,30,120,70,105,1,FALSE\\n65,Alakazam,Psychic,,55,50,45,135,95,120,1,FALSE\\n65,AlakazamMega Alakazam,Psychic,,55,50,65,175,95,150,1,FALSE\\n66,Machop,Fighting,,70,80,50,35,35,35,1,FALSE\\n67,Machoke,Fighting,,80,100,70,50,60,45,1,FALSE\\n68,Machamp,Fighting,,90,130,80,65,85,55,1,FALSE\\n69,Bellsprout,Grass,Poison,50,75,35,70,30,40,1,FALSE\\n70,Weepinbell,Grass,Poison,65,90,50,85,45,55,1,FALSE\\n71,Victreebel,Grass,Poison,80,105,65,100,70,70,1,FALSE\\n72,Tentacool,Water,Poison,40,40,35,50,100,70,1,FALSE\\n73,Tentacruel,Water,Poison,80,70,65,80,120,100,1,FALSE\\n74,Geodude,Rock,Ground,40,80,100,30,30,20,1,FALSE\\n75,Graveler,Rock,Ground,55,95,115,45,45,35,1,FALSE\\n76,Golem,Rock,Ground,80,120,130,55,65,45,1,FALSE\\n77,Ponyta,Fire,,50,85,55,65,65,90,1,FALSE\\n78,Rapidash,Fire,,65,100,70,80,80,105,1,FALSE\\n79,Slowpoke,Water,Psychic,90,65,65,40,40,15,1,FALSE\\n80,Slowbro,Water,Psychic,95,75,110,100,80,30,1,FALSE\\n80,SlowbroMega Slowbro,Water,Psychic,95,75,180,130,80,30,1,FALSE\\n81,Magnemite,Electric,Steel,25,35,70,95,55,45,1,FALSE\\n82,Magneton,Electric,Steel,50,60,95,120,70,70,1,FALSE\\n83,Farfetch'd,Normal,Flying,52,65,55,58,62,60,1,FALSE\\n84,Doduo,Normal,Flying,35,85,45,35,35,75,1,FALSE\\n85,Dodrio,Normal,Flying,60,110,70,60,60,100,1,FALSE\\n86,Seel,Water,,65,45,55,45,70,45,1,FALSE\\n87,Dewgong,Water,Ice,90,70,80,70,95,70,1,FALSE\\n88,Grimer,Poison,,80,80,50,40,50,25,1,FALSE\\n89,Muk,Poison,,105,105,75,65,100,50,1,FALSE\\n90,Shellder,Water,,30,65,100,45,25,40,1,FALSE\\n91,Cloyster,Water,Ice,50,95,180,85,45,70,1,FALSE\\n92,Gastly,Ghost,Poison,30,35,30,100,35,80,1,FALSE\\n93,Haunter,Ghost,Poison,45,50,45,115,55,95,1,FALSE\\n94,Gengar,Ghost,Poison,60,65,60,130,75,110,1,FALSE\\n94,GengarMega Gengar,Ghost,Poison,60,65,80,170,95,130,1,FALSE\\n95,Onix,Rock,Ground,35,45,160,30,45,70,1,FALSE\\n96,Drowzee,Psychic,,60,48,45,43,90,42,1,FALSE\\n97,Hypno,Psychic,,85,73,70,73,115,67,1,FALSE\\n98,Krabby,Water,,30,105,90,25,25,50,1,FALSE\\n99,Kingler,Water,,55,130,115,50,50,75,1,FALSE\\n100,Voltorb,Electric,,40,30,50,55,55,100,1,FALSE\\n101,Electrode,Electric,,60,50,70,80,80,140,1,FALSE\\n102,Exeggcute,Grass,Psychic,60,40,80,60,45,40,1,FALSE\\n103,Exeggutor,Grass,Psychic,95,95,85,125,65,55,1,FALSE\\n104,Cubone,Ground,,50,50,95,40,50,35,1,FALSE\\n105,Marowak,Ground,,60,80,110,50,80,45,1,FALSE\\n106,Hitmonlee,Fighting,,50,120,53,35,110,87,1,FALSE\\n107,Hitmonchan,Fighting,,50,105,79,35,110,76,1,FALSE\\n108,Lickitung,Normal,,90,55,75,60,75,30,1,FALSE\\n109,Koffing,Poison,,40,65,95,60,45,35,1,FALSE\\n110,Weezing,Poison,,65,90,120,85,70,60,1,FALSE\\n111,Rhyhorn,Ground,Rock,80,85,95,30,30,25,1,FALSE\\n112,Rhydon,Ground,Rock,105,130,120,45,45,40,1,FALSE\\n113,Chansey,Normal,,250,5,5,35,105,50,1,FALSE\\n114,Tangela,Grass,,65,55,115,100,40,60,1,FALSE\\n115,Kangaskhan,Normal,,105,95,80,40,80,90,1,FALSE\\n115,KangaskhanMega Kangaskhan,Normal,,105,125,100,60,100,100,1,FALSE\\n116,Horsea,Water,,30,40,70,70,25,60,1,FALSE\\n117,Seadra,Water,,55,65,95,95,45,85,1,FALSE\\n118,Goldeen,Water,,45,67,60,35,50,63,1,FALSE\\n119,Seaking,Water,,80,92,65,65,80,68,1,FALSE\\n120,Staryu,Water,,30,45,55,70,55,85,1,FALSE\\n121,Starmie,Water,Psychic,60,75,85,100,85,115,1,FALSE\\n122,Mr. Mime,Psychic,Fairy,40,45,65,100,120,90,1,FALSE\\n123,Scyther,Bug,Flying,70,110,80,55,80,105,1,FALSE\\n124,Jynx,Ice,Psychic,65,50,35,115,95,95,1,FALSE\\n125,Electabuzz,Electric,,65,83,57,95,85,105,1,FALSE\\n126,Magmar,Fire,,65,95,57,100,85,93,1,FALSE\\n127,Pinsir,Bug,,65,125,100,55,70,85,1,FALSE\\n127,PinsirMega Pinsir,Bug,Flying,65,155,120,65,90,105,1,FALSE\\n128,Tauros,Normal,,75,100,95,40,70,110,1,FALSE\\n129,Magikarp,Water,,20,10,55,15,20,80,1,FALSE\\n130,Gyarados,Water,Flying,95,125,79,60,100,81,1,FALSE\\n130,GyaradosMega Gyarados,Water,Dark,95,155,109,70,130,81,1,FALSE\\n131,Lapras,Water,Ice,130,85,80,85,95,60,1,FALSE\\n132,Ditto,Normal,,48,48,48,48,48,48,1,FALSE\\n133,Eevee,Normal,,55,55,50,45,65,55,1,FALSE\\n134,Vaporeon,Water,,130,65,60,110,95,65,1,FALSE\\n135,Jolteon,Electric,,65,65,60,110,95,130,1,FALSE\\n136,Flareon,Fire,,65,130,60,95,110,65,1,FALSE\\n137,Porygon,Normal,,65,60,70,85,75,40,1,FALSE\\n138,Omanyte,Rock,Water,35,40,100,90,55,35,1,FALSE\\n139,Omastar,Rock,Water,70,60,125,115,70,55,1,FALSE\\n140,Kabuto,Rock,Water,30,80,90,55,45,55,1,FALSE\\n141,Kabutops,Rock,Water,60,115,105,65,70,80,1,FALSE\\n142,Aerodactyl,Rock,Flying,80,105,65,60,75,130,1,FALSE\\n142,AerodactylMega Aerodactyl,Rock,Flying,80,135,85,70,95,150,1,FALSE\\n143,Snorlax,Normal,,160,110,65,65,110,30,1,FALSE\\n144,Articuno,Ice,Flying,90,85,100,95,125,85,1,TRUE\\n145,Zapdos,Electric,Flying,90,90,85,125,90,100,1,TRUE\\n146,Moltres,Fire,Flying,90,100,90,125,85,90,1,TRUE\\n147,Dratini,Dragon,,41,64,45,50,50,50,1,FALSE\\n148,Dragonair,Dragon,,61,84,65,70,70,70,1,FALSE\\n149,Dragonite,Dragon,Flying,91,134,95,100,100,80,1,FALSE\\n150,Mewtwo,Psychic,,106,110,90,154,90,130,1,TRUE\\n150,MewtwoMega Mewtwo X,Psychic,Fighting,106,190,100,154,100,130,1,TRUE\\n150,MewtwoMega Mewtwo Y,Psychic,,106,150,70,194,120,140,1,TRUE\\n151,Mew,Psychic,,100,100,100,100,100,100,1,FALSE\\n152,Chikorita,Grass,,45,49,65,49,65,45,2,FALSE\\n153,Bayleef,Grass,,60,62,80,63,80,60,2,FALSE\\n154,Meganium,Grass,,80,82,100,83,100,80,2,FALSE\\n155,Cyndaquil,Fire,,39,52,43,60,50,65,2,FALSE\\n156,Quilava,Fire,,58,64,58,80,65,80,2,FALSE\\n157,Typhlosion,Fire,,78,84,78,109,85,100,2,FALSE\\n158,Totodile,Water,,50,65,64,44,48,43,2,FALSE\\n159,Croconaw,Water,,65,80,80,59,63,58,2,FALSE\\n160,Feraligatr,Water,,85,105,100,79,83,78,2,FALSE\\n161,Sentret,Normal,,35,46,34,35,45,20,2,FALSE\\n162,Furret,Normal,,85,76,64,45,55,90,2,FALSE\\n163,Hoothoot,Normal,Flying,60,30,30,36,56,50,2,FALSE\\n164,Noctowl,Normal,Flying,100,50,50,76,96,70,2,FALSE\\n165,Ledyba,Bug,Flying,40,20,30,40,80,55,2,FALSE\\n166,Ledian,Bug,Flying,55,35,50,55,110,85,2,FALSE\\n167,Spinarak,Bug,Poison,40,60,40,40,40,30,2,FALSE\\n168,Ariados,Bug,Poison,70,90,70,60,60,40,2,FALSE\\n169,Crobat,Poison,Flying,85,90,80,70,80,130,2,FALSE\\n170,Chinchou,Water,Electric,75,38,38,56,56,67,2,FALSE\\n171,Lanturn,Water,Electric,125,58,58,76,76,67,2,FALSE\\n172,Pichu,Electric,,20,40,15,35,35,60,2,FALSE\\n173,Cleffa,Fairy,,50,25,28,45,55,15,2,FALSE\\n174,Igglybuff,Normal,Fairy,90,30,15,40,20,15,2,FALSE\\n175,Togepi,Fairy,,35,20,65,40,65,20,2,FALSE\\n176,Togetic,Fairy,Flying,55,40,85,80,105,40,2,FALSE\\n177,Natu,Psychic,Flying,40,50,45,70,45,70,2,FALSE\\n178,Xatu,Psychic,Flying,65,75,70,95,70,95,2,FALSE\\n179,Mareep,Electric,,55,40,40,65,45,35,2,FALSE\\n180,Flaaffy,Electric,,70,55,55,80,60,45,2,FALSE\\n181,Ampharos,Electric,,90,75,85,115,90,55,2,FALSE\\n181,AmpharosMega Ampharos,Electric,Dragon,90,95,105,165,110,45,2,FALSE\\n182,Bellossom,Grass,,75,80,95,90,100,50,2,FALSE\\n183,Marill,Water,Fairy,70,20,50,20,50,40,2,FALSE\\n184,Azumarill,Water,Fairy,100,50,80,60,80,50,2,FALSE\\n185,Sudowoodo,Rock,,70,100,115,30,65,30,2,FALSE\\n186,Politoed,Water,,90,75,75,90,100,70,2,FALSE\\n187,Hoppip,Grass,Flying,35,35,40,35,55,50,2,FALSE\\n188,Skiploom,Grass,Flying,55,45,50,45,65,80,2,FALSE\\n189,Jumpluff,Grass,Flying,75,55,70,55,95,110,2,FALSE\\n190,Aipom,Normal,,55,70,55,40,55,85,2,FALSE\\n191,Sunkern,Grass,,30,30,30,30,30,30,2,FALSE\\n192,Sunflora,Grass,,75,75,55,105,85,30,2,FALSE\\n193,Yanma,Bug,Flying,65,65,45,75,45,95,2,FALSE\\n194,Wooper,Water,Ground,55,45,45,25,25,15,2,FALSE\\n195,Quagsire,Water,Ground,95,85,85,65,65,35,2,FALSE\\n196,Espeon,Psychic,,65,65,60,130,95,110,2,FALSE\\n197,Umbreon,Dark,,95,65,110,60,130,65,2,FALSE\\n198,Murkrow,Dark,Flying,60,85,42,85,42,91,2,FALSE\\n199,Slowking,Water,Psychic,95,75,80,100,110,30,2,FALSE\\n200,Misdreavus,Ghost,,60,60,60,85,85,85,2,FALSE\\n201,Unown,Psychic,,48,72,48,72,48,48,2,FALSE\\n202,Wobbuffet,Psychic,,190,33,58,33,58,33,2,FALSE\\n203,Girafarig,Normal,Psychic,70,80,65,90,65,85,2,FALSE\\n204,Pineco,Bug,,50,65,90,35,35,15,2,FALSE\\n205,Forretress,Bug,Steel,75,90,140,60,60,40,2,FALSE\\n206,Dunsparce,Normal,,100,70,70,65,65,45,2,FALSE\\n207,Gligar,Ground,Flying,65,75,105,35,65,85,2,FALSE\\n208,Steelix,Steel,Ground,75,85,200,55,65,30,2,FALSE\\n208,SteelixMega Steelix,Steel,Ground,75,125,230,55,95,30,2,FALSE\\n209,Snubbull,Fairy,,60,80,50,40,40,30,2,FALSE\\n210,Granbull,Fairy,,90,120,75,60,60,45,2,FALSE\\n211,Qwilfish,Water,Poison,65,95,75,55,55,85,2,FALSE\\n212,Scizor,Bug,Steel,70,130,100,55,80,65,2,FALSE\\n212,ScizorMega Scizor,Bug,Steel,70,150,140,65,100,75,2,FALSE\\n213,Shuckle,Bug,Rock,20,10,230,10,230,5,2,FALSE\\n214,Heracross,Bug,Fighting,80,125,75,40,95,85,2,FALSE\\n214,HeracrossMega Heracross,Bug,Fighting,80,185,115,40,105,75,2,FALSE\\n215,Sneasel,Dark,Ice,55,95,55,35,75,115,2,FALSE\\n216,Teddiursa,Normal,,60,80,50,50,50,40,2,FALSE\\n217,Ursaring,Normal,,90,130,75,75,75,55,2,FALSE\\n218,Slugma,Fire,,40,40,40,70,40,20,2,FALSE\\n219,Magcargo,Fire,Rock,50,50,120,80,80,30,2,FALSE\\n220,Swinub,Ice,Ground,50,50,40,30,30,50,2,FALSE\\n221,Piloswine,Ice,Ground,100,100,80,60,60,50,2,FALSE\\n222,Corsola,Water,Rock,55,55,85,65,85,35,2,FALSE\\n223,Remoraid,Water,,35,65,35,65,35,65,2,FALSE\\n224,Octillery,Water,,75,105,75,105,75,45,2,FALSE\\n225,Delibird,Ice,Flying,45,55,45,65,45,75,2,FALSE\\n226,Mantine,Water,Flying,65,40,70,80,140,70,2,FALSE\\n227,Skarmory,Steel,Flying,65,80,140,40,70,70,2,FALSE\\n228,Houndour,Dark,Fire,45,60,30,80,50,65,2,FALSE\\n229,Houndoom,Dark,Fire,75,90,50,110,80,95,2,FALSE\\n229,HoundoomMega Houndoom,Dark,Fire,75,90,90,140,90,115,2,FALSE\\n230,Kingdra,Water,Dragon,75,95,95,95,95,85,2,FALSE\\n231,Phanpy,Ground,,90,60,60,40,40,40,2,FALSE\\n232,Donphan,Ground,,90,120,120,60,60,50,2,FALSE\\n233,Porygon2,Normal,,85,80,90,105,95,60,2,FALSE\\n234,Stantler,Normal,,73,95,62,85,65,85,2,FALSE\\n235,Smeargle,Normal,,55,20,35,20,45,75,2,FALSE\\n236,Tyrogue,Fighting,,35,35,35,35,35,35,2,FALSE\\n237,Hitmontop,Fighting,,50,95,95,35,110,70,2,FALSE\\n238,Smoochum,Ice,Psychic,45,30,15,85,65,65,2,FALSE\\n239,Elekid,Electric,,45,63,37,65,55,95,2,FALSE\\n240,Magby,Fire,,45,75,37,70,55,83,2,FALSE\\n241,Miltank,Normal,,95,80,105,40,70,100,2,FALSE\\n242,Blissey,Normal,,255,10,10,75,135,55,2,FALSE\\n243,Raikou,Electric,,90,85,75,115,100,115,2,TRUE\\n244,Entei,Fire,,115,115,85,90,75,100,2,TRUE\\n245,Suicune,Water,,100,75,115,90,115,85,2,TRUE\\n246,Larvitar,Rock,Ground,50,64,50,45,50,41,2,FALSE\\n247,Pupitar,Rock,Ground,70,84,70,65,70,51,2,FALSE\\n248,Tyranitar,Rock,Dark,100,134,110,95,100,61,2,FALSE\\n248,TyranitarMega Tyranitar,Rock,Dark,100,164,150,95,120,71,2,FALSE\\n249,Lugia,Psychic,Flying,106,90,130,90,154,110,2,TRUE\\n250,Ho-oh,Fire,Flying,106,130,90,110,154,90,2,TRUE\\n251,Celebi,Psychic,Grass,100,100,100,100,100,100,2,FALSE\\n252,Treecko,Grass,,40,45,35,65,55,70,3,FALSE\\n253,Grovyle,Grass,,50,65,45,85,65,95,3,FALSE\\n254,Sceptile,Grass,,70,85,65,105,85,120,3,FALSE\\n254,SceptileMega Sceptile,Grass,Dragon,70,110,75,145,85,145,3,FALSE\\n255,Torchic,Fire,,45,60,40,70,50,45,3,FALSE\\n256,Combusken,Fire,Fighting,60,85,60,85,60,55,3,FALSE\\n257,Blaziken,Fire,Fighting,80,120,70,110,70,80,3,FALSE\\n257,BlazikenMega Blaziken,Fire,Fighting,80,160,80,130,80,100,3,FALSE\\n258,Mudkip,Water,,50,70,50,50,50,40,3,FALSE\\n259,Marshtomp,Water,Ground,70,85,70,60,70,50,3,FALSE\\n260,Swampert,Water,Ground,100,110,90,85,90,60,3,FALSE\\n260,SwampertMega Swampert,Water,Ground,100,150,110,95,110,70,3,FALSE\\n261,Poochyena,Dark,,35,55,35,30,30,35,3,FALSE\\n262,Mightyena,Dark,,70,90,70,60,60,70,3,FALSE\\n263,Zigzagoon,Normal,,38,30,41,30,41,60,3,FALSE\\n264,Linoone,Normal,,78,70,61,50,61,100,3,FALSE\\n265,Wurmple,Bug,,45,45,35,20,30,20,3,FALSE\\n266,Silcoon,Bug,,50,35,55,25,25,15,3,FALSE\\n267,Beautifly,Bug,Flying,60,70,50,100,50,65,3,FALSE\\n268,Cascoon,Bug,,50,35,55,25,25,15,3,FALSE\\n269,Dustox,Bug,Poison,60,50,70,50,90,65,3,FALSE\\n270,Lotad,Water,Grass,40,30,30,40,50,30,3,FALSE\\n271,Lombre,Water,Grass,60,50,50,60,70,50,3,FALSE\\n272,Ludicolo,Water,Grass,80,70,70,90,100,70,3,FALSE\\n273,Seedot,Grass,,40,40,50,30,30,30,3,FALSE\\n274,Nuzleaf,Grass,Dark,70,70,40,60,40,60,3,FALSE\\n275,Shiftry,Grass,Dark,90,100,60,90,60,80,3,FALSE\\n276,Taillow,Normal,Flying,40,55,30,30,30,85,3,FALSE\\n277,Swellow,Normal,Flying,60,85,60,50,50,125,3,FALSE\\n278,Wingull,Water,Flying,40,30,30,55,30,85,3,FALSE\\n279,Pelipper,Water,Flying,60,50,100,85,70,65,3,FALSE\\n280,Ralts,Psychic,Fairy,28,25,25,45,35,40,3,FALSE\\n281,Kirlia,Psychic,Fairy,38,35,35,65,55,50,3,FALSE\\n282,Gardevoir,Psychic,Fairy,68,65,65,125,115,80,3,FALSE\\n282,GardevoirMega Gardevoir,Psychic,Fairy,68,85,65,165,135,100,3,FALSE\\n283,Surskit,Bug,Water,40,30,32,50,52,65,3,FALSE\\n284,Masquerain,Bug,Flying,70,60,62,80,82,60,3,FALSE\\n285,Shroomish,Grass,,60,40,60,40,60,35,3,FALSE\\n286,Breloom,Grass,Fighting,60,130,80,60,60,70,3,FALSE\\n287,Slakoth,Normal,,60,60,60,35,35,30,3,FALSE\\n288,Vigoroth,Normal,,80,80,80,55,55,90,3,FALSE\\n289,Slaking,Normal,,150,160,100,95,65,100,3,FALSE\\n290,Nincada,Bug,Ground,31,45,90,30,30,40,3,FALSE\\n291,Ninjask,Bug,Flying,61,90,45,50,50,160,3,FALSE\\n292,Shedinja,Bug,Ghost,1,90,45,30,30,40,3,FALSE\\n293,Whismur,Normal,,64,51,23,51,23,28,3,FALSE\\n294,Loudred,Normal,,84,71,43,71,43,48,3,FALSE\\n295,Exploud,Normal,,104,91,63,91,73,68,3,FALSE\\n296,Makuhita,Fighting,,72,60,30,20,30,25,3,FALSE\\n297,Hariyama,Fighting,,144,120,60,40,60,50,3,FALSE\\n298,Azurill,Normal,Fairy,50,20,40,20,40,20,3,FALSE\\n299,Nosepass,Rock,,30,45,135,45,90,30,3,FALSE\\n300,Skitty,Normal,,50,45,45,35,35,50,3,FALSE\\n301,Delcatty,Normal,,70,65,65,55,55,70,3,FALSE\\n302,Sableye,Dark,Ghost,50,75,75,65,65,50,3,FALSE\\n302,SableyeMega Sableye,Dark,Ghost,50,85,125,85,115,20,3,FALSE\\n303,Mawile,Steel,Fairy,50,85,85,55,55,50,3,FALSE\\n303,MawileMega Mawile,Steel,Fairy,50,105,125,55,95,50,3,FALSE\\n304,Aron,Steel,Rock,50,70,100,40,40,30,3,FALSE\\n305,Lairon,Steel,Rock,60,90,140,50,50,40,3,FALSE\\n306,Aggron,Steel,Rock,70,110,180,60,60,50,3,FALSE\\n306,AggronMega Aggron,Steel,,70,140,230,60,80,50,3,FALSE\\n307,Meditite,Fighting,Psychic,30,40,55,40,55,60,3,FALSE\\n308,Medicham,Fighting,Psychic,60,60,75,60,75,80,3,FALSE\\n308,MedichamMega Medicham,Fighting,Psychic,60,100,85,80,85,100,3,FALSE\\n309,Electrike,Electric,,40,45,40,65,40,65,3,FALSE\\n310,Manectric,Electric,,70,75,60,105,60,105,3,FALSE\\n310,ManectricMega Manectric,Electric,,70,75,80,135,80,135,3,FALSE\\n311,Plusle,Electric,,60,50,40,85,75,95,3,FALSE\\n312,Minun,Electric,,60,40,50,75,85,95,3,FALSE\\n313,Volbeat,Bug,,65,73,55,47,75,85,3,FALSE\\n314,Illumise,Bug,,65,47,55,73,75,85,3,FALSE\\n315,Roselia,Grass,Poison,50,60,45,100,80,65,3,FALSE\\n316,Gulpin,Poison,,70,43,53,43,53,40,3,FALSE\\n317,Swalot,Poison,,100,73,83,73,83,55,3,FALSE\\n318,Carvanha,Water,Dark,45,90,20,65,20,65,3,FALSE\\n319,Sharpedo,Water,Dark,70,120,40,95,40,95,3,FALSE\\n319,SharpedoMega Sharpedo,Water,Dark,70,140,70,110,65,105,3,FALSE\\n320,Wailmer,Water,,130,70,35,70,35,60,3,FALSE\\n321,Wailord,Water,,170,90,45,90,45,60,3,FALSE\\n322,Numel,Fire,Ground,60,60,40,65,45,35,3,FALSE\\n323,Camerupt,Fire,Ground,70,100,70,105,75,40,3,FALSE\\n323,CameruptMega Camerupt,Fire,Ground,70,120,100,145,105,20,3,FALSE\\n324,Torkoal,Fire,,70,85,140,85,70,20,3,FALSE\\n325,Spoink,Psychic,,60,25,35,70,80,60,3,FALSE\\n326,Grumpig,Psychic,,80,45,65,90,110,80,3,FALSE\\n327,Spinda,Normal,,60,60,60,60,60,60,3,FALSE\\n328,Trapinch,Ground,,45,100,45,45,45,10,3,FALSE\\n329,Vibrava,Ground,Dragon,50,70,50,50,50,70,3,FALSE\\n330,Flygon,Ground,Dragon,80,100,80,80,80,100,3,FALSE\\n331,Cacnea,Grass,,50,85,40,85,40,35,3,FALSE\\n332,Cacturne,Grass,Dark,70,115,60,115,60,55,3,FALSE\\n333,Swablu,Normal,Flying,45,40,60,40,75,50,3,FALSE\\n334,Altaria,Dragon,Flying,75,70,90,70,105,80,3,FALSE\\n334,AltariaMega Altaria,Dragon,Fairy,75,110,110,110,105,80,3,FALSE\\n335,Zangoose,Normal,,73,115,60,60,60,90,3,FALSE\\n336,Seviper,Poison,,73,100,60,100,60,65,3,FALSE\\n337,Lunatone,Rock,Psychic,70,55,65,95,85,70,3,FALSE\\n338,Solrock,Rock,Psychic,70,95,85,55,65,70,3,FALSE\\n339,Barboach,Water,Ground,50,48,43,46,41,60,3,FALSE\\n340,Whiscash,Water,Ground,110,78,73,76,71,60,3,FALSE\\n341,Corphish,Water,,43,80,65,50,35,35,3,FALSE\\n342,Crawdaunt,Water,Dark,63,120,85,90,55,55,3,FALSE\\n343,Baltoy,Ground,Psychic,40,40,55,40,70,55,3,FALSE\\n344,Claydol,Ground,Psychic,60,70,105,70,120,75,3,FALSE\\n345,Lileep,Rock,Grass,66,41,77,61,87,23,3,FALSE\\n346,Cradily,Rock,Grass,86,81,97,81,107,43,3,FALSE\\n347,Anorith,Rock,Bug,45,95,50,40,50,75,3,FALSE\\n348,Armaldo,Rock,Bug,75,125,100,70,80,45,3,FALSE\\n349,Feebas,Water,,20,15,20,10,55,80,3,FALSE\\n350,Milotic,Water,,95,60,79,100,125,81,3,FALSE\\n351,Castform,Normal,,70,70,70,70,70,70,3,FALSE\\n352,Kecleon,Normal,,60,90,70,60,120,40,3,FALSE\\n353,Shuppet,Ghost,,44,75,35,63,33,45,3,FALSE\\n354,Banette,Ghost,,64,115,65,83,63,65,3,FALSE\\n354,BanetteMega Banette,Ghost,,64,165,75,93,83,75,3,FALSE\\n355,Duskull,Ghost,,20,40,90,30,90,25,3,FALSE\\n356,Dusclops,Ghost,,40,70,130,60,130,25,3,FALSE\\n357,Tropius,Grass,Flying,99,68,83,72,87,51,3,FALSE\\n358,Chimecho,Psychic,,65,50,70,95,80,65,3,FALSE\\n359,Absol,Dark,,65,130,60,75,60,75,3,FALSE\\n359,AbsolMega Absol,Dark,,65,150,60,115,60,115,3,FALSE\\n360,Wynaut,Psychic,,95,23,48,23,48,23,3,FALSE\\n361,Snorunt,Ice,,50,50,50,50,50,50,3,FALSE\\n362,Glalie,Ice,,80,80,80,80,80,80,3,FALSE\\n362,GlalieMega Glalie,Ice,,80,120,80,120,80,100,3,FALSE\\n363,Spheal,Ice,Water,70,40,50,55,50,25,3,FALSE\\n364,Sealeo,Ice,Water,90,60,70,75,70,45,3,FALSE\\n365,Walrein,Ice,Water,110,80,90,95,90,65,3,FALSE\\n366,Clamperl,Water,,35,64,85,74,55,32,3,FALSE\\n367,Huntail,Water,,55,104,105,94,75,52,3,FALSE\\n368,Gorebyss,Water,,55,84,105,114,75,52,3,FALSE\\n369,Relicanth,Water,Rock,100,90,130,45,65,55,3,FALSE\\n370,Luvdisc,Water,,43,30,55,40,65,97,3,FALSE\\n371,Bagon,Dragon,,45,75,60,40,30,50,3,FALSE\\n372,Shelgon,Dragon,,65,95,100,60,50,50,3,FALSE\\n373,Salamence,Dragon,Flying,95,135,80,110,80,100,3,FALSE\\n373,SalamenceMega Salamence,Dragon,Flying,95,145,130,120,90,120,3,FALSE\\n374,Beldum,Steel,Psychic,40,55,80,35,60,30,3,FALSE\\n375,Metang,Steel,Psychic,60,75,100,55,80,50,3,FALSE\\n376,Metagross,Steel,Psychic,80,135,130,95,90,70,3,FALSE\\n376,MetagrossMega Metagross,Steel,Psychic,80,145,150,105,110,110,3,FALSE\\n377,Regirock,Rock,,80,100,200,50,100,50,3,TRUE\\n378,Regice,Ice,,80,50,100,100,200,50,3,TRUE\\n379,Registeel,Steel,,80,75,150,75,150,50,3,TRUE\\n380,Latias,Dragon,Psychic,80,80,90,110,130,110,3,TRUE\\n380,LatiasMega Latias,Dragon,Psychic,80,100,120,140,150,110,3,TRUE\\n381,Latios,Dragon,Psychic,80,90,80,130,110,110,3,TRUE\\n381,LatiosMega Latios,Dragon,Psychic,80,130,100,160,120,110,3,TRUE\\n382,Kyogre,Water,,100,100,90,150,140,90,3,TRUE\\n382,KyogrePrimal Kyogre,Water,,100,150,90,180,160,90,3,TRUE\\n383,Groudon,Ground,,100,150,140,100,90,90,3,TRUE\\n383,GroudonPrimal Groudon,Ground,Fire,100,180,160,150,90,90,3,TRUE\\n384,Rayquaza,Dragon,Flying,105,150,90,150,90,95,3,TRUE\\n384,RayquazaMega Rayquaza,Dragon,Flying,105,180,100,180,100,115,3,TRUE\\n385,Jirachi,Steel,Psychic,100,100,100,100,100,100,3,TRUE\\n386,DeoxysNormal Forme,Psychic,,50,150,50,150,50,150,3,TRUE\\n386,DeoxysAttack Forme,Psychic,,50,180,20,180,20,150,3,TRUE\\n386,DeoxysDefense Forme,Psychic,,50,70,160,70,160,90,3,TRUE\\n386,DeoxysSpeed Forme,Psychic,,50,95,90,95,90,180,3,TRUE\\n387,Turtwig,Grass,,55,68,64,45,55,31,4,FALSE\\n388,Grotle,Grass,,75,89,85,55,65,36,4,FALSE\\n389,Torterra,Grass,Ground,95,109,105,75,85,56,4,FALSE\\n390,Chimchar,Fire,,44,58,44,58,44,61,4,FALSE\\n391,Monferno,Fire,Fighting,64,78,52,78,52,81,4,FALSE\\n392,Infernape,Fire,Fighting,76,104,71,104,71,108,4,FALSE\\n393,Piplup,Water,,53,51,53,61,56,40,4,FALSE\\n394,Prinplup,Water,,64,66,68,81,76,50,4,FALSE\\n395,Empoleon,Water,Steel,84,86,88,111,101,60,4,FALSE\\n396,Starly,Normal,Flying,40,55,30,30,30,60,4,FALSE\\n397,Staravia,Normal,Flying,55,75,50,40,40,80,4,FALSE\\n398,Staraptor,Normal,Flying,85,120,70,50,60,100,4,FALSE\\n399,Bidoof,Normal,,59,45,40,35,40,31,4,FALSE\\n400,Bibarel,Normal,Water,79,85,60,55,60,71,4,FALSE\\n401,Kricketot,Bug,,37,25,41,25,41,25,4,FALSE\\n402,Kricketune,Bug,,77,85,51,55,51,65,4,FALSE\\n403,Shinx,Electric,,45,65,34,40,34,45,4,FALSE\\n404,Luxio,Electric,,60,85,49,60,49,60,4,FALSE\\n405,Luxray,Electric,,80,120,79,95,79,70,4,FALSE\\n406,Budew,Grass,Poison,40,30,35,50,70,55,4,FALSE\\n407,Roserade,Grass,Poison,60,70,65,125,105,90,4,FALSE\\n408,Cranidos,Rock,,67,125,40,30,30,58,4,FALSE\\n409,Rampardos,Rock,,97,165,60,65,50,58,4,FALSE\\n410,Shieldon,Rock,Steel,30,42,118,42,88,30,4,FALSE\\n411,Bastiodon,Rock,Steel,60,52,168,47,138,30,4,FALSE\\n412,Burmy,Bug,,40,29,45,29,45,36,4,FALSE\\n413,WormadamPlant Cloak,Bug,Grass,60,59,85,79,105,36,4,FALSE\\n413,WormadamSandy Cloak,Bug,Ground,60,79,105,59,85,36,4,FALSE\\n413,WormadamTrash Cloak,Bug,Steel,60,69,95,69,95,36,4,FALSE\\n414,Mothim,Bug,Flying,70,94,50,94,50,66,4,FALSE\\n415,Combee,Bug,Flying,30,30,42,30,42,70,4,FALSE\\n416,Vespiquen,Bug,Flying,70,80,102,80,102,40,4,FALSE\\n417,Pachirisu,Electric,,60,45,70,45,90,95,4,FALSE\\n418,Buizel,Water,,55,65,35,60,30,85,4,FALSE\\n419,Floatzel,Water,,85,105,55,85,50,115,4,FALSE\\n420,Cherubi,Grass,,45,35,45,62,53,35,4,FALSE\\n421,Cherrim,Grass,,70,60,70,87,78,85,4,FALSE\\n422,Shellos,Water,,76,48,48,57,62,34,4,FALSE\\n423,Gastrodon,Water,Ground,111,83,68,92,82,39,4,FALSE\\n424,Ambipom,Normal,,75,100,66,60,66,115,4,FALSE\\n425,Drifloon,Ghost,Flying,90,50,34,60,44,70,4,FALSE\\n426,Drifblim,Ghost,Flying,150,80,44,90,54,80,4,FALSE\\n427,Buneary,Normal,,55,66,44,44,56,85,4,FALSE\\n428,Lopunny,Normal,,65,76,84,54,96,105,4,FALSE\\n428,LopunnyMega Lopunny,Normal,Fighting,65,136,94,54,96,135,4,FALSE\\n429,Mismagius,Ghost,,60,60,60,105,105,105,4,FALSE\\n430,Honchkrow,Dark,Flying,100,125,52,105,52,71,4,FALSE\\n431,Glameow,Normal,,49,55,42,42,37,85,4,FALSE\\n432,Purugly,Normal,,71,82,64,64,59,112,4,FALSE\\n433,Chingling,Psychic,,45,30,50,65,50,45,4,FALSE\\n434,Stunky,Poison,Dark,63,63,47,41,41,74,4,FALSE\\n435,Skuntank,Poison,Dark,103,93,67,71,61,84,4,FALSE\\n436,Bronzor,Steel,Psychic,57,24,86,24,86,23,4,FALSE\\n437,Bronzong,Steel,Psychic,67,89,116,79,116,33,4,FALSE\\n438,Bonsly,Rock,,50,80,95,10,45,10,4,FALSE\\n439,Mime Jr.,Psychic,Fairy,20,25,45,70,90,60,4,FALSE\\n440,Happiny,Normal,,100,5,5,15,65,30,4,FALSE\\n441,Chatot,Normal,Flying,76,65,45,92,42,91,4,FALSE\\n442,Spiritomb,Ghost,Dark,50,92,108,92,108,35,4,FALSE\\n443,Gible,Dragon,Ground,58,70,45,40,45,42,4,FALSE\\n444,Gabite,Dragon,Ground,68,90,65,50,55,82,4,FALSE\\n445,Garchomp,Dragon,Ground,108,130,95,80,85,102,4,FALSE\\n445,GarchompMega Garchomp,Dragon,Ground,108,170,115,120,95,92,4,FALSE\\n446,Munchlax,Normal,,135,85,40,40,85,5,4,FALSE\\n447,Riolu,Fighting,,40,70,40,35,40,60,4,FALSE\\n448,Lucario,Fighting,Steel,70,110,70,115,70,90,4,FALSE\\n448,LucarioMega Lucario,Fighting,Steel,70,145,88,140,70,112,4,FALSE\\n449,Hippopotas,Ground,,68,72,78,38,42,32,4,FALSE\\n450,Hippowdon,Ground,,108,112,118,68,72,47,4,FALSE\\n451,Skorupi,Poison,Bug,40,50,90,30,55,65,4,FALSE\\n452,Drapion,Poison,Dark,70,90,110,60,75,95,4,FALSE\\n453,Croagunk,Poison,Fighting,48,61,40,61,40,50,4,FALSE\\n454,Toxicroak,Poison,Fighting,83,106,65,86,65,85,4,FALSE\\n455,Carnivine,Grass,,74,100,72,90,72,46,4,FALSE\\n456,Finneon,Water,,49,49,56,49,61,66,4,FALSE\\n457,Lumineon,Water,,69,69,76,69,86,91,4,FALSE\\n458,Mantyke,Water,Flying,45,20,50,60,120,50,4,FALSE\\n459,Snover,Grass,Ice,60,62,50,62,60,40,4,FALSE\\n460,Abomasnow,Grass,Ice,90,92,75,92,85,60,4,FALSE\\n460,AbomasnowMega Abomasnow,Grass,Ice,90,132,105,132,105,30,4,FALSE\\n461,Weavile,Dark,Ice,70,120,65,45,85,125,4,FALSE\\n462,Magnezone,Electric,Steel,70,70,115,130,90,60,4,FALSE\\n463,Lickilicky,Normal,,110,85,95,80,95,50,4,FALSE\\n464,Rhyperior,Ground,Rock,115,140,130,55,55,40,4,FALSE\\n465,Tangrowth,Grass,,100,100,125,110,50,50,4,FALSE\\n466,Electivire,Electric,,75,123,67,95,85,95,4,FALSE\\n467,Magmortar,Fire,,75,95,67,125,95,83,4,FALSE\\n468,Togekiss,Fairy,Flying,85,50,95,120,115,80,4,FALSE\\n469,Yanmega,Bug,Flying,86,76,86,116,56,95,4,FALSE\\n470,Leafeon,Grass,,65,110,130,60,65,95,4,FALSE\\n471,Glaceon,Ice,,65,60,110,130,95,65,4,FALSE\\n472,Gliscor,Ground,Flying,75,95,125,45,75,95,4,FALSE\\n473,Mamoswine,Ice,Ground,110,130,80,70,60,80,4,FALSE\\n474,Porygon-Z,Normal,,85,80,70,135,75,90,4,FALSE\\n475,Gallade,Psychic,Fighting,68,125,65,65,115,80,4,FALSE\\n475,GalladeMega Gallade,Psychic,Fighting,68,165,95,65,115,110,4,FALSE\\n476,Probopass,Rock,Steel,60,55,145,75,150,40,4,FALSE\\n477,Dusknoir,Ghost,,45,100,135,65,135,45,4,FALSE\\n478,Froslass,Ice,Ghost,70,80,70,80,70,110,4,FALSE\\n479,Rotom,Electric,Ghost,50,50,77,95,77,91,4,FALSE\\n479,RotomHeat Rotom,Electric,Fire,50,65,107,105,107,86,4,FALSE\\n479,RotomWash Rotom,Electric,Water,50,65,107,105,107,86,4,FALSE\\n479,RotomFrost Rotom,Electric,Ice,50,65,107,105,107,86,4,FALSE\\n479,RotomFan Rotom,Electric,Flying,50,65,107,105,107,86,4,FALSE\\n479,RotomMow Rotom,Electric,Grass,50,65,107,105,107,86,4,FALSE\\n480,Uxie,Psychic,,75,75,130,75,130,95,4,TRUE\\n481,Mesprit,Psychic,,80,105,105,105,105,80,4,TRUE\\n482,Azelf,Psychic,,75,125,70,125,70,115,4,TRUE\\n483,Dialga,Steel,Dragon,100,120,120,150,100,90,4,TRUE\\n484,Palkia,Water,Dragon,90,120,100,150,120,100,4,TRUE\\n485,Heatran,Fire,Steel,91,90,106,130,106,77,4,TRUE\\n486,Regigigas,Normal,,110,160,110,80,110,100,4,TRUE\\n487,GiratinaAltered Forme,Ghost,Dragon,150,100,120,100,120,90,4,TRUE\\n487,GiratinaOrigin Forme,Ghost,Dragon,150,120,100,120,100,90,4,TRUE\\n488,Cresselia,Psychic,,120,70,120,75,130,85,4,FALSE\\n489,Phione,Water,,80,80,80,80,80,80,4,FALSE\\n490,Manaphy,Water,,100,100,100,100,100,100,4,FALSE\\n491,Darkrai,Dark,,70,90,90,135,90,125,4,TRUE\\n492,ShayminLand Forme,Grass,,100,100,100,100,100,100,4,TRUE\\n492,ShayminSky Forme,Grass,Flying,100,103,75,120,75,127,4,TRUE\\n493,Arceus,Normal,,120,120,120,120,120,120,4,TRUE\\n494,Victini,Psychic,Fire,100,100,100,100,100,100,5,TRUE\\n495,Snivy,Grass,,45,45,55,45,55,63,5,FALSE\\n496,Servine,Grass,,60,60,75,60,75,83,5,FALSE\\n497,Serperior,Grass,,75,75,95,75,95,113,5,FALSE\\n498,Tepig,Fire,,65,63,45,45,45,45,5,FALSE\\n499,Pignite,Fire,Fighting,90,93,55,70,55,55,5,FALSE\\n500,Emboar,Fire,Fighting,110,123,65,100,65,65,5,FALSE\\n501,Oshawott,Water,,55,55,45,63,45,45,5,FALSE\\n502,Dewott,Water,,75,75,60,83,60,60,5,FALSE\\n503,Samurott,Water,,95,100,85,108,70,70,5,FALSE\\n504,Patrat,Normal,,45,55,39,35,39,42,5,FALSE\\n505,Watchog,Normal,,60,85,69,60,69,77,5,FALSE\\n506,Lillipup,Normal,,45,60,45,25,45,55,5,FALSE\\n507,Herdier,Normal,,65,80,65,35,65,60,5,FALSE\\n508,Stoutland,Normal,,85,110,90,45,90,80,5,FALSE\\n509,Purrloin,Dark,,41,50,37,50,37,66,5,FALSE\\n510,Liepard,Dark,,64,88,50,88,50,106,5,FALSE\\n511,Pansage,Grass,,50,53,48,53,48,64,5,FALSE\\n512,Simisage,Grass,,75,98,63,98,63,101,5,FALSE\\n513,Pansear,Fire,,50,53,48,53,48,64,5,FALSE\\n514,Simisear,Fire,,75,98,63,98,63,101,5,FALSE\\n515,Panpour,Water,,50,53,48,53,48,64,5,FALSE\\n516,Simipour,Water,,75,98,63,98,63,101,5,FALSE\\n517,Munna,Psychic,,76,25,45,67,55,24,5,FALSE\\n518,Musharna,Psychic,,116,55,85,107,95,29,5,FALSE\\n519,Pidove,Normal,Flying,50,55,50,36,30,43,5,FALSE\\n520,Tranquill,Normal,Flying,62,77,62,50,42,65,5,FALSE\\n521,Unfezant,Normal,Flying,80,115,80,65,55,93,5,FALSE\\n522,Blitzle,Electric,,45,60,32,50,32,76,5,FALSE\\n523,Zebstrika,Electric,,75,100,63,80,63,116,5,FALSE\\n524,Roggenrola,Rock,,55,75,85,25,25,15,5,FALSE\\n525,Boldore,Rock,,70,105,105,50,40,20,5,FALSE\\n526,Gigalith,Rock,,85,135,130,60,80,25,5,FALSE\\n527,Woobat,Psychic,Flying,55,45,43,55,43,72,5,FALSE\\n528,Swoobat,Psychic,Flying,67,57,55,77,55,114,5,FALSE\\n529,Drilbur,Ground,,60,85,40,30,45,68,5,FALSE\\n530,Excadrill,Ground,Steel,110,135,60,50,65,88,5,FALSE\\n531,Audino,Normal,,103,60,86,60,86,50,5,FALSE\\n531,AudinoMega Audino,Normal,Fairy,103,60,126,80,126,50,5,FALSE\\n532,Timburr,Fighting,,75,80,55,25,35,35,5,FALSE\\n533,Gurdurr,Fighting,,85,105,85,40,50,40,5,FALSE\\n534,Conkeldurr,Fighting,,105,140,95,55,65,45,5,FALSE\\n535,Tympole,Water,,50,50,40,50,40,64,5,FALSE\\n536,Palpitoad,Water,Ground,75,65,55,65,55,69,5,FALSE\\n537,Seismitoad,Water,Ground,105,95,75,85,75,74,5,FALSE\\n538,Throh,Fighting,,120,100,85,30,85,45,5,FALSE\\n539,Sawk,Fighting,,75,125,75,30,75,85,5,FALSE\\n540,Sewaddle,Bug,Grass,45,53,70,40,60,42,5,FALSE\\n541,Swadloon,Bug,Grass,55,63,90,50,80,42,5,FALSE\\n542,Leavanny,Bug,Grass,75,103,80,70,80,92,5,FALSE\\n543,Venipede,Bug,Poison,30,45,59,30,39,57,5,FALSE\\n544,Whirlipede,Bug,Poison,40,55,99,40,79,47,5,FALSE\\n545,Scolipede,Bug,Poison,60,100,89,55,69,112,5,FALSE\\n546,Cottonee,Grass,Fairy,40,27,60,37,50,66,5,FALSE\\n547,Whimsicott,Grass,Fairy,60,67,85,77,75,116,5,FALSE\\n548,Petilil,Grass,,45,35,50,70,50,30,5,FALSE\\n549,Lilligant,Grass,,70,60,75,110,75,90,5,FALSE\\n550,Basculin,Water,,70,92,65,80,55,98,5,FALSE\\n551,Sandile,Ground,Dark,50,72,35,35,35,65,5,FALSE\\n552,Krokorok,Ground,Dark,60,82,45,45,45,74,5,FALSE\\n553,Krookodile,Ground,Dark,95,117,80,65,70,92,5,FALSE\\n554,Darumaka,Fire,,70,90,45,15,45,50,5,FALSE\\n555,DarmanitanStandard Mode,Fire,,105,140,55,30,55,95,5,FALSE\\n555,DarmanitanZen Mode,Fire,Psychic,105,30,105,140,105,55,5,FALSE\\n556,Maractus,Grass,,75,86,67,106,67,60,5,FALSE\\n557,Dwebble,Bug,Rock,50,65,85,35,35,55,5,FALSE\\n558,Crustle,Bug,Rock,70,95,125,65,75,45,5,FALSE\\n559,Scraggy,Dark,Fighting,50,75,70,35,70,48,5,FALSE\\n560,Scrafty,Dark,Fighting,65,90,115,45,115,58,5,FALSE\\n561,Sigilyph,Psychic,Flying,72,58,80,103,80,97,5,FALSE\\n562,Yamask,Ghost,,38,30,85,55,65,30,5,FALSE\\n563,Cofagrigus,Ghost,,58,50,145,95,105,30,5,FALSE\\n564,Tirtouga,Water,Rock,54,78,103,53,45,22,5,FALSE\\n565,Carracosta,Water,Rock,74,108,133,83,65,32,5,FALSE\\n566,Archen,Rock,Flying,55,112,45,74,45,70,5,FALSE\\n567,Archeops,Rock,Flying,75,140,65,112,65,110,5,FALSE\\n568,Trubbish,Poison,,50,50,62,40,62,65,5,FALSE\\n569,Garbodor,Poison,,80,95,82,60,82,75,5,FALSE\\n570,Zorua,Dark,,40,65,40,80,40,65,5,FALSE\\n571,Zoroark,Dark,,60,105,60,120,60,105,5,FALSE\\n572,Minccino,Normal,,55,50,40,40,40,75,5,FALSE\\n573,Cinccino,Normal,,75,95,60,65,60,115,5,FALSE\\n574,Gothita,Psychic,,45,30,50,55,65,45,5,FALSE\\n575,Gothorita,Psychic,,60,45,70,75,85,55,5,FALSE\\n576,Gothitelle,Psychic,,70,55,95,95,110,65,5,FALSE\\n577,Solosis,Psychic,,45,30,40,105,50,20,5,FALSE\\n578,Duosion,Psychic,,65,40,50,125,60,30,5,FALSE\\n579,Reuniclus,Psychic,,110,65,75,125,85,30,5,FALSE\\n580,Ducklett,Water,Flying,62,44,50,44,50,55,5,FALSE\\n581,Swanna,Water,Flying,75,87,63,87,63,98,5,FALSE\\n582,Vanillite,Ice,,36,50,50,65,60,44,5,FALSE\\n583,Vanillish,Ice,,51,65,65,80,75,59,5,FALSE\\n584,Vanilluxe,Ice,,71,95,85,110,95,79,5,FALSE\\n585,Deerling,Normal,Grass,60,60,50,40,50,75,5,FALSE\\n586,Sawsbuck,Normal,Grass,80,100,70,60,70,95,5,FALSE\\n587,Emolga,Electric,Flying,55,75,60,75,60,103,5,FALSE\\n588,Karrablast,Bug,,50,75,45,40,45,60,5,FALSE\\n589,Escavalier,Bug,Steel,70,135,105,60,105,20,5,FALSE\\n590,Foongus,Grass,Poison,69,55,45,55,55,15,5,FALSE\\n591,Amoonguss,Grass,Poison,114,85,70,85,80,30,5,FALSE\\n592,Frillish,Water,Ghost,55,40,50,65,85,40,5,FALSE\\n593,Jellicent,Water,Ghost,100,60,70,85,105,60,5,FALSE\\n594,Alomomola,Water,,165,75,80,40,45,65,5,FALSE\\n595,Joltik,Bug,Electric,50,47,50,57,50,65,5,FALSE\\n596,Galvantula,Bug,Electric,70,77,60,97,60,108,5,FALSE\\n597,Ferroseed,Grass,Steel,44,50,91,24,86,10,5,FALSE\\n598,Ferrothorn,Grass,Steel,74,94,131,54,116,20,5,FALSE\\n599,Klink,Steel,,40,55,70,45,60,30,5,FALSE\\n600,Klang,Steel,,60,80,95,70,85,50,5,FALSE\\n601,Klinklang,Steel,,60,100,115,70,85,90,5,FALSE\\n602,Tynamo,Electric,,35,55,40,45,40,60,5,FALSE\\n603,Eelektrik,Electric,,65,85,70,75,70,40,5,FALSE\\n604,Eelektross,Electric,,85,115,80,105,80,50,5,FALSE\\n605,Elgyem,Psychic,,55,55,55,85,55,30,5,FALSE\\n606,Beheeyem,Psychic,,75,75,75,125,95,40,5,FALSE\\n607,Litwick,Ghost,Fire,50,30,55,65,55,20,5,FALSE\\n608,Lampent,Ghost,Fire,60,40,60,95,60,55,5,FALSE\\n609,Chandelure,Ghost,Fire,60,55,90,145,90,80,5,FALSE\\n610,Axew,Dragon,,46,87,60,30,40,57,5,FALSE\\n611,Fraxure,Dragon,,66,117,70,40,50,67,5,FALSE\\n612,Haxorus,Dragon,,76,147,90,60,70,97,5,FALSE\\n613,Cubchoo,Ice,,55,70,40,60,40,40,5,FALSE\\n614,Beartic,Ice,,95,110,80,70,80,50,5,FALSE\\n615,Cryogonal,Ice,,70,50,30,95,135,105,5,FALSE\\n616,Shelmet,Bug,,50,40,85,40,65,25,5,FALSE\\n617,Accelgor,Bug,,80,70,40,100,60,145,5,FALSE\\n618,Stunfisk,Ground,Electric,109,66,84,81,99,32,5,FALSE\\n619,Mienfoo,Fighting,,45,85,50,55,50,65,5,FALSE\\n620,Mienshao,Fighting,,65,125,60,95,60,105,5,FALSE\\n621,Druddigon,Dragon,,77,120,90,60,90,48,5,FALSE\\n622,Golett,Ground,Ghost,59,74,50,35,50,35,5,FALSE\\n623,Golurk,Ground,Ghost,89,124,80,55,80,55,5,FALSE\\n624,Pawniard,Dark,Steel,45,85,70,40,40,60,5,FALSE\\n625,Bisharp,Dark,Steel,65,125,100,60,70,70,5,FALSE\\n626,Bouffalant,Normal,,95,110,95,40,95,55,5,FALSE\\n627,Rufflet,Normal,Flying,70,83,50,37,50,60,5,FALSE\\n628,Braviary,Normal,Flying,100,123,75,57,75,80,5,FALSE\\n629,Vullaby,Dark,Flying,70,55,75,45,65,60,5,FALSE\\n630,Mandibuzz,Dark,Flying,110,65,105,55,95,80,5,FALSE\\n631,Heatmor,Fire,,85,97,66,105,66,65,5,FALSE\\n632,Durant,Bug,Steel,58,109,112,48,48,109,5,FALSE\\n633,Deino,Dark,Dragon,52,65,50,45,50,38,5,FALSE\\n634,Zweilous,Dark,Dragon,72,85,70,65,70,58,5,FALSE\\n635,Hydreigon,Dark,Dragon,92,105,90,125,90,98,5,FALSE\\n636,Larvesta,Bug,Fire,55,85,55,50,55,60,5,FALSE\\n637,Volcarona,Bug,Fire,85,60,65,135,105,100,5,FALSE\\n638,Cobalion,Steel,Fighting,91,90,129,90,72,108,5,TRUE\\n639,Terrakion,Rock,Fighting,91,129,90,72,90,108,5,TRUE\\n640,Virizion,Grass,Fighting,91,90,72,90,129,108,5,TRUE\\n641,TornadusIncarnate Forme,Flying,,79,115,70,125,80,111,5,TRUE\\n641,TornadusTherian Forme,Flying,,79,100,80,110,90,121,5,TRUE\\n642,ThundurusIncarnate Forme,Electric,Flying,79,115,70,125,80,111,5,TRUE\\n642,ThundurusTherian Forme,Electric,Flying,79,105,70,145,80,101,5,TRUE\\n643,Reshiram,Dragon,Fire,100,120,100,150,120,90,5,TRUE\\n644,Zekrom,Dragon,Electric,100,150,120,120,100,90,5,TRUE\\n645,LandorusIncarnate Forme,Ground,Flying,89,125,90,115,80,101,5,TRUE\\n645,LandorusTherian Forme,Ground,Flying,89,145,90,105,80,91,5,TRUE\\n646,Kyurem,Dragon,Ice,125,130,90,130,90,95,5,TRUE\\n646,KyuremBlack Kyurem,Dragon,Ice,125,170,100,120,90,95,5,TRUE\\n646,KyuremWhite Kyurem,Dragon,Ice,125,120,90,170,100,95,5,TRUE\\n647,KeldeoOrdinary Forme,Water,Fighting,91,72,90,129,90,108,5,FALSE\\n647,KeldeoResolute Forme,Water,Fighting,91,72,90,129,90,108,5,FALSE\\n648,MeloettaAria Forme,Normal,Psychic,100,77,77,128,128,90,5,FALSE\\n648,MeloettaPirouette Forme,Normal,Fighting,100,128,90,77,77,128,5,FALSE\\n649,Genesect,Bug,Steel,71,120,95,120,95,99,5,FALSE\\n650,Chespin,Grass,,56,61,65,48,45,38,6,FALSE\\n651,Quilladin,Grass,,61,78,95,56,58,57,6,FALSE\\n652,Chesnaught,Grass,Fighting,88,107,122,74,75,64,6,FALSE\\n653,Fennekin,Fire,,40,45,40,62,60,60,6,FALSE\\n654,Braixen,Fire,,59,59,58,90,70,73,6,FALSE\\n655,Delphox,Fire,Psychic,75,69,72,114,100,104,6,FALSE\\n656,Froakie,Water,,41,56,40,62,44,71,6,FALSE\\n657,Frogadier,Water,,54,63,52,83,56,97,6,FALSE\\n658,Greninja,Water,Dark,72,95,67,103,71,122,6,FALSE\\n659,Bunnelby,Normal,,38,36,38,32,36,57,6,FALSE\\n660,Diggersby,Normal,Ground,85,56,77,50,77,78,6,FALSE\\n661,Fletchling,Normal,Flying,45,50,43,40,38,62,6,FALSE\\n662,Fletchinder,Fire,Flying,62,73,55,56,52,84,6,FALSE\\n663,Talonflame,Fire,Flying,78,81,71,74,69,126,6,FALSE\\n664,Scatterbug,Bug,,38,35,40,27,25,35,6,FALSE\\n665,Spewpa,Bug,,45,22,60,27,30,29,6,FALSE\\n666,Vivillon,Bug,Flying,80,52,50,90,50,89,6,FALSE\\n667,Litleo,Fire,Normal,62,50,58,73,54,72,6,FALSE\\n668,Pyroar,Fire,Normal,86,68,72,109,66,106,6,FALSE\\n669,Flab\\xc3\\xa9b\\xc3\\xa9,Fairy,,44,38,39,61,79,42,6,FALSE\\n670,Floette,Fairy,,54,45,47,75,98,52,6,FALSE\\n671,Florges,Fairy,,78,65,68,112,154,75,6,FALSE\\n672,Skiddo,Grass,,66,65,48,62,57,52,6,FALSE\\n673,Gogoat,Grass,,123,100,62,97,81,68,6,FALSE\\n674,Pancham,Fighting,,67,82,62,46,48,43,6,FALSE\\n675,Pangoro,Fighting,Dark,95,124,78,69,71,58,6,FALSE\\n676,Furfrou,Normal,,75,80,60,65,90,102,6,FALSE\\n677,Espurr,Psychic,,62,48,54,63,60,68,6,FALSE\\n678,MeowsticMale,Psychic,,74,48,76,83,81,104,6,FALSE\\n678,MeowsticFemale,Psychic,,74,48,76,83,81,104,6,FALSE\\n679,Honedge,Steel,Ghost,45,80,100,35,37,28,6,FALSE\\n680,Doublade,Steel,Ghost,59,110,150,45,49,35,6,FALSE\\n681,AegislashBlade Forme,Steel,Ghost,60,150,50,150,50,60,6,FALSE\\n681,AegislashShield Forme,Steel,Ghost,60,50,150,50,150,60,6,FALSE\\n682,Spritzee,Fairy,,78,52,60,63,65,23,6,FALSE\\n683,Aromatisse,Fairy,,101,72,72,99,89,29,6,FALSE\\n684,Swirlix,Fairy,,62,48,66,59,57,49,6,FALSE\\n685,Slurpuff,Fairy,,82,80,86,85,75,72,6,FALSE\\n686,Inkay,Dark,Psychic,53,54,53,37,46,45,6,FALSE\\n687,Malamar,Dark,Psychic,86,92,88,68,75,73,6,FALSE\\n688,Binacle,Rock,Water,42,52,67,39,56,50,6,FALSE\\n689,Barbaracle,Rock,Water,72,105,115,54,86,68,6,FALSE\\n690,Skrelp,Poison,Water,50,60,60,60,60,30,6,FALSE\\n691,Dragalge,Poison,Dragon,65,75,90,97,123,44,6,FALSE\\n692,Clauncher,Water,,50,53,62,58,63,44,6,FALSE\\n693,Clawitzer,Water,,71,73,88,120,89,59,6,FALSE\\n694,Helioptile,Electric,Normal,44,38,33,61,43,70,6,FALSE\\n695,Heliolisk,Electric,Normal,62,55,52,109,94,109,6,FALSE\\n696,Tyrunt,Rock,Dragon,58,89,77,45,45,48,6,FALSE\\n697,Tyrantrum,Rock,Dragon,82,121,119,69,59,71,6,FALSE\\n698,Amaura,Rock,Ice,77,59,50,67,63,46,6,FALSE\\n699,Aurorus,Rock,Ice,123,77,72,99,92,58,6,FALSE\\n700,Sylveon,Fairy,,95,65,65,110,130,60,6,FALSE\\n701,Hawlucha,Fighting,Flying,78,92,75,74,63,118,6,FALSE\\n702,Dedenne,Electric,Fairy,67,58,57,81,67,101,6,FALSE\\n703,Carbink,Rock,Fairy,50,50,150,50,150,50,6,FALSE\\n704,Goomy,Dragon,,45,50,35,55,75,40,6,FALSE\\n705,Sliggoo,Dragon,,68,75,53,83,113,60,6,FALSE\\n706,Goodra,Dragon,,90,100,70,110,150,80,6,FALSE\\n707,Klefki,Steel,Fairy,57,80,91,80,87,75,6,FALSE\\n708,Phantump,Ghost,Grass,43,70,48,50,60,38,6,FALSE\\n709,Trevenant,Ghost,Grass,85,110,76,65,82,56,6,FALSE\\n710,PumpkabooAverage Size,Ghost,Grass,49,66,70,44,55,51,6,FALSE\\n710,PumpkabooSmall Size,Ghost,Grass,44,66,70,44,55,56,6,FALSE\\n710,PumpkabooLarge Size,Ghost,Grass,54,66,70,44,55,46,6,FALSE\\n710,PumpkabooSuper Size,Ghost,Grass,59,66,70,44,55,41,6,FALSE\\n711,GourgeistAverage Size,Ghost,Grass,65,90,122,58,75,84,6,FALSE\\n711,GourgeistSmall Size,Ghost,Grass,55,85,122,58,75,99,6,FALSE\\n711,GourgeistLarge Size,Ghost,Grass,75,95,122,58,75,69,6,FALSE\\n711,GourgeistSuper Size,Ghost,Grass,85,100,122,58,75,54,6,FALSE\\n712,Bergmite,Ice,,55,69,85,32,35,28,6,FALSE\\n713,Avalugg,Ice,,95,117,184,44,46,28,6,FALSE\\n714,Noibat,Flying,Dragon,40,30,35,45,40,55,6,FALSE\\n715,Noivern,Flying,Dragon,85,70,80,97,80,123,6,FALSE\\n716,Xerneas,Fairy,,126,131,95,131,98,99,6,TRUE\\n717,Yveltal,Dark,Flying,126,131,95,131,98,99,6,TRUE\\n718,Zygarde50% Forme,Dragon,Ground,108,100,121,81,95,95,6,TRUE\\n719,Diancie,Rock,Fairy,50,100,150,100,150,50,6,TRUE\\n719,DiancieMega Diancie,Rock,Fairy,50,160,110,160,110,110,6,TRUE\\n720,HoopaHoopa Confined,Psychic,Ghost,80,110,60,150,130,70,6,TRUE\\n720,HoopaHoopa Unbound,Psychic,Dark,80,160,60,170,130,80,6,TRUE\\n721,Volcanion,Fire,Water,80,110,120,130,90,70,6,TRUE\\n\"}"
            ]
          },
          "metadata": {},
          "execution_count": 9
        }
      ]
    },
    {
      "cell_type": "code",
      "source": [
        "import pandas as pd\n",
        "dataset1 = pd.read_csv(\"dataset.csv\")\n",
        "print(dataset1.head(5))\n",
        "print(dataset1.tail(5))"
      ],
      "metadata": {
        "colab": {
          "base_uri": "https://localhost:8080/"
        },
        "id": "Z9uclSGcLpBr",
        "outputId": "3bc28e53-f6c7-47b4-a159-3319c08ab030"
      },
      "execution_count": 10,
      "outputs": [
        {
          "output_type": "stream",
          "name": "stdout",
          "text": [
            "   #                   Name Type 1  ... Speed  Generation  Legendary\n",
            "0  1              Bulbasaur  Grass  ...    45           1      False\n",
            "1  2                Ivysaur  Grass  ...    60           1      False\n",
            "2  3               Venusaur  Grass  ...    80           1      False\n",
            "3  3  VenusaurMega Venusaur  Grass  ...    80           1      False\n",
            "4  4             Charmander   Fire  ...    65           1      False\n",
            "\n",
            "[5 rows x 12 columns]\n",
            "       #                 Name   Type 1  ... Speed  Generation  Legendary\n",
            "795  719              Diancie     Rock  ...    50           6       True\n",
            "796  719  DiancieMega Diancie     Rock  ...   110           6       True\n",
            "797  720  HoopaHoopa Confined  Psychic  ...    70           6       True\n",
            "798  720   HoopaHoopa Unbound  Psychic  ...    80           6       True\n",
            "799  721            Volcanion     Fire  ...    70           6       True\n",
            "\n",
            "[5 rows x 12 columns]\n"
          ]
        }
      ]
    },
    {
      "cell_type": "code",
      "source": [
        "from google.colab import files\n",
        "uploaded=files.upload()\n",
        "uploaded"
      ],
      "metadata": {
        "colab": {
          "resources": {
            "http://localhost:8080/nbextensions/google.colab/files.js": {
              "data": "Ly8gQ29weXJpZ2h0IDIwMTcgR29vZ2xlIExMQwovLwovLyBMaWNlbnNlZCB1bmRlciB0aGUgQXBhY2hlIExpY2Vuc2UsIFZlcnNpb24gMi4wICh0aGUgIkxpY2Vuc2UiKTsKLy8geW91IG1heSBub3QgdXNlIHRoaXMgZmlsZSBleGNlcHQgaW4gY29tcGxpYW5jZSB3aXRoIHRoZSBMaWNlbnNlLgovLyBZb3UgbWF5IG9idGFpbiBhIGNvcHkgb2YgdGhlIExpY2Vuc2UgYXQKLy8KLy8gICAgICBodHRwOi8vd3d3LmFwYWNoZS5vcmcvbGljZW5zZXMvTElDRU5TRS0yLjAKLy8KLy8gVW5sZXNzIHJlcXVpcmVkIGJ5IGFwcGxpY2FibGUgbGF3IG9yIGFncmVlZCB0byBpbiB3cml0aW5nLCBzb2Z0d2FyZQovLyBkaXN0cmlidXRlZCB1bmRlciB0aGUgTGljZW5zZSBpcyBkaXN0cmlidXRlZCBvbiBhbiAiQVMgSVMiIEJBU0lTLAovLyBXSVRIT1VUIFdBUlJBTlRJRVMgT1IgQ09ORElUSU9OUyBPRiBBTlkgS0lORCwgZWl0aGVyIGV4cHJlc3Mgb3IgaW1wbGllZC4KLy8gU2VlIHRoZSBMaWNlbnNlIGZvciB0aGUgc3BlY2lmaWMgbGFuZ3VhZ2UgZ292ZXJuaW5nIHBlcm1pc3Npb25zIGFuZAovLyBsaW1pdGF0aW9ucyB1bmRlciB0aGUgTGljZW5zZS4KCi8qKgogKiBAZmlsZW92ZXJ2aWV3IEhlbHBlcnMgZm9yIGdvb2dsZS5jb2xhYiBQeXRob24gbW9kdWxlLgogKi8KKGZ1bmN0aW9uKHNjb3BlKSB7CmZ1bmN0aW9uIHNwYW4odGV4dCwgc3R5bGVBdHRyaWJ1dGVzID0ge30pIHsKICBjb25zdCBlbGVtZW50ID0gZG9jdW1lbnQuY3JlYXRlRWxlbWVudCgnc3BhbicpOwogIGVsZW1lbnQudGV4dENvbnRlbnQgPSB0ZXh0OwogIGZvciAoY29uc3Qga2V5IG9mIE9iamVjdC5rZXlzKHN0eWxlQXR0cmlidXRlcykpIHsKICAgIGVsZW1lbnQuc3R5bGVba2V5XSA9IHN0eWxlQXR0cmlidXRlc1trZXldOwogIH0KICByZXR1cm4gZWxlbWVudDsKfQoKLy8gTWF4IG51bWJlciBvZiBieXRlcyB3aGljaCB3aWxsIGJlIHVwbG9hZGVkIGF0IGEgdGltZS4KY29uc3QgTUFYX1BBWUxPQURfU0laRSA9IDEwMCAqIDEwMjQ7CgpmdW5jdGlvbiBfdXBsb2FkRmlsZXMoaW5wdXRJZCwgb3V0cHV0SWQpIHsKICBjb25zdCBzdGVwcyA9IHVwbG9hZEZpbGVzU3RlcChpbnB1dElkLCBvdXRwdXRJZCk7CiAgY29uc3Qgb3V0cHV0RWxlbWVudCA9IGRvY3VtZW50LmdldEVsZW1lbnRCeUlkKG91dHB1dElkKTsKICAvLyBDYWNoZSBzdGVwcyBvbiB0aGUgb3V0cHV0RWxlbWVudCB0byBtYWtlIGl0IGF2YWlsYWJsZSBmb3IgdGhlIG5leHQgY2FsbAogIC8vIHRvIHVwbG9hZEZpbGVzQ29udGludWUgZnJvbSBQeXRob24uCiAgb3V0cHV0RWxlbWVudC5zdGVwcyA9IHN0ZXBzOwoKICByZXR1cm4gX3VwbG9hZEZpbGVzQ29udGludWUob3V0cHV0SWQpOwp9CgovLyBUaGlzIGlzIHJvdWdobHkgYW4gYXN5bmMgZ2VuZXJhdG9yIChub3Qgc3VwcG9ydGVkIGluIHRoZSBicm93c2VyIHlldCksCi8vIHdoZXJlIHRoZXJlIGFyZSBtdWx0aXBsZSBhc3luY2hyb25vdXMgc3RlcHMgYW5kIHRoZSBQeXRob24gc2lkZSBpcyBnb2luZwovLyB0byBwb2xsIGZvciBjb21wbGV0aW9uIG9mIGVhY2ggc3RlcC4KLy8gVGhpcyB1c2VzIGEgUHJvbWlzZSB0byBibG9jayB0aGUgcHl0aG9uIHNpZGUgb24gY29tcGxldGlvbiBvZiBlYWNoIHN0ZXAsCi8vIHRoZW4gcGFzc2VzIHRoZSByZXN1bHQgb2YgdGhlIHByZXZpb3VzIHN0ZXAgYXMgdGhlIGlucHV0IHRvIHRoZSBuZXh0IHN0ZXAuCmZ1bmN0aW9uIF91cGxvYWRGaWxlc0NvbnRpbnVlKG91dHB1dElkKSB7CiAgY29uc3Qgb3V0cHV0RWxlbWVudCA9IGRvY3VtZW50LmdldEVsZW1lbnRCeUlkKG91dHB1dElkKTsKICBjb25zdCBzdGVwcyA9IG91dHB1dEVsZW1lbnQuc3RlcHM7CgogIGNvbnN0IG5leHQgPSBzdGVwcy5uZXh0KG91dHB1dEVsZW1lbnQubGFzdFByb21pc2VWYWx1ZSk7CiAgcmV0dXJuIFByb21pc2UucmVzb2x2ZShuZXh0LnZhbHVlLnByb21pc2UpLnRoZW4oKHZhbHVlKSA9PiB7CiAgICAvLyBDYWNoZSB0aGUgbGFzdCBwcm9taXNlIHZhbHVlIHRvIG1ha2UgaXQgYXZhaWxhYmxlIHRvIHRoZSBuZXh0CiAgICAvLyBzdGVwIG9mIHRoZSBnZW5lcmF0b3IuCiAgICBvdXRwdXRFbGVtZW50Lmxhc3RQcm9taXNlVmFsdWUgPSB2YWx1ZTsKICAgIHJldHVybiBuZXh0LnZhbHVlLnJlc3BvbnNlOwogIH0pOwp9CgovKioKICogR2VuZXJhdG9yIGZ1bmN0aW9uIHdoaWNoIGlzIGNhbGxlZCBiZXR3ZWVuIGVhY2ggYXN5bmMgc3RlcCBvZiB0aGUgdXBsb2FkCiAqIHByb2Nlc3MuCiAqIEBwYXJhbSB7c3RyaW5nfSBpbnB1dElkIEVsZW1lbnQgSUQgb2YgdGhlIGlucHV0IGZpbGUgcGlja2VyIGVsZW1lbnQuCiAqIEBwYXJhbSB7c3RyaW5nfSBvdXRwdXRJZCBFbGVtZW50IElEIG9mIHRoZSBvdXRwdXQgZGlzcGxheS4KICogQHJldHVybiB7IUl0ZXJhYmxlPCFPYmplY3Q+fSBJdGVyYWJsZSBvZiBuZXh0IHN0ZXBzLgogKi8KZnVuY3Rpb24qIHVwbG9hZEZpbGVzU3RlcChpbnB1dElkLCBvdXRwdXRJZCkgewogIGNvbnN0IGlucHV0RWxlbWVudCA9IGRvY3VtZW50LmdldEVsZW1lbnRCeUlkKGlucHV0SWQpOwogIGlucHV0RWxlbWVudC5kaXNhYmxlZCA9IGZhbHNlOwoKICBjb25zdCBvdXRwdXRFbGVtZW50ID0gZG9jdW1lbnQuZ2V0RWxlbWVudEJ5SWQob3V0cHV0SWQpOwogIG91dHB1dEVsZW1lbnQuaW5uZXJIVE1MID0gJyc7CgogIGNvbnN0IHBpY2tlZFByb21pc2UgPSBuZXcgUHJvbWlzZSgocmVzb2x2ZSkgPT4gewogICAgaW5wdXRFbGVtZW50LmFkZEV2ZW50TGlzdGVuZXIoJ2NoYW5nZScsIChlKSA9PiB7CiAgICAgIHJlc29sdmUoZS50YXJnZXQuZmlsZXMpOwogICAgfSk7CiAgfSk7CgogIGNvbnN0IGNhbmNlbCA9IGRvY3VtZW50LmNyZWF0ZUVsZW1lbnQoJ2J1dHRvbicpOwogIGlucHV0RWxlbWVudC5wYXJlbnRFbGVtZW50LmFwcGVuZENoaWxkKGNhbmNlbCk7CiAgY2FuY2VsLnRleHRDb250ZW50ID0gJ0NhbmNlbCB1cGxvYWQnOwogIGNvbnN0IGNhbmNlbFByb21pc2UgPSBuZXcgUHJvbWlzZSgocmVzb2x2ZSkgPT4gewogICAgY2FuY2VsLm9uY2xpY2sgPSAoKSA9PiB7CiAgICAgIHJlc29sdmUobnVsbCk7CiAgICB9OwogIH0pOwoKICAvLyBXYWl0IGZvciB0aGUgdXNlciB0byBwaWNrIHRoZSBmaWxlcy4KICBjb25zdCBmaWxlcyA9IHlpZWxkIHsKICAgIHByb21pc2U6IFByb21pc2UucmFjZShbcGlja2VkUHJvbWlzZSwgY2FuY2VsUHJvbWlzZV0pLAogICAgcmVzcG9uc2U6IHsKICAgICAgYWN0aW9uOiAnc3RhcnRpbmcnLAogICAgfQogIH07CgogIGNhbmNlbC5yZW1vdmUoKTsKCiAgLy8gRGlzYWJsZSB0aGUgaW5wdXQgZWxlbWVudCBzaW5jZSBmdXJ0aGVyIHBpY2tzIGFyZSBub3QgYWxsb3dlZC4KICBpbnB1dEVsZW1lbnQuZGlzYWJsZWQgPSB0cnVlOwoKICBpZiAoIWZpbGVzKSB7CiAgICByZXR1cm4gewogICAgICByZXNwb25zZTogewogICAgICAgIGFjdGlvbjogJ2NvbXBsZXRlJywKICAgICAgfQogICAgfTsKICB9CgogIGZvciAoY29uc3QgZmlsZSBvZiBmaWxlcykgewogICAgY29uc3QgbGkgPSBkb2N1bWVudC5jcmVhdGVFbGVtZW50KCdsaScpOwogICAgbGkuYXBwZW5kKHNwYW4oZmlsZS5uYW1lLCB7Zm9udFdlaWdodDogJ2JvbGQnfSkpOwogICAgbGkuYXBwZW5kKHNwYW4oCiAgICAgICAgYCgke2ZpbGUudHlwZSB8fCAnbi9hJ30pIC0gJHtmaWxlLnNpemV9IGJ5dGVzLCBgICsKICAgICAgICBgbGFzdCBtb2RpZmllZDogJHsKICAgICAgICAgICAgZmlsZS5sYXN0TW9kaWZpZWREYXRlID8gZmlsZS5sYXN0TW9kaWZpZWREYXRlLnRvTG9jYWxlRGF0ZVN0cmluZygpIDoKICAgICAgICAgICAgICAgICAgICAgICAgICAgICAgICAgICAgJ24vYSd9IC0gYCkpOwogICAgY29uc3QgcGVyY2VudCA9IHNwYW4oJzAlIGRvbmUnKTsKICAgIGxpLmFwcGVuZENoaWxkKHBlcmNlbnQpOwoKICAgIG91dHB1dEVsZW1lbnQuYXBwZW5kQ2hpbGQobGkpOwoKICAgIGNvbnN0IGZpbGVEYXRhUHJvbWlzZSA9IG5ldyBQcm9taXNlKChyZXNvbHZlKSA9PiB7CiAgICAgIGNvbnN0IHJlYWRlciA9IG5ldyBGaWxlUmVhZGVyKCk7CiAgICAgIHJlYWRlci5vbmxvYWQgPSAoZSkgPT4gewogICAgICAgIHJlc29sdmUoZS50YXJnZXQucmVzdWx0KTsKICAgICAgfTsKICAgICAgcmVhZGVyLnJlYWRBc0FycmF5QnVmZmVyKGZpbGUpOwogICAgfSk7CiAgICAvLyBXYWl0IGZvciB0aGUgZGF0YSB0byBiZSByZWFkeS4KICAgIGxldCBmaWxlRGF0YSA9IHlpZWxkIHsKICAgICAgcHJvbWlzZTogZmlsZURhdGFQcm9taXNlLAogICAgICByZXNwb25zZTogewogICAgICAgIGFjdGlvbjogJ2NvbnRpbnVlJywKICAgICAgfQogICAgfTsKCiAgICAvLyBVc2UgYSBjaHVua2VkIHNlbmRpbmcgdG8gYXZvaWQgbWVzc2FnZSBzaXplIGxpbWl0cy4gU2VlIGIvNjIxMTU2NjAuCiAgICBsZXQgcG9zaXRpb24gPSAwOwogICAgZG8gewogICAgICBjb25zdCBsZW5ndGggPSBNYXRoLm1pbihmaWxlRGF0YS5ieXRlTGVuZ3RoIC0gcG9zaXRpb24sIE1BWF9QQVlMT0FEX1NJWkUpOwogICAgICBjb25zdCBjaHVuayA9IG5ldyBVaW50OEFycmF5KGZpbGVEYXRhLCBwb3NpdGlvbiwgbGVuZ3RoKTsKICAgICAgcG9zaXRpb24gKz0gbGVuZ3RoOwoKICAgICAgY29uc3QgYmFzZTY0ID0gYnRvYShTdHJpbmcuZnJvbUNoYXJDb2RlLmFwcGx5KG51bGwsIGNodW5rKSk7CiAgICAgIHlpZWxkIHsKICAgICAgICByZXNwb25zZTogewogICAgICAgICAgYWN0aW9uOiAnYXBwZW5kJywKICAgICAgICAgIGZpbGU6IGZpbGUubmFtZSwKICAgICAgICAgIGRhdGE6IGJhc2U2NCwKICAgICAgICB9LAogICAgICB9OwoKICAgICAgbGV0IHBlcmNlbnREb25lID0gZmlsZURhdGEuYnl0ZUxlbmd0aCA9PT0gMCA/CiAgICAgICAgICAxMDAgOgogICAgICAgICAgTWF0aC5yb3VuZCgocG9zaXRpb24gLyBmaWxlRGF0YS5ieXRlTGVuZ3RoKSAqIDEwMCk7CiAgICAgIHBlcmNlbnQudGV4dENvbnRlbnQgPSBgJHtwZXJjZW50RG9uZX0lIGRvbmVgOwoKICAgIH0gd2hpbGUgKHBvc2l0aW9uIDwgZmlsZURhdGEuYnl0ZUxlbmd0aCk7CiAgfQoKICAvLyBBbGwgZG9uZS4KICB5aWVsZCB7CiAgICByZXNwb25zZTogewogICAgICBhY3Rpb246ICdjb21wbGV0ZScsCiAgICB9CiAgfTsKfQoKc2NvcGUuZ29vZ2xlID0gc2NvcGUuZ29vZ2xlIHx8IHt9OwpzY29wZS5nb29nbGUuY29sYWIgPSBzY29wZS5nb29nbGUuY29sYWIgfHwge307CnNjb3BlLmdvb2dsZS5jb2xhYi5fZmlsZXMgPSB7CiAgX3VwbG9hZEZpbGVzLAogIF91cGxvYWRGaWxlc0NvbnRpbnVlLAp9Owp9KShzZWxmKTsK",
              "ok": true,
              "headers": [
                [
                  "content-type",
                  "application/javascript"
                ]
              ],
              "status": 200,
              "status_text": ""
            }
          },
          "base_uri": "https://localhost:8080/",
          "height": 110
        },
        "id": "aFzIW2SJLo8Z",
        "outputId": "3e34a7f6-8c12-422a-ef91-9a5c4256e2e1"
      },
      "execution_count": 13,
      "outputs": [
        {
          "output_type": "display_data",
          "data": {
            "text/html": [
              "\n",
              "     <input type=\"file\" id=\"files-4dd6307d-bfc2-42c1-b0dd-9095c907df94\" name=\"files[]\" multiple disabled\n",
              "        style=\"border:none\" />\n",
              "     <output id=\"result-4dd6307d-bfc2-42c1-b0dd-9095c907df94\">\n",
              "      Upload widget is only available when the cell has been executed in the\n",
              "      current browser session. Please rerun this cell to enable.\n",
              "      </output>\n",
              "      <script src=\"/nbextensions/google.colab/files.js\"></script> "
            ],
            "text/plain": [
              "<IPython.core.display.HTML object>"
            ]
          },
          "metadata": {}
        },
        {
          "output_type": "stream",
          "name": "stdout",
          "text": [
            "Saving dataset.xlsx to dataset.xlsx\n"
          ]
        },
        {
          "output_type": "execute_result",
          "data": {
            "text/plain": [
              "{'dataset.xlsx': b'PK\\x03\\x04\\x14\\x00\\x06\\x00\\x08\\x00\\x00\\x00!\\x00b\\xee\\x9dh^\\x01\\x00\\x00\\x90\\x04\\x00\\x00\\x13\\x00\\x08\\x02[Content_Types].xml \\xa2\\x04\\x02(\\xa0\\x00\\x02\\x00\\x00\\x00\\x00\\x00\\x00\\x00\\x00\\x00\\x00\\x00\\x00\\x00\\x00\\x00\\x00\\x00\\x00\\x00\\x00\\x00\\x00\\x00\\x00\\x00\\x00\\x00\\x00\\x00\\x00\\x00\\x00\\x00\\x00\\x00\\x00\\x00\\x00\\x00\\x00\\x00\\x00\\x00\\x00\\x00\\x00\\x00\\x00\\x00\\x00\\x00\\x00\\x00\\x00\\x00\\x00\\x00\\x00\\x00\\x00\\x00\\x00\\x00\\x00\\x00\\x00\\x00\\x00\\x00\\x00\\x00\\x00\\x00\\x00\\x00\\x00\\x00\\x00\\x00\\x00\\x00\\x00\\x00\\x00\\x00\\x00\\x00\\x00\\x00\\x00\\x00\\x00\\x00\\x00\\x00\\x00\\x00\\x00\\x00\\x00\\x00\\x00\\x00\\x00\\x00\\x00\\x00\\x00\\x00\\x00\\x00\\x00\\x00\\x00\\x00\\x00\\x00\\x00\\x00\\x00\\x00\\x00\\x00\\x00\\x00\\x00\\x00\\x00\\x00\\x00\\x00\\x00\\x00\\x00\\x00\\x00\\x00\\x00\\x00\\x00\\x00\\x00\\x00\\x00\\x00\\x00\\x00\\x00\\x00\\x00\\x00\\x00\\x00\\x00\\x00\\x00\\x00\\x00\\x00\\x00\\x00\\x00\\x00\\x00\\x00\\x00\\x00\\x00\\x00\\x00\\x00\\x00\\x00\\x00\\x00\\x00\\x00\\x00\\x00\\x00\\x00\\x00\\x00\\x00\\x00\\x00\\x00\\x00\\x00\\x00\\x00\\x00\\x00\\x00\\x00\\x00\\x00\\x00\\x00\\x00\\x00\\x00\\x00\\x00\\x00\\x00\\x00\\x00\\x00\\x00\\x00\\x00\\x00\\x00\\x00\\x00\\x00\\x00\\x00\\x00\\x00\\x00\\x00\\x00\\x00\\x00\\x00\\x00\\x00\\x00\\x00\\x00\\x00\\x00\\x00\\x00\\x00\\x00\\x00\\x00\\x00\\x00\\x00\\x00\\x00\\x00\\x00\\x00\\x00\\x00\\x00\\x00\\x00\\x00\\x00\\x00\\x00\\x00\\x00\\x00\\x00\\x00\\x00\\x00\\x00\\x00\\x00\\x00\\x00\\x00\\x00\\x00\\x00\\x00\\x00\\x00\\x00\\x00\\x00\\x00\\x00\\x00\\x00\\x00\\x00\\x00\\x00\\x00\\x00\\x00\\x00\\x00\\x00\\x00\\x00\\x00\\x00\\x00\\x00\\x00\\x00\\x00\\x00\\x00\\x00\\x00\\x00\\x00\\x00\\x00\\x00\\x00\\x00\\x00\\x00\\x00\\x00\\x00\\x00\\x00\\x00\\x00\\x00\\x00\\x00\\x00\\x00\\x00\\x00\\x00\\x00\\x00\\x00\\x00\\x00\\x00\\x00\\x00\\x00\\x00\\x00\\x00\\x00\\x00\\x00\\x00\\x00\\x00\\x00\\x00\\x00\\x00\\x00\\x00\\x00\\x00\\x00\\x00\\x00\\x00\\x00\\x00\\x00\\x00\\x00\\x00\\x00\\x00\\x00\\x00\\x00\\x00\\x00\\x00\\x00\\x00\\x00\\x00\\x00\\x00\\x00\\x00\\x00\\x00\\x00\\x00\\x00\\x00\\x00\\x00\\x00\\x00\\x00\\x00\\x00\\x00\\x00\\x00\\x00\\x00\\x00\\x00\\x00\\x00\\x00\\x00\\x00\\x00\\x00\\x00\\x00\\x00\\x00\\x00\\x00\\x00\\x00\\x00\\x00\\x00\\x00\\x00\\x00\\x00\\x00\\x00\\x00\\x00\\x00\\x00\\x00\\x00\\x00\\x00\\x00\\x00\\x00\\x00\\x00\\x00\\x00\\x00\\x00\\x00\\x00\\x00\\x00\\x00\\x00\\x00\\x00\\x00\\x00\\x00\\x00\\x00\\x00\\x00\\x00\\x00\\x00\\x00\\x00\\x00\\x00\\x00\\x00\\x00\\x00\\x00\\x00\\x00\\x00\\x00\\x00\\x00\\x00\\x00\\x00\\x00\\x00\\x00\\x00\\x00\\x00\\x00\\x00\\x00\\x00\\x00\\x00\\x00\\x00\\x00\\x00\\x00\\x00\\x00\\x00\\x00\\x00\\x00\\x00\\x00\\x00\\x00\\x00\\x00\\x00\\x00\\x00\\x00\\xac\\x94\\xcbN\\xc30\\x10E\\xf7H\\xfcC\\xe4-J\\xdc\\xb2@\\x085\\xed\\x82\\xc7\\x12*Q>\\xc0\\xc4\\x93\\xc6\\xaac[\\x9eii\\xff\\x9e\\x89\\xfb\\x10B\\xa1\\x15j7\\xb1\\x12\\xcf\\xdc{2\\xf1\\xcdh\\xb2nm\\xb6\\x82\\x88\\xc6\\xbbR\\x0c\\x8b\\x81\\xc8\\xc0U^\\x1b7/\\xc5\\xc7\\xec%\\xbf\\x17\\x19\\x92rZY\\xef\\xa0\\x14\\x1b@1\\x19__\\x8df\\x9b\\x00\\x98q\\xb7\\xc3R4D\\xe1AJ\\xac\\x1ah\\x15\\x16>\\x80\\xe3\\x9d\\xda\\xc7V\\x11\\xdf\\xc6\\xb9\\x0c\\xaaZ\\xa89\\xc8\\xdb\\xc1\\xe0NV\\xde\\x118\\xca\\xa9\\xd3\\x10\\xe3\\xd1\\x13\\xd4ji){^\\xf3\\xe3-I\\x04\\x8b\"{\\xdc\\x16v^\\xa5P!XS)bR\\xb9r\\xfa\\x97K\\xbes(\\xb83\\xd5`c\\x02\\xde0\\x86\\x90\\xbd\\x0e\\xdd\\xce\\xdf\\x06\\xbb\\xbe7\\x1eM4\\x1a\\xb2\\xa9\\x8a\\xf4\\xaaZ\\xc6\\x90k+\\xbf|\\\\|z\\xbf(\\x8e\\x8b\\xf4P\\xfa\\xba6\\x15h_-[\\x9e@\\x81!\\x82\\xd2\\xd8\\x00Pk\\x8b\\xb4\\x16\\xad2n\\xcf}\\xc4?\\x15\\xa3L\\xcb\\xf0\\xc2 \\xdd\\xfb%\\xe1\\x13\\x1c\\xc4\\xdf\\x1bd\\xba\\x9e\\x8f\\x90dN\\x18\"m,\\xe0\\xa5\\xc7\\x9eDO97*\\x82~\\xa7\\xc8\\xc9\\xb88\\xc0O\\xedc\\x1c|n\\xa6\\xd1\\x07\\xe4\\x04E\\xf8\\xff\\x14\\xf6\\x11\\xe9\\xba\\xf3\\xc0B\\x10\\xc9\\xc0!$}\\x87\\xed\\xe0\\xc8\\xe9;{\\xec\\xd0\\xe5[\\x83\\xee\\xf1\\x96\\xe9\\x7f2\\xfe\\x06\\x00\\x00\\xff\\xff\\x03\\x00PK\\x03\\x04\\x14\\x00\\x06\\x00\\x08\\x00\\x00\\x00!\\x00\\xb5U0#\\xf4\\x00\\x00\\x00L\\x02\\x00\\x00\\x0b\\x00\\x08\\x02_rels/.rels \\xa2\\x04\\x02(\\xa0\\x00\\x02\\x00\\x00\\x00\\x00\\x00\\x00\\x00\\x00\\x00\\x00\\x00\\x00\\x00\\x00\\x00\\x00\\x00\\x00\\x00\\x00\\x00\\x00\\x00\\x00\\x00\\x00\\x00\\x00\\x00\\x00\\x00\\x00\\x00\\x00\\x00\\x00\\x00\\x00\\x00\\x00\\x00\\x00\\x00\\x00\\x00\\x00\\x00\\x00\\x00\\x00\\x00\\x00\\x00\\x00\\x00\\x00\\x00\\x00\\x00\\x00\\x00\\x00\\x00\\x00\\x00\\x00\\x00\\x00\\x00\\x00\\x00\\x00\\x00\\x00\\x00\\x00\\x00\\x00\\x00\\x00\\x00\\x00\\x00\\x00\\x00\\x00\\x00\\x00\\x00\\x00\\x00\\x00\\x00\\x00\\x00\\x00\\x00\\x00\\x00\\x00\\x00\\x00\\x00\\x00\\x00\\x00\\x00\\x00\\x00\\x00\\x00\\x00\\x00\\x00\\x00\\x00\\x00\\x00\\x00\\x00\\x00\\x00\\x00\\x00\\x00\\x00\\x00\\x00\\x00\\x00\\x00\\x00\\x00\\x00\\x00\\x00\\x00\\x00\\x00\\x00\\x00\\x00\\x00\\x00\\x00\\x00\\x00\\x00\\x00\\x00\\x00\\x00\\x00\\x00\\x00\\x00\\x00\\x00\\x00\\x00\\x00\\x00\\x00\\x00\\x00\\x00\\x00\\x00\\x00\\x00\\x00\\x00\\x00\\x00\\x00\\x00\\x00\\x00\\x00\\x00\\x00\\x00\\x00\\x00\\x00\\x00\\x00\\x00\\x00\\x00\\x00\\x00\\x00\\x00\\x00\\x00\\x00\\x00\\x00\\x00\\x00\\x00\\x00\\x00\\x00\\x00\\x00\\x00\\x00\\x00\\x00\\x00\\x00\\x00\\x00\\x00\\x00\\x00\\x00\\x00\\x00\\x00\\x00\\x00\\x00\\x00\\x00\\x00\\x00\\x00\\x00\\x00\\x00\\x00\\x00\\x00\\x00\\x00\\x00\\x00\\x00\\x00\\x00\\x00\\x00\\x00\\x00\\x00\\x00\\x00\\x00\\x00\\x00\\x00\\x00\\x00\\x00\\x00\\x00\\x00\\x00\\x00\\x00\\x00\\x00\\x00\\x00\\x00\\x00\\x00\\x00\\x00\\x00\\x00\\x00\\x00\\x00\\x00\\x00\\x00\\x00\\x00\\x00\\x00\\x00\\x00\\x00\\x00\\x00\\x00\\x00\\x00\\x00\\x00\\x00\\x00\\x00\\x00\\x00\\x00\\x00\\x00\\x00\\x00\\x00\\x00\\x00\\x00\\x00\\x00\\x00\\x00\\x00\\x00\\x00\\x00\\x00\\x00\\x00\\x00\\x00\\x00\\x00\\x00\\x00\\x00\\x00\\x00\\x00\\x00\\x00\\x00\\x00\\x00\\x00\\x00\\x00\\x00\\x00\\x00\\x00\\x00\\x00\\x00\\x00\\x00\\x00\\x00\\x00\\x00\\x00\\x00\\x00\\x00\\x00\\x00\\x00\\x00\\x00\\x00\\x00\\x00\\x00\\x00\\x00\\x00\\x00\\x00\\x00\\x00\\x00\\x00\\x00\\x00\\x00\\x00\\x00\\x00\\x00\\x00\\x00\\x00\\x00\\x00\\x00\\x00\\x00\\x00\\x00\\x00\\x00\\x00\\x00\\x00\\x00\\x00\\x00\\x00\\x00\\x00\\x00\\x00\\x00\\x00\\x00\\x00\\x00\\x00\\x00\\x00\\x00\\x00\\x00\\x00\\x00\\x00\\x00\\x00\\x00\\x00\\x00\\x00\\x00\\x00\\x00\\x00\\x00\\x00\\x00\\x00\\x00\\x00\\x00\\x00\\x00\\x00\\x00\\x00\\x00\\x00\\x00\\x00\\x00\\x00\\x00\\x00\\x00\\x00\\x00\\x00\\x00\\x00\\x00\\x00\\x00\\x00\\x00\\x00\\x00\\x00\\x00\\x00\\x00\\x00\\x00\\x00\\x00\\x00\\x00\\x00\\x00\\x00\\x00\\x00\\x00\\x00\\x00\\x00\\x00\\x00\\x00\\x00\\x00\\x00\\x00\\x00\\x00\\x00\\x00\\x00\\x00\\x00\\x00\\x00\\x00\\x00\\x00\\x00\\x00\\x00\\x00\\x00\\x00\\x00\\x00\\x00\\x00\\x00\\x00\\x00\\x00\\x00\\xac\\x92MO\\xc30\\x0c\\x86\\xefH\\xfc\\x87\\xc8\\xf7\\xd5\\xdd\\x90\\x10BKwAH\\xbb!T~\\x80I\\xdc\\x0f\\xb5\\x8d\\xa3$\\x1b\\xdd\\xbf\\'\\x1c\\x10T\\x1a\\x83\\x03G\\x7f\\xbd~\\xfc\\xca\\xdb\\xdd<\\x8d\\xea\\xc8!\\xf6\\xe24\\xac\\x8b\\x12\\x14;#\\xb6w\\xad\\x86\\x97\\xfaqu\\x07*&r\\x96Fq\\xac\\xe1\\xc4\\x11v\\xd5\\xf5\\xd5\\xf6\\x99GJy(v\\xbd\\x8f*\\xab\\xb8\\xa8\\xa1K\\xc9\\xdf#F\\xd3\\xf1D\\xb1\\x10\\xcf.W\\x1a\\t\\x13\\xa5\\x1c\\x86\\x16=\\x99\\x81Z\\xc6MY\\xdeb\\xf8\\xae\\x01\\xd5BS\\xed\\xad\\x86\\xb0\\xb77\\xa0\\xea\\x93\\xcf\\x9b\\x7f\\xd7\\x96\\xa6\\xe9\\r?\\x889L\\xec\\xd2\\x99\\x15\\xc8sbg\\xd9\\xae|\\xc8l!\\xf5\\xf9\\x1aUSh9i\\xb0b\\x9er:\"y_dl\\xc0\\xf3D\\x9b\\xbf\\x13\\xfd|-N\\x9c\\xc8R\"4\\x12\\xf82\\xcfG\\xc7%\\xa0\\xf5\\x7fZ\\xb44\\xf1\\xcb\\x9dy\\xc47\\t\\xc3\\xab\\xc8\\xf0\\xc9\\x82\\x8b\\x1f\\xa8\\xde\\x01\\x00\\x00\\xff\\xff\\x03\\x00PK\\x03\\x04\\x14\\x00\\x06\\x00\\x08\\x00\\x00\\x00!\\x00\\x81>\\x94\\x97\\xf3\\x00\\x00\\x00\\xba\\x02\\x00\\x00\\x1a\\x00\\x08\\x01xl/_rels/workbook.xml.rels \\xa2\\x04\\x01(\\xa0\\x00\\x01\\x00\\x00\\x00\\x00\\x00\\x00\\x00\\x00\\x00\\x00\\x00\\x00\\x00\\x00\\x00\\x00\\x00\\x00\\x00\\x00\\x00\\x00\\x00\\x00\\x00\\x00\\x00\\x00\\x00\\x00\\x00\\x00\\x00\\x00\\x00\\x00\\x00\\x00\\x00\\x00\\x00\\x00\\x00\\x00\\x00\\x00\\x00\\x00\\x00\\x00\\x00\\x00\\x00\\x00\\x00\\x00\\x00\\x00\\x00\\x00\\x00\\x00\\x00\\x00\\x00\\x00\\x00\\x00\\x00\\x00\\x00\\x00\\x00\\x00\\x00\\x00\\x00\\x00\\x00\\x00\\x00\\x00\\x00\\x00\\x00\\x00\\x00\\x00\\x00\\x00\\x00\\x00\\x00\\x00\\x00\\x00\\x00\\x00\\x00\\x00\\x00\\x00\\x00\\x00\\x00\\x00\\x00\\x00\\x00\\x00\\x00\\x00\\x00\\x00\\x00\\x00\\x00\\x00\\x00\\x00\\x00\\x00\\x00\\x00\\x00\\x00\\x00\\x00\\x00\\x00\\x00\\x00\\x00\\x00\\x00\\x00\\x00\\x00\\x00\\x00\\x00\\x00\\x00\\x00\\x00\\x00\\x00\\x00\\x00\\x00\\x00\\x00\\x00\\x00\\x00\\x00\\x00\\x00\\x00\\x00\\x00\\x00\\x00\\x00\\x00\\x00\\x00\\x00\\x00\\x00\\x00\\x00\\x00\\x00\\x00\\x00\\x00\\x00\\x00\\x00\\x00\\x00\\x00\\x00\\x00\\x00\\x00\\x00\\x00\\x00\\x00\\x00\\x00\\x00\\x00\\x00\\x00\\x00\\x00\\x00\\x00\\x00\\x00\\x00\\x00\\x00\\x00\\x00\\x00\\x00\\x00\\x00\\x00\\x00\\x00\\x00\\x00\\x00\\x00\\x00\\x00\\x00\\x00\\x00\\x00\\x00\\x00\\x00\\x00\\x00\\x00\\x00\\x00\\x00\\x00\\x00\\x00\\x00\\x00\\x00\\x00\\x00\\x00\\x00\\x00\\x00\\x00\\x00\\x00\\x00\\x00\\x00\\x00\\x00\\x00\\x00\\xacRMK\\xc40\\x10\\xbd\\x0b\\xfe\\x870w\\x9bv\\x15\\x11\\xd9t/\"\\xecU\\xeb\\x0f\\x08\\xc9\\xb4)\\xdb&!3~\\xf4\\xdf\\x1b*\\xba]X\\xd6K/\\x03o\\x86y\\xef\\xcd\\xc7v\\xf75\\x0e\\xe2\\x03\\x13\\xf5\\xc1+\\xa8\\x8a\\x12\\x04z\\x13l\\xef;\\x05o\\xcd\\xf3\\xcd\\x03\\x08b\\xed\\xad\\x1e\\x82G\\x05\\x13\\x12\\xec\\xea\\xeb\\xab\\xed\\x0b\\x0e\\x9as\\x13\\xb9>\\x92\\xc8,\\x9e\\x148\\xe6\\xf8(%\\x19\\x87\\xa3\\xa6\"D\\xf4\\xb9\\xd2\\x864j\\xce0u2js\\xd0\\x1d\\xcaMY\\xde\\xcb\\xb4\\xe4\\x80\\xfa\\x84S\\xec\\xad\\x82\\xb4\\xb7\\xb7 \\x9a)f\\xe5\\xff\\xb9C\\xdb\\xf6\\x06\\x9f\\x82y\\x1f\\xd1\\xf3\\x19\\tI<\\ry\\x00\\xd1\\xe8\\xd4!+\\xf8\\xc1E\\xf6\\x08\\xf2\\xbc\\xfcfMy\\xcek\\xc1\\xa3\\xfa\\x0c\\xe5\\x1c\\xabK\\x1e\\xaa5=|\\x86t \\x87\\xc8G\\x1f\\x7f)\\x92s\\xe5\\xa2\\x99\\xbbU\\xef\\xe1tB\\xfb\\xca)\\xbf\\xdb\\xf2,\\xcb\\xf4\\xeff\\xe4\\xc9\\xc7\\xd5\\xdf\\x00\\x00\\x00\\xff\\xff\\x03\\x00PK\\x03\\x04\\x14\\x00\\x06\\x00\\x08\\x00\\x00\\x00!\\x00\\x13bQ\\x18\\xf3\\x01\\x00\\x00\\xdd\\x03\\x00\\x00\\x0f\\x00\\x00\\x00xl/workbook.xml\\xa4\\x93\\xdbj\\xdb@\\x10\\x86\\xef\\x0b}\\x87e\\xefc\\x1d\\xe2\\x04#,\\x85\\xd4m\\xa9)\\x94P\\x9c\\x84\\x82 \\x8cW#k\\xf1\\x1e\\xd4\\xddUm\\xbf}FR\\xdd:\\xf1MJo\\xb4\\xb3\\x07}\\xbb\\xf3\\xff3\\xf3\\x9b\\xbdV\\xec\\x17:/\\xad\\xc9y2\\x899C#l%\\xcd&\\xe7\\xf7\\xab\\xcf\\x173\\xce|\\x00S\\x81\\xb2\\x06s~@\\xcfo\\x8a\\xf7\\xef\\xe6;\\xeb\\xb6kk\\xb7\\x8c\\x00\\xc6\\xe7\\xbc\\t\\xa1\\xcd\\xa2\\xc8\\x8b\\x065\\xf8\\x89m\\xd1\\xd0Nm\\x9d\\x86@S\\xb7\\x89|\\xeb\\x10*\\xdf \\x06\\xad\\xa24\\x8e\\xaf#\\r\\xd2\\xf0\\x91\\x90\\xb9\\xb70l]K\\x81\\x1f\\xad\\xe84\\x9a0B\\x1c*\\x08\\xf4|\\xdf\\xc8\\xd6\\x1fiZ\\xbc\\x05\\xa7\\xc1m\\xbb\\xf6BX\\xdd\\x12b-\\x95\\x0c\\x87\\x01\\xca\\x99\\x16\\xd9rc\\xac\\x83\\xb5\\xa2\\xb4\\xf7\\xc9\\xd5\\x91L\\xe1\\x19ZK\\xe1\\xac\\xb7u\\x98\\x10*\\x1a\\x1fy\\x96o\\x12GI2\\xa6\\\\\\xcck\\xa9\\xf0a\\x94\\x9dA\\xdb~\\x03\\xdd\\xdf\\xa28S\\xe0\\xc3\\xa7J\\x06\\xacr~MS\\xbb\\xc3\\x17\\x0b\\xaek?tR\\xd1n2\\x9d\\xa61\\x8f\\x8a?V\\xdc9Va\\r\\x9d\\n+2\\xe1\\x88\\xa7\\x83W\\x97i\\x9a\\xf6\\')\\xa9[\\x15\\xd0\\x19\\x08\\xb8\\xb0&\\x90\\x86\\xbf\\xd5\\xff_\\xbd\\x06\\xf6\\xa2\\xb1\\xe4\\x0e\\xfb\\x8e?;\\xe9\\x90\\x8a\\xa2\\x97\\xad\\x98\\xd3\\x17D\\x06k\\x7f\\x07\\xa1a\\x9dS9_d\\xe5\\xbd\\xa7\\xf4\\xcb\\xaf(CS\\xfe\\xb0\\xdd\\xaa[cy+B\\x07\\xeaia+,\\xdb\\xbe\\xe8|y\";\\x9c{\\xfa\\x0f\\xc2\\x83\\xe8\\x15\\x88H\\x82\\xf1\\x99c\\xfcZ\\x8eb\\xde\\x17\\xf5\\x83\\xc4\\x9d\\xff+l?e\\xfbGi*\\xbb\\xcb9\\xb5\\xc8\\xe1$\\xde\\r\\xcb\\x8f\\xb2\\nM\\xce\\xd3\\xd9,\\xa6\\xfdq\\xed\\x0b\\xcaM\\x13H\\xff\\xcb\\xd9l:\\\\~\\xc2\\x1e\\xfa\\x80\\xee\\x18Ff\\x06\\xff[\\xbbEm\\xcdS\\x05\\x01\\xa8\\xed\\xfaNY\\xf6Fs\\xe62I\\x81[V\\xc9\\xc09\\xfe,@\\tr\\xbd\\x1f\\xfa\\x83C5D\\xc7\\xce,\\x9e\\x01\\x00\\x00\\xff\\xff\\x03\\x00PK\\x03\\x04\\x14\\x00\\x06\\x00\\x08\\x00\\x00\\x00!\\x00\\x0eO\\xc1\\xc6\\x8d\\x14\\x00\\x00\\xe0P\\x00\\x00\\x14\\x00\\x00\\x00xl/sharedStrings.xml\\x84\\\\]\\x8f\\xdb\\xc8r}\\x0f\\x90\\xff L\\x10$yX\\xdbw\\x83\\\\\\\\\\x04^_H\\x9a\\x91dK\\xb2\\xb5Cyfw\\xdeZT\\x8b\\xec\\x88\\xea\\xe66\\xd9\\xa3\\xe1\\xbc\\xe6\\xd7\\xdc\\xbfq\\xf3\\xc7r\\x9a\\xd4\\xcc^\\xf0\\x14g\\xb1X\\xc3\\xae.\\x91\\xfdYu\\xeaT5?\\xfe\\xf5\\xe9T\\x8c\\x1e\\xb5\\xaf\\x8c\\xb3?]\\xfd\\xe9\\xdd\\x87\\xab\\x91\\xb6\\xa9\\xdb\\x1b\\x9b\\xfdt\\xf5};\\xfb\\xe1/W\\xa3\\xaaVv\\xaf\\ng\\xf5OW\\x8d\\xae\\xae\\xfe\\xfa\\xe9\\x9f\\xff\\xe9cU\\xd5#\\xfc\\xd6V?]\\xe5u]\\xfe\\xf7\\xfb\\xf7U\\x9a\\xeb\\x93\\xaa\\xde\\xb9R[\\xb4\\x1c\\x9c?\\xa9\\x1a\\xff\\xf4\\xd9\\xfb\\xaa\\xf4Z\\xed\\xab\\\\\\xeb\\xfaT\\xbc\\xff\\xf1\\xc3\\x87?\\xbf?)c\\xafF\\xa9\\x0b\\xb6\\xfe\\xe9\\xea\\xc7\\x0f?\\xfe\\xf9j\\x14\\xac\\xf9-\\xe8i\\'\\xfa\\xcb\\x7f~\\xb8\\xfa\\xf4\\xb12\\x9f>\\xd6\\x9f\\xfe\\xe5\\xe3\\xfb\\xfa\\xd3\\xc7\\xf7\\xf1\\x1f\\x9d\\xe0\\xab:\\xe9\\xbel\\xdb\\x94z\\xf4\\'Q\\xfac_\\xba\\xd8\\xf4%\\xe3\\xbaV\\xe9\\xb1/\\xbd\\xd6\\x07m+zUR\\xbe\\x1b\\x8dk\\xd2\\x8eb\\xfc\\xa2\\xff\\x90\\xa4\\xd4z\\xdf\\x17\\xce\\xb5\\xd5^\\xd5\\x98\\xf5~\\xcbJg\\x1a\\xd3\\xed\\x9b~\\xc3$\\x14;U\\xa9\\xe0\\xe9Y^UU_\\xb8q\\xa6\\xe2\\x87\\x7f~l\\xa4\\'\\xdci\\x1b\\xde\\x92\\xafu\\xa6FCJ\\xd3\\\\a\\xa5\\xed^S\\xc7f\\xc6\\xd3\\xdc\\xb5\\xda\\xba\\xd0\\xdc\\xb7\\xd8b\\x9e\\x95\\xa7\\xb9\\x9a\\x15\\r\\xb6c\\x7f\\x80\\xaf\\xeam\\xe7^\\xff5\\xfa\\x85\\x16\\xd1\\xab\\xec\\x8d\\xb7\\xf5~\\xfe+-\\xdfo\\xc1\\xf8\\xba\\xa0\\x81\\xdc\\xab\\x9aG|\\xaf|\\xed$\\xedI\\xa1\\xaa\\x1aKB\\x8fymh\\xfb1\\xa86\\x8do+\\r\\xff<\\xd0\\xc4\\xacu\\xadJG\\xb38\\t5\\x1eq\\xf0\\x9aG\\x82\\xfd\\xc9\\xe3[\\xaac\\xb0\\x8a6!t\\xbd)\\x8a!y7\\x8a\\x01\\xa5\\x8d\\xd9g\\x9a\\xf6\\xf5\\xd7h(\\xe8\\x81\\xad\\xae\\xabkG\\x1b;>\\xc4\\xd5\\x03\\xe2\\xf6\\xfd\\x97\\xdf\\xf6Un\\x15\\x0eyMC\\x82\\xd8\\xa4\\x98^\\xe1\\xdc*\\xef\\xce}\\xf1LK\\xd2\\x9b\\xa3\\xb2t\\x06\\xc7~\\xe7\\xc8Jl\\xccQ\\xa5y\\xe8?\\xf6\\xa6\\xd0i\\xedM\\xca\\x9d6\\x82v\\x82\\xf3V\\xe5^S\\xef\\xe6\\x1e\\xe6\\x93\\xd6\\xbeU\\xc7\\x0e\\xcc\\xfbO\\xffj\\xf6\\xce\\x1b^\\xe6(\\x87-\\xd6d\\x9d.?\\xa0U\\x89\\xf2\\xa3tJ\\x0b}P\\x86\\x8d\\xd9L\\x12N\\xa3\\xf2\\x8e\\xb7\\xe2](J\\xf3\\xc4}\\xb7\\xd8\\xe9\\x85\\xa6i\\xffb\\xb2\\xach\\xcap S|\\xdf\\xb6\\xd4B\\xcbC\\xd8)\\xdaSs\\x07\\x8bK\\xd2o\\xfb\\xbd\\xe1\\x99\\x9c\\x17\\xce\\x9d\\xfa]\\xbc3\\x85.\\x8b\\xc0\\xcej\\xa3`\\xb3i\\x0bG!v\\x01=E[g\\xb9\\x1f\\xb0\\xc7\\xee\\xe4jZ\\xd3k\\x93\\x15\\xba\\xa6\\xa7\\\\\\x87\\x0c\\xfb\\x8b\\x16n\\xad\\xdd\\x99\\x9f\\xb1\\x89\\x88@\\xd1\\xeao\\xaaf\\x1f\\xd8Mb\\x9e$\\xf1Z\\xd9#\\x1f\\xf7\\x99\\xc9\\xf2Z\\xd8)\\x1boNZ\\x95t\\x0c\\xb1\\xa3\\xcf\\x85\\xa9sj\\x18\\xfbTYcI\\xbeq\\x859+2\\x8b\\xad87\\x9e-M\\xd4\\x87/\\xa6\\x89\\x1c\\xef<\\x19\\x0b\\xcc@\\x9a\\xf3)]\\xaa\\xbd\\x12\\xb4\\xc7\\x85:\\xaagE\\xfb\\xe2E\\xdeZ\\xab!\\xa55\\xcc\\x84+\\xfb\\x9b\\xa1\\x95\\x1ei\\xd0Q\\xacN\\xa4=\\xd1E\\x01\\xf0\\xe5\\x02m\\x87{\\xadKcwh\\xe7M\\x0bC\\xa45\\x9a\\xfa-[m\\x81\\x92\\x9c\\x1bh\\xf0\\x81\\x7f2\\xd7n\\x1f\\xf6\\xd4\\xdd[\\'\\xec\"\\xaf\\x1e\\x01\\x0c\\x18\\xde\\xb8B\\xd3\\x0cn\\x9cm$S^\\x9a\\xbd`\\xe6\\x92\\xc2\\x9dK\\xc7\\xb3\\x16\\xe5;Og\\xe2\"nWg@e\\xad2\\xabOF\\xf0\\x1a\\xb5\\xe6Yh\\xb5k\\x06!3\\xe5\\x0f\\xbaN\\xf3\\x7f#\\x8b}\\x8di\\xa3~A(\\x9c\\xe0Dx\\xe1\\xb5>\\x03\\xf3\\xd0\\x19\\xf8\\x9c\\n\\xc7\\x0b\\xc7\\x8e\\xe6|\\x1d\\x18\\xdd\\xe6\\xd8+\\x02\\xc8\\x9b\\x16\\xae\\xa9\\x04(4\\x07\\xe0)\\xc8\\xd9\\xcfsW\\xd1^\\\\(D\\x01\\xc2\\xc2k\\x9b)\\xde\\x0e\\xad\\xb4]\\x1b\\x80hA\\xe1\\x9be_q\\r#\\xf2\\xcc\\xc8g\\xd1\\x94\\x96fy\\xe9\\xd5nG\\x1d_\\xc2d\\t\\x9b\\xf3\\xce\\x15\\x00|;\\xd9\\x9b;\\xde\\xf87O:\\xcb\\xd2\\xc0\\xfb\\xa6m\\x08xV\\xffQ\\xd3\\xb0C\\xe4\\xc5f\\x00#R\\xb4H\\x0bS\\x9f\\x9c-\\x84\\x91\\xb6\\r\\xb0\\x11\\x1co\\x98\\xf4h\\xea\\xc0\\x9be\\xe9\\x0e\\x07\\xc1N\\xc3p<\\x0b\\xe2\\xdb\\xbc\\xc9\\x9d\\xa7\\xa7C\\xbc\\x17\\xc17\\xc2*\\x9a\\xe3\\xad\\xb2\\x99.\\xc8\\xe6.!V\\xd5Q\\xe8\\xfb\\xef-\\xed~\\x18V\\\\8_izp\\x82\\xa0\\x94M|\\xf4f\\x02\\xf2\\x81\\xb2\\x04p\\x92\\x1a\\xa1\\x1a\\xa1\\xb9(=1Z_\\xfbw\\xa35\\xce\\x1bA\\xcd\\xb4\\x81\\x83\\xa3\\xa5\\xff\\xd2XB=-NT\\xbb\\xf0\\xfc\\xcc[\";\\xf1q\\xd9\\x18[\\x19zr\\'\\xbd\\x80eIa\\x8b8\\xd3\\x11B\\x81\\x1d\\x03z\\xf5\\xe4f\\xe6\\r\\xa0\\xcb\\x9e\\xf5_\\xe4\\xddi\\x1dP\\xbaV\\x9e\\xf6\\xf1J\\x95\\x02@\\xba6B<p\\xa3\\x1fy\\xbb\\xdf!\\x02\\xf2B\\x8c\\xf9\\x05\\xc7U\\x10\\xcf\\n%io\\x9co\\x84\\xd0\\xf1\\x1b\\xa2\\xdd\\x86O0\\xc4`Jh\\xaa\\x97X,\\x8eb:i\\xc9!\\x83\\xf6n\\xaf\\xd2\\xba!\\x1f;~m\\xe9P\\xc3\\xa0bb\\x9d/\\x14m\\x9c\\xb1G\\x98\\x13\\xd8\\xdc=\\xa8RX\\xb95&\\xca3\\xb4\\xbe\\x8e\\x9c\\x855\\xfd\\xad\\x071\\xe6\\t\\x90^n\\x10\\xdc\\xe4Z\\x9f\\xeb\\xb3\\x00F\\xa3\\xb4\\x1d_\\xa7\\xc0\\xd1|\\'\\xffG\\x15\\x8a\\xd8\\xa1BF47G\\x04:\\x8c\\x18&\\xaa\\x81\\xb5\\xa4@!>\\xdf\\x9a@\\xb0c\\xda\\x80\\x9a\\x01!@\\xab\\xf33d\\xea\\x91,\\x0cH\\xa9\\xbcp\\x91\\\\#,\\xe5j\\xb0l\\x1c\\xebL\\xbdK1\\x95B\\xd8\\xe9Ua2U\\xd3\\x1c\\'@e^\\x93S\\x9d\\x05/H\\x17\\x0e\\x11\\x03\\xfe\\xa7`\\xca\\xa55pv_\\xbc\\xd2\\xfbfG\\xa3\\x82T\\x08\\x0e\\x12\\xe0I\\x98\\x01:\\xcbco$\\xdb\\x80\\x81\\n\\xc1\\xd547\\x16\\xb0\\x97\\x0c\\xeaJ\\xd9:\\xb0{\\xd9H\\xc1q\\x0c#\\x0f\\xd4\\xe9\\xcf1(\\xdc\\t\\xa1\\xdf\\xd6e\\x80\\xc2\\xbc>\\x99\\xc6\\x81\\xa1yR5\\xf5\\xed\\x17A\\xb6\\x86A\\xd1d\\'ag\\xd4\\xe1@~o|*\\xc1}\\xb1\\xf9|\\x91w\\x07~@)B|WU\\x1c|\\xa2\\x0b\\x02Q3~\\x0e\\xf0\\x12BC\\x12\\xf6\\xee\\xec\\xdc\\x9e\\t\\x17\\xc4G\\xb5c\\ns\\xe1\\xca\\xd2\\xd0\\x10\\x93\\xa3)\\xa5P\\xf8K8!\\x12\\xe6\\x90|lJ\\xeez\\x12\\x109\\xf2jC|(\\x1c{\\xec_\\x95=\\xd1z\\xdf;\\x10\\xd1tX~\\x0e*\\x83?$\\x0f|S\\x95\\x82_\\xf8~\\xdaI~a\\x1d\\xfcQ`\\x86b\\xa8 A\\x84\\xb5\\xa9\\xf6\\xe0\\xbf\\x1f\\x03Y\\xfb\\xef\\xd6\\x9d\\xc92\\xdc\\xbb]\\xdc\\xa6|\\xa2\\xe7\\xc6\\xab\\x03\\xd6\\x8eC[D\\xc1)\\xad\\xdb\\xccE\\x03\\x00#N\\xaf\\xbd\\x0e\\xb6*\\x95\\x17\\x82\\x81ha\\xd8\\xc0\\xc4\\x90\\x861u\\xd2\\x89\\xbb(i@\\xc5\\x06\\x8c\\x85C\\xcc\\xb9WV\\x92\\xff|6\\xc5A W\\x92\\xd4<32\\xee\\xa4\\xdd\\xfbe\\x85\\x1cd\\x05\\x9b\\xd8\\x05\\x98\\xf7\\x14\\xc7\\x8d\\xe6\\xe5\\xb5\\xa1}\\xe6\\xa0Zb5x\\x1a!\\x08\\x061\\x14|E;\\xf1;d \\xd9h\\xd9\\x92\"\\x00\\xb1\\t0.U>\\xe3\\xa0\\xf4l0\\x9b}\\xed\\x8d\\xc1\\xe1G\\x0bm\\xe8)\\x10\\xafc,}\\xabO8@\\x86\\xe2\\xcdoi\\r\\x9b\\xa0\\x99\\xa8\\xbb\\xc6\\xd2\\xef\\x0c\\x93\\xf2 w\\x80\\x04\\x18\\xc9\\x02\\x1e\\xe2\\rd\\xe2\\x16\\x91\\x96t\\x9c\\xbb\\xe8\\xe4l\\x01^\\xe4\\xddJ\\xb4?f\\xa5\\x18\\x93\\t\\x00~\\x83H\\xa1\\xa4\\x1e\\\\;\\x0b+\\xcb\\x94V\\x87\\xf1(E\\x04\\x04o\\xc1\\xfa\\xf3a\\x00I\\xe5\\x11\\t\\x92\\xbfh\\xbc\\xcb\\x02\\x89\\xbb\\x80\\xacf\\x1e\\'99\\x07b\\x97\\x10\\x06\\xf0\\xfd\\x91\\x97\\x07\\xc0\\x9bC\\xd2\\xb5)\\xd0I\\xf2\\xb7\\x93\\xc2TBpu\\xab\\x00\\x81\\xc8w\\xdd \\xf0&\\xdf\\x97\\x84\\x88\\x14i,+\\xe5\\x1f\\x01\\xa18\\x98\\x08\\xa5$\\xde68\\xe5o6\\xb4\\x8b;\\xa8\\xb6\\n\\x99\\xa1\\xd3\\xb1p?8\"\\xea\\xa6\\xa0\\x8dv\\xec\\xc1\\xe1\\x81\\xd3#\\x9d#\\xf0\\x89\\x8f\\xc0|\\x1c\\x82\\xe9\\x12G`P~13\\xb2\\xd2\\xd6y\\x89\\x15\\x9c\\xba\\xd3.TGf\\xd1\\x91\\xe6y6o\\xc8\\xdb\\x97\\r)\\xad\\xc3\\x1e>V \\x04\\xaa\\xbcvL\\x01&g\\xf0\\x82\\xda\\x13\\xe2{\\x91w\\x03\\x1bP\\xda\\xc4M\\xdahN\\x10\\xac#\\x8b+5<\\x98\\xec\\x19\\xc1\\x80\\x90\\xd74\\x16R\\x9a\\xdf\\xfb\\xe0\\x01\\x0cx\\xdaM\\x01\\xa2\\x91N\\xebD\\xabP\\x9b\\x03\\xf3JSUI\\xfa\\xd7\\x01Y7\\n\\x85V\\xaeVd\\x01WX,\\xc6\\x05\\xab\\xb07\\xa9+\\xd8\\x1a#\\xc5%\\xa0\\xe8\\xf0\\\\h\\xc5\\x19\\xe0\\xdc\\x1cj\\xb6\\x89[\\x05\\x93\\xcb\\t\\xa6\\xe4\\x1c\\x11\\x1d\\x05\\x00\\xf70v\\x82+\\xdd\\xc0>\\x97\\x02\\xd0\\xb9UEM\\x0en\\t\\xfa\\x9b\\xcf\\xd4\\x1c9W\\xfd\\xe88z{m\\xe8\\xe2\\xf7!\\xb5\\x04N\\x0f\\x14\\x12\\xef\\xc8\\n)$8\\x1bZ\\xc5$\\xf7H\\x96\\x08~~\\xe2\\xb5\\x84\\x1d\\x13\\xd0\\xe8B\\xa2\\xe3\\xced\\xce\\x0b\\xf2\\xa8.\\xb8\\xdb\\xaf\\x88,@\\xd3\\x13\\xa27\\xf6\\x7f\\xc0.\\x91=\\xc8\\x11\\xe4\\xa0\\xa5/\\xbf\\xcfMub?\\xb6r\\x01\\x18\\x8f6\\xd5\\xcd\\x13\\xc0p \\xf1\\x1a\\xb9\\xd5\\\\\\x88F\\x17\\xc0\\t\\x8dbL\\x00\\xd0.A\\xf6\\xaf\\xae\\xd2\\xa5\\x90\\xfb\\x07\\x06\\xafkv\\x80\\xba@\\x9a\\x93\\xe5IL\\xb95|\\x02;qg\\x1ed\\x95\\xb5\\x02^\\xa3\\x1fv\\xd2.B\\x17\\x15\\xc6^\\xb0\\x0e \\x0fX:\\xce\\xb2Ai\\x17\\x14\\x89\\nk,]-\\x92\\x0e8\\xccH\\x93\\xd0N\\x85~\\x94_X\\x05Y\\xe9\\x92\\xa0\\x95R/@\\xdfR\\xea\\x16\\x10\\xa9k\\xb8\\xcc\\xc5\\x80\\xda\\xa6\\x08\\x950\\x8b@{tp\\xc06\\xef4g\\x02?\\x17\\xc81\\n\\xb5\\x05\\xb7\\xd8\\x1f\\xd2y\\x8f\\xe9T>\\x94g\\x94\\xf8\\xd0!\\x9e\\xc2\\xe7+\\x9b3u\\x8a\\x80\\xb5\\x84\\t\\xe4c\\xd3\\xc9\\xbbm3\\xa0t\\x0f\\xc3\\'$\\x1d\\xa2\\xd81\\xd2\\xfc\\x8a\\xfc)\\x81\\xed)*\\x80|(\\x85\\xfev\\xf2\\xf6\\xfdCJp\\xd7G\\xc7%\\x07I\\xe9\\x0c\\xc3\\xa9\\xb9G\\xe4\\xca1Wd;\\xd8\\x98l\\xbd\\x82<%\\x84rg\\x90\\x1ddz\\x08\\x95-Ri\\x8aJ\\x11a\\xf4gv\\nV\\x10\\x0c\\x08\\x9f\\xd33\\x0e\\'\\xe1\\xba1\\xa0!x\\x97\\xfeC.\\xe2\\xee\\xec\\xc8*\\x0f`\\xdb\\x1d6\\x0e\\xad\\xac~4\\x82\\x9fY\\xa1H\\x04\\x99-Vw\\x05\\x98,\\x06\\xa7\\n5\\x11\\xc8UJf5\\x152w\\x08cJX\\\\\\x86|^\\x9d\\xf71m\\xd4\\x7f\\xd0\\x04~\\xcf\\x91\\xed\\x9b\\x16\\ny\\x08\\xa6\\xb7`\\xbe\\x98\\xa5\\x99\\x82\\xcb6\\x0c1\\xc6\\xe0U\\x91\\x87\\xa6)\\x8d\\xd5+|\\x10f\\xc8\\xa0r\\x8a\\x1f\\x90\\xdd\\t\\xac\\x12\\xd0K\\x1d\\xeb\\xe5\\xfa\\xcf^\\xeaT\\xaa\\x94J\\xf2\\x00\\x97/\\x0c\\x1d\\x05\\x11\\xccKO`\\x86 \\xee0e\\xf7\\xf7\\xfe{\\x00\\x93\\x8e\\x02\\xb6\\x808-\\x1c\\x93\\xd4[\\xefJ\\xc3l\\x06\\xb8\\xbb\\x93\\x06yG3\\xb4C$*\\n\\xbb}(5\\xdf7\\x16H\\x8f\\xf6 \\x96@X\\xf3y\\x01j\\x94v`\\'\\xed\\xa0\\x8b\\xa8\\x90\\x94\\xb9\\x16\\xac\\x00d\\x9a\\xc6p\\xaf\\n\\xaf\\xd9hb_EpM\\xa3[\\xa0\\x97\\xb0f\\xfd\\xfe\\xcf\\x91\\x94\\xd85L<\\xdc\\xc2L\\xa3\\x98\\x817\\xd7*<\\xa2\\xd8\\x84X\\xc8\\x89T\\xd1\\x96 A+X\\x93D\\xa1\\x8f\\xa8\\xe9\\x14\\x1c\\xfc\\xa5\\xe1\\xe2\\xe2\\x07\\xd4\\xc0/\\xee9L\\x8dEf\\xcchD)<6\\x0f\\xf0\\xb5\\xe1\\xe2b\\x07\\xd4nu\\x06\\x18\\xc0V#\\xcay\\x00Q\\x8a\\xcc3;\\x87\\x15\\x92\\x14|\\xf6:i\\xdb\\x81a\\x05&a\\xa3\\xae\\xab^\\x7f\\xc6\\n\\xcb\\xc6e\\x1c8t\\xd2X\\xd4\\xa2\\x8a\\x91\\xac\\x12k\\xb5\\x84\\xe4\\xe8E|\\xf9\\xe9\\x80\\xd2\\xadj~\\x0b(-\\xe9\\xef\\xb0\\x17y\\xdb\\xdf!\\xa5/ \\x12\\x11\\xaf\\x92\\x15\\xd0\\xee\\xa9\\xa9\\xbar\\xbc\\x11\\xd8C\\xceS^\\xb7\\x1a]\\xad\\xec[\\x1a\\x97\\xba\\xd9\\xb7T\\xda\\xaaXYa\\x1b|}f\\x8f\\x8b\\x99\\x10\\xca0\\xe1\\xcbQ:\\xc0\\x9cp4F\\xc0t\\\\\\xd9\\xe0\\xec\\x01\\xd42\\x1d\\xf0\\xcf\\xadX\\xa8?\\xda\\x80\\xcf\\x0e\\x14ncu\\xac$\\xbf9\\x95(Wa$\\x1b\\x13\\xc2\\xecR\\xa2T=\\xb2\\x9bn\\xe5\\xa5P\\x0c0A\\x99\\x9d\\xa3\\xf8rbvH7\\x90\\xb5Y\\xa2\\x9c\\xf0\\xa8k\\x06u\\x97\\x06\\x81\\xe2I\\x90~\\xe1p9<q\\xdd\\xd8*<yE~v\\x82Z\\x1f\\x8a\\\\#\\x0c\\x85K%\\x03\\x04?k1\\x1e\\x8aRoaS\\x11kr\\x03z\\x07c$\\xb0\\x02p\\x9f\\x06\\x99\\x0b\\xa6\\x0b@.P\\x1f\\xefc\\xbd\\xe9^\\x9d6\\x05,\\xee\\x08\\xe5+\\x9c\\xb2zQ\\x89u\\x93\\xcd\\xdb*@|U.\\xab\\xac\\x11\\x9b\\x1aN!\\x82g\\x10\\x12\\xd6\\xba*c\\xf5;\\xf3\\x93\\xf1\\xa4zS\\x11\\xc2\\x9b\\x04\\xf3\\xcck>\\xc3pjA>EyA`\\x8e,\\x8aa\\xa2\\x18\\xc5\\xb7I%r_\\x98g\\xa4\\xa7\\x858\\xed\\xb4\\x93\\xd28\\xd7\\x1eT\\x8d\\xc0\\xe2D\\xf9\\xae\\xe0\\xd7N\\xb0#\\x85\\xc2\\xf7\\x95+\\x83\\xb5\\xb4\\x8e\\x17qg\\x99e\\x15d^N(Y`\\xa8\\xb2p\\x00\\xe9R\\x0e\\x07\\xa0\\xe1\\x84\\x8a\\xc8\\xfe\\xc87\\xc1\\x07\\xa4\\x0f\\xfb\\xe2\\x98\\xad\\xcc\\n\\x89\\xdaGA\\xcd\\x91\\xd4\\x13TT\\x8b\\x8c-\\x82\\\\!\\xbf1i\\xc5\\xece\\'\\xceV\\xdc\\x97XW2\\xfa\\xe2\\xdf\\xf5\\xfb\\xb8PH\\xd3\\xf1\\xec\\xa1`^\\xb0\\x0c\\x88j\\x80q\\xb1Ci\\xe9\\x8dP\\x97;W;!\\xca\\x06k\\x04\\x10\\xc8D\\xe4\\x8b\\xbcCd\\x03J\\xeb\\x80\\x85\\x11\\xaa\\x17n\\x8d\\xe3 g\\x15\\x90)\\x91LS+\\xee6\\x86\\xac\\xb2\\x00g\\xe6J\\xd0\\x80\\x9c\\x03\\x8a-ga\\x8f\\'( \\x00\\xd1MN3F|B\\x85\\x93w*\\xc3\\x1e\\xe8\\xabo\\xdd\\x93A\\xee\\x89M\\x0e\\x02mk\\x1e\\x85\\x8c\\xca\\xccX+8\\x94\\x15\"~I\\x1e\\xf32\\x8dP\\xe9h\\x1dn\\xf90\\x08w(ZA\\x12r\\xb0\\xe1\\x82\\xd0\\x07\\xd4\\xee\\x91\\xd5\\x14\\x19 \\x14G>\\x0bA\\xe1*\\xd6\\x9a\\x01\\xea\\xf2\\xd1@\\x9d\\x18p\\xb4\\xe1$_\\xac\\tC\\xae\\x95\\xa1q\\xcb\\xc7`\\xc6\\x18z!Y\\x82\\x14\\x94\\x90\\xa8\\x88\\x99\\xfe#\\x92#\\xfd\\xd1\\xc6\\xfc1\\n>\\xfa\\xe2\\x15\\xa8\\\\a\\xe6a\"RQ\\x0c\\xa0\\xce\\xfd_\\xab\\x93\\x9c\\xa0\\xbb\\x14\\x17\\xfd\\xf0\\xc0V\\xb6(\\x04o9W\\xad\\xf8rzD\\x95\\rJ*\\x9cD\\x08\\xc6\\xf8\\xce\\n\\x04\\xef\\x0cX\\x1d\\xd7\\x02\\xd8\\x03\\xa38\\x85\\x9c\\xc2m\\x14.@?\\x8d\\xda\\xbf\\x11\\xf2\\x8c\\xcd\\xf7\\xd1\\x19\\x0e7\\xc7\\xf7\\xbd\\xf5\\xf3\\x99\\xb2o\\xfcz\\xed\\xcer\\xeb\\xf7\\'\\xa1\\xd4\\x0e\\x0e\\x15\\xa6\\x8c66|#\\xe1\\xa7k\\xa3\\n^\\xfe\\x8d*\\x8eB\\x02\\n\\x13\\x00\\xdcB\\xa3G,\\x82\\xff\\xd8\\x9e\\xc4\\xa4=\\x12\\xa5\\n\\xcc\\x8b\\x06A,#\\xde\\x17\\xa5oH\\xee\\x1b+\\xebLc&_\\xa2\\xf369\\xec\\x8f\\xc0\\xc2ZU\\xe6L\\x02\\xa3\\xd8\\x0e\\x94<;|\\xd5\\xc0\\x9e\\xa0\\xcaf\\xa0\\x87I\\xde*$\\xc7F\\xee\\x1d\\x8a\\xf15\\xbb\\xd9;\\x83\\xb42\\x97\\x8b%\\xb0t\\xec\\x1c5\\xb2\\x8b\\x02\\x8f\\x84kO\\xb2a@\\xd1\\x8eP\\t\\x91!\\xe5H\\x93qs\\x02\\xe9D\\xd6\\xef[\\x95\\xab3\\xae\\x18\\x91I\\xd7\\x924Q\\xa0\\xfd\\x05\\xedM\\xdc\\x0f\\xf4\\x0c\\xdc\\x0e\\x83\\x13\\xa4\\xfe\\xad\\x90\\xf11%\\x87\\x13\\xa85\\xd8\\x1b!\\xd9\\\\\\xa3r\\x1f0\\x95\\x12\\x08\\xc0#\\xbe\\x00[I&\\xcb !\\xc0\\x14\\xea\\x06\\x97\\x93T&$\\xd9\\xc0\\x1a\\x0b\\xf2\\xa8\\x0e F\\x9b\\xc4D\\x92Y\\xc8\\xff\"\\xdd.\\xa4\\xf6\\x13\\xa8Kr\\xb8x!\\x9f\\x18\\xb0\\x18\\x9e\\xe5\\xb8\\xca\\x05\\xc7E^\\x14\\'0V\\xe1Q\\xc8\\xf3\\x1dQ\\xdc3<`\\xff\\x07\\xc8\\x89\\xd7H\\xcd\\xf5\\xc5\\x0fz\\x07D\\x8b\\x92V6f\\x19naz\\xa1\\x80b\\x82\\xea`\\xb08d\\xb4q\\xf6\\xe3-\\x95\\xbe\\x1cUHB\\x95[\\x82B+A\\x0c\\\\\\\\\\xec8\\xb7t\\xf3\\x84\\xbc\\x95X\\xcb\\x85\\xe4$G\\xb2\\xe3V\\xda9nQak\\x90\\x96\\xf6\\xb4\\xbc\\xf3\\xe0\\xf7\\x82x\\xeaP\\x8b\\x05\\n\\x88\\x7f\\xb0m\\xda`\\xb7?d\\xd8M\\xd4\\x038\\xce\\xb0&\\x1ap\\\\l\\xd9\"!HS\\x97\\xa83g\\xe5\\xf4Y\\xed\\x85\\xcb\\x8aHf\\xef\\xa5H\\x03.\\x1c\\xe9\\x0bF\\xbf\\xb8;\\x052\\x9bCRd\\xf7\\x90!\\x95Z\\x12d\\x81\\xc5\\x86i\\xbc\\xa4h\\x85[\\x95\\x88\\xfd*\\xe4\\x8e\\xd9\\xbelPXX09\\xd8\\xda\\x06\\x94\\x9d\\n\\xbcn\\x95\\x06D\\x19t\\x1ea\\x18\\x04\\xf4\\xb5\\xf4\\x0eP\\x95/\\x1eB\\x8e\\x06\\xe9\\x17\\xa8\\xc0FQ \\x9f\\x02\\xc8Q\\xea\\x8c<\\xa5\\x8d\\xd50\\xb8\\x93\\xbc\\x1f\\xad\\x85;\\r\\xbf\\xab=h+j\\xa0\\x141f/\\xb8\\x10\\xed\\xacwB\\\\1\\xf5H\\xdbK\\xa5\\x18(3\\xce\\xd8q\\xa4(\\x8b\\x13\\xd2\\x9ap\\xa5\\xb8\\x05H\\xdb\\xeaW\\xe4W9\\xdd;u\\x070\\x97&\\xe3>nq\\xfb\\xd7\\x05\\x86\\x07\\x00\\xec\\x18\\x14\\xf0\\x0c\\'Y\\x10\\xffp \\x0f\\x0f\\x99k\\x91LG\\x8d\\x9ct\\xa10fJ`j\\xc8f!\\x0c\\xa1W>`\\xc1\\x852\\xfa5rQ\\xa9`\"\\xa6\\x03\\xf2yd,x@Q,VOw\\xfa\\xe0\\n\\xa4\\xf4\\x0f\\xca\\x9e\\x85\\xcaC\\xb1\\x18\\xfaV\\xe3\\xee\\x7f\\x8a<(\\xb9\\xe2\\xb6\\x80\\x8f\\x8f\\x10\\xce\\xbb\\xe0D\\xee\\xb0Y\\xe1_\\xd9\\xff_\\x1a8\\x8d\\xd45\\x84\\'\\xea\\xff\\xb5\\x06\\xab/\\x05\\xf6\\xea\\\\\\xed\\x84+\\x907\\'\\'@\\xc8e\\xdc#\\xbbx\\xf5\\xbb?\\xb0\\x9b*\\x85eB\\xd6\\x82\\xd6w\\x06\\xc2D\\xd8\\x86c\\xd4\\x8bE9M\\xd1,z\\x06a\\xff|\\xc1\\xb2\\x804gs2.pm\\x14\\xdd\\xa5M\\x14/G\\x182\\xb9\\x88;`B\\xeb\\xc0\\xfa3pG\\xa0\\xf6\\xb8\\xea\\xa1m\\x88[\\x86L\\xd6\\x12sJoX\\x02\\xe1\\x10Rj5\\xa5\\x86-2C\\'\\xa2ooP\\x02v\\x8c\\xae\\x9c&\\xbak\\x10r\\x127E\\xd6\\xf0\\xc5\\xc2\\x89\\xc6W*\\x04\\xf9\\xca\\x80\\x93\\xe6\\xcc\\xc4*\\xe6\\x7fx\\x8e\\xc1\\xae\\xe0\\x83\\x08E`\\xa00~b\\x82t\\xe6\\xd5\\x93\\xa0\\xbaPO8\\xeb\\xb4\\xe0\\xb8\\x10\\x06hI3\\x80\\xd2\\xa8x\\xc3\\xa3?\\xfe\\xa9Gz\\x02\\x17\\n\\x08*\\xc5t\\xd1\\x89\\x93\\x88\\xe34\\x8di$\\xa1\\x08\\x18\\xc5\\xd7\\x86\\r\\xe7\\xdah{\\xe0\\xdeD1\\x10\\x1d_a\\xf4\\x01U\\xb2B\\x9a\\n\\xb7\\xae\\x84K\\xcb\\x90\\xa2\\xd6\\x9a\\x11\\xc6\\xd9\\x1a\\x01\\xe6Np\\x0c\\x84\\xdbI\\x13\\x87rjd\\xc1x\\x99n\\xd1\\x80\\xd7\\x12ZlIy.\\xd8\\xc2=\\xf4B\\tu\\x98\\xd1\\x0fK7\\xb2b\\xb0\\x0c&\\x82\\x8d\\x1a\\xe0\\xab\\x10u\\x08\\x86\\xfa\\xe1\\xac\\x911\\x16\\xf8\\xcb\\x06\\xd5F\\xd24\\xc6\\x1aM-\\xf8$T\\x8e\\x80\\x14\\xc3>\\xa0\\xfd\\x01 ZH\\xf7SbR\\xe5(4\\xdc\\x81!|\\x16/\\xb4\\x00\\xbe\\xefC\\xf5\\x19UV\\xf8[\\xad\\x07\\x92;\\xb0\\nQm\\x0b\\xe6\\x19\\x97H\\x06\\x94rT\\x0b\\x83r\\xfd\\xc3\\x87\\xbd\\xe8\\xbd\\xf9\\xb4[]\\x01\\xd6q\\xd9\\xcf\\x83\\x06\\x03L4G\\x8c\\x81\\xe3\\xb1\\xfb\\x83q\\xbc\\xa8\\xbd\\xf9\\xe6e\\x83c\\xcdY\\xfdV\\x8a\\xf2\\xce\\xf4\\x88\\xcc\\xe0\\xb0\\x06\\xc0(fq@\\x03\\x90\\\\\\xbbo\\x88\\x1aq\\xe7f &_\\xb6:\\x18=\\x0e\\xd1\\xd0r\\xacQp\\x87s\\xa7\\xe2%\\x1dy-^46\\xc8\\xcc\\x86XH0@a\\xe0\\x836\\xd2\\xc7\\x0b\\x90a@f\\x83\\x1cA\\xbc/\\x05\\x96K\\xc8\\xa8C\\x1f\\xa9\\x7fT\\x97\\xf6w\\xeaL\\x83\\x08Ea\\x9fpZ\\xcd\\x13\\xe3-\\x14\\xae\\x979\\xd7~\\x82\\x82\\xc2\\xb6&\\x7f\\x0fq\\x86\\xee\\x08\\x97\\x90=B\\x05\\xa1\\x0e\\x10\\xb9\\n\\xab\\x0b6\\x06\\xf8\\xfaB\\x86\\x8f\\'p\\xc3\\x0c\\x86\\x06\\xd4\\xb6\\x80)\\xba\\x16\\x94\\x13\\xf1\\xdb\\xb7\\xf1\\xb3K\\x87\\x98\\x93 \\xf0\\x1fk\\xf9\\xb4\\xdf\\xf1\\xf7_\\x90Y=\\x97t\\xce\\xef@\\x95\\xa2\\xacT`\\x0c\\x80\\xb4\\xf9\\xce\\x0f\\xaa\\xd99\\xd0\\xc7\\xf5\\xa5\\xdd\\xff\\xfd\\xef\\xdf\\xff\\xd6\\xfeA\\xcb\\xd3n$\\x9eX\\x94te|\\x91\\x10%\\x8a{.\\x9a\\x99\\xc3U1\\x97\\x02:B\\xaa\\xda\\x838\\xd6\\x7fR?\\x02>r#\\x14\\xbaW\\xa5\\x10\\xc2\\xc6\\xaf_ w\\x98\\xaeQ\\xf3\\xd1\\x7f\\xd0K\\xdb\\x0c_\\xb5\\x12.\\x91 \\xe6\\xc3\\x87h\\xc8\\xb6\\xbb\\x00\\xbc\\xc7\\x81\\xe58\\xd6*\\xc4/\\xb0\\xe0\\xd8\\xef\\x07\\x8e\\xd0\\xabN\\x97\\xe7\\x94\\xcfY\\x12YM\\xe1*;\\x8a*\\xf1\\xb9\\xadX\\xf9O;\\xe5\\x1ccZ\\xca\\xea\\xe2\\xf6\\x89\\x97\\xbe\\x91\\xf2\\xd9\\x1e9\\xaf\\x8b\\xf9A\\xd8D\\x9el\\x02\\xeb\\x83\\n%:\\x91\\x08]b\\xc4\\'\\x84\\x05G\\xe4\\xa9)\\x99\\x1e\\xaf\\x8f\\x82\\x81\\xa5\\xe7\\xa0\\xba&\\xa6\\x83\\xf8X\\xa0\\xe1\\x1cg\\x81:\\xb4\\x00A\\xea\\xc4:\\xfe\\xb6\\x058\\x9932\\x8dTR\\xd4\\xdeJ\\xa8\\x11\\x16\\xf7\\xc76>\\xe1f4\\x87|\\xa0\\x06\\x05\\xa8\\x964\\xc5\\xa3\\x90*X\\xa8s\\x11\\xb0\\xa5i\\xf3\\x80\\x91\\x80U!\\x17\\x8d\\xe9\\x94\\n\\x13QC\\xcd\\xc10np\\xa1|\\xaf\\xff\\x889.\\xf6q\\xaf\\x97\\xb8(y$.8^\\x9f\\xa9Q\\xf3\\xd8\\x7f\\xc6\\xd6\\xe3\\xa6\\xb5\\x15\\x90\\xcb\\x06\\xcaG\\xb5sn\\x8c\\x14\\x13\\xe8\\xc4Q\\x82\\xcct\\xff\\xd7\\xafJ\\tNS\\xf1\\xb6\\n@\\xcc\\x1f>%\\x80\\x15\\x16\\x9f2\\x07\\x15\\x99\\x81i\\xaa\\xdf\\xea\\xcd\\xab\\xd2po^U\\x86{\\xf3\\xfbS\\x06{3\\xd1>\\x93>\\x132F\\xf0\\x172\\x8az\\xbe:\\x94r\\x90\\xe7\\x83\\x143K\\xa6\\xfb\\x17\\xc8p\\x13\\xad?\\xd3\\xbf\\xe2+*\\xf8.R_\\xfc\\xd0\\xe0j\\xdf^\\xff\\xd7\\x87\\x7f\\x1d(\\xcb\\x01\\x1aK\\xd91\"7\\x12\\xc5-\\x9dx\\xf9{\\xff\\xc9\\xb8S\\\\\\xaa\\xf6\\x8f\\x11\\xc8B|3B\\xba+\\xfa\\xaa\\xf2\\xdd\\xee\\xa4OT\\xb5\\x00\\xd5\\n\\xb8\\xb2\\xfd\\xe2\\x14\\x80\\xe2\\xbfG\\x1b\\xfd\\x1f\\xfdw\\xbf\\xb6vV\\xfa\\x1f\\xda\\xdf\\xe3\\x0b\\x85\\x9f\\xfe_\\x00\\x00\\x00\\x00\\xff\\xff\\x03\\x00PK\\x03\\x04\\x14\\x00\\x06\\x00\\x08\\x00\\x00\\x00!\\x00\\x8b\\x82nX\\x93\\x06\\x00\\x00\\x8e\\x1a\\x00\\x00\\x13\\x00\\x00\\x00xl/theme/theme1.xml\\xecY\\xcf\\x8b\\x1b7\\x14\\xbe\\x17\\xfa?\\x0csw\\xfckfl/\\xf1\\x06{lg\\xdb\\xec&!\\xeb\\xa4\\xe4\\xa8\\xb5e\\x8f\\xb2\\x9a\\x91\\x19\\xc9\\xbb1!P\\x92c\\xa1P\\x9a\\x96^\\n\\xbd\\xf5P\\xda\\x06\\x12\\xe8%\\xfdk\\xb6MiS\\xc8\\xbf\\xd0\\'\\xcd\\xd8#\\xad\\xe5n\\x9an -Y\\xc32\\xa3\\xf9\\xf4\\xf4\\xe9\\xbd7\\xdf\\x934\\x17/\\xdd\\x8d\\xa9s\\x84SNX\\xd2v\\xab\\x17*\\xae\\x83\\x93\\x11\\x1b\\x93d\\xdavo\\x0e\\x07\\xa5\\xa6\\xebp\\x81\\x921\\xa2,\\xc1mw\\x81\\xb9{i\\xfb\\xfd\\xf7.\\xa2-\\x11\\xe1\\x18;\\xd0?\\xe1[\\xa8\\xedFB\\xcc\\xb6\\xcae>\\x82f\\xc4/\\xb0\\x19N\\xe0\\xd9\\x84\\xa51\\x12p\\x9bN\\xcb\\xe3\\x14\\x1d\\x83\\xdd\\x98\\x96k\\x95JP\\x8e\\x11I\\\\\\'A1\\x98\\xbd6\\x99\\x90\\x11v\\x86\\xd2\\xa4\\xbb\\xbd4\\xde\\xa7p\\x9b\\x08.\\x1bF4\\xdd\\x97\\xa6\\xb1\\xd1Ca\\xc7\\x87U\\x89\\xe0\\x0b\\x1e\\xd2\\xd49B\\xb4\\xed\\xc28cv<\\xc4w\\x85\\xebP\\xc4\\x05<h\\xbb\\x15\\xf5\\xe7\\x96\\xb7/\\x96\\xd1V\\xde\\x89\\x8a\\r}\\xb5~\\x03\\xf5\\x97\\xf7\\xcb;\\x8c\\x0fkj\\xcctz\\xb0\\x1a\\xd4\\xf3|/\\xe8\\xac\\xec+\\x00\\x15\\xeb\\xb8~\\xa3\\x1f\\xf4\\x83\\x95=\\x05@\\xa3\\x11\\xcc4\\xe3\\xa2\\xdb\\xf4\\xbb\\xadn\\xcf\\xcf\\xb1\\x1a(\\xbb\\xb4\\xd8\\xee5z\\xf5\\xaa\\x81\\xd7\\xec\\xd7\\xd78w|\\xf93\\xf0\\n\\x94\\xd9\\xf7\\xd6\\xf0\\x83A\\x08^4\\xf0\\n\\x94\\xe1}\\x8bO\\x1a\\xb5\\xd03\\xf0\\n\\x94\\xe1\\x835|\\xa3\\xd2\\xe9y\\r\\x03\\xaf@\\x11%\\xc9\\xe1\\x1a\\xba\\xe2\\x07\\xf5p9\\xdb\\x15d\\xc2\\xe8\\x8e\\x15\\xde\\xf2\\xbdA\\xa3\\x96\\x1b/P\\x90\\r\\xab\\xec\\x92CLX\"6\\xe5Z\\x8c\\xee\\xb0t\\x00\\x00\\t\\xa4H\\x90\\xc4\\x11\\x8b\\x19\\x9e\\xa0\\x11dq\\x88(9H\\x89\\xb3K\\xa6\\x11$\\xde\\x0c%\\x8cCs\\xa5V\\x19T\\xea\\xf0_\\xfe<u\\xa5<\\x82\\xb60\\xd2zK^\\xc0\\x84\\xaf5I>\\x0e\\x1f\\xa5d&\\xda\\xee\\x87`\\xd5\\xd5 /\\x9f}\\xff\\xf2\\xd9\\x13\\xe7\\xe5\\xb3\\xc7\\'\\x0f\\x9e\\x9e<\\xf8\\xe9\\xe4\\xe1\\xc3\\x93\\x07?f\\xb6\\x8c\\x8e;(\\x99\\xea\\x1d_|\\xfb\\xd9\\x9f_\\x7f\\xec\\xfc\\xf1\\xe4\\x9b\\x17\\x8f\\xbe\\xb0\\xe3\\xb9\\x8e\\xff\\xf5\\x87O~\\xf9\\xf9s;\\x10&[x\\xe1\\xf9\\x97\\x8f\\x7f{\\xfa\\xf8\\xf9W\\x9f\\xfe\\xfe\\xdd#\\x0b\\xbc\\x93\\xa2\\x03\\x1d>$1\\xe6\\xceU|\\xec\\xdc`1\\xccMy\\xc1d\\x8e\\x0f\\xd2\\x7f\\xd6c\\x18!b\\xf4@\\x11\\xd8\\xb6\\x98\\xee\\x8b\\xc8\\x00^] j\\xc3u\\xb1\\xe9\\xbc[)\\x08\\x8c\\rxy~\\xc7\\xe0\\xba\\x1f\\xa5sA,#_\\x89b\\x03\\xb8\\xc7\\x18\\xed\\xb2\\xd4\\xea\\x80+r,\\xcd\\xc3\\xc3y2\\xb5\\x0f\\x9e\\xceu\\xdc\\r\\x84\\x8elc\\x87(1B\\xdb\\x9f\\xcf@Y\\x89\\xcdd\\x18a\\x83\\xe6u\\x8a\\x12\\x81\\xa68\\xc1\\xc2\\x91\\xcf\\xd8!\\xc6\\x96\\xd9\\xdd&\\xc4\\xf0\\xeb\\x1e\\x19\\xa5\\x8c\\xb3\\x89pn\\x13\\xa7\\x8b\\x88\\xd5%Cr`$R\\xd1i\\x87\\xc4\\x10\\x97\\x85\\x8d \\x84\\xda\\xf0\\xcd\\xde-\\xa7\\xcb\\xa8m\\xd6=|d\"\\xe1\\x85@\\xd4B~\\x88\\xa9\\xe1\\xc6\\xcbh.Pl39D1\\xd5\\x1d\\xbe\\x8bDd#\\xb9\\xbfHG:\\xae\\xcf\\x05Dz\\x8a)s\\xfac\\xcc\\xb9\\xad\\xcf\\xb5\\x14\\xe6\\xab\\x05\\xfd\\n\\x88\\x8b=\\xec{t\\x11\\x9b\\xc8T\\x90C\\x9b\\xcd]\\xc4\\x98\\x8e\\xec\\xb1\\xc30B\\xf1\\xcc\\xca\\x99$\\x91\\x8e\\xfd\\x80\\x1fB\\x8a\"\\xe7:\\x136\\xf8\\x1e3\\xdf\\x10y\\x0fq@\\xc9\\xc6p\\xdf\"\\xd8\\x08\\xf7\\xd9Bp\\x13tU\\xa7T$\\x88|2O-\\xb1\\xbc\\x8c\\x99\\xf9>.\\xe8\\x04a\\xa52 \\xfb\\x86\\x9a\\xc7$9S\\xdaO\\x89\\xba\\xffN\\xd4\\xb3\\xaatZ\\xd4;)\\xb1\\xbeZ;\\xa7\\xa4|\\x13\\xee?(\\xe0=4O\\xaecxg\\xd6\\x0b\\xd8;\\xfd~\\xa7\\xdf\\xee\\xff^\\xbf7\\xbd\\xcb\\xe7\\xaf\\xda\\x85P\\x83\\x86\\x17\\xabu\\xb5v\\x8f7.\\xdd\\'\\x84\\xd2}\\xb1\\xa0x\\x97\\xab\\xd5;\\x87\\xf24\\x1e@\\xa3\\xdaV\\xa8\\xbd\\xe5j+7\\x8b\\xe02\\xdf(\\x18\\xb8i\\x8aT\\x1f\\'e\\xe2#\"\\xa2\\xfd\\x08\\xcd`\\x89_U\\x1b\\xd1)\\xcfMO\\xb93c\\x1cV\\xfe\\xaaYm\\x89\\xf1)\\xdbj\\xff0\\x8f\\xf7\\xd88\\xdb\\xb1V\\xabrw\\x9a\\x89\\x07G\\xa2h\\xaf\\xf8\\xabv\\xd8m\\x88\\x0c\\x1d4\\x8a]\\xd8\\xca\\xbc\\xda\\xd7N\\xd5nyI@\\xf6\\xfd\\'$\\xb4\\xc1L\\x12u\\x0b\\x89\\xc6\\xb2\\x11\\xa2\\xf0w$\\xd4\\xcc\\xce\\x85E\\xcb\\xc2\\xa2)\\xcd/C\\xb5\\x8c\\xe2\\xca\\x15@m\\x15\\x15X?9\\xb0\\xeaj\\xbb\\xbe\\x97\\x9d\\x04\\xc0\\xa6\\nQ<\\x96q\\xca\\x0e\\x05\\x96\\xd1\\x95\\xc19\\xd7Hor&\\xd53\\x00\\x16\\x13\\xcb\\x0c(\"\\xdd\\x92\\\\7NO\\xce.K\\xb5W\\x88\\xb4ABK7\\x93\\x84\\x96\\x86\\x11\\x1a\\xe3<;\\xf5\\xa3\\x93\\xf3\\x8cu\\xab\\x08\\xa9AO\\xbab\\xf96\\x144\\x1a\\xcd7\\x11k)\"\\xa7\\xb4\\x81&\\xbaR\\xd0\\xc49n\\xbbA\\xdd\\x87\\xd3\\xb1\\x11\\x9a\\xb5\\xdd\\t\\xec\\xfc\\xe12\\x9eA\\xeep\\xb9\\xeeEt\\n\\xc7g#\\x91f/\\xfc\\xeb(\\xcb,\\xe5\\xa2\\x87x\\x949\\\\\\x89N\\xa6\\x061\\x118u(\\x89\\xdb\\xae\\x9c\\xfe*\\x1bh\\xa24Dq\\xab\\xd6@\\x10\\xdeZr-\\x90\\x95\\xb7\\x8d\\x1c\\x04\\xdd\\x0c2\\x9eL\\xf0H\\xe8a\\xd7Z\\xa4\\xa7\\xb3[P\\xf8L+\\xacOU\\xf7\\xd7\\x07\\xcb\\x9el\\x0e\\xe1\\xde\\x8f\\xc6\\xc7\\xce\\x01\\x9d\\xa77\\x10\\xa4\\x98\\xdf\\xa8J\\x07\\x8e\\t\\x87\\x03\\xa0j\\xe6\\xcd1\\x81\\x13\\xcd\\x95\\x90\\x15\\xf9w\\xaa0\\xe5\\xb2\\xab\\x1f)\\xaa\\x1c\\xca\\xda\\x11\\x9dE(\\xaf(\\xba\\x98gp%\\xa2+:\\xean\\xe5\\x03\\xed.\\x9f38t\\xdd\\x85\\x07SY`\\xffu\\xd5=\\xbbTK\\xcfi\\xa2Y\\xd4LCUd\\xd5\\xb4\\x8b\\xe9\\x9b+\\xf2\\x1a\\xab\\xa2\\x88\\x1a\\xac2\\xe9V\\xdb\\x06^h]k\\xa9u\\x90\\xa8\\xd6*qF\\xd5}\\x85\\x82\\xa0Q+\\x063\\xa8I\\xc6\\xeb2,5;o5\\xa9\\x9d\\xe3\\x82@\\xf3D\\xb0\\xc1o\\xab\\x1aa\\xf5\\xc4\\xebV~\\xe8w:ke\\x81X\\xae+U\\xe2\\xabO\\x1f\\xfa\\xd7\\tvp\\x07\\xc4\\xa3\\x07\\xe7\\xc0s*\\xb8\\n%|{H\\x11,\\xfa\\xb2\\x93\\xe4L6\\xe0\\x15\\xb9+\\xf25\"\\\\9\\xf3\\x94\\xb4\\xdd{\\x15\\xbf\\xe3\\x855?,U\\x9a~\\xbf\\xe4\\xd5\\xbdJ\\xa9\\xe9w\\xea\\xa5\\x8e\\xef\\xd7\\xab}\\xbfZ\\xe9uk\\xf7\\xa1\\xb0\\x88(\\xae\\xfa\\xd9g\\x97\\x01\\x9cG\\xd1E\\xfe\\xf1E\\xb5\\xaf}\\x80\\x89\\x97Gn\\x17F,.3\\xf5\\x81\\xa5\\xac\\x88\\xab\\x0f0\\xd5\\xda\\xe6\\x0f0\\x0e\\x01\\xd1\\xb9\\x17\\xd4\\x06\\xadz\\xab\\x1b\\x94Z\\xf5\\xce\\xa0\\xe4\\xf5\\xba\\xcdR+\\x0c\\xba\\xa5^\\x106z\\x83^\\xe87[\\x83\\xfb\\xaes\\xa4\\xc0^\\xa7\\x1ezA\\xbfY\\n\\xaaaX\\xf2\\x82\\x8a\\xa4\\xdfl\\x95\\x1a^\\xad\\xd6\\xf1\\x1a\\x9df\\xdf\\xeb\\xdc\\xcf\\x9710\\xf3L>r_\\x80{\\x15\\xaf\\xed\\xbf\\x00\\x00\\x00\\xff\\xff\\x03\\x00PK\\x03\\x04\\x14\\x00\\x06\\x00\\x08\\x00\\x00\\x00!\\x00e\\xa3\\x1b\\x1eF\\x08\\x00\\x00\\xbb@\\x00\\x00\\r\\x00\\x00\\x00xl/styles.xml\\xcc\\\\\\xdbn\\xe36\\x10}/\\xd0\\x7f\\x10\\x04\\xf4\\xd1\\xab\\xbbm\\x05\\xb6\\x8b\\xd8\\x89\\xda\\x05\\xb6\\xe9\\x02\\x9b\\xa2}\\x95e\\xd9Q\\xa3\\x8b!\\xd1[\\xbbE\\xff\\xbdCJ\\x16\\x87\\xf1%\\xf4F1\\x8b`w-\\xc5<s83<$G\\xe2\\x8e~\\xdcf\\xa9\\xf65.\\xab\\xa4\\xc8\\xc7\\xba\\xf5\\xc1\\xd4\\xb58\\x8f\\x8aE\\x92\\xaf\\xc6\\xfao\\x8fAo\\xa8k\\x15\\t\\xf3E\\x98\\x16y<\\xd6wq\\xa5\\xff8\\xf9\\xfe\\xbbQEvi\\xfc\\xe5)\\x8e\\x89\\x06\\x10y5\\xd6\\x9f\\x08Y\\xdf\\x18F\\x15=\\xc5YX}(\\xd6q\\x0e\\xbfY\\x16e\\x16\\x12\\xb8,WF\\xb5.\\xe3pQ\\xd1FYj\\xd8\\xa6\\xd97\\xb20\\xc9\\xf5\\x1a\\xe1&\\x8bd@\\xb2\\xb0|\\xde\\xac{Q\\x91\\xadC\\x92\\xcc\\x934!;\\x86\\xa5kYt\\xf3q\\x95\\x17e8O\\x81\\xea\\xd6r\\xc3h\\x8f\\xcd.\\x0e\\xe0\\xb3$*\\x8b\\xaaX\\x92\\x0f\\x00g\\x14\\xcbe\\x12\\xc5\\x87,}\\xc37\\x00i2Z\\x169\\xa9\\xb4\\xa8\\xd8\\xe4\\x04|\\x05\\x9ea\\xa87\\xcfy\\xf1W\\x1e\\xd0\\xdf\\xc1\\xdd\\xe6k\\x93Q\\xf5\\xb7\\xf65L\\xe1\\x8e\\xa5\\x1b\\x93QT\\xa4E\\xa9\\x11p\\r0cw\\xf20\\x8b\\xebo\\xcc\\xc24\\x99\\x97\\t\\xfd\\xda2\\xcc\\x92tW\\xdf\\xb6\\xe9\\r\\xe6\\xcd\\xe6{Y\\x02}\\xa37\\rJ\\xa4\\xa6\\xa3\\xc0\\xce\\xf0\\xa0?\\x0e\\xbds\\xd0\\x1f\\xedS\\xb2z\"\\xaf\\xf7*\\xfc\\xf3H\\xaf\\xe6\\xb4\\xef{\\x0fz\\x92\\x16\\xbf\\xd1\\x83\\x82-\\xd6\\x17!Z\\xc7{\\xd7\\x85\\xad\\xc3\\xcc\\xe8\\xd4\\xd6\\xb1\\x0c,W\\xf3\\xb1\\x1e\\x040\\xf4,\\xd3<\\x1a\\xb6\\x0e\\xd3\\xb01\\xe6\\xcfL\\xb0w5c}\\xefj=s\\x02\\'\\x18t\\xda3!\\x17Q~4\\xae\\xa4\\x06\\x9d\\xa0KW\\xbeb0\\xb8\\x1d\\xdc]\\xcd\\x9d\\xdd\\x1b;\\xd5\\xbbF\\x88\\xaf5\\x02\\xe8\\x80\\xeb\\xd6\\x8b\\t\\xd6\\xc7\\xc3<\\x19\\x04\\xf4\\xe7\\x1ayr\\xe5)\\xad\\xa3\\x88\\xb1\\x19\\xb4\\x82)4I\\xd3vFw\\x1c:y\\xc3\\x9d\\xc9\\x08\\x96\\x16$.\\xf3\\x00.\\xb4\\xe6\\xf3\\xe3n\\rSw\\x0e\\xab \\xeaV\\xa3\\xfe\\xde+\\xdf^\\x95\\xe1\\xce\\xb2\\xd9\\xf4%\\xd7\\xa0*\\xd2dAY\\xacfl\\xc1\\xd0\\x0c\\xfbY\\xff>\\x98\\xdd3\\xbb\\x88\\x99,\\x8b\\x13\\xa0A0\\x1b\\xbc\\x03\\xe8\\xfd\\xd4\\x9fu\\xcft\\xe6\\xfb]\\x83\\xda\\x01\\xfct\\x0cz\\xeb\\xd1\\x9f\\xce\\xbb\\x0f\\xa1\\xea\\xcc\\xa7\\xcd\\x80u\\xbb\"\\xd9\\xe2i$\\xa1\\xebb\\xf3\\xc3\\xc0\\xf7\\xfd\\xa1\\xd5\\x1f\\x0e\\x87\\xbe\\xebX\\xae\\xcb\\x9c<o2:\\xc9\\x17\\xf16^\\x8c\\xf5~gn:d\\xe0\\x01\\x03\\xdf\\x19\\xfa}\\x1b\\x88\\x98\\xee\\x90\\x99\\xba*\\x03\\x07\\x08\\x0c<o\\xe8Y\\xbe\\xed\\xc2\\x1f&\\xd1\\xef\\xcf\\xa0k\\x9fz\\xba\\xea\\xa8\"\\x06\\x8a\\xa2\\x8a\\x18(\\x8a*[a\\x1a\\x1d(\\x7f3R\\xfa\\xca\\xa3\\x8a\\x18(\\x8a*b\\xa0(\\xaa\\x83\\x8e\\x15x\\xa0<\\xaa\\x88\\x81\\xa2\\xa8\"\\x06\\x8a\\xa2\\xca\\xaa#\\x1d\\x8eU\\xa82)\\x9eW\\x11\\x03EQE\\x0c\\x14E\\xb5\\xb3\\xc5g\\xa3\\xc0\\xbe\\xf2\\xa8\"\\x06\\x8a\\xa2\\x8a\\x18\\xbc9\\xaalw\\x05\\xfb\\xb9yQ.\\xa0\\x98\\xdd\\xd6hM\\xd8K\\xd5\\xf7&\\xa34^\\x12\\xd8\\xb9\\x95\\xb4*\\t\\xff\\x92b\\r\\x7f\\xcf\\x0bB\\xa0\\xf4;\\x19-\\x92pU\\xe4aJ\\xf7v\\xfb\\x16\\x12-\\xa18\\x0eu\\xf0\\xb1N\\x9e\\x92\\xe8\\x19\\x8c\\t\\x95\\xc3z\\x8d]\\x9bx/\\x0b\\xad:\\xb8t\\xd5\\xed\\x0e\\\\s\\xe0zv\\xbf\\xde\\xd8td:\\x8b\\x17\\xc9&;\\xec]k\\xfbh\\xfc\\xc0\\x8d\\xd4\\xb7\\xafw\\x1c\\xf90o\\x8d4;_^\\xc80h\\xfc\\x9a\\xf0I\\xb6`\\xa1f\\x91\\x96l\\x009\\xb1O\\t\\xc9\\x16]\\xf4\\x91\\x17\\xf5d\\xfb\\x88Z\\xc8\\xf5\\x115\\x90\\xec#j\\xd1Q\\x16-\\x8a\\r<\\x97y\\x19\\xe0 \\x18\\x9a&\\xdb\\x1d]\\x9c/\\xc7\\x01\\xcf{\\xf3\\xd56\\x87\\xfe|\\xb5\\xc9\\x11\\x8f\\xbe\\xda\\xa6\\x8b\\xbc\\x99\\xda\\xf4\\x87\\xad\"%\\xc7\\x06j!\\x977\\xa8\\x81d\\xde\\xa0\\x16\\xdf\\x967G\\x07\\x9eP\\xb4x\\xdd\\xdf\\xc2\\xd7\\xcf\\xd1h\\xa4\\x1ef\\x8e(N\\xd3/T\\xcb\\xffX\\xb6\\xd3\\x07T.&\\xa3\\xedR\\xcb7Y\\x90\\x91\\x8fP\\xb4\\x80\\xc7\\xa3\\xf4\\xd9\\xdb\\xfe#\\x94\\x07\\x9b\\x8f\\xf5TQ_\\xc0\\x14r\\xaa\\x91\\r\\xed\\x8f7\\xd2\\xc2\\xf5:\\xdd=l\\xb2y\\\\\\x06\\xec\\x99)\\xb3\\xc6\\xee\\xd22$\\xbf\\x9a\\xb29\\x8e_\\xdf\\xa6\\xc9*\\xcfbV{\\xd1k\\x98\\xcfeA\\xe2\\x88\\xb0g\\xba\\xacbz\\x8a\\x8fs\\x82\\x8f\\xd5\\x00\\xc9\\xf0y\\x8b}\\xf7\\x84}\\xf0\\x93\\xb4?\\xdeb\\x1f\\xf6\\xf6G\\xe3\\x01~Qj\\x1f\\xf2LI>\\xc0\\xaex\\xef\\x0f\\x08\\x01N\\xeas|\\xba\\xccH\\xd8\\xc1\\xed\\x19@\\x10T0\\x80\\xdd\\xc6\\x9e\\x01\\xa4\\xa7\\n\\x06\\xb02\\xde3\\x80\\x04\\xe5\\x0c\\x80\\xce\\x99\\xacx\\xcb8\\xb0\\xa8\\xb05\\xc2\\x049\\xc0M\\x82\\xfd\\xf72\\t\\x1as\\xd4\\xe4;\\xf6\\xf2\\x94\\xfcB\\x97\\xaf2\\xdc-\\xa4\\xb7\\x90\\xe8\\xdc\\xcdp\\xf1^n>%\\xb1\\xaa$\\x06\\x85\\x1dF\\x1aw\\x01\\\\\\x9c\\x8b\\x01\\xcc\\xba\\xddLy\\xd6)\\xcdW\\xe6\\x10$\\xba\\xc0\\x81{\\x04d\\xe0:Y\\x894\\x17l\\xaaP<\\x94\\x14T\\x8aTS\\x00:J(\\xa0@X\\x8a\\xe6_\\x0bsP4\\x03\\xe3lP4\\x05c\\n\\xc2\\x1c|^%\\xba\\\\\\t\\t\\x91\\x10&eE\\x1c\\x84\\x19\\xeb\\x8a\\x1c\\xf8:\\x81\\xbes\\xa9Z\\x1bT)$\\x1a\\x97\\xb6*\\x89\\xc4\\x1cTi$\\xda\\xa1\\xa8\\x92HDA\\x95B\\xe2H\\xa8\\x92H\\xccA\\x95F\\xa2P\\xa8\\x92HDA\\x95B\\xe2H\\xa8\\x92H\\xccA\\xfd*\\xd2Q\\xbf\\x8at\\xfe\\x07\\xabH\\xe7\\x9d%\\xd2\\xc0e\\xd3\\xba\\x88\\x8a\\xea\\xa7\\xf40\\xc4\\xe5\\xe5Sm\\xbbl\\xeb\\xa8\\x0c\\x1f\\x10Q}V\\xac\\xce\\xb6\\xf65z\\xfe`\\xac\\xdb\\xe6\\x0fZO\\xbb\\x8d\"\\xa8\\x87\\x82\\xffk(\\x8b\\xe6\\xe3&I\\xe1A:E\\xa6\\xb9\\x11m*x65\\xado6\\'2\\xcea\\x81\\x1fk,\\x9b*>\\xc2\\x02\\xf1\\xbd\\x14\\x0b\\x10\\x1a,\\xaa\\x17\\x08\\x0b\\x86\\xee\\xa5X`\\xbe\\xc6b\\xd9\\xc6\\xb1\\xa0t}1\\x16hx\\x83E\\xd5\\x1ca\\x81\\xb2^\\xca\\x0b\\x9a4X\\xa2\\xef=I\\xdf\\xbb\\xc7\\xe2\\xc8\\xd6=\\xc8_\\x10`\\x19^\\x18\\x8b\\xc7\\x91\\xce\\x9a\\x08\\x0b\\xba|)\\x16\\x8f#\\xd5\\\\\\x84\\x05]\\xbe\\x14\\x8b\\xc7\\x91\\x8eX\\xe4{0r)\\x16\\x8f#\\x9d\\x12\\x11\\x16\\xa4\\xdb\\xa5Xm\\x1c]*\\xa8\\x1c\\xcb\\x93\\xf4}\\xffh\\x1c\\xa92\"\\x7fI\\xe6*\\xc6\\xe2q\\x14s\\xd5\\x91\\xccU\\x8c\\xc5\\xe3(\\xe6*\\xed\\xb2\\x8c\\xbf0\\x16\\x8f\\xa3\\xa8\\x13\\xae\\xa4N`,\\x1eGQ\\'\\\\I\\x9d\\xc0X<\\x8e\\xa2\\xef=I\\xdf\\xbfTT1\\xe3m\\xc9\\x8c\\xafQx\\xec\\xc4\\\\\\x87\\xf7\\xef\\xa5\\xfc]\\xa3\\xf0\\xa8\\x89Y\\xeeHfy\\x8d\\xc2\\xe3%\\xe6\\xb7+\\x99\\xdf5\\n\\x8f\\x94\\xa8*\\xae\\xa4\\xaa\\xd4(\\\\3E\\xef\\xba\\x92\\xde\\x9d\\x86\\x8b\\xbd\\xea\\x8a\\tcK\\xba\\x04\\x0e\"F\\x9b\\x14NU\\x16\\xf4L&\\x9b\\x85\\xe1\\xf4\"\\x1e\\xaa\\xb6d\\xba\\xcc\\x9e\\xe2\\xe8Y\\x9b\\xc13\\xd5\\x16H\\x1c\\x0ft\\x1a\\x95\\x19[\\xf7\\xdbu\\x1a\\xe6!)\\xca\\x9d\\xf6\\x18oI\\x0b\\'\\x06\\xdd\\x93\\x84\\xfb\\xa9(Z\\x1f\\x89\\x08\\xb6\\xa4p\\xfc\\x0c\\'X\\xe1p\\xac\\xd6..\\xc4\\x1c\\xb6.\\x84i\\xc7\\x82\\xe8\\x1eZ\\xfb\\x91q\\xcf\\x9eM;\\x18\\xc4\\xfc\\xa3\\xf5\\x92K`\\xda\\xd1 \\x8a*]?\\xc9\\xc0|\\xcc\\xd7\\x9b6B\\xa2\\x96\\xd2\\xa9[\\x06\\xe2S\\x92?\\xc7\\x0b1sD\\x0f\\xdb\\x92J\\xfa\\x10oH\\x19\\xb6\\xf9\\xf7B\\xb0$\\x1d\\xf3@\\x9f\\xc4\\xb7\\x18\\xa2D\\xb0\\x07\\xeb/\\xd7\\x8c\\x0f\\xf0\\xe0\\xbd\\xcd\\xd1\\x17^\\x94t\\xc1\\xaf\\x1b\\x82\\xdc\\xc8\\xca\\xe1|\\xae\\x84\\x83\\x04R~|L\\x08\\xbck\\xb3\\x1f\\xc4\\xc2\\x18\\xa6\\x0f@dB\\xf1X\\x10\\xdeu\\x9a\\x90h\\xca\\x863MR\\x18\\xbf\\x87eNG\\x8b0t_\\xe4\\xe8\\x89\\x1e\\xf1\\xad\\x05\\xac\\xfe\\x17[\\xfeV\\x06\\xf3;\\xa1g\\xbc\\xd9\\xfb\\x1a\\xed~\\x00\\xdc\\xbb\\x88\\x97\\xe1&%\\x8f\\xed/\\xc7:\\xff\\xfc\\x0b{\\x8b\\r\\x92\\xa9\\xf9\\xd6\\xe7\\xe4kA\\x18\\xc4X\\xe7\\x9f\\xd9\\xa1e\\x18\\xc5\\xf0\\x12\\x07\\xc8\\xcd\\xa7\\n^9\\x83\\x7f\\xb5M\\x99\\x8c\\xf5\\x7f\\xee\\xa7\\x03\\xff\\xee>\\xb0{Cs:\\xec\\xb9N\\xec\\xf5|oz\\xd7\\xf3\\xdc\\xd9\\xf4\\xee.\\xf0M\\xdb\\x9c\\xfd\\x8b\\x8e\\x9c\\xbf\\xe1\\xc09;\\x18\\x0f\\xdb\\'\\xcb\\xbd\\xa9R8\\x96^6\\x9dm\\xc8\\x7f\\xe1\\xf7\\xc6:\\xba\\xa8\\xe9\\xb3w\\x82\\x806\\xe6\\xee\\xdb}\\xf3\\xd6\\xb3\\xcc^\\xe0\\x98V\\xcf\\xed\\x87\\xc3\\xde\\xb0\\xefx\\xbd\\xc0\\xb3\\xec\\xbb\\xbe;\\xbd\\xf7\\x02\\x0fq\\xf7\\xbe\\x8d\\xbbe\\x1a\\x96U\\x9f\\xea\\xa7\\xe4\\xbd\\x1b\\x92dq\\x9a\\xe4\\xfbX\\xed#\\x84\\xefB\\x90\\xe0\\xf2L\\'\\x8c}$\\x0c\\xfe\\xbf\\x0eL\\xfe\\x03\\x00\\x00\\xff\\xff\\x03\\x00PK\\x03\\x04\\x14\\x00\\x06\\x00\\x08\\x00\\x00\\x00!\\x00\\xdd\\xeei_\\xf2\\xb1\\x00\\x00\\xa4r\\x04\\x00\\x18\\x00\\x00\\x00xl/worksheets/sheet1.xml\\x94}\\xdb\\x92\\x1c7\\xb2\\xe4\\xfb\\x9a\\xed?\\xd0\\xf8~\\xc4\\xce\\xacKw\\xcb$\\x1d;\\xd5\\xddu\\x95\\xad\\xad\\xed\\xd9\\xcb3\\x87\\xa2F\\xb4!E-\\xc9\\x19\\xcd\\xec\\xd7o \\xe1Q\\x85p\\x07\\xaa\\x12/\\xba\\x84\\x03\\x81\\x84wT$\\x1c\\x81\\xcc\\xfc\\xe1\\xdf\\xff\\xf9\\xe9\\xe3\\xab\\x7f\\xbc\\xff\\xf2\\xf5\\xc3\\xe7\\xdf\\x7f|=|w\\xf7\\xfa\\xd5\\xfb\\xdf\\xdf}\\xfe\\xe5\\xc3\\xef\\x7f\\xfd\\xf1\\xf5\\xff\\xfa\\x9f\\xdb\\x7f{x\\xfd\\xea\\xeb\\xb7\\xb7\\xbf\\xff\\xf2\\xf6\\xe3\\xe7\\xdf\\xdf\\xff\\xf8\\xfa_\\xef\\xbf\\xbe\\xfe\\xf7\\x9f\\xfe\\xeb\\x7f\\xf9\\xe1\\xcf\\xcf_\\xfe\\xf6\\xf5\\xb7\\xf7\\xef\\xbf\\xbd2\\x0f\\xbf\\x7f\\xfd\\xf1\\xf5o\\xdf\\xbe\\xfd\\xf1\\xfd\\x9b7_\\xdf\\xfd\\xf6\\xfe\\xd3\\xdb\\xaf\\xdf}\\xfe\\xe3\\xfd\\xef\\x86\\xfc\\xfa\\xf9\\xcb\\xa7\\xb7\\xdf\\xec\\x7f\\xbf\\xfc\\xf5\\xcd\\xd7?\\xbe\\xbc\\x7f\\xfb\\xcb\\xd4\\xe9\\xd3\\xc77\\xe3\\xdd\\xdd\\xfa\\xcd\\xa7\\xb7\\x1f~\\x7f\\x9d=|\\xffe\\x8e\\x8f\\xcf\\xbf\\xfe\\xfa\\xe1\\xdd\\xfb\\xe7\\xcf\\xef\\xfe\\xfe\\xe9\\xfd\\xef\\xdf\\xb2\\x93/\\xef?\\xbe\\xfdf\\xd7\\xff\\xf5\\xb7\\x0f\\x7f|uo\\x9f\\xde\\xcdq\\xf7\\xe9\\xed\\x97\\xbf\\xfd\\xfd\\x8f\\x7f{\\xf7\\xf9\\xd3\\x1f\\xe6\\xe2/\\x1f>~\\xf8\\xf6\\xaf\\xc9\\xe9\\xebW\\x9f\\xde}\\x7f\\xf8\\xeb\\xef\\x9f\\xbf\\xbc\\xfd\\xcbG\\x9b\\xf7?\\x87\\xe5\\xdbw\\xee{\\xfa\\x1fq\\xff\\xe9\\xc3\\xbb/\\x9f\\xbf~\\xfe\\xf5\\xdbw\\xe6\\xeeM\\xbeP\\x9d\\xf3\\xe3\\x9b\\xc77\\xe6\\xe9\\xa7\\x1f~\\xf9`3H\\xb4\\xbf\\xfa\\xf2\\xfe\\xd7\\x1f_\\xff\\xc7\\xf0\\xfd\\xcf\\x0fw\\xc3\\xeb7?\\xfd01\\xf4\\xbf?\\xbc\\xff\\xf3k\\xf1\\xdf\\xaf\\xbe\\xbd\\xfd\\xcb\\x7f\\xbe\\xff\\xf8\\xfe\\xdd\\xb7\\xf7\\xbf\\xd8\\x1f\\xea\\xf5\\xab\\xff\\xf7\\xf9\\xf3\\xa7\\xff|\\xf76]\\xdc\\xb0\\xb4?\\xdb\\xf9\\xff\\xff[\\xa2\\xfc#\\xac\\xe9\\xcf\\xf4\\x97\\xcf\\x9f\\xff\\x96\\xdc\\x1d\\xac\\xe3\\x9d\\x8d\\xfcur\\x93F~\\xfb\\xee\\xdb\\x87\\x7f\\xbc\\x7fz\\xff\\xd1\\x9ao\\xeeW\\xa3\\xfd\\xad\\xff\\xeft5\\xd3\\xff\\xd8\\xa5\\xbc9_K\\xf9\\xdf~]\\xdb\\xe9\\x8f\\xfb\\xdf\\xbf\\xbc\\xfa\\xe5\\xfd\\xafo\\xff\\xfe\\xf1\\xdb\\xff\\xf8\\xfc\\xe7\\xfe\\xfd\\x87\\xbf\\xfe\\xf6-\\r\\xfe\\xdd\\xd2\\xe8J\\xac}\\xff\\xcb\\xbf\\x9e\\xdf\\x7f}g\\x7f.\\x1b\\xfe\\xbbE\\x9a\\xe1\\xbb\\xcf\\x1f\\xcd\\x87\\xfd\\xf3\\xd5\\xa7\\x0f)\\xec\\x8c\\xed\\xb7\\xff\\x9c\\xfe\\xfd\\xe7\\x87_\\xbe\\xfd\\xf6\\xe3\\xeb\\x87\\xef\\x96K\\x9b\\xd5z\\\\\\xbd~\\xf5\\xee\\xef_\\xbf}\\xfe\\xf4\\x7f20\\x11t\\xeeh\\x17<u\\xb4\\x7f\\xa3\\xe3\\xb0\\xfen\\xbd\\xbe\\xdd\\xd1\\xaem\\xeah\\xff>\\x8f8\\xdc=.\\xee\\xaf\\x8f\\xf7\\x88n\\xf6o\\x1fo\\xf8n\\x1c\\x1ent\\x1b\\xce\\x13\\xb4\\xff\\xf0\\x8e\\x8b\\xef\\xee\\xef\\xef\\x17\\xcb\\xc6\\x90o2E\\x13\\xfd\\xcfo\\xbf\\xbd\\xfd\\xe9\\x87/\\x9f\\xff|e?\\x11\\xf3\\xf0\\xf5\\x8f\\xb7\\xe9\\x077|?\\xd8\\xbc\\xab\\x14\\x1b\\xb7\\xa9\\xed\\x7fXc#\\xfd\\xab\\xfd\\xcd\\xff\\xf1\\xd3\\xdd\\x0fo\\xfea\\x7f\\xc4w\\xc06%6D\\xec\\xa9\\xc4\\xc6\\x88=\\x97\\xd8\"b/%\\xb6\\x8c\\xd8\\xb6\\xc4V\\x11\\xdb\\x95\\xd8:b\\xfb\\x12\\xbb\\x8f\\xd8\\xa1\\xc4\\x1e\"v,\\xb1\\xc7\\x88\\x9d\\xc2\\xdc\\x89\\x98\\x9f\\x03xa\\xe6\\x8d\\xfd\\x01\\xce\\x7f\\x85\\xf4K\\x99\\xfdW\\x18\\'\\xfe\\x89\\xe3\\x8d\\xb98\\xffm\\x06\"\\xf9)\\x80\\xc4\\xf2s\\x00\\x89\\xe6\\x97<\\xd8\\x92\\x18\\xde\\xc2LD\\xec\\xea\\xe6}6\\xaf\\xc9\\xc9\\xa1n>\\xd6\\x87<U\\xa7\\xfds\\xbe\\xf8\\xbfPH\\x06r\\x17=\\xe4.&O\\xc4\\xdf\\xc6\\\\\\\\\\xc8\\xa5i<\\x05\\x90\\xc9\\r \\x93\\x9b\\x07[S\\xc4la\\xa6\\x8b\\xd8\\xc1L#\\xec\\xb3\\xf9\\x81\\x9c\\x1c\\xea\\xe6c}\\xc8S6SL\\xfd\\x9c/\\xfe*\\xb9\\x96\\xf1\\xe6G\\xeer\"\\x97&\\xb01\\x17\\x17r\\xe9\\xe7\\xfa\\x14@&7\\x80Ln\\x1e\\x8cy\\xd9\\xc2\\xcc\\xe4\\xc2\\xcc\\xe4f\\xf3p\\xc7\\xec6\\xec\\xc7\\xfa\\xa0\\'4\\x8fi\\xe3\\xe7|\\xf9W\\xe9\\xb5\\xfb\\xc7|zWUz\\xcd\\xc5\\x85^\\xcaxO\\x01dz\\x03\\xc8\\xf4\\xe6\\xc1\\x84\\xdel\\x16\\xc2v\\xb0\\x8fL\\xb0\\xdb\\xe9\\xefqp;\\x11\\x7f\\xac\\x0f{Bs\"8O\\xe0*\\xc1\\xeb\\x1e\\x82\\xd7\\x13\\xc1\\xc4\\xc4\\xc6\\\\\\\\\\x08\\xa6\\xdb\\xc6S\\x00)]\\xbed\\x7f\\x0b2o\\xb3y\\xc5!\\x8a\\xd1\\x99\\xc1l\\xe6$r\\x80\\x13\\xe6\\x0f\\xad)\\x87\\x9d\\xb2\\x99\\x7f\\xff\\xf9\\xe2\\xaf\\xf2w\\xdf\\xc3\\xdf\\xfd\\xc4\\x1f\\x8d\\xbd1\\x17g\\xfeF\\xba\\xde\\xa7\\x12\\x1c\\x98?\\xf8#\\xce\\xb7\\xd9\\xbc\\xa6\\xbf\\xd3\\xae\\xdez\\x9f\\xcd\\x92?\\xe1\\x84.\\xf6Xo}\\xcaf\\xe6/_\\xfcU\\xfe\\x92\\x1e\\x9a}\\xe7\\x7f\\x98\\xf8\\xa3\\x14\\xb91\\x17\\x17\\xfex\\xe9U\\x82\\xcc\\xdfs\\xe8I\\xe1\\xf6\\x92\\x07\\xbbgr\\xb3\\xf9\\x81\\xc9\\xad\\xb7\\xdeg\\xb3-\\x85i\\xa5\\x05/\\xcc\\xae7\\xa7(8\\xc1N?\\xef|\\xf9W\\xe9\\xb5\\x95\\xf5|z\\x1f\\xab\\xf4\\x9a\\x8b\\x0b\\xbd\\xf4\\xe3{*A\\xa17\\xf4\\xe4\\xfc\\x99\\x07\\x13z\\xb3yX\\x10\\x03;\\xd8\\x07\\xfa\\xfb\\xee\\x1b\\xed\\x0f\\xd9\\xfe\\xc0\\x04\\xa39\\xdf\\xcfN\\xb0\\x13\\xc1y\\x02W\\t\\x1eL*v\\x08\\x88\\xa4\\x17\\xff\\xf1\\x13Gprr\\xe1\\x98\\xd7W\\x01\\x15\\x92c_\\x0ebC\\xd3\\x80B3\\xec\\xc3\\x1d\\xc7q\\xa3\\xc3\\xde;\\xac8\\x92\\x1d\\x18\\x98\\xea\\xf3\\x10\\x1c\\xcc\\x0e\\x10\\xd9\\x98\\xc8u\\xb6\\xfb\\xe4\\xda\\x90\\'\\xcfJ-\\xc81^p%qy\\xf9[\\xd0z\\xe1\\xc5\\xd0\\xc4\\xe7R\\xd4\\x18\\xec\\x94-vh\\xcfK\\xff=\\xec+^Wy{\\xf2\\x7f\\xf4q\\xe9\\xf7w\\x82\\x9d\\x13/&q\\x9d\\xcb.\\xd1e\\xda8M\\x9c\\xe6\\xb7I\\x92\\xf9\\xc2\\x16\\xdf\\xfc#*\\\\f\\x97\\x1cQ[\\x0c\\xb5\\xa6\\xb9\\xee\\xfc\\x12\\x88\\xb3\\xbd\\xb7gy\\xd5h\\x7f\\x84}EW{\\x82]\\xb8\\x9c!\\xb1\\x86.\\x8de\\xad\\x13\\x97\\xf4K\\xda$\\'\\x17.\\t}\\x8a\\xa8p\\x99]\\xde\\xf3R\\nC=\\x08\\x97\\x10<\\x9c\\x08\\xf7\\xdeA\\xc8\\xf4\\x0e\\xf23\\xc7\\xc8\\xc2f]Ra\\x1a\\xd7#\\xb3KT\\rY\\\\\\x08\\x9b\\xa58\\xe2\\xdb\\xc9\\x93u\\xba\\xf6+\\xcf.\\x95M\\x97=B\\'\\x00^\\xbe\\xedqq\\xc3B\\xf8D\\x0fM\\x9b\\x18[\\xf8\\xack(L\\xe4:\\x9f]*jp\\t\\xc3i\\xb3\\x94C\\x0b\\xd9\\xe2\\n\\xa8\\xdc\\x86\\xb2O\\xd9F\\xc1Xr\\xb7w;\\xb1\\xb6\\x87\\x9di>4\\xecG\\xd8y\\xdc\\x93\\xcf\\x91oA3\\x04\\xd3\\xd0\\xa5\\x98\\xacu\\xfa\\xa9\\xf3\\xb2e\\x93\\xbc\\x9c\\x7f\\xeb\\x0b^UET\\xc8\\xacK\\x9b-\\xc6brv\\xb0\\xaf\\x84\\xcc\\xecg\\x94\\xd0\\xac\\xdb\\x8f\\xf0\\xc3\\x7f\\xac\\x93\\xcf\\x91\\xc9\\x9c\\xa1\\x9e\\x86.\\xf9d\\xad\\'2yw*y\\xb9\\x90I\\xb7\\xce\\xa7\\x88\\xca\\xf6kP_B5T\\x10\\xefP\\xe1J8\\xaev\\xb0\\xf3m}\\x0f\\xfb\\xa3\\xdc\\xee\\xebr\\xea\\x88\\xf6\\xf7\\xb2t\\xaa\\xeb,L\\xf1z\\x12\\xe8RZ\\x03\\x14\\x07\\xefU\\x99\\xbd\\xa0ZV\\xaa\\x01\\x15\\xaa\\x83\\x16c=\\x80\\x11\\x97Bu\\xbe\\x12N\\xa0;\\xb4\\xe7h\\xdc\\xc3\\xae)\"\\xfba\\xfb\\x11\\xed\\xf9Ovr\\x068\\xaag\\x88\\xae\\xa1KuY\\xeb)\\xaay[%y\\xb9D\\xb5,S\\x03*T\\x07]&T\\xe7\\x115\\x1bg;\\'\\x84\\x1d\\xaeP\\xa3\\xba\\xde\\xfe\\x80\\xf6\\xec\\xe7\\x08;\\xff)O\\xce\\x00S=C~\\x8d]\\xf2\\xcbZOT\\xf3\\x0eL\\xf2r\\xa1\\x9a\\xf7\\x08#\\xcaT\\x07t\\x90\\xf2\\x01\\x04\\x1f\\x8d\\xb8\\xc5\\x95pB\\xd8\\xc1\\xce\\xbf\\x82\\xbd\\xdb9W\\xc3\\xce\\xbb7G\\xd8\\xef\\xa9\\xfd\\xc9\\x19 \\xaa1\\x89\\xab\\td\\xec\\xd2^\\xd6\\xbaNu\\xa8w\\xb1`Hc\\\\\\xfe\\x10Bu(%\\t\\xd5yD\\x96Z\\xdb\\xf3\\x95\\xf0\\x96\\x02\\x00\\xe5\\xba~\\xe9\\x07\\xb4W\\xae\\xd1^V\\x19>2\\x93\\x9d\\xa7q\\x9d\\xec\\xbe\\x8aXVR\\x03\\xef+\\x8c\\xa5:\\xe3m\\xd6\\xa7\\x802\\x0b\\xcf\\x01\\x1d\\xf9\\xc6h\\xe8\\xa4\\x839[\\xbb\\x9d\\xe2n\\xd7h\\xbf\\x87]\\x96\\xc7\\r\\xfb\\x11\\xf6\\x15\\xcd\\xf4\\x04;k7L\\xe2:\\xd5]\\xdam\\x84\\xac\\xa1$\\xb11\\xfb%r\\x97\\xbc:\\x8e(\\x91\\xf6\\x1cP\\xa5\\xba^\\xf7\\xda\\xe2Jx\\xe3{\\x07\\xbb,\\xf7\\xdc\\xcek\\x90\\x86\\xfd\\x08\\xfb=\\xcd\\xe5\\xe4\\x0cpT\\xcf(\\x96\\x8d]\\xc2\\xceZO)\\x84\\xf7\\x1c\\x92\\x97s\\x92XRd>ET\\xa8\\x0e\\xbaO\\xa2\\xba^\\x05\\xdb\\xe2J\\xf8\\x97\\xbf\\x83\\x9d\\xb3\\xec\\xde\\xedB5\\xb4\\x1d\\xd9\\x8f>\\xd3;\\xe1\\xba.\\xfa0\\xc7\\xeba\\xdd%\\xfa\\xec`H\\x9d\\xebR\\xd6-Y\\xa7\\xa4\\xe3$\\x97\\xbf\\x84p]\\xa2\\x1a\\xd6\\xa8d\\x91\\xcf-\\xaeD\\xb9\\xaeW\\xbe\\xf6~\\xe5\\x9aB\\xea\\x1d\\x8e\\xdea\\x14\\xb2\\xebE4L\\xf2:\\xd9]\\xa2p\\x84(\\xe4-\\x0b\\xb3\\x17t\\xb2\\x8e\\x89(\\x91\\xfd\\x02\\x9f\\xbc\\x1c\\xde\\xc2\\xce\\ts\\xe7\\xedY\\x14\\xc2.\\xa2\\xb0\\xd1\\xfe\\x08\\xfb=\\xfd\\x94N>G\\xce\\x123D\\xe1\\xd8%\\n\\xadu\\x8a\\\\^\\xd7o\\x92\\x97Kl\\xb2R\\x89\\xa8\\x90\\x89R\\x99\\xac\\xda \\xd7(rv\\xb8\\x06N\\xc5{\\xd8e\\x97\\x17v\\x96wG\\xd8\\x1f\\xe9\\xe6r\\x82]\\xeen3\\xeakc\\x97\\xec\\xb3\\xd6\\x13\\x99r\\xb8\\xa6\\x94nK\\xd6\"i\\x8c+i\\xe0j\\x95\\r#\\x8a\\xec\\x83]\\xefn\\x90\\x83\\xbc\\t\\x8c\\xf6\\xbc/uh\\xd8\\x8f\\xb0\\x8b\\xc2\\x86]\\xa8\\x9e!\\xfb\\xc6.\\xd9g\\xad\\'\\xaay3#y\\xb9\\x90)Z$\\xa0\\x92qC\\xc5M\\xeen\\xa8\\xefITg\\xbbj\\x91z\\xfb=\\xae|M\\x1c\\x1d\\x1a\\xf6#\\xecr&\\xe2\\xe4\\x00\\xe7\\x88\\x19\\xbao\\xd1\\xa5\\xfb\\xac\\xf5\\xc45\\xeff$/\\x17\\xaeY\\x8c\\x04T\\x94\\x1d|\\xf2mg\\x0b\\xbb\\x04.\\xec\\\\9\\xda\\xbb\\x9d\\xd7\\n\\xb0\\xaf\\xb8\\x12\\xe4vVv\\xb0s\\xe0b\\x12W\\xef^\\x8b.eg\\xad\\'2y\\xbf\"y\\xb9\\x90\\xc9\\xe5\\x8b\\x80*\\x99\\xd0n,\\'0\\x16\\x97qw\\xb0\\xafi\\x94\\xbd\\xdbY&\\xc3\\xce\\x1b\\xfaG\\xf7\\xcf\\xfbl\\xb0\\x0b\\x993\\x94\\xdb\\xa2K\\xb9Y\\xeb\\x89L\\xde\\x91H^\\xced\\xf2\\xfd\\xe3)\\xa2t\\x95/\\xf0\\xa9\\x91\\x89z\\x1bk3\\xb4\\x17\\x1d\\x0c\\xbb\\xdc\\xbd\\x1a\\xf6#\\xec\\x9cGN\\xb0\\x0b\\x99s\\x8e.\\xf6\\x9d]\\xc4\\xe1E\\x96\\xc1\\x8bR\\x9b\\xf1\\xb1\\xa2\\xa7\\x88\\n\\x99\\xad3\\x8a\\xa8\\xe1\\xf1\\xa6\\x82yK\\x7fPQ_\\xb0\\xcb\\x0e0\\xec\\xb2\\xa9\\x00\\xfb0Hh6\\x8e*\\xce\\x90_\\x8b.\\xf9e\\xad\\xa7\\xd0d\\xa5\\x9b\\xbc\\\\B\\x93%ADy\\x8f\\x06>9\\xa4\\xb6\\xb0\\xb3\\x90\\xda\\xc1\\xce\\xbf\\xff\\xbd_\\x9b$\\xcd|\\xcd\\xbc\\n>\\xa2=\\x87\\xf8\\tv\\t\\xcd\\x19\\'\\x13\\x17]\\xfa\\xcaZOd\\xb2\\x96M^.d\\xf2*5\\xa2Bf\\xf6\\xc9\\xa4m1\\x96\\x9eAt\\x80cj\\x0f\\x807\\xb0\\x0e\\xb0s0\\x1fa\\xe7\\xad\\xb6\\x93\\x0f@7tL\\xe3\\xfa=\\xa8KA-P\\xa2b\\x05e\\xf6\\x0b\\x9d\\x0f\\xa3\\xdc\\x84\\xc2iD\\xe1\\x13u5^\\x1fa\\xb0%\\xfd\\x10v\\xb0sB\\xd9{{\\tN\\x1c`d\\xf5\\xef\\xedY\\x8f\\xc2.\\xc19CB-\\xba$\\x94\\xb5N\\xc1\\xc9\\xbf\\x9aM\\xf2r\\tN^\\xf5\\x07T\\xef\\xe8\\xd9\\'\\xaf\\xaf\\xb7\\x18kM\\x8b\\xd3\\x9d\\xdb\\x89\\xe4=\\xec\\x1c\\x82\\x87\\x86\\xfd\\xe8v\\xde \\x84]\\xc8\\x9c!\\xa1\\x16]\\x12\\xcaZOd\\xb2\\x84J^.d\\xf2\\xba>\\xa0L\\xe6s\\xec+q\\x9bG\\xe4[\\xcb\\x16W\\xf2(T\\xe3\\xf0\\xa1P\\x8d3\\x8c\\xb2xj\\x1cV\\x84\\xff{\\xa1\\xba~Z\\x11\\x93\\xb8\\x9e\\x05\\xba$\\xd4\"\\x0b\\x94\\x05K(\\xb3\\x97Y@\\xd6\\xf5W\\x8bcp\\xca\"w\\x0b\\xfbJ\\xb2\\x00\\x8ai,H\\xdd\\x8fd\\x81z\\xfb\\xa3\\xfb\\x97\\xfb}\\xfdh\"\\xe6x\\x95\\xcd\\xf4\\x18[\\xc7\\xc3\\tY$\\xf1a\\x84M\\xf2r\\t\\\\&3\\xa0\\x92\\x05\\x0cM?\\x06\\x96\\x8a[\\xd8y\\xd7h\\x07;\\x93\\xbcw;\\x87f\\xc3~\\xf4qY$\\xc1\\xceY\\x00\\x93\\xb8Nf\\x97HZfA\\xb3`\\x91d\\xf6\\x82L\\xbe?\\x05T\\xb2@\\xec\\xcbY\\x00#>\\xd0\\xdc\\xb6\\xb0\\x0fw\\x9c\\x06\\x00\\xdcs\\x1apG\\xc25NS\\x92\\xfd\\xd8h\\x7f\\xf2\\x81i1\\x80Y\\\\\\xe7\\xbaKC-\\xb3\\xaea\\xbd\\xb31\\xfb\\x85k\\xd6\\xe3O\\x11\\xe5e?|\\xca\\xed\\x0bv9\\xf8\\xe1v\\xfay\\xeca\\x97\\xa7\\x13\\xdc.d\\xd6\\xe7rB{\\t\\xdc\\x19\\x1aj\\xd9\\xa5\\xa1\\xac\\xf5t\\xfbb\\r\\x95\\xbc\\x9c\\xb3\\x00\\xdf\\xbd\\x9f\"*dB+\\xf1\\xc2\\nc1\\xc9;\\xb7\\xcb\\xc3Hu?\\x07\\xb4\\xe7\\x1b\\xe0\\x11v&\\xff\\x04\\xbb\\x909\\xe7q\\xaf\\xbe\\xe7\\xbd GXB-K\\t\\xc5\\xe7\\\\\\x9f\\x02*\\xcf|\\x18:\\xfd\\x81\\xf8\\xb9\\x04\\xd8\\xb9\\xf4\\xb8s;\\xdf\\x9f`\\x17u\\x0f;\\xaf\\xed\\x8f\\r\\xfb\\tv!s\\x86\\x84ZvI(k]\\x9b\\xf8&y\\xb9D&WM\\x02\\xaadBBq\\x11\\nc\\xf1\\xd2f\\xe7v\\x8a\\xe4=\\xec\\x9c|\\x0f\\xb0\\x8b\\x14;\\xb6\\x80\\x93\\x03\\x9c5g\\x9cL\\\\vI(k=\\xd1\\xc9\\x12*y\\xb9\\xd0\\xc9\\x8a4\\xa0rf \\xf6\\x954\\xe0g!%\\x0f@\\x18\\xf1\\xc6\\x14.Q\\x0e\\xd5\\xc2.r\\xd5\\xdbKR\\x85Z\\xe4\\xa5\\x15\\xdaK\\xe8\\xce\\x10X\\xcb.\\x81e\\xad\\x13\\xd7\\xcc\\xd7&y\\xb9p-\\x8f~\\x86\\n\\x16\\xef\\xf5\\xc7\\xbe\\xc25\\x0e\\nJ]\\x05\\x97\\xa29\\x17\\x97(\\x91\\x8d\\x92\\x97\\xac\\x06P\"c1\\xebS\\x95\\x95W\\xfd\\xe4\"fq}5\\xd0\\xa5\\xbf\\x96Y}p\\x1e\\xdc\\x98\\xbd\\xe0\\x9a\\xf5W@u\\xe5u\\xb5\\x84\\xe5#\\xf2\\xe6\\xb5\\xdb%\\xac\\xeb\\'\\x1a\\xf7h\\xcf2\\xfc\\xd0\\xf0\\x7f\\x84\\x9d\\xa5\\xf1\\tv\\t\\xeb\\x19%\\xace\\x97\\xfe\\xb2\\xd6SX\\xb3\\xfeJ^.a-\\x8a\\xe1\\x9a\\xfcz\\x0e}\\xe5\\xd0\\x00F\\x94-/\\xd8\\xe5\\xd0\\x80\\xb7\\x97\\x9b_\\xbd\\xb4uh\\xf8?\\xc2.[\\xdb\\xb0\\x0b\\xd53*X\\xab.qf\\xad\\'\\xaa\\xb9\\x82\\x95\\xbc\\\\\\xa8f=\\x11\\xd0\\x81\\xfa>G\\x94\\xf5\\x84\\x8f\\xc8\\xc9\\x1av^7\\xec\\xdc\\xce\\t\\x04v\\xfe\\x93\\x1d`\\x97u\\x06\\xecr\\xca\\x1cv\\xa6\\x1a\\x93\\xb8\\x9a@V]\\xd2\\xcdZOT\\xb3tK^\\xceTs\\xfe|\\n\\xa8R}\\xf5\\xe4\"F\\x94\\xf7 \\xb8\\x9d\\x13\\x08\\xec|\\r{\\xd8y\\xb7\\xfc\\xe0\\xed\\xf9\\xbe\\xe83\\xe5\\xfb\"\\xecB\\xf5\\x8c\\xea\\xd7\\xf4\\xce\\x9b\\xd9\\xcf\\xf3Z\\xeb\\x89j\\xba\\xb0M\\xf2r\\xa1\\x9a\\xae\\xe3)\\xa0J\\xf5\\xd5\\xd7y`DI \\xb0K\\x02q\\xbbDu\\xber)\\xcf\\x1c\\xd0A\\xb4\\x08\\xecr\\xcc\\x1cv\\xe1z\\x86\\xb0[u\\t;k=q\\xcd\\xc2.y\\xb9p\\xcd\\xa7\\xe9\\x02\\xca\\x1bm\\xcf\\x01\\xe5\\xbf\\xc4\\x0bF\\x94:$\\xec\\xb2\\x04\\x81]Jg~\\xe5\\xbc\\x04i\\xb4?\\xc2\\xceG\\x98N\\xb0\\x0b\\xd53d\\xdf\\xaaK\\xf6Y\\xeb\\x89j\\x96}\\xc9\\xcb\\x85j\\xae\\x9c\\x05T\\xa9\\x0e\\xef\\xfa\\xa0\\xbe/\\x18Q3\\x08\\x9e\\x8d\\x93\\x0c\\x82\\x83\\x8e|_l\\xf89\\xc0.UJ\\xd85Y\\xd7\\xcf-b\\x8a\\xd7\\x93u\\x97(\\\\\\xe1\\xc12\\xae\\xab\\x99\\xbd\\xa0\\x9aEa@\\x95\\xea\\xb2\\xaflibD\\xa5:_\\tG\\xef\\x0e\\xed\\xe5\\xe1\\t\\xbfr\\xde\\x1f\\xf6\\xf6\\x92\\xac\\xeb\\x8f\\xd0\\x9d\\xd0^\\xa2z\\x86`\\\\u\\tFk=E5\\x0b\\xc6\\xe4\\xe5\\x12\\xd5t\\xd9O\\x01U\\xaa\\xaf\\x16\\xe40\\xa2l\\xc2\\xc1\\xceK\\x87\\x9d\\xdb%\\xaa\\xf3\\x95K\\xed\\xdd\\xfd\\x0b\\xd5\\xf5\\xf6\\'\\xb4\\x17\\xaag\\xe8\\xc5U\\x97^\\xb4\\xd6\\x89j\\x8e\\x99M\\xf2r\\xa1\\x9a\\xf5b@\\xf9\\xdc\\xd0\\x0b|r\\xedw\\xebcI\\x8a\\xc0\\xb9J\\xb9\\xf3\\xa1X(\\xd9\\xb8. \\x8f\\xf0\\xff\\xc8\\x82\\xd0\\xaf\\x876:0\\x89\\xeb)\\xa2K\\x10\\xae\\xb2\\xdcZ\\xd1\\x9fmc\\xf6\\x82L\\x16\\x84\\x01U2\\xeb\\x12n\\x8b\\xb1t\\x19\\x81k\\x90\\xc8\\xac\\xdb\\x0f\\xf0#\\x07Da\\x1fxK\\xe4\\xe4\\x00\\xb39C\\xf3\\xad\\xba4\\x9f\\xb5\\x9eB\\x935_\\xf2r\\tM\\xd6|\\x01\\xe5=\\x89\\x17\\xf8\\x94\\xbd\\n\\xb7Kh\\xa2\\xee\\'\\xa1Y/\\xad\\x1d\\x1a\\xfe\\x8f\\xb0\\x8b\\xaa\\x83]~\\xe73T\\xdd\\xbaK\\xd5Y\\xeb\\x89LVu\\xc9\\xcb\\x85LVu\\x01\\x152\\xe1S\\x1e\\x83\\x82]V]\\xde\\x9eC\\xb3\\xe1\\xe7\\xd0\\xb0\\x1fa\\x1f\\xf8\\x81\\xf6\\x93\\x03\\x14\\x9a\\x98\\xc5\\xd5\\x1f\\xfa\\xbaK\\xb8Y\\xeb\\x89M\\x16n\\xc9\\xcb\\x99M\\xfei>\\x05t\\xe4\\xf7*\\xb8O\\xde\\xdbq;\\x17\\xd5`_r\\x1d\\x08vy\\x05`\\xc3\\xff\\xd1\\xed\\x9c5a\\xe7\\xd0\\xc4$\\xae\\x93\\xd9UT[\\xd7\\x0f\\x0bn\\xcc^\\x90\\xc9\\xd2,\\xa0Jf\\xf6)\\xefL\\xc3X\\x0fBfn\\xcf/\\xaf\\xd9\\xa3=\\xdfR\\x0e\\xee\\x87\\xf7$\\xdd.dB\\xc4qd\\xce\\xd0^\\xeb.\\xede\\xad\\xa7\\xc8d\\xed\\x95\\xbc\\\\\"\\x93\\xb5WDy\\xc9\\x0f\\x9f\\x924a\\x97[\\x10\\xec\\xac\\xc6\\xf6\\r\\xfb\\xc1\\xfd\\xf3\\xe2\\x08v98\\x0f\\xbbD\\xe6\\x0cu\\xb5\\xeeRW\\xd6z\"\\x93\\xd5U\\xf2r!\\x93\\x97\\xfc\\x11\\x152\\xb3OM\\x9a\\xd01w|\\x0b\\xc2E\\xc8\\x13\\x1f\\r\\xfb\\x01v\\xb9\\xa1\\xc3.\\xab#\\xd8\\x85\\xcd\\x19U\\xb5u\\x97\\x80\\xb2\\xd6\\x13\\x9b,\\xa0\\x92\\x97\\x0b\\x9b\\xbc\\xaa\\x0f\\xa8T\\xd5\\xdc\\'\\xf5\\xda\\xc2\\xae\\xb7\\xa0\\xba\\xb4\\xd97\\xda\\x1f\\xdc\\xbf\\xfc\\xce\\xb3\\x1f\\xa9\\xf7\\xa2\\xbd\\x909C\"\\xad\\xbb$\\x92\\xb5\\x9e\\xc8d\\x89\\x94\\xbc\\\\\\xc8\\xe4u{@\\x95\\xcc\\xba\\x18\\xd9b,\\xd9\\x81\\xda\\x01\\xe0\\x04\\xb0\\xf7\\x0e\\xf2.\\xcfF\\x87#\\xec\\x1a\\x9b\\xa8\\xe3q\\xda\\x9c!\\x83\\xd6]2\\xc8Z\\':\\xf9\\xef\\xb9I^.t\\xf2\\xca=\\xa0z\\x0f\\xaa\\x97\\xe2\\xb6\\x18K\\xb6\\xb5a\\x97\\xc3\\xf1\\r\\xfb\\xa1a?\\xc2.kM\\xd8%6g\\x9cK\\\\w\\xc9 k=\\x91\\xc92(y\\xb9\\x90\\xc9\\x0b\\xf7\\x80*\\x99\\xf0)?\\xf4\\xba}\\xe7\\xd7\\xc0\\x0bw\\xd8\\xe5,B\\xc3~\\x84]\\xc9\\xac\\x9f<\\xc4$\\xae\\xaf\\x8e\\xbaT\\xd0\\x1a\\xf5#VAf/\\xc8\\x94\\x85{x<\\x8b\\xe2\\xf69\\xf6\\x95;T\\xfd!\\xad-\\xae\\x84\\x7f\\xa4\\xbb\\x86}\\x0f;\\xe7\\xe0\\x83\\xb7\\x97\\x9c\\x9a\\xc7\\xd5\\xdb}\\xfdX\"&q\\x95\\xea\\xfb.\\x8dd\\xad\\xa7\\xb8e\\x8d\\x94\\xbc\\x9c\\xe3\\x96#\\xe1)\\xa2\\x14\\xf3/\\xf0\\xc9;\\xc4[\\xb7\\x13\\t;\\xd8Y\\xda\\xec\\xdd\\xce\\xcb\\x83\\x03\\x0098\\x0f\\xbb\\x04\\xae;\\xa2\\x94\\x8aY\\\\g\\xb3K#\\xdd\\xe3A+\\xd6Hf/\\xd8\\xe4\\x95hD\\x85M\\x14\\xccX#a,ys\\x8f\\xdbYq\\xc2.\\x9b\\x1b\\x07\\x00\\xb2x\\xf2\\x0eL\\xff\\xc9\\x01\\xa6sF\\x01\\xeb\\xbeK%Y\\xeb)8)\\xa1m\\x92\\x97Kp\\xf2N\\x7fD\\x85\\xce\\xba\\xf2\\xdab,\\xb9C\\xc1\\xce\\xa7a\\xf6\\xb0\\xeb\\xab\\xe7\\x00p\\xca8z\\x07\\xd9\\\\r\\x80\\xe9\\x9c\\xa1\\x93\\xee\\xbbt\\x92\\xb5\\xae\\xd3Y\\xea\\xa4G^\\xda\\xa71.d\\x0b\\x9d\\xf5\\x07\\xb2\\xb6\\x18K\\xe9\\xac_\\xc3\\x1e\\xed\\x07)d\\x03P:\\xf1\\xa0\\x96\\x94\\xfc\\xdc\\x13\\xd39C)\\xddw)%k=\\xd1\\xc9\\xb23y\\xb9\\x10\\xc6k\\xfb\\x80\\xf2\\x8b#_\\xe0S\\xf6\\xe4a\\x17\\xd9\\t\\xbb\\x94?`\\x97\\xb764\\xec\\xc7\\x86\\xfd\\x04;\\xaf\\x9f0\\x89\\xeb\\x99\\xb3K(\\xd97I&2Yv\\xa6o\\x95\\\\\\xc8\\xe4\\xb5}@\\x95\\xcc\\xfa+*\\xb6\\x18K\\x9f\\xe0\\x02 \\x95\\x7f\\xd8e\\x01\\xe5\\x17\\xcdwu\\xd8\\xe5\\x8dE>0\\x87\\xe6\\x0c\\xa5t\\xdf\\xa5\\x94\\xac\\xf5\\xc4&\\xcb\\xce\\xe4\\xe5\\xc2&/\\xed\\x03\\xaal6\\x94\\x12\\xc6\\xd2wJ\\x03\\x10\\xa5\\xe4\\x17\\xc7%\\x0eo\\xcf[\"\\xb0\\xcbA,\\x1f\\x98\\xd9\\x9c!\\x94\\xee\\xbb\\x84\\x92\\xb5\\x9e\\xd8d\\xdd\\x99\\xbc\\\\\\xd8\\xe4\\xb5}@\\xe5\\x1cED\\xf9t\\x10F\\x94\\x079a\\x97\\x079a\\x97\\xdd\\'o\\xcfUPo/\\x81[\\x97o\\'\\xb4\\x9740CF\\xddw\\xc9(k\\x9d\\xa8\\xe6_\\xe0&y\\xb9P\\xcd+\\xff\\x80*\\xd5e_)8cD\\xd9\\x9b\\x82]^\\xdb\\x00\\xbbf\\xdc\\xfac\\\\\\x07\\xb4\\xe7\\\\pt?\\xbck\\n\\xbbP=\\xa3\\xd4t\\xdf%\\xb2\\xac\\xf5D5+\\xd6\\xe4\\xe5L\\xb5\\xe4\\xc8\\xa7\\x08\\xf3\\xa1\\xb7\\x88JX\\xe7!e\\x87\\x1a\\x972\\xc8> \\x00y\\xbf\\xf7\\xb9\\x83\\x04v]O\\x1d}\\xb2\\xd4\\xfe\\xe4\\x8e8\\x87\\xcc\\xa8E=t\\xe9,k=\\xb1\\xcd\\x926y)\\xd8\\xe6\\x1d\\xff\\x00\\xf3\\x06\\xc1s\\xec\\xcclcH\\xd9\\xc2n\\xd8w\\xb0K\\x12\\x81]\\xee~\\xb0\\xeb\\xe9{\\x9f+\\x93\\xed\\x1d\\x88l\\xcc\\xe2\\xeab\\xe2\\xa1K\\x86Y\\xeb\\x89l\\x16\\xb5\\xc9KA6\\xeb\\xb0\\x00+\\xd9W\\x0f\\x19bH\\tm\\xbf\\x14\\xd6\\xbc\\xb0Kd7\\xfc\\x1c`\\x17\\xf5vt@\\xbe\\xb9\\xe0\\x00\\xb3=C\\xa5=t\\xa94k=\\xb1\\xcd\\xa27y)\\xd8f\\x99F0\\xf5~\\x0e\\xb0\\x9c\\x10\\xc0\\x98\\x1a\\xdb\\xf5\\x1a\\xd8\\x0e\\xed%V\\xf7\\x00\\xe4Tx\\xc3~\\x84]D\\x9c\\x0f\\xc0l\\xcf\\x10q\\x0f]\"\\xceZOl\\xb3&N^\\n\\xb6Yv\\x10,l\\x97\\xbd\\x95\\xed\\x86\\xc8\\xc3\\xb5\\xc8\\xee\\x18\\xecR\\xac\\xde\\x03\\x90GK\\x1a\\xf6#\\xec\\xf2J[\\x1f\\x80\\xd9\\x9e\\xa1\\xf1\\x1e\\xba4\\x9e\\xb5\\x9e\\xd8f\\x8d\\x97\\xbc\\x14l\\xb3.!X\\xd8\\x0e\\xef\\xf8\\x90\\xbc]?=\\xb8\\xc5\\xb5H\\n\\xd89 /k\\x06 O\\xf7\\xc3.\\x87\\xc3a\\x17\\xdd\\xe2\\x030\\xdd3\\xcae\\x0f]*\\xd0ZOt\\xb3\\nL^\\n\\xbaY\\xb8D\\x98V\\x87/p*\\x8bi\\xd8\\xe5\\xedG\\xde\\x9e\\xb7\\xd1a\\x97C\\x06\\r\\xfb\\x11v\\xd9\\x8d\\x84\\x9dWx\\x98\\xc4\\xf5\\xdb`\\x97\\n|\\xc8\\x8a\\x8d\\x0b\\xfc\\x1b\\xb3\\x97l\\xb2p\\x89\\xb0\\xb0\\ti\\xc9E\\t\\x0c\\xa6\\xa2\\xda\\xaf\\x82\\xf7#a\\xe7;\\xe6\\xa1a?\\x9e\\x07\\xe0\\x15\\xb3\\x03\\x1c\\x9d3t\\xe0C\\x97\\x0e\\xb4\\xd6St\\xb2\\x0eL^\\x8a\\xe8du\\x12`]V\\x04\\x11\\xc9\\xdbk\\x18R^>\\x01\\xbb\\x9c\\xd1l\\xd8\\xf7\\xb0\\xf3\\xfd\\xf2\\xd0\\xb0\\x1fa\\x97\\xd3Fng\\xaeg\\x08\\xc1\\x87.!h\\xad\\x13\\xd7\\x1c\\x1d\\x9b\\xe4\\xe5\\xc25\\x1f\\xb7|\\n\\xb0r\\x1dT\\xa4p\\x9d\\x87\\xe4\\xbb\\xd9\\x16\\x97\"\\xa2\\x1bv)\\x11\\xef\\x1d\\x90RpcRG\\xd8\\xe5\\x9c\\xb7;b\\xb6gh\\xc1\\x87.-h\\xad\\xebl\\x07-\\xc8\\x9f\\xd9xJ\\x83\\x9c\\xff\\x18\\xcav\\x89>\\n\\xdb\\xa8\\xb8I\\x1e\\x81\\x82\\xe3#!\\xb8\\xc4A\\xb6\\x93\\x1c\\xd0%\\\\}RGtP\\xb6\\xeb57L\\xf2j^~\\xec\\xd2\\x82\\xd6zb\\x9b\\x95w\\xf2R\\xc46\\xcb\\x93\\x00\\xf3y\\xdbg\\xea\\xcc\\x05N\\x8c)59\\xd8\\xa5\\x8a\\x04\\xbbl\\x85\\xc2.\\x87\\xc3`\\x97\\x92\\x1c\\xec\\xb2\\xa4\\x80\\x9do\\x82\\x98\\xc5u\\xb2\\xbb\\xb4\\xe0c\\xd6\\x82|\\xfamc\\xf6\\x92l\\xaez\\x04X\\xc9\\x8e\\x9d\\x85l\\x1c\\x95\\xe4\\x92\\x1d\\xaeE^^\\t;\\x93\\xba\\x87]Kv\\x00\\xa4d\\xd7\\xb0\\x9f\\xdc\\x11%\\x12L\\xf2:\\xdb]Z\\xf0\\x11\\xfa\\x8b\\x95\\xb7\\xd9K\\xb6Y\\x9d\\x04X\\x9e{\\x0f\\xa8<\\xb4\\x8a!\\xf9=a[\\xd8\\xe5\\x16\\xe9\\xedyy\\xe7vZ\\x0e\\x1d\\xdc\\x0f\\xfd\\x1c\\x8fn\\xe7]\\x0e\\xd8%\\xb2g(\\xc1\\xc7.%h\\xad\\xa74\\xc2\\xba;y)\\xd2\\x08k\\x93\\x00+\\xd7eg\\xe5\\x1a\\xaf/\\xe1\\xa4\\xed\\x97\\xc2I\\x1bv)\\x9e\\xc2.\\xe5\\xa9\\x86\\xfd\\x08\\xbb|o\\x03v\\xe1z\\x86\\x0e|\\xec\\xd2\\x81\\xd6z\\xe2\\x9aUw\\xf2Rp\\xcd\\xc2$\\xc0\\xcau\\xd9Y\\xb9FyQ\\x92\\x08\\x0eM\\xf2\\xdag\\x87k\\xd4\\x94]wt@{\\xceFG\\xd8\\xf5\\x85\\xc2\\x0ep\\x16\\x99!\\x03\\x1f\\xbbd\\xa0\\xb5\\x9e\\xd8f\\xd5\\x9d\\xbc\\x14l\\xb3p\\t\\xb0\\x9c\\xa6\\x82S\\xd9\\xe8\\x87]\\xde9\\x04\\xbb</\\xd9h\\x7f\\x80]sr\\xe3\\xc92\\xb4\\x97\\xd8\\x9dQ\\x0c|\\xec\\x92\\x81\\xd6zb\\x93Eu\\xf2R\\xb0\\xc9\\xb2%\\xc0\\xb2\\xb8\\x8b\\x9dy;\\xec\\x05c\\x8an\\x81]\\xce\\xa8\\xfa5\\xb2Hl\\xb4?\\xb8\\x7f\\xae\\x156\\xda\\x9f`\\x17\\xb2gh\\xc4\\xc7.\\x8dh\\xad\\'\\xb2\\xb9\\xf2\\x9a\\xbc\\\\\\xc8\\xe6\\x8f#<E\\x98w\\x84\\xdc\\xa9\\xa4\\x02\\x0c\\xc6\\x9b\\xcbh/5*\\xd8E\\x056\\xda\\x1fa\\x97G}a\\x176g\\xa8\\xc0\\xc7.\\x15h\\xad\\'6Yq\\'/\\x05\\x9b\\xb2R\\xbeZ\\xf1\\x83S\\xa96m[\\xc0\\x0e\\x80|\\x88\\x04v\\xd9\\x11:;\\xe2\\xfa*\\x009\\xb3\\xe2\\x1d8\\xb3\\xce\\x10z\\x8f]B\\xcfZ\\'B\\xf9w\\xb9I^\\nBy\\xaf>\\xc0\\x9aY\\xf1\\xc0\\x98\\x84\\'\\x8eq\\xca\\xaa\\x00BK\\xbe\\x8e\\x8a\\xab\\x93\\xeda\\xd8\\xe5\\x8bg\\xde^\\x96`u%\\x87Y\\\\]\\xee\\xda]\\xaf\\xef\\x8b\\xd3Y\\xcb\\xb1\\xbc\\xddL~\\nFY_D\\\\\\xd2+w\\xa7\\x19\\xbe$<\\xfd!eS\\xd3\\x01\\xd9\\x93w@\\x05\\xb4#\\xf2b\\x0b\\x07\\xa4v\\xed\\x80\\x1c[=\\x0fB\\x81\\xec\\xd3\\xb9A}\\x97\\xb0\\x1b\\xee\\xb2\\xca\\xe2\\x17\\xb0\\x1a\\xf5A\\x9dq\\xd4<1N\\xab\\x8cg\\xc29\\x19\\xfb\\xb8\\xf2-\\x983\\xc0\\xf1\\xde\\xeaa_\\xfd\\xc6\\xb7\\xcdd\\xa7\\xa8\\xe5\\xeb\\xe8\\x00o\\x83\\x9c\\xce\\xbe\\x84\\xfa\\x19\\x05?{}e_\\xd4g\\x99\\xf7\\xc82o\\xf2SD=\\xaf\\x87\\x19W\\xea\\xaf\\xbe^$uOQ\\xaf\\x9fV\\x04 \\xc7\\r[=\\x8c\\xfa\\xecJjT\\x07Gd+\\xc3\\x01yb\\xe3\\xecK\\xa8\\x9f\\xa1\\xf9\\x86\\xbb.\\xd1\\x97\\x9aO\\x19\\x9cU\\xdf\\xe4\\xa7\\xa0\\x9e\\x17\\xc7\\x8c+\\xf5A6j\\xd4\\xe3\\xe0&\\'y\\xbf \\xd1\\xd9g\\x80\\xd7t\\x0e\\xc8\\x891\\xa3\\xbe^\\xdc\\xb4\\xa8\\xc7iOy_\\xff\\x19\\x11\\xeegh\\xc0\\xe1\\xaeK\\x04\\xa6\\xe6\\r\\xee\\x83\\x0c\\x94\\x17\\xa3O\\xe3\\x14\\x7f\\x1b\\xe5>\\xf4W\\xee\\x1bR\\xd0/\\xa8\\xc2}\\xe3\\r$\\xdec\\x90\\'\\x14\\xce\\x93\\xe3%\\xf5\\xb9\\x8b~\\x99\\x18|\\xf0:\\xd0\\xa7{#\\xdbwIB[\\xade\\xeeY\\x81\\'\\xa0X\\xba\\xf0EZ\\xb6\\x8f\\xb5C\\xae\\xc5F\\\\J\\xdf>\\xae\\xbcf\\xc7\\x01\\xd1\\x8d\\x0e\\x0c\\xf2\\xf4\\xe2\\xd9\\x17\\xfd\",\\xee\\xeb\\x1a\\xd1\\xe2\\x1e\\x05Q^\\xe1\\x9c\\x07\\x91\\xb0\\x9f!\\x1f\\x87\\xbb.\\xfd\\x98\\x9aOa\\xcfr|\\xf2s\\tk\\xfdhy\\x1a\\xe7\\x8cK\\x05\\xc0\\xfd\\xca\\xbb^\\x1c\\xe0\\xc7\\xbcwg\\x80\\xf7\\xee\\xce\\x00\\xdd\\x90\\x8c\\xd9\\xfa\\xa9Uc\\x16\\xef[!\\xed`\\xf7\\xd1\\xfa\\xf3w>\\xd9\\x1bA\\xdd%\\x16\\x87\\xbb,\\xe0\\xf8\\x8bd\\xb6\\x84\\tr\\x91_\\xecbA}\\xb5j\\xe8~yE\\xb7u\\xe0\\x9ex2fQ\\xdb\\xd4d\\r@\\x99\\xc5+\\'\\xb9Fh\\xd4\\xe2\\xbc,\\xdd\\xfd\\x8dZt\\x91\\xa0\\x9d!\\x1c\\x87\\xbb.\\xe5\\x98\\x9aOA\\xcbB|\\xf2S\\x04-K\\x9d\\x88\\x8b\\xd6q\\xbf\\x95\\xd5\\x1f\\x9e\\x8e\\x93C\\x8c\\xe7KQns\\x17\\xfdD<.^?\\xf1\\x0c@\\x04\\xa4\\x8f\\xa1\\xa9x\\x86\\x84\\x1c\\xee\\xba4dj>Q\\xcb\\xaa|\\xf2SP\\xab\\x9a\\xe7Z\\xbd\\xd04M\\xf6\\xcb\\x0b/\\x8bZ\\xe89&\\xdd\\xc2\\x16\\x88<;vv\\xa6\\xb9\\x16\\xa3\\xb06\\xf7\\x1e\\xb2\\xc9|\\x1eD\\xc2v\\xc6)Q\\xab\\x0ew\\xad\\xac\\xady\\xe2V6_7\\x93\\xa3\\x82\\\\.\\xa1D\\x9c+V/\\t\\x9e\\x96\\xce\\xb2~\\x03\\xa0\\xdc\\x02\\x90]$w%\\xc7\\x8aZ\\xc0\\xd1\\x01\\xddR>#\\xccm\\xa2\\xcdf{=\\xdb\\x0e}\\x82\\xd1\\x9agn\\xb9\\xf0:$G\\x05\\xb7\\\\2\\x89x\\x85\\xdb\\xc6\\xf7\\xd5R\\xbf\\x9aJ\\xdf9 {\\xf5\\x0e\\xc8\\xa9\\x98\\x16`\\xdcbV\\xf2\\xf5\\xa53\"\\xdc\\xceQ\\x84C\\x9f\"\\xb4\\xe6\\x99[>\\xe0<$G\\x05\\xb7\"\\t\\t\\x8f\\x17\\xfb\\x1c\\xbb\\xeb\\x1a\\x02\\xe3\\xea\\x1a\\x02\\x00\\xb3b\\xd4\\xd7\\x8f\\x88\\xee\\x1d\\x90\\x8f\\t8\\xa0\\xdb \\x8d1N\\xdeC\\xb21\\xe6z#\\xaa\\xfb\\x04\\xe1\\x00it\\'b\\xdc\\x90\\x92yQ\\x84\\x84\\x0b\\xf3W\\x1f\\xfc\\x1b0\\xae\\x1c\\x97i\\x01\\xc6<\\n\\x96\\xb2z\\xf3)\\xe8\\x8d\\x10\\x88\\x9cTt_\\xf2P\\x90\\x03J\\xfd\\x1c=8\\xf4\\xe9Ak\\x9e\\x83^\\xc4xrT\\x04=\\xd7V\\x86\\x80\\xab\\xe8\\x80c\\xdd\\xddk\\x00\\xc6-\\xa4\\xa9r\\x9b\\x01\\xd9\\xf3\\xf7\\x1e<\\x86%\\x94\\xdcC\\x0e\\xdd:\\xa0\\xd4\\xce(\\x00\\xda>K\\xdf}0\\x0b\\x1f\\xd9\\xa4\\xb7\\xfb`\\xd0s<\\xaf\\xa7\\x88W\\xa8\\xad\\xbf\\xc5d\\x9b\\xfaM\\xb5\\x06.\\xa68\\xa0\\xe7\\xbc\\x1c\\x91\\'#Z\\xbe\\x8c\\xdbF1\\xf0<\\x88\\xe4\\xea9zn\\xe8\\xd3s\\xd6<\\x87\\xad\\x08\\xba\\xe4\\xe8\\x12\\xb6\\xfc\\x92w\\xe36\\xbci\\x85\\x8f\\xbd$\\xb8\\xbe)\\xed#r\\x9d\\xd0\\xe2\\x16]\\xc8\\x97e\\xe3\\x0c\\xc8\\x11\\x01\\x07\\xe4\\xcfa\\xe4\\xd6\\x0b\\x9d\\x96\\x8e\\x1b\\x92\\x0e\\xd3\\xb9\\x91\\x8e\\xfb$\\xdd\\x00\\x8ds\\xc7\\xe5\\xd6\\xc1\\x90\\x92\\\\.ZE\\\\\\x1e\\xbfLp\\x83\\\\\\x1fQ\\xf6\\x9d\\xd1\\x85\\xbf\\xcbj\\xe4\\xe6.\\x15r]\\xd4\\xc9\\xea\\xd8}Q\\xcc\\x18\\xb9\\rQ\\x87\\xe9\\xde \\xb7O\\xd4\\r\\xae\\xb1D\\xd5\\x19R\\x92+\\xaa.\\xe0\\xf2V\\xbf\\x01\\x8e\\xa5^\\xed\\x80\\xbcw\\xd6\\x01\\xa9\\t:PYF\\xe0\\xd9F\\xd9`\\xc3\\xe0\\xba\\xbf\\xe6\\xd3\\x95\\xa40G\\xd4\\r}\\xa2\\xce\\x9a\\xe7\\xa4 \\xaa.9*\\x92\\x82\\xa8:\\xc2\\xe3\\xc5\\x9a\\xf0\\xc8\\x8e\\xe5Q\\x1d\\x07t\\xf3\\x12=\\xe48\\xdc\\xb9\\x87h:\\x1fC\\xa9Ei\\x92\\x00\\x8b\\xdaz\\x890\\xd9o\\xeb\\x8e\\xb1O\\xd3Y\\xf3\\x89Z\\xde\\xbc\\xde\\xd8\\xc1\\xbe@\\xadh:\\xc2\\x99Z8\\x96#-\\xc9\\xef\\xa4\\xd0\\xe5^\\xe6\\x97\"\\x1f}\\xf1.Z\\x04D\\x179\\xd7\\xe2=\\xe4}`\\x0e\\xc8:\\x01\\xb3\\xb9\\x9e\\x11\\xc6>Mg\\xcd3\\xb7\\xa2\\xe9\\x92\\xa3\"lE\\xd3\\x05\\x9c\\xd7\\t\\xcfC\\xec~\\'{\\xf2\\x18X\\x1e\\xf8K\\x1d\\xa7u\\x84dc\\x00\\x1a\\xd6\\x00\\xe4\\x00\\xb3\\xbbb\\xe0\\xe8\\x80\\x1c\\xccp@\\xa9\\x9f#\\xf9\\xc6>\\xc9g\\xcd3\\xf5\"\\xf9\\x92\\xa3\\x82z\\x91|\\x01\\xafP\\x1f\\x1f\\x1cT\\xea]k\\x12\\xc5\\xdb\\xc1/I73\\x1c\\xa9\\x04~\\xbd\\xa6xpg*\\xfb\\xe0K\\x05\\xb7\\x0f\\xc2\\xf9\\x1a\\xf3\\xbd\\x11\\xf8}\\xb2o\\xf4\\x8a\\x98\\xc8>CJ\\xf6E\\xf6\\x05\\\\o\\x85p<\\xaa\\xf8\\x00\\xa2\\x81\\x8d\\xc7\\x03\\xe3\\xb4\\xf7\\x03\\xda\\xeb*\\xc3\\xaf\\x9d\\xb7J-\\xb0\\xe1J\\xea\\x1d\\xdeE\\xa8\\x9d#\\xeb\\xc6>Yg\\xcds`\\x8b\\xacK\\x8e\\x8a\\xc0\\x16Y\\x17qY\\x1f\\xc3q%_\\xe7\\x11u\\x95q\\xbe\\x14\\xd1u\\x8e\\xe8\\xd1\\x01 \\xfc\\x975r\\xebe\\xc4\\x93\\x03\\x9a5\\xe6\\x08\\xbb\\xb1O\\xd8Y\\xf3L\\xae\\x14\\xf2\\x92\\xa3\\x0b\\xb9\\x1c~OC\\xc0+q\\xdbP\\x8c\\x96\\x15\\xea\\xa5\\xc3\\x9d\\x03\\xf2H\\x89\\x03*\\x9a\\xe1\\x8a{\\x18\\xb7\\x18C\\x03\\x17\\x97%\\x81;G\\xd8\\x8d}\\xc2\\xce\\x9a\\xb7\\xb8\\r\\xc2\\x8ew0\\x8d\\xdb\\x12\\xafp\\xeb\\x8aQ3.\\x10\\xbe\\x15\\x19\\xb9\\xdeG\\xca\\x1e@t\\x85\\xdc\\xeab\\xf46\\x9cY\\xec6\\xb4\\x1dft#\\xe7\\xf6i\\xbb\\xd1\\xd5\\x91\\x08gC\\xca\\xd8\\x15m\\x17p-*\\xc1\\xb1\\x16\\x95\\x00\\xe8.&\\x00\\xdd@n\\x00v;\\xcb\\x17\\xaf5%\\x00\\x95u\\\\C\\xd9a27\\xa8\\xedSv#\\x94\\xdd \\xb2\\xd9\\x90\\x92ZQv\\x01\\xafP\\x8bo\\x00h\\xe46\\xde\\xa29\\xe0R*\\xeb\\xb4\\xfa\\x03\\x82Fm\\x06*+\\x85\\xfaKa,j1]\\xc9\\ns\\x94\\xdd\\xd8\\xa7\\xec\\xacy\\xce\\n\"\\x9a\\x93\\xa3\"\\xe3\\x8a\\xb2\\x0bx\\x85Z(;\\xa5\\x16\\x07?\\xe9oi9\\x01\\x80\\xa6\\x84\\xbaN3j[\\xd5:wE\\xf1`\\xd46\\x94\\x1d&s=j\\x17}\\xca\\xce\\x9agjE4\\'G\\x05\\xb5\\xa2\\xec\\x02\\xae\\xd4\\xc2\\xb1\\xaa\\x0b\\x00\\xf2\\xd5y;L5]\\x8a\\xbcP\\xa4\\x05\\x1c\\x1c\\xd0{\\x99\\xbb\\xa2x9y\\x0fY\\'`27\\xa8\\xed\\x13v\\x0b\\x08;^\\xb0o\\x06CJjE\\xd8\\x05\\xbcBmv\\xac\\xb9\\x16#\\xea\\x81\\x1e\\x00\\xf2$H\\xba\\x92\\xf4\\xe7\\xd7\\xb3T\\x8d\\x1eG\\xef\\xc1*\\xdb\\xa8\\xc5t9!`27\\xa8\\xed\\x13n\\x0b\\xe8\\'~\\n\\xc1\\xa8\\r\\xca\\x8b\\xbf\\x13\\xff\\x14q=\\xb4\\x1c\\xbak\\xad\\x0e\\xe3j\\xad\\x0e\\x80<a\\x9d\\xc6\\xabi\\xe9\\xbd\\x03RP\\xb6\\xa8\\xaew1\\xea]\\xae\\xca^\\x90#\\xc2\\xfd\\x9c\\xe3\\x9b\\x8b>\\xd9f\\xcd\\xa7\\x8c\\xc1\\x8f{\\x19\\xf7A\\xb6\\xadD\\xb6\\x05\\x9c\\xc9}\\x8e\\xdd\\xd7\\xf4\\x13}Ip\\x1aWw\\xe1\\x1c\\x10U\\x07\\xa0\\x92P\\xbc\\xe0(\\xdbp\\xe7\\xc9\\xc9\\xee1\\x10y\\x17\\x86_\\x97\\xa6\\x949\\xban\\xd1\\xa7\\xeb\\xacy\\xe6^$srTdk\\xd1u\\x01\\x97\\xcfl\\r\\x01\\x96\\x07\\xf9\\x12\\\\K\\x13[\\x07\\xf4%\\xf3\\x8e\\xa82\\x81/={\\x01\\xa0\\x92\\xcd\\xbdH\\xa9q\\x0fD\\xe2~\\x8e\\xec[\\xf4\\xc9>k\\x9e\\xb9\\x17M\\x9d\\x1c]\\xb8\\xe7\\xe4`9\\'\\xe0|;\\xb0\\xc0/\\xf1J\\xd2A\\xbdO\\x16)\\xb8\"=2\\x0e@\\xde\\x83\\x96F\\xaa\\xca+K:u\\x85iI\\xa7\\x0eX\\xbeo\\xc8B\\xcc\\xe6F\\xbe\\xef\\x93\\x85\\x8b\\x86F\\xb3\\x9c\\x13d!g\\r\\xe3\\xbe\\xc4\\xf5\\xdc\\x0b\\x1c\\xeb~\\x06\\x00.b\\xed\\x92\\xc3D!\\xdfY,\\xa1g@\\xde+\\xe0\\x00\\xdf1\\x8d\\xda\\x86&5n\\x1b\\x92\\x10\\xb3\\xb9\\xc1m\\x9f$\\\\@#\\x8d\"\\t\\r)\\xe3Z$a\\xc4\\xf95;\\x03\\x1cW\\xb8\\xc5\\x99QM\\xd8(\\x10\\xd2\\xaa\\xdb\\xb8\\xf5\\x02\\xa1&\\xec\\x8cT\\xc8\\xc5 \\xb2\\xbav_\\x923\\xe6\\x1c\\xe1\\\\\\xf4iBk\\x9es\\x86h\\xc2\\xe4\\xa8\\xc8\\x19\\xa2\\t\\x03\\xce\\xf9\\xdan\\x86u\\xe9g\\t\\xd9GTr\\xbd\\xf2(\\xd2\\x05}*\\x19\\x19\\xf5>\\xbd\\x19\\xb6T\\xa1\\x0f/\\xe4\\xceQ\\x85\\x8b>Uh\\xcd[\\xe4\\x06U\\xb8\\x16U\\x98\\x06:\\x93_\\xb9\\x19\\x86C\\x9e\\x14\\xf6\\xc6=$\\xa0\\xe6c\\\\\\x90n\\x82\\x9e/U\\xb9\\xaf;\\xb3\\x84\\x9c\\x01\\xf9N\\xb0\\x03r\\xae\\xc4\\xb2FC7b\\xba\\xd7\\xb3\\xc6\\xb2O7Z\\xf3L\\xbeH\\xf2\\xe4\\xa8\\x88l\\xd1\\x8d\\x01\\xd7\\x8d:8\\x96\\x0f0\\x0f>\"o\\x17\\xef\\x1c\\xd1\\xed\\x0et\\xd1MP\\x1fD\\x02\\xdb\\x07\\xd1\\xa7t\\x1c\\xe1\\xc8\\xc6tn\\x90\\xdb\\xa7\\x1c\\x97\\xae\\x1cE\\x94\\x1bR\\x92+\\xca1\\xe0\\xaa\\x1c\\xe1\\x98\\x97 \\xdb\\xc1G\\x94r+\\x00U\\x8e\\xde\\x83\\xfe\\xbe\\x07w\\xc5c\\x1c\\x1d\\xd0\\xe7\\xfe\\xdc\\x95P;\\xa7\\xe4\\xb7\\xecS\\x8e\\xd6|\\x8a[\\x16\\xcf\\x9b!9*\\xe2VJ~\\x01W\\xe5\\x18aI\\x1a\\x18W\\xcf\\x1a\\xfa\\x05\\xe9\\xf63\\x10=\\xfb\\x02@w\\x9f\\xdd\\x17\\xffD\\x8c{hJR)\\'\\x07D\\xbd`:7\\xc2\\xbaO9.!\\xbb*\\xdc\\x07\\xe5\\xb8\\x16\\xe5h=/\\x7f\\x9b\\n\\xf7\\xb1\\xbb\\xacD0p\\x85|\\\\\\x91fl\\xbf\\xd6;r\\xb6\\x1f\\x80\\xe8\\x96Ikz\\xc6>\\x8e\\x8d*\\xfb\\x18_\"\\x7f\\x8ev\\\\\\xf6iGk\\x9e#_\\xce\\x19$G\\x97\\xc8\\xe7\\x89=\\r\\x01\\xaf\\xb0\\x1f\\x1f\\x1d\\xa4\\x14\\xf2\\x92\\xbaW\\x7fr\\x96u\\xf0\\x8c\\x9f\\xacU\\x1c\\x90\\xdbe\\xa3\\x87e\\x9d\\xfa\\xe9Q\\xe3\\xbeU2\\xf4\\xcb\\x12\\xee\\xe7h\\xc7e\\x9fv\\xb4\\xe6\\x99\\x029h\\x90\\x1c\\x15\\xdc\\xd3\\xdf\\xc6\\xb8/\\xf1\\xca\\xdd\\x12\\xa71\\xe9\\x17c\\xd4\\xd6\\x01\\xbbY\\xd6\\x01\\x8b\\xeb:`\\xd4\\xd6\\x01\\xa3\\xb6\\x0eXRiHCL\\xe6FR\\xe9\\x93\\x86KH\\xa5\\x85l\\x89\\x18RR+\\xf2%\\xe0\\x15j!\\xf4d\\x99\\x87\\x11+9\\x03=4j3 o\\x85\\x18\\xe0J\\x0f\\x877\\xc60j\\x1b\\xca\\x10\\x93\\xb9Am\\x9f2\\\\Bu-d\\xc7\\xc3\\x90\\x92ZQ/\\x01\\xaf,C\\xdc11ea\\x9b\\x11=Q\\xe7\\x80r\\xdb8\\xefiq[\\x97\\x99\\x16\\xb7\\xf5A\\x8c\\xdcF\\xb9\\x10\\xd3\\xb9An\\x9f4\\\\B\\x8e\\xf1&\\x8d-D\\x824\\xbc\\x17\\xf5\\x12p\\xdd\\xd2\\x80c\\x95\\xdd\\r\\xc0R\\x02\\xc4\\xa4r\\xeb%M\\x91\\xdd\\xe8\"\\xdf4r_\\xf2d\\xbc\\x91\\xdb(\\x18b:7\\xc8\\xed\\x93\\x86K(\\xa1\\x85\\xeci\\x18RF\\xae\\xaa\\x93\\x80\\xebJ\\xa2\\xa5\\xfd\\xce#\\xea\\n\\xbaU1D\\x17\\xdd0r_,B,r\\xeb\\xc3\\x1b\\xb9\\r\\xe9\\x87\\xe9^\\'w\\xd5\\'\\xfd\\xacy\\xbe\\x99\\xc9\\xa6FrT\\xdc\\xccD\\x9d\\x04\\\\3.\\x1ck\\xe4: \\xdc\\x02\\xd03\\x04\\x00\\xf4,\\xa8\\xf7\\xa0?\\xfcq\\x00\\xa0G\\xe2|\\xba\\xbcN\\xc0dnP\\xdb\\'\\xfcV\\x10~\\x0bQ\\xd5\\x86\\x94\\xd4\\x8a:\\x898\\x1f\\xf6|\\x1e\\x02\\xae\\x19\\x19\\x03\\xeb;\\x02\\x00\\xe8\\xf1\\r\\xbfTy\\x05R\\x1a*\\xc5\\x07\\xef\\\\\\x1c\\x1c\\xd0\\xd7\\x924F?y\\x0fQ\\'\\x98\\xcd\\r\\xee\\xfb\\x94\\xe1\\xca\\x95\\xa1\\x88nCJ\\xeeE\\x9dD\\xbc\\xc2}\\xd9\\xbf\\xc2}\\x1e\\x98\\x83x;\\xe0\\x8a\\xe4e\\xab\\x0e\\xd8\\x91->\\xb0\\xe8\\x93\\xe0\\xa7\\x89\\x8d\\xfc\\xfa(\\x16\\xf8\\x19\\xd0\\xe7\\xd0\\xdc\\x97\\x04\\xfe\\x9c\\xa2\\xe2\\xaaO\\x1aZ\\xf3)\\xa7p\\x9cm\\x86\\xe4\\xa8\\xc8)R\\xd8\\x8ax\\x85\\xfck\\xd2\\xf1%\\xb9O\\x03k-\\x1d\\x00\\xefV\\xec\\xbc\\x07\\x87\\xf7\\xde\\x01\\xddF\\x85+=\\\\\\x03\\xa0B}C\\x17b\\xb27\\xe2\\xbeO\\x17\\xae \\xcf\\xf8Y)\\xa3>\\x08;f\\xe2\\x89\\xf0\\n\\xf5e\\xffJ\\xdc\\xd7\\x95\\x99\\xc5\\xbd\\x9f^\\x15]\\xe8\\x08\\x1f\\xbb5\\xf2\\xe1L\\xb6\\xa3\\x00\\xe8\\xe1\\x7f\\x00\\xba\\x1d\\xe5\\x83H\\xdc\\xcf\\x11\\x86\\xab>ah\\xcds\\xdc\\x8b0L\\x8e.q\\xff \\xc20\\xe2\\x15\\xf2\\xcb\\xfeZ\\xd1\\xc5\\xc0z<\\xc7\\xafH_\\x02\\x01D\\xcb\\xe9\\x0e\\xc8*\\x11\\x00\\xef\\xe5Z\\xceq=L],\\xe37\\xa4#\\xa6{#\\xf2\\xfb\\xa4\\xe3\\nZj\\xa9\\xe4\\x07\\xe9\\xc8o\\xde\\xb6\\xc8\\x0fx\\x85\\xfc\\x12\\xaf\\x90\\x9f\\x07\\xae\\x90\\xefbV#\\x1f]4\\xe3g@\\xb7\\xa30;]\\xa2\\xfb\\xb4\\xf5\\x15\\x1c\\x8eH\\xe4\\xe7\\xe9\\xdc \\xbfO\\\\\\xae\\xa0\\xb5\\x96\\xa2\\xdb\\r)#_\\xc4e\\xc0+\\xabH8\\xd6C:>\\xa4\\xbcwx\\x00R\\t\\xed\\xbaT\\xb4\\xdbiCvZlgD\\x9f\\x85\\xf3.\\xc2\\xee\\x9c\\xc2\\xe3\\xaaO]Z\\xf3\\x9cWD\\xba\\'GE^\\x11u\\x19q=\\xac\\x10\\xf0Jh\\xe3\\x84\\xa9({\\\\\\x91|\\xabf\\xf0K\\xad,$[\\xa7U\\xbd\\x8b\\x9e\\x04n\\x8cby\\xa5\\xa1>1\\x9d\\x1c\\xda\\x97$\\xfb\\xe6\\xcb\\xe7?\\x7f\\xfa\\xc1\\xfe\\xf1\\xea\\xcb\\x8f\\xaf\\x87U\\x9f\\xfa\\xb4\\xe6\\x99|\\xfa\\xb1\\xda\\x1d5\\xa8K\\xe6\\xc2\\xf2J\\x89\\xcb;\\xfb#\\\\\\xe1\\xbe^2\\xb4\\x1bj\\x1d\\xb0\\xb5L\\x06\\xf8B\\xecv\\xea\\xb5U\\xbd\\x9f\\xb6\\xea\\x92\\xdeE>\\xe3vv&\\x81_>\\xa9\\xd8\\xe2~\\xdd\\'N\\xady\\xe6^\\x94\\x7frT\\x04\\xbe\\x88\\xd3\\x88\\xd3:\\xf3\\xd9\\xde\\x85V\\x96 \\xa4\\xbe\\x83q\\xf5\\xf1[\\xbf -[6\\xba\\xec\\xd3P\\xb9\\xb6*\\xe4\\x03\\xd1\\xd3\\x0e\\r_\\xa7\\xb3/\\xe6\\x1e\\xd3\\xb9\\x1e\\xf7\\xeb>\\xf5j\\xcd3\\xf7\\xb21\\x90\\x1c\\x15\\xdc\\x8bz\\r\\xf8(\\x8f\\xcb\\xc11\\xafP\\xb7\\x03\\x00\\xae\\xf0\\xef\\x1c\\x90\\xd7\\xf6;\\xa0/<\\x80+}\\x99D\\x030j\\x1b\\x07^1\\x99\\xebw\\xcbu\\x9f8\\xb5\\xe6\\x99Z\\xd9\\x18H\\x8e\\njE\\x9c\\x06\\xbcBmv\\xcc\\x07\\xa7\\x8c\\xda\\x0c<\\xd0\\x1f\\xc3\\xa8E\\x0fY\\x89\\x00\\xd0\\x95H\\x038\\xba+}\\t\\xafOW\\xa2v\\x8e\\xf4\\\\\\xf7IOk\\x9e\\xa9\\x15\\xdd\\x9f\\x1c\\x15\\xd4\\x8a\\xf4\\x0c8Sk\\x19#(O\\xcd\\x18y\\\\>\\xefg\\xcc{\\x99T\\xa9G\\x17\\xa5\\xbey\\xa0\\xd5\\x9diI\\x18\\x88\\xea\\x1f\\xef\"\\xe4\\xcf)J\\xae\\xfb\\xc4\\xa75\\x9f\\xc8\\xe7\\x9f\\xddfH\\x8e.\\xe4s^}\\x8a\\xb8\\x1e\\x9at\\xc7w\\x94\\xe7\\x8d^W\\x97\\xb2\\x9b\\x08D\\x95\\xfd\\xf9*\\xe9/rpgzJ\\xc7\\xbb\\xe82\\xd0\\x11\\xa1\\xb7\\x94\\x97\\xcd\\xbba\\x9f\\xbc\\\\CMU\\xe8\\r\\xf2\\x92\\xf93z\\xaf\\x9dI\\xb5\\xd8.a}\\xd3\\x87\\x8f[a\\x1fW$_\\xa5N.\\xa7P\\xd0u\\xe0y\\x16J\\x7f\\xa3\\x8f\\xa5\\x96\\xa6\\xc2tD\\xf8/\\x1fgl\\xf2\\xdf\\xa70\\xd7\\xd0s\\x15\\xfe\\x83\\x82\\xe4\\x87a\\x8c\\xff\\x12\\xaf\\x84\\xb7\\x1f\\x1d\\xd5\\xf0n\\x0ci\\x89\\xbb\\xae\\x14m\\xbd\\x81.\\x8f\\xca/\\x10=\\xcc\\xe3}t\\xbf\\xdc\\x11\\xe1\\xb7\\x14\\x91M~\\xfbD\\xe4\\x1a*\\x8c\\x97\\xca\\x96>\\x82\\x88\\xe4\\xd7|\\x1b\\xbf\\xd7_?\\xea\\x8e9\\x18-}4\\x8e\\xa2\\x1a\\xbf\\r\\xc4\\x08n \\x96?\\x1a\\x88\\x05p\\x03\\xb1uG\\xa3J\\x89)\\xddXw\\xf4\\xe9\\xc85d\\x13\\x7f\\x9b\\xca\\x08\\x0e:\\x92C\\xc7\\x08\\x0e\\xb8<H\\x0e\\xc7\\xfa\\x1et\\x07\\xe8nk\\xf4\\xd6\\x8f\\xbc\\x1a\\xbb\\x19XR\\x0f#\\xb7\\xde\\xc3\\xb8E\\x0f\\xba\\x8f\\x1a\\xb5\\x19\\xa0{\\xf5\\xcf>\\x99\\x1b\\xd4\\xf6\\xa9\\xc4\\xb5\\x9f\\x16\\x95\\r\\x10C\\xca[\\x9f\\xd4(#\\xae\\xd4\\xd6\\x0b\\x8e\\x16\\xba\\x00hzF-d\\xa0\\x14\\x80\\xbd\\x07\\x8da\\xd4\\xd6{\\x18\\xb5\\xf5\\xc1\\x8d\\xda\\x0c(\\xb5s^Ws\\xdf\\'\\x02\\xady^U\\xc8\\xeeGrT\\xac*D\\x04F\\\\\\xa8\\x85c\\xdd\\xb8s@\\xa8\\xf5K\\xd1\\xbb\\x9aw\\x11n[]\\x8e\\xf6\\xca\\xf3i^\\xbad\\x03 \\xe4b:\\xd7\\xe3\\xf6\\xbeO\\xe5Y\\xf3L\\xae\\xecn$G\\x05\\xb9\\xa2\\xf2\\x08\\x8f7\\x88\\x97\\x01\\x8e\\x17\\xf4;\\xde:\\xc09h\\xe7\\x00o!\\xee\\x1d\\xd0\\x13\\x92\\x18CU\\x1e\\x00\\xde\\x01<\\xb9+\\xa5v\\xce\\xe1\\xd4\\xfb>\\x95g\\xcd3\\xb5\\xb2y\\x91\\x1c\\x15\\xd4\\x8a\\xca#\\\\\\xa8E\\x8dO\\x8e\\x89aD\\x15\\xd0\\x00\\xf8!>\\xa3\\x16\\xbaP6\\xfb\\xdd\\x95T\\xd6\\x1b=\\x8c\\xda\\xecJ\\xa9\\x9d\\xa3\\xf2\\xee\\xfbT\\x9e5\\xcf\\xd4\\xca\\xdeDrTP+*\\x8fp\\xa16;\\xe6OT[\\xd4\\xe2\\xd0\\xa7\\xa88\\x00\\xdc\\xc3\\xa8u\\x15\\'w2\\xf7\\xa5\\xdc6\\x84\\x9f\\x91\\x9b\\x11%w\\x8e\\x8a\\xbb\\xefSq\\xd6<\\x93+\\xbb\\x13\\xc9\\xd1\\x99\\xdc\\x91\\x93\\xe0\\xd3\\x10q\\xfa\\xdbXJ\\xc8\\x8e\\xf5E>\\x00\\xf4\\x9c\\x98\\x03\\xc4\\xba\\x91\\x9b]-e\\x8d\\xeb\\x00]\\xbbe[\\xf4\\x90\\'\\x88\\x00(\\xb5s\\n\\x84\\xf7}\\n\\xce\\x9agjew\"9*\\xa8\\x95\\x02a\\xc4\\x95\\xda\\xecX\\x0f\\xdb`D-|7\\x00\\xa36\\xbbZi\\xd8b\\x0cb\\xd0\\xa8E\\x0fy>\\x1f\\x80R[\\x8a\\xb3K\\xea\\x89\\xdb\\xf4\\xf7}\\xe2\\xcc\\x9aO\\xd4\\xf2]b3$G\\x05\\xb5rr4\\xe2Jm\\xbdVg)\\xc1U\\x9b\\x94\\xf7\\xce\\x88,\\xc1\\x80\\xf0S\\x00\\x07w\\xc6\\xe2\\xdb\\xc8\\x85\\xceSr3\\xa0\\xe4\\xce)\\xef\\xdd\\xf7)3k\\x9e\\xc9\\x95\\xd3\\xe6\\xc9QA\\xae\\x94\\xf7\\x02\\xae\\xe5=8\\xd6\\x93J\\x00\\x96t\\xef\\xb4U\\x02\\nr\\x9a\\x12\\x00\\xc86\\xbb\\xbb\\xd2t\\x9b{\\xb0\\x1c\\xb6l\\x0b\\x80E/&sc\\x01\\xd6\\xa7\\xc9\\xee\\xa1\\xc9\\xd6R\\xb66\\xa4\\xa4Vj{\\x01\\xafP[\\x7f\\xaa\\xcf\\xe26\\x03\\xf7J-\\x14\\x96R[WX\\x16\\xb5\\x19\\xd03`\\x00\\xf4\\xf9z\\x00\\x1a\\xb5s\\x1e)\\xbc\\xef\\xd3d\\xd6<G\\xadh\\xb2\\xe4\\xa8\\x88Z\\xd1d\\x01gj\\x9f\\x87\\xd8]\\xf6\\x821\\xae\\x96\\xac\\x01\\xe8\\xdb\\x00\\x1b\\x80%\\xe3<\\x05>\\xf9j\\xccg`E\\x7fD\\xcb\\x17\\x00\\xe4,\\x06\\x00e~\\x8ed{\\xe8\\x93l\\xd6<3/\\x92-9*\\x98\\x17\\xc9\\x16pe>v\\x17\\xe6}\\\\\\xdd\\xe8\\x01\\xa2O\\xd77\\x80\\xbd}\\x97p\\x9a\\x03\\xffL\\x0e\\x0e<\\n\\xf5\\xdeC\\xa8\\x07 \\xd4c6\\xd7\\xf3\\xc9C\\x9f\\xa0\\xb3\\xe6\\x99z\\x11t\\xc9QA\\xbd\\x08\\xba\\x80\\xebs\\xb4\\xb1\\xbbR\\x9f\\xc7\\xd5\\x17z\\xe0\\x82\\xf4U\\xdb\\x00\\xf8\\xd7`\\xcc\\xd7]\\x19\\xf3x\\x95)\\x11|t@\\x8f\\xde\\xf9\\xe0\\x9c\\xc91\\x99\\x1b\\xcc\\xf7\\xe9\\xbd\\x07\\xe8\\xbd\\xb5\\xe8=CJ\\xe6E\\xef\\x05\\xbc\\xc2|\\xe8\\xae\\xccC\\x0e\\xd2\\x1f|;\\xe0\\x82\\xf8\\xe6\\xbas@\\xbf\\xa4\\x82\\x1ez\\xe8\\xd1\\xe7\\xa6\\x87\\xd8\\x81\\xe8\\x1b\\x84\\x00h\\xd0\\xcf\\xd1\\x83\\x0f}z\\xd0\\x9a\\xe7\\xa0\\x17=\\x98\\x1c\\x15A/z0\\xe0\\x15\\xea\\x83\\x9c\\x94R6\\xc6\\xad\\x04}\\xbe =\\xec\\xdb\\xe8aA\\x9f{\\xe8\\xd3\\xcd\\r\\xc0\\x82\\xbe~\\xd8\\xf5\\xe4\\x802?G,>\\xf4\\x89Ek\\x9e\\x99\\x17\\xb1\\x98\\x1c]\\x98\\xe7\\xc0y\\x1a\\x02^a>T\\x0c\\x95\\xf9<\\xae\\x1e\\xb3\\xc6\\x05iE\\n\\x80>]\\x00@\\xb7\\x97\\x1a\\x801\\x0f-\\xa9\\x89>\\x03\\xca\\xfc\\x1c-\\xf9\\xd0\\xa7%\\xadyf^\\xb4drT0/Z2\\xe0\\x03Q\\xfb<\\xc4\\xee\\x9an\\xf2\\xb8\\xfa-7\\\\P\\x85y\\xf4\\x105\\x84\\x1ez\\xc6\\x00\\x80\\xbe<\\xc8\\'\\xad\\x85X J\\xfd\\x1c\\xad\\xf9\\xd0\\xa75\\xad\\xf9D=_\\xf8fH\\x8e\\n\\xeaEkF\\x9c\\xb2\\x95Q_v\\xd7\\x87\\xc10\\xae\\xbeM\\x01\\x00?hb\\x99>_)\\x03\\x96n2\\xc0\\xebG\\xbb\\xc7\\xd6\\x01\\x0b\\xfa\\x0c\\xac\\xe9\\xa2-\\xdd4\\x84(&s\\xe3\\x1e\\xdb\\'D\\x1f D\\xefE\\x88\\x1aR2/B4\\xe2\\xca|\\xd9\\xbd\\xc2<\\xc6\\xe53\\x8av\\x93\\xcd\\x08o\\xad\\x1a\\xf5u\\xc0\\xa8\\xcf@eaY\\x07\\x8c\\xfa\\x0cT\\xa8o\\x08UL\\xf6\\x06\\xf5}B\\xf5\\x01B\\xf5^\\x84\\xaa!%\\xf5\"T\\x03^\\xe1\\x16e:9d\\x8a\\x11\\xf5i%\\xbf\\x1499\\x03@\\xdf\\xf0\\xdd\\x00\\x8cZh^M\\xe5\\x8d\\xe2!&s\\x83\\xda>\\xa1\\xfa\\x00\\xa1\\xca\\x9f\\xc1\\xb4|\\x12\\x84*?\\x07d7\\xd1\\x12\\xd7\\xb7\\xec\\xc1\\xb1\\xee\\xb8\\x02\\xd0\\xd7T8@\\xb7s\\x8b\\xda|\\x8d\\xfa\\xd4\\xb3\\x8f!\\xdb+>+\\xa9\\xcb\\xfa\\x18\\xb2(\\x9f\\xa3D\\x1f\\xfb\\x94\\xa85\\xcf\\xa9Z\\x94hrT\\xa4jQ\\xa2\\x01W%\\x1a`e\\x1e\\xe3\\xea\\tR\\x00\\xba\\x07\\xe0W*A\\r@W\\x86\\x00\\xf48G\\xc3\\xd5i\\xf0\\x1e\\xcc<&s=\\xa8\\x1f\\xfb\\x84\\xa85\\xcf\\xcc\\x8b\\x10M\\x8e\\n\\xe6E\\x88\\x06\\xbcB-^\\x98*z\\x07#\\xaa\\xd2\\x04\\xa0\\x0f\\x04\\x00\\xa8P\\x9b\\xc7\\xd0G\\xf9\\x1bc\\x18\\xb5\\xb9\\x87\\xac?0\\x99\\x1b\\xd4\\xf6)\\xcdG(M\\xbe\\x85l\\x06CJjEi\\x06\\x9c\\xa9}\\xa6\\xee\\xb2\\xf4\\xc3\\xb8,\\x0f\\xb7\\xa9_\\xfa[k\\xa6\\x06\\xa0G\\xd2\\x1d\\x90\\xc2\\xa3\\xcfM\\xbf\\xc5\\xd0\\x18\\xc4\\xa8oT\\x1e1\\xd9\\x1b\\xd4\\xf7)\\xcdG(\\xcd{Q\\x9a\\x86\\x94\\xd4\\x8b\\xd2\\x0c\\xb8\\xbe/5vW\\xea\\xeb\\xf2\\xd0\\xa8\\xcf\\x80nl\\x01\\xd0C\\xd3\\x00t\\xd5\\xdd\\xe8q\\xf41\\xf4d/zh\\xd0\\xcfQ\\x9a\\x8f}J\\xd3\\x9a\\xe7|\"J39\\xba\\xe4\\x13\\xfe\\xf9?\\r\\x01\\xaf0\\x1f\\xbbsI\\x18\\xe3ji\\r\\x80\\xbe%\\xd8\\x01\\xd1;\\x00\\xf4\\x1d\\x01\\x8d\\x1e\\xc6|\\x9e4\\xf7\\xb0\\x98o(M\\xcc\\xf5F\\xcc\\xf7)\\xcdG(M\\xaeZY\\xba\\x89\\x8f%\\x8a\\xd2\\x0c\\xb8\\xae\\xfc\\xe0\\xb8\\x92O\\xf2\\x88\\x95|R\\x07\\xf6\\xe9JRt\\xf0_\\xe9\\xe0\\x80>\\xae\\x8b\\x1e\\xfaYI\\x00\\x1a\\xd4s\\x94\\xe4c\\x9f\\x92\\xb4\\xe6SP\\xb3\\xd25j\\xe3C\\x87\\xa2$\\x03^\\xa1\\xb6~<\\xd4\\xf2\\x05\\xf4\\x9d\\x14-\\x1b\\x80Q\\x8b\\x02\\xa8\\xa6j(B\\xd9\\x8eE\\x0f\\xe6\\xdc\\xa2\\xb6!\\x151\\x99\\x1bQ\\xdb\\'\\x15\\x1f!\\xd9\\xf8a[\\xa36H\\xc5Q\\xa4b\\xc0+\\xd4f\\xc7\\x95\\xa5\\x1d\\xf4\\x9bR\\x9b\\x81\\xca]\\x10\\xd7\\xa8\\x0f\\xf8\\xe3\\xea\\xf5(:\\x00\\xdd\\xea\\x06\\xa0a;\\xe7\\x81\\xc4\\xc7>-h\\xcds\\xd8\\x8a\\x0cO\\x8e\\x8a\\\\,Z0\\xe0\\xfaL\\\\\\xec.\\xbb~\\x18\\xb7B}\\xbe \\xce\\x93\\xbb\\xc1\\xafT\\x9f1w\\xa4\\x9220;\\xdd\\xecF\\x9fJ`7\\xd4\"\\xe6s#\\xb0\\xfb\\xd4\\xe2#\\xd4\"?\\xc8l\\x81\\x1d\\xd4\"\\x8b;\\xbb\\x11\\x86\\xa3\\xa8r\\x1e\\x12\\x8eu{\\t\\x80\\x1e\"\\x01\\xa0\\xef\\xeat@s\\x06.^\\x9f`A\\x17}\\x8e\\x19\\x80\\x06\\xf6\\x0c\\xb9h\\x87\\x94z>\\xf3\\x9b\\x9a\\xe7\\xc0\\xe6\\x92\\xf1\\xe4\\xa8\\x08l\\x96\\x8b\\x84\\xf3\\xfeR\\x84E\\xd3\\xf8\\xb8\\xb2\\x9d\\xed\\x80h\\x1a\\x07\\xa4\\x86\\xd3\\xeaqh\\xf58: \\x87\\xff\\xcf\\xaeH.\\xfad\\xaeF\\xf5x\\xd7%\\x17S\\xf3\\xcc<\\x0b\\xf5\\xc9Q\\xc1<\\xcbE\\xc2\\x95\\xf9RmV\\x98\\xc7\\xb8R2\\xf6+\\x92\\x95\\xb5\\x03\\xf22|\\x07\\xa4\\x92\\xd0\\xeaa\\xd4\\xe7\\xd1%\\xe8\\x1d\\xe0\\xa0\\xf7\\xc9\\xde\\xa0\\xbeKN\\x8ew\\x90\\x93|\\x7f\\xda$\\xa4\\xcc\\xe6,\\'#>\\xc8G)\\xdds%\\xac1\\xa4<G{\\xbe\\x18\\xbe%\\xee\\x1d\\x91\\xcfR: b\\xbd\\xd5\\xe3\\xe4\\x80\\xb2;\\xa369\\xdeu)\\xc6\\xd4<\\x076\\x97\\x85\\'GE`\\xb3b$\\x9c\\x0f\\xa6\\xb9c\\xb9\\x19: \\xc2\\xa4\\x05\\x18\\xb5x\\x14\\x91\\xd3\\xf5\\xf9\\xe2%]\\x9f}\\xf1\\xc6\\xa9\\x03\\xca\\xed\\x0cM8\\xdeui\\xc2\\xd4<s\\xcbj|rt\\xe1\\x96c\\xe6)\\xe2\\x03e\\xfbg\\xea\\xcej\\xdc\\xc7\\x95ck-`\\xe7\\x00\\xe7X\\xa3>OA\\xb6\\xac\\x1d\\x90\\xb3Ug@\\x99\\xafkB\\x9f\\xcc\\x8d\\x9c\\xd1\\xa5\\t\\xc7;h\\xc2\\x07V\\xe3\\t)r\\xc6\\x825a\\xc4+\\xccGIIj\\xdc\\xc7\\x15\\xc9\\xe8\\x80|-\\xe9\\xdc\\x83\\xd5x\\xab\\x87\\xdd(\\xebZ\\xd2\\xb2u\\xbd\\x90i\\xf9$\\x03\\x1a\\xf33$\\xe3x\\xd7%\\x19S\\xf3\\x1c\\xf3\\\\\\xf7\\x9d\\x1c\\x151\\xcf\\x921\\xe2\\x15\\xe6\\xaf\\xbe\\xe6\\xc6\\xc7\\x95\\xd5\\xa1\\x03\\xf2\\x06\\xd5s\\x0fe\\xbe\\xaeA\\x8d\\xf9\\x0c\\xc8[n\\xce\\x93\\x967\\xb9;\\xa2\\xd4\\xcf8\\x06;\\xdeuI\\xca\\xd4|\\xa2\\x9eS\\xae\\xdd(\\x83\\xa4\\xe4\\xb7\\xd7Z\\xba)q9\\xab\\xe9\\x8e+Q\\rII\\x14Z>Au\\x91\\xab\\x05\\x0e\\xc8\\x96v\\xab\\x87Eu]\\x9dZT\\xd7\\xab\\x8b>\\x99\\x1b\\xf9\\xa4KQ\\x8ew\\xd0\\\\\\xbc=g\\xd4\\x06E\\xc9o\\xaf5j\\xaf>\\x9a\\xe8\\x8e\\xe5\\x95p-\\xc0\\xa8\\xcd\\x97\"\\xe7\\xd2Z\\x80\\x85m\\xbd\\x87Q[\\x07\\x8c\\xda\\xba^\\xf4\\xc9\\xdc\\xa0\\xb6K/\\x8ew\\x90\\\\\\xfcX\\xb2Q\\x1b\\xf4\"\\xdf\\x82\\x8c\\xda\\xabz\\xd1\\x1dW2B\\x1e\\xb1\\xb2\\x00\\xc1\\xe1T\\x8dZ\\x97\\x85|z\\xdb\\x07\\x91\\x97\\xa48 \\'A\\x1c\\xd0\\x8c0G/\\x0e}z\\xd1\\x9a\\xe7\\x8c z19*\\x92\\xb1\\xe8\\xc5\\x80\\xcb\\xf1\\xa71v\\x97\\x05\\x08\\xc6\\x95M\\xe9\\xd4\\xaf\\xb6\\x0f\\xbas@\\xca\\x01\\x0e\\xf0\\x1f\\xeb\\xd0\\xeaqt@6\\xa5\\x1d\\x10\\xe61\\x99\\xebQ=\\xf4\\xe9Ek\\x9e\\x99\\x17\\xbd\\x98\\x1c\\x15\\xcc\\x8b^\\x8c\\xb8\\xe8\\xc5\\x00\\xf3\\xc7\\xe0_F\\x8c\\xab\\xa9\\x1a\\x80.@\\x1a\\xc0\\xde]\\xf1>\\x8d1\\x8fZ\"\\x97\\xd4\\x1d`mt:\\xf7`\\xa5\\x8e\\xc9\\xdc`\\xbeO.\\x0e\\xd0n\\xfc\\xf7\\xdf\\x8c\\x86\\x94\\xcc\\x8b\\\\\\x8c\\xb82_v\\xaf0\\x9f\\xc7\\x95\\xef>\\xa4aS(\\xc8\\xcb\\xc8Z\\x801\\x9f{\\xc8\\xd6_\\x0b\\xb0\\x98\\xcf=\\xa4Z\\xe0\\x80\\xc6\\xfc\\x1c)9\\xf4IIk\\x9ec^\\xa4drT\\xc4\\xbcH\\xc9\\x80\\xcb\\x0b(F8\\xae\\xa4\\x13\\x9cc\\xe5-\\xeds\\x0fY\\xdb\\xf95\\xaaL\\x07\\xa2\\x8b;\\xef\\xa2\\x8b; J\\xee\\x1c-9\\xf4iIk\\x9e\\xc9\\x15-\\x99\\x1c]\\xc8\\xe5\\x95\\xd5\\xd3\\x18p{4\\x9e5\\x0b<W\\x027\\x0f)\\xcf=&\\x8f\\xd3\\xb50#\\x16\\xb9\\xe8\"J\\xdd\\xbb0\\xef\\x16\\xba\\xf5Q,i4\\xf4\"\\xe6s#i\\xf4\\xe9\\xc5\\x01z\\xf1Q\\xf4\\xa2!%\\xbb\\xa2\\x17\\x03.\\xec>\\x8f\\xb1\\xbf\\xde)!\\xe6\\xf8tY\\xea\\xd7\\xc8\\x1a\\xa81\\x92+\\xe3\\xbe\\xde\\xc3\\xf2u\\xbd\\x87Q\\x9f\\x01\\xfe\\xc1\\x19\\xf5\\r\\xc1\\x88\\xc9\\xdc\\xa0\\xbeO0\\x0e\\x10\\x8c\\x8f\"\\x18\\r)\\xa9\\x17\\xc1\\x18q\\xcd\\xd7W\\xdfj3b\\xdcJ\\xd8\\xa36\\xa9I\\xa5^i4\\xe61\\x05\\xde\\x862\\xea\\x81H\\xad\\xc6\\x11]\\x1f\\xa2\\x8b&\\x959\\x8aq\\xe8S\\x8c\\xd6<\\x05\\x99<+m\\xf7\\xca\\xa0\\x18\\xf9\\xa5\\x07\\x96T\\xc2+o\\xf8s\\x8e\\xb6\\x0e\\xc1\\x99P\\x8d\\xeb:`+\\xc0:`\\xec\\xd6\\x05\\xa0\\x91[\\x07,\\xae[\\x92\\xd1\\xe7+\\xeb\\x90\\x19E\\xc8q\\xe8\\x93\\x8c\\xd6<s\\xcbE\\xc8\\xc9Q\\x91\\xb0\\xb9\\x08\\x19\\xf1\\xca\\xdd\\x10\\x8f;\\xf2\\xfb\\x15R\\xbf4\"\\x9f\\x805j\\xeb=\\x8c\\xdaz\\x0f\\xa3\\xb6\\xde\\xc3\\xa8\\xad\\x03\\x962\\x1a\\x921\\xb1f\\x93\\xbd\\x912\\xfa$\\xe3\\x80\\xd7\\xbb\\xdc\\xd1\\x8f\\xc4\\xc26HF^\\xecZ\\xd8\\x96x\\x85Z\\xd7\\xa2\\x1a\\xb6x\\xd2\\x91\\x84\\x94q\\x0b\\xcd\\xc8\\'R\\x1d\\xe0\\xcd\\x16\\xe3\\xb6\\xde\\xc3\\xb8\\xad\\x8fa\\xdcb\\xbe\\x12\\xb6s$\\xe3\\xd8\\'\\x19\\xady\\x0e[\\x91\\x8c\\xc9Q\\x11\\xb6\"\\x19\\x03.\\'R\\xc7\\x00+\\xf5\\x18Wk1\\x00\\xa4\\xba\\x9b\\x1c\\xd6\\xb4\\xe4\\xde\\x01\\xf9&D\\xab\\xc7\\xd1\\x01yJ\\xcc\\x01I\\xc6\\x98\\xcc\\xf5\\xa8\\x1e\\xfb$\\xa35\\xcf\\xcc\\x8bdL\\x8e\\n\\xe6E2\\x06\\\\\\xbe\\xdf:\\xc2\\xb1\\x1c\\xb3v@\\x17x\\xe8!/\\'\\xf4\\x1eZ\\x0e@\\x0f\\x06\\x8cZ\\x7f\\x83O\\x0c\\xde\\x93\\x03J\\xed\\x8cw\\xdd\\x8cc\\x9f&\\xb4\\xe6\\x99Z>\\xec;9*\\xa8\\x15M\\x98\\x06:\\xe3\\xba\\x0f\\x12\\xe0\\x817\\xad_\\x92\\xfb)%\\xf3a`\\x07\\xe4i$\\x07\\xec;\\xa3\\x910\\x0bk\\xa8BY[7\\x00\\xe3>\\xf7\\xd0\\xca\\xb9\\xf3\\xc1\\t\\x05\\xd3\\xb9\\x11\\xd6}\\xaap\\xc4\\xbba\\xf8\\xf5\\x8c\\x9b\\xd1\\x902\\xacE\\x15\\x06\\\\w\\xa5\\xe1x\\xd0\\xd28\\x10\\xce%\\xbb4\\xe2\\xf4\\xe7Pn\\xebB\\xf2\\xe0=\\xb4x\\x0bWr\\xd6\\xc6{h\\\\\\xcf\\x11\\x85c\\x9f(\\xb4\\xe69\\xaeE\\x14&G\\x97\\xb8\\xe6\\x9f\\xfe\\xd3\\x18p\\xde\\xccx\\x8e\\xb0\\xbc\\xfc;\\xc1\\xb5\\xd4\\xbbu@\\xb7V\\xd1C>$la\\xdd\\xaa06\\x06\\xb1\\xb0\\xce=*\\xd9\\xba\\xa1\\x181\\xd9\\x1ba\\xdd\\xa7\\x18GH\\xa4;Q\\x8c\\x86\\x94\\xd4\\x8bb\\x0c\\xb8\\xe4\\x0c\\xe3\\xbe\\xec\\xaf\\xfbL\\x18X\\xb7\\xb5\\x01\\xe8>\\xd3\\xf9R5\\xec\\xf3$\\xe4\\x81\\xeat\\r\\xb5?\\xb0q\\x9f\\x01\\x95->\\x88\\xa4\\x9495\\xc6\\xb1O2Z\\xf3\\x1c\\xf6\\xca}\\x90\\x8c\\xfc\\x127\\x0b\\xfb\\x12\\xafq\\x1f\\x9ep\\xe4\\x03~\\xa9{#\\x9dC\\xe7\\xc9\\x13K\\xdee\\xd4z\\r\\x9cU\\xc8o\\x95\\x19\\xd1\\xa3B~\\xfd\\xe0\\xaaO\\xf7F\\xe0\\xf7i\\xc6\\xd15\\xa3\\xe8uC\\xca\\xc0\\xe7\\x83\\xabc\\xc0\\xf5\\xa8\\x13\\x1c\\xcb{IR\\xbfi+D\\xaa\\x8c\\x00\\xf4\\x90\\x19\\x00\\xad26\\x00\\x8b\\xeb<F\\x85\\xdaF\\x95\\x11\\x93\\xb9Am\\x9fd\\x1c\\xa1\\xa1x\\xb7\\xc0n\\x95\\xa1\\xca\\xc8I\\xc1\\xe2\\xba\\xc4+\\xd4f\\xc7z\\x16\\x07#\\x0ez\\x80\\x0f\\x08\\xa7\\x19\\xcb\\xd7\\xd9\\x97\\x9e\"k\\x00\\xc6-4#?i\\xe7\\x80\\xde*\\xe7h\\xc6\\xb1O3Z\\xf3)g\\x0c\"\\xc7\\x93\\xa3\\xe2VIWi\\xdc\\x06\\\\\\xb6\\x99\\x02\\xcc\\x8f\\xab\\xdb\\n0\\x8f\\xab{\\xd7\\x00\\xe4L\\xb0\\xf7\\xa80_/O\\xda\"\\xa5\\x0e\\x18\\xf3\\x19\\xa8\\xdc)\\x1b\\x8a\\x12\\x93\\xb9\\x1e\\xd5\\x8b>Ei\\xcd3\\xf3\\xa2\\xd6\\x93\\xa3\\x82yQ\\x94\\x01\\xd7\\xc5w\\x80+\\x8bo\\x0c\\xac\\x92\\x12\\x80|7tgYz\\xbaVYS\\xee\\x1d\\xd1l\\x8d.\\xf22\\x00\\xef!o\\xf9t@\\xc2\\x1e\\xf3\\xb9A~\\x9f\\xa8\\\\@T\\x0eJ~\\x10\\x95+\\x11\\x95\\xd6\\xf3\\x9a\\xf2\\tp\\x8d\\xfc<p\\x85|\\x17\\x84\\x92\\xceq\\xad\\x15\\xe9\\x03D\\x0bb\\xdeE\\x0f\\x00\\x02\\xe1_\\xd1itFx\\xa1\\x82\\t\\xdd`\\xbfOw.\\xa0;Y\\x18nFC\\xca\\xd0\\x17\\xdd\\x19\\xf0J\\xe8\\x97\\xdd+\\'[}`\\xd9\\xc7\\x02 _\\xa5J\\x174\\xfdJu\\x9d\\xd2\\xe8rhv9:\"\\t\\xdf\\x07\\x11\\xee\\xe7T#\\x17}\\xba\\xd3\\x9a\\xe7\\xb4#\\xdb)\\xc9Q\\x91vDw\\x06\\xbc\\xc2}\\xd9]>G0b\\\\ym\\xb3\\x03\\xf2!M\\xcb:\\x90\\xa5r\\xee\\x04\\x80\\xaec\\x00h\\xb1\\xd2GW\\xeaA\\x87P?G\\x96.\\xfad\\xa95oQ\\x1fd)\\xaf!\\x9e\\xc64\\xd0\\x95\\xed\\x96\\x00W\\xa8\\x870\\xd4\\xa8\\xf7\\x83\\xb8R\\xd3\\xc1\\xa5\\x0ez\\x9e\\x1bH\\x85{8\\x93G\\x80\\xd3\\xd5\\xd7\\xe4\\x81\\xe5\\x9c\\x860\\xc5|n\\xe4\\x9c>a\\xba\\x800\\xe5\\x19Y\\xce\\t\\xc2\\x94W\\x89F~\\x89WJ\\x99\\x11\\xe7%\\xe3K\\xea\\x9f\\xa6\\xafgO\\x00\\xe8R\\xa7\\xd1\\xc3\\xee\\xb6\\x90\\x99r\\xde\\n\\x80|\\xe5\\xd1{\\xc8\\x1f\\xd2\\xc8o\\x1431\\x9d\\x1b\\xe4\\xf7)\\xd3\\x05\\x84\\xd8 G \\x0c)\\x92\\x0e\\xbfN\\xd3\\xc8/q\\xdd\\xec\\x82c\\x15G\\x00t{\\x1c\\x80\\x8a\\xa3\\x06`\\xf9\\x1c\\xe7^\\xe9\\xe7c\\xe9<\\x03\\xba\\x8f\\xe8\\xd3\\x95\\xa42\\xa7V\\xb9\\xe8\\xd3\\x9d\\xd6<\\'\\x15\\xd9\\xebJ\\x8e.\\xf9|-\\xba3\\xe0\\x15j\\xb3c\\x15G\\x18\\xb1\\xb6L\\xcc]t\\x89\\x8e.zZ\\xad\\x01\\x18\\xb7\\xd9\\x95<0\\xe9\\x80\\xae\\x12\\xe7\\xd4*\\x17}\\xc2\\xd3\\x9agneC%9*\\xb8\\x95Ze\\xc0\\x079[\\x02\\xc7L\\xfavl\\x00v/\\x84X\\x94\\xbd*\\x00\\xf2^\\x80V\\x0f\\xa3\\xd6+\\xb0\\\\zp@\\xc2v\\x8e\\xee\\\\\\xf4\\xe9Nk\\x9e\\xa9\\x95\\xed\\x92\\xe4\\xa8\\xa0Vtg\\xc0\\x99\\xda\\xe71\\xc2\\xfap\\x13\\x06\\xd6\\xaaO\\x030\\xeaQ\\xfd\\xe4\\xccn\\xe9\\x18:RJ\\x0f\\r\\xc0\\xb8G-\\x93zX6n(OL\\xe7z6^\\xf6)Ok>q\\xcf\\x13\\xda\\x8c\\xc9Q\\xc1\\xbd(\\xcf\\x80\\xcb\\xee\\xc8s\\xec\\xaf{\\xb4\\x18X\\xb9o\\x00\\xbb\\xe40]\\xaaV}\\x00\\xe8y\\xb5\\x06ptW\\xfa\\xd0\\x9e\\xd3\\xc1a\\x8f\\xc9\\xde\\xa0\\xbeOw.\\xa1;G\\xd9n1\\xa4\\xa4^tg\\xc0k\\xd4\\x97\\xfd+\\xd47\\x1f\\x98\\xc4%\\x89\\xb67\\xf2s\\x1f}b\\x12\\x80\\xeeu5\\x00#\\xbf\\xf5\\xc4\\xa4\\x13\"\\xe4\\xcf)w.\\xfbd\\xa75\\xcfq/\\xa2?9*\\xe2^dg\\xc4e\\xaf+\\xc0\\x15\\xd9\\x89\\x81u\\x05\\xd8\\x00\\x8c\\xfa|\\xa9\\xf2\\xee\\x01\\x07T\\xf27z\\x18\\xf5\\xd9\\x95\\x9e\\x81u:\\x84\\xfa9\\xaas\\xd9\\xa7:\\xady\\xa6^\\x8eO$G\\x05\\xf5\\xa2:#.\\x8fS\\xc2\\xb1>\\xd3\\x07@\\x8b\\xf8\\x8d\\x1e\\xfb\\xb1\\xd1\\xe3\\xe0\\x80\\x16\\xf1\\x1b=N\\xdeC\\x16)\\x98\\xcc\\x8d\\x94\\xd2\\xa7*\\x97\\x10Q\\xfc\\xf1K\\xcb\\xe6AU\\xf2\\n\\xe1\\x89q>\\x00\\x0b\\xc7ZQ\\x03 EK\\x0b\\xdb\\xba\\xd23n\\x1b\\xe2\\xd0\\xc8\\xadw\\xb1\\xb8\\xcd\\x80V\\x92}\\xc2\\x12\\xb73^\\xd7:.\\xfbT\\xa35\\xcfq+\\'$\\x92\\xa3K\\xdc\\xf2\\x9b-\\x8d\\xdc\\xa0\\x1a\\xe5\\x1b\\xde\\x11\\xd7R2\\x06\\x96o\\xb3\\xa5~55i\\xdc\\xe38\\xab\\xec\\x96\\x00\\xa8\\xa4\\x8cz\\x0f\\xa3>\\x03\\xbaI\\xe8t\\x08\\xf5s\\xaa\\x99\\xcb>\\xcdh\\xcd3\\xf5\\xa2\\x19\\x93\\xa3\\x82z9\\x00Kx\\xbcX[\\xa4\\\\\\x7fb\\x12\\xe3je\\x02\\x00\\xafE\\x8cy\\x94?em\\x0e\\x80o\\xa0\\x16\\xf4\\xa8\\x8b\\xb2/\\xa3\\xbe\\xee\\xcbRJ\\xa3\\x96\\x89\\xd9\\xdcH)}\\x9ar\\tM9\\x8a\\xa64\\xa4\\xa4^4e\\xc0+\\x85\\xe4\\xd8_\\x8e}c\\xe0\\n\\xf7\\xadZ\\'zT6\\xc7\\x81\\xe8F\\x15\\x00\\xce\\x87\\xc6=\\xe4\\xab,\\xce\\x9d\\x0f\\t\\xfb9\\x9as\\xd9\\xa79\\xady\\x0e{\\xd1\\x9c\\xc9Q\\x11\\xf6\\xa29\\x03^\\xd9\\xa7\\x8a\\xb8hR\\x0c\\\\\\xc98\\xf5\\xca\\xa6\\xc5}\\x06tk\\x1c@%\\xees\\x0f^\\x83\\x1b\\xf5\\x18C\\xf6g\\x9d\\x0e\\xa1~\\x8e&]\\xf6iRk\\x9e\\xa9\\x17M\\x9a\\x1c\\x15\\xd4\\x8b&\\rx\\x8d\\xfa\\xf0H\\xa6R\\x9f\\x07\\xae\\xdci3\\xa0\\xc7\\xe1p\\xa9\\xba\\x8b\\x05`\\xe0J\\x86\\xe5\\x9c\\xbaX5\\xee1\\x88r\\xdf\\xd0\\xa4\\x98\\xed\\xf5\\x94\\xb3\\xea\\xd3\\xa4\\xd6\\xbc\\xc1}rTp/\\x9a4\\xe0\\x15\\xee#.\\xdcc`\\xe5\\x1e\\x80r\\xdf\\x00\\xf6#\\x00\\xc9E\\x07G\\xe4\\xbd`\\xe7.\\xfal\\xa0\\x13\\xc2\\x81\\x8f\\xe9\\xdc \\xbfO\\x95\\xae\\xa0J\\xf9\\x97\\xbc\\x19\\r)\\xc9\\x17UJ8\\xdfj#,\\xe7\\x860n\\x85\\xfb|A\\xba3\\x8e\\x1e\\xf2\\xea\\xaat\\xa1)~\\xe4%\\x8d-\\xe0\\xe8\\x80\\x1e\\x02p6\\x84\\xf99\\x92t\\xd5\\'I\\xad\\xf9\\x14\\xf6\\xfc\\xc2\\rc>HR\\xfeP\\xe1S\\xc4U\\xef\\xc3\\xb1\\xee\\xde\\x02\\x90o\\\\$\\x87\\xe9R\\x18\\xb0\\xb0\\xce\\x80\\xdeH\\x1b\\x80Q[\\xefqr@t\\x11&{#\\xa8\\xfb$\\xe7\\n\\x92\\x93+\\x95Fm\\x90\\x9c\\xfc~L\\xa3\\xb6\\xc4+\\xd4\\xd6_\\xbb\\xb3M\\xfd\\x12\\x83\\x95SC-\\xc4\\xc8\\xc5\\t[\\xd9Bl\\x00Fn\\xfd\\xd5\\xb1Fn\\xa3\\x94\\x89\\xe9\\xdc \\xb7Ot\\xae :\\xf91\\x0e#7\\x88N^\\x02\\x18\\xb9%\\xaeU\\x078\\x96\\xefT\\xa4~\\x89\\\\-\\xe8\\x00\\xd0C\\xf9\\x00D\\xa6Z:\\xce\\xbe\\xb4L\\x0c\\x80\\x7f\\x03\\xc6m\\xa3R\\x89\\xd9\\xdc\\xe0\\xb6Os\\xae\\xa09\\xf9\\xa5\\x19\\xc6m\\xd0\\x9c\\xfc\\x8aL\\xe3\\xb6\\xc4+\\xdcB\\xd6\\xd1\\xaa\\xdd\\x027\\x03\\x95t\\x8b\\xf3\\xae\\xf4\\x83\\xb5\\xb0\\xcd\\x00\\xff\\x99\\x8c\\xda\\xd6\\t\\xd9F\\x0f\\xa3\\xb6Q\\x87\\xc4dnP\\xdb\\xa7)W\\x10Q\\xbc\\x95c\\xd4\\x06Q\\xc8/i4j\\xaf\\xd7!\\xe1Xw\\xf8|D9\\xd5\\x03\\x80\\xaf\\xc4\\xa8\\xf5S\\xbc\\xf1\\xfec\\xd4\\xa2\\xdcH\\xeb4\\xcb\\x08\\xf5\\xe3\\xb7FmC3b27\\xa8\\xed\\xd3\\x8c+hF\\xfe\\xe8\\x9dQ\\x1b4#\\x1fO0jK\\\\O/\\xc0\\xb1\\xee\\xf05\\x80]r\\x98RE\\x85\\xda:`\\xd4\\xd6\\x01\\xa3\\xb6\\x0e\\x18\\xb5\\x8d\\xf3\\xaf\\x98\\xcc\\rj\\xfb$\\xe1\\n\\x92p!r\\xdc\\x90by\\xf6 \\x920\\xe0\\x15j\\xebr\\xcc\\x12\\x02\\x0e\\xc6\\xca\\xb9\\x90\\x06`Q\\x0b-(\\'\\x13\\x00\\x88 1ns\\x17y?\\xb9\\x03\\xbaJ\\x98\\xa3\\xf9V}\\x9a\\xcf\\x9a\\xe7\\x05\\x98\\xc8\\xed\\xe4\\xe8\\xa2;8\\xd3Y\\xd8\\x06M\\xa7\\x1b|\\x01\\xd7\\x07\\xfb0\\xb0\\xcam\\x00\\xbc\\x16\\xb7\\xb0F\\x1dR6\\xf8\\x00T\\x92q\\xee\\xa1O\\xe9\\xa0\\x87\\x9e\\xc1t:d\\xed;\\xe7\\x91\\xcau\\x9f\\xe4\\xb3\\xe6\\x99z\\x91\\xdb\\xc9QA\\xbdH\\xbe\\x80\\xcb\\xab\\x9eG8Vj\\x01\\xf0Q\\x88\\x9d\\xf7\\xe0\\x1f\\xd8\\xde\\x01\\xdd;\\x85+}\\xcf\\x1f\\x00}\\xcd\\x8eO\\x97\\xa9\\xc5d\\xaeg\\x8cu\\x9f\\xa0\\xb3\\xe6\\x13\\xb5\\xbc\\x06\\xd8\\x8c\\xc9QA\\xad\\x08\\xba\\x80\\xeb\\xc1\\x058\\xaeP\\x8bs\\xad\\x921\\xd0\\xa3Bm\\xfd$\\xec!]bm\\x87\\xfb\\xe8\\x00\\xe7\\xb1\\x93\\x03\\x9200\\x99\\x1b\\xd4\\xf6)\\xb65\\x14\\xdbR*\\xb8\\x86\\x94\\xd4J\\x111\\xe0\\xba:\\x83c}\\xf1\\x02\\x00]\\xf9\\x02\\xa8<<\\x06D%\\x1b\\x00\\xdd\\xfb<\\xfb\\x92\\xcdO\\x9f\\xb0\\xc4\\xed\\x9c2\\xe1\\xbaO\\xb3Y\\xf3\\x1c\\xb7R\\xa1M\\x8e\\x8a\\xb8\\x952a\\xc0+\\xe4\\xc2\\xb1.\\xd00\\xa4\\x9e\\xfcm\\x00\\x96\\x13\\xea\\xc7R-p\\xa1\\xff\\xb4P\\x08DO3\\xf9\\x84\\x85\\xdc9\\xc7O\\xd7}\\x9a\\xcd\\x9agr\\xa5\\x06\\x9b\\x1c]\\xc8e%\\xf54\\x06\\xbc\\x92o!\\xa7\\xe4|)F\\xd4G\\xef\\x00\\xe8A1\\x00r\\\\\\xd1\\xc8\\xf5\\n\\xa2\\x1c\\xc3k\\xf5\\xb1\\xbc\\xd0Pm\\x98O\\xce\\x0b\\x97\\xdfq\\xf8\\x92\\xfd\\xb8\\xeeSm\\xd6<\\xb3+\\xe7\\xaa\\x93\\xa3\\x82]y\\xf01\\xe0\\x95\\x94\\x9b\\x1d\\x0b%\\xdbt\\x85\\xd3~\\x03o\\x1e\\xda\\xfd\\xac.\\xcf,v\\xa1\\xf4d\\xbb\\x01\\x80\\x1e \\xf5A\\xf8Q\\x02c\\xb7!\\xdc0\\x9f\\x1b\\xec\\xf6\\t\\xb75\\x94\\x0c\\xdfx\\xec\\x86\\x16\\x84\\x1b\\xbf-\\xd1b7\\x16\\x0b\\xb9\\xc8\\r\\xc7\\x95\\xa7\\xa5\\x81\\xe83\\xbb\\xdeE\\xcfF\\x03\\xd17,\\xb4\\xba\\xd8=-OLw!}\\xc6\\x92\\x19\\xca3\\xa4\\xcd\\xd8\\xed\\xd3nk\\x88\\x99\\xa5\\x94Z\\r)cW\\xea}\\x01\\x97\\x93/\\xcfc\\xc0u+\\r\\x03\\xeb\\x810\\x00k\\xfa1Yd\\xe3\\\\\\xa8\\xd4Z\\x01p\\x80X\\xe2\\xa8\\xf70\\xea3\\xc07r\\x0b\\xec\\x86\\xb6\\xc3dn,\\'\\xfa\\xb4\\xdd\\x1a\\xdan)\\xda\\xce\\x90\\x92z\\xd1v\\x01\\xafQ_\\xf6\\xafP_W_\\x96U2\\xc0b\\xd2\\xa8\\xaf\\xf7\\xb0\\xa4R/\\xde\\x19\\xf5\\xf5\\x1eF=\\x84\\'\\xe5B\\xa3\\x1etH\\xd4\\xcf\\x91~\\xeb>\\xe9g\\xcds\\xc6\\x16\\xe9\\x97\\x1c\\x15\\x19[\\xca}\\x01\\xafQ\\x1f\\xa4\\xa1\\xbeZ\\x0e#\\xd7\\x92\\x0e4\\x1e\\xef\\xfd\\x19\\xfb\\xff\\x9f\\xb2oI\\x92$6\\x8e\\xbd\\n\\x8d\\x07x\\xea\\xea\\xaa\\xea\\x0fM\\x94\\x99\\xbag\\xfa\\xabK\\xd0(n)\\x19\\xb9\\x90t\\xfb\\xe7(xT#\\xdc\\x03\\x95\\x89\\xcd,\\xc6\\x11@\\xc2+:\\x12\\x8e\\x08 \\x89\\xf8\\xe5rD<\\xf51\\x1b\\x06\\xfcS\\x18:\\xff\\x93\\x94\\x1fg|\\xdb\\xf5\\x1f\\xd7\\xf4\\x1f\\x9aO\\xf8o\\x1d\\r\\xfc\\x9b\\xfeKx\\xc1\\x7f\\xc6\\x9d\\x7f\\x8e\\\\\\xf0\\x1f\\x88\\x07\\x9e@<\\xe5J\\xc4\\xf9\\x0f\\x13\\xfb\\xd4\\xe3=\\x11\\xad\\x1a\\xfa\\x0e\\xc0\\x94\\x0cg\\xb4\\xc1\\xff\\x9aH|\\x0c\\x91h\\xfa\\x1b\\xc8\\xc8\\xbf\\x89\\xc4\\x84\\xdb\\xa7\\xd9\\xee\\xb3\\xb9\\x15yp\\xdc\\x83\\xde|\\xf2\\xd6\\x0c/I<\\xdb,\\r\\x13/5\\x98\\x98|F_\\x07\\x8d|_W\\xc4/\\xae\\x0cF4\\xfapB\\xb7W4\\x8fk:\\x12\\xcd/\\xde\\xaf\\xfe\\xf4r\\xdf:\\x1a\\xbc\\xdftd\\xc2\\xbd\\x00>\\x9b;\\xfb}\\xdc\\x8a}\"\\xbe\\xf3\\xc4g\\xf5\\x14\\x0b\\x81\\xa2\\xda \\x90\\x82\\xfe>\\x8cv\\x06\\xdf\\'#\\xc6\\xfe(4g+\\x9e\\xc75\\xa1\\x89\\xe6\\x9d}S\\xf1\\xad\\xa3\\x81}\\x13\\x9a\\t/|\\x7f4\\xf7\\x8b\\x8f8n\\x15y(\\x1e\\xfd\\xdb*3\\x9b\\x8f\\xfb\\x19\\x02\\xef\\x9f\\xf4\\x06\\xef\\x9f \\xe0\\x7f\\x92?\\xe4\\x8c7b\\xcf\\x9a\\x16}\\xa42\\xd3\\xabH\\xe0\\xfd\\xe9\\xa8\\xa3\\xb2\\xf1\\x9a\\xf1\\x82`V\\x8d\\x9a\\x16\\xe5\\x88~\\xd13\\x01\\xcf\\x16\\x10\\xf0\\xbd?\\x02\\xbe\\xf7G\\xc0w\\xb4c\\x0cs\\xed=%\\xab\\x8fkB\\x14\\xcd\\xbbk\\x9b\\xcco\\x1d]]\\xfbxgB4\\xe1\\x05\\xb5\\xbdc_\\xacsD/\\xb5&\\xe0\\xb7\\x97\\x13\\xf0\\x1d\\xebIWp\\xdb:E\\t\\xaf\\xed\\x80L\\xf6?\\xda\\xff\\xb7\\xc9nx\\xed\\x9a\\n}\\xa4\\n\\xd5\\xa0\\x06\\xaf\\x1dU\\xe6Q/`\\x84\\xd7\\x8exAm]\\xf5\\x897b-\\x0f\\xdf\\x03P\\xce\\x11\\x13XZ\\xaa\\xc7p\\x11\\x13\\xea\\xbe\\xc0-Mt\\x9d\\x02r;\\xe2\\xe4\\xee9\\xc8\\xf8\\xb8&B\\xd1\\xbc\\xfb\\xadm\\xa0\\xb4\\x8e\\x06\\xbf5\\x11\\x9ap\\xffBJ\\x82\\xb5J\\xfe\\xf7=\\xc7\\xf5\\x1b\\x19\\x08\\xd8\\xcb\\r\\xe4\\xb3P\\xd421a\\xe2*\\x94\\x88\\x7f\\x10af\\x02\\xf2\\x99{\\xb4\\xa0\\xb1\\xa7\\xea\\xf4qM\\x86\\xa2y\\'\\xdf\\xea\\xdc[G\\x03\\xf9&C\\x13\\xee\\xbbW\\xec\\xd8\\x13\\x06\\x04\\xbc\\x0e),L\\xe1\\x13\\xf0\\x93\\x8e\\x04\\xbc\\xaat28\\xa8e\\xb6\\xd2\\xa8\\xdd#3\\x1f\\xd7d&\\x9awjms\\xa5u4Pk23\\xe1\\xc5Bo4\\xf7\\xe4.\\xc7\\xf5\\xa3\\xd1\\x04|Wvb\\x81\\x98\\xc2\\xd2QK\\xeeN,\\x10R\\xba\\x85ox\\x13\\xf0\\x88\\xb2\\'\\xc1\\xf8\\xb4&0\\xd1\\xbc3o{+\\xad\\xa3\\x81y\\x13\\x98\\tw\\xe6\\x13\\xec\\xccs\\\\\\xbf\\xea\\x82@Q FD}\\xfb\\xe3>L\\xbc\\x9ewb\\xf2\\x15&:\\xfcw\\x00\\xc6=\\xa7s\\xfbU\\xf9\\xb4&.\\xd1|\\xc6}\\xba@\\xe7\\xce\\xc4e\\x1b\\xe8\\xfa\\xdb\\x14\\xdc\\x8fp\\xc1}}f\\xf1\\xed\\x9e\\x0ft\\xf0\\x80C\\xc4\\x8f9\\x86\\x89\\x1f2\\x9d\\x98\\x80\\xfb\\xc91K\\x90\\xdf\\x11\\'\\x7fOU\\xe9\\xd3\\x9a\\xb6D\\xf3N\\xbe\\xedl\\xb5\\x8e\\x06\\xc77m\\x99p=\\xfe\\xf1\\xfb\\x9e\\x1d\\xfb\\x12\\x90\\x80_-:\\xb1\\x80c\\xf7g\\xd4\\xae>g\\x00\\xb8\\xed\\x16~\\xdd\\x02\\x01\\xa7vO\\x86\\xf2iM8\\xa2y\\xa7\\xd66MZG\\x03\\xb5&\\x1c\\x13\\xae\\xd4\\xfe\\xbaO\\xb0o\\xd7r\\\\_\\xa5\\x10\\xf0h>\\xb1\\x00\\xf3\\xb3\\x92\\xd3\\x89\\x05\\x98\\x9f\\x95\\x9c\\x12p\\xe6\\xf7\\xa4/\\x9f\\xd6$#\\x9a_\\x98\\xd7?\\xe0\\x97\\xfb\\xd6\\xd1\\x0f\\xf3\\x1a)_3^0?\\x9a\\x17\\xccO\\x12\\x8f\\x08)D<wL\\xc47L\\x08\\xb8\\xf0\\x99X\\x80\\xfb>\\x88\\x97\\xa4\\x12p\\xee\\xf7h\\xca\\xa75M\\x89\\xe63\\xee\\x93\\xa6\\xd4[\\x04\\xc1}>&\\xa9\\x07\\x04\\x12\\\\p\\xcf\\x0c\\xa7\\xdfe\\xcc\\':h\\xfcxo#\\xf6\\xac\\xa8- \\x89\\xf8F\\xed\\xcc\\x04\\xec\\xf7\\xce\\\\\\xd1\\x13p\\xf6\\xf7\\xc8\\xce\\xa75\\xd9\\x89\\xe6\\x9d}\\xdb\\xacj\\x1d\\r\\x9eo\\'!\\x13^|\\xe3\\x86={m%\\x01\\xff:\\xe4\\xc4\\x02Q\\x85R\\xd12\\xcb\\x13\\x00\\xdc\\xd2\\xc2\\xce\\x1d\\x05\\xa0\\xabs\\xcefc\\x9d\\xb2\\xa6:\\x9f\\xa8:\\xf5\\xe6!D\\x95\\xa4:UV\\xc2\\xb3G\\xbc\\xe2\\xb6>M\\x88\\xb0\\xd1\\x01?XD\\xa0X\\x04v\\x0b\\xbfo\\x81\\x16\\n\\x80\\xdbzp,C&\\xa2\\x92\\xb3\\xd9\\xe0vMT>QTj\\xbd\\x1d\\xb8M\\xa2Ro\\x07\\x05\\xb7#\\xee\\xd5<\\xec\\xf8h\\x9f\\xfa\\x08\\xc0\\x12\\x08\\x044\\xd7\\x0b\\xb7\\xa5\\x12t\\xb7\\xed\\x80Z\\x80Zf;\\xadP*\\xba2\\xb7\\xdd#*\\x9f\\xd6D%\\x9a\\xf7\\x90`\\x9b%\\xad\\xa3!$\\x98\\xa8LxAm\\xefX\\xcf\\x1b\\xc1k\\t8\\xb5u.\\x11\\xd4R\\x03:\\xb5\\xb5\\x05\\xa8e\\x8e\\xd3kM\\x88x\\xb8\\xdd#\\x1b\\x9f\\xd7d#\\x9awnm/\\xa4u4pk\\xb21\\xe3\\x96za\\xc7\\xbe\\x172\\x01\\xde\\xef\\t\\xf8\\xdet<\\xa3q\\x1b\\x16V%5\\xb1\\xf8\\xbe\\x8e\\xa1n\\xcb\\xc9\\xdc\\x8e\\x08\\xcfk\\xaa\\x10\\xcd;\\xb5\\xb6\\x17\\xd2:\\x1a\\xa85U\\x98q\\xa7\\xb6\\xbe_\\xe6\\xed\\x9e#*\\x83\\xa0\\xb6\\xae2\\xfd\\x08\\xc0\\xbf\\xef\\x18\\x0fo\\xe7/\\x08\\xf8\\x19\\xce\\x18\\xdc\\xa8\\xdd\\xa3\\xf9\\x9e\\xd74\\x1f\\x9awjm\\xb3\\xa3u4Pk\\x9a/\\xe3B\\xed\\xaf\\xfb\\x04\\xfbE\\x15\\x1c\\xd7\\xb7\\x99\\x08\\xb8$$\\xe0\\x89t\\x02\\x96\\x1c\\xfbl\\xcf\\xd0&\\xe7;|1\\xba\\xad!\\x08X\\xc0\\xe0l6\\xbczM\\x13>S\\x13>\\x98\\xdc\\x062Ro\\x9a0\\xe3\\xee\\xd5\\xb5\\xee\\x82Ww\\xa0\\xf0jZ\\xd8\\xcet<\\xa3m\\xe1M\\x80\\xaf\\x18\\xa3\\xf0j\\x0en^\\xbdG\\xf4=\\xaf\\x89>4\\xef^mr\\xbbu\\xf4\\xe3\\xd5\\x9a\\xbax\\xbd\\x17\\\\\\x85G\\x82\\xfdzr\\x8e[xu\\x7f \\x97\\x1d\\xb4\\xf0\\xc5\\x1b\\x01\\xdf\\xe8 \\xe0\\x87\\xc2cpw\\xea>\\xb8;\\xf5\\x1e\\xc9\\xf7\\xbc&\\xf9\\xd0\\xfc\\xc2\\xbcN\\xe8\\xe5\\xbeu40oi\\xc4\\x84\\xbb\\xdcN\\xb0\\xa7\\xc28\\xae_\\x8dH\\xc0\\xab\\x13&\\x00\"y\\x9f\\x82W\\xc1\\x13(\\xc2\\t\\x93\\x89\\xb6\\xb6\\x8b1\\xcc\\xe7\\xf7\\xc8\\xbd\\xe75\\xb9\\x87\\xe6\\x9dy\\x93{\\xad\\xa3\\x81y\\x93{\\t/\\x98\\xbf\\x9d\\x84\\xe4\\xb8\\x85\\xcf\\xf7\\x07*|\\xbe\\x06\\xc0|\\x07\\\\\\xb0\\x10\\xf0\\xf3\\x07\\x04t\\x0c,O&)H\\xceu#\\x90\\xaf\\x89\\xc1g\\x8aA\\xfdT |>\\x89\\xc1{KA&\\xbc`>iE\\xb1\\xfe\\xddzo\\xbf\\xb8\\'\\x0c\\x08\\x14\\xef\\xd0Z\\xdf\\x81\\xf9Z\\\\\\xe2\\x15\\xda\\x01{\\xb9\"\\xd0\\xcf\\xb4\"\\x01\\x0f7{\\x12\\x90\\xcfkZ\\x11\\xcd\\xbb\\xd3\\xcbh\\xa0>iE\\xcd\\xdf\"\\xd0\\x8fx\\x11O\\xa8\\xe3\\xac \\x84#\\xfauN\\x04\\x8a\\xf5\\xc9L+\\xd2\\xc2?\\xe2;\\x01\\xe0\\xd5\\x93\\x04$\\'\\xb3\\xe1\\xd5kZ\\xf1\\x99Z\\xf1\\xd1\\xb4\"\\x901\\x9e\\x98VL\\xb8\\'\\xd63\\xece\\x96\\x1c\\xd8\\xf7\\xac\\'\\x00\\x16\\xe5\\xfdQ\\xf57\\x81[S2\\xba\\xde\\xa9-\\xe0\\xd5\\xb5\\x05\\xa8\\xef\\x80{\\xf5\\x0e)y\\xbc[\\x92\\x92\\xady\\xf7j\\x95\\x92\\x97\\x8e\\x86P\\xaeR2\\xe3F\\xbd\\xc0F}\\x0cl\\xd7\\x7f\\x04\\xe0\\xb7}\\x06b\\xf7\\x7f\\xcc\\xfa\\xfa\\x9cY|\\x05`\\x19\\xc8\\x00\\x94\\xfb\\x98\\xceM\\xb7G\\xc1\\xd2\\x1f\\xff\\xf0\\xcf\\xff\\xfe\\xcb\\xdf\\xff\\xf9\\xe7?\\x1e\\xfe\\xd4>J\\xff\\xbf\\x87\\xd3_\\xfe\\xfa\\xa7\\xff\\xfc\\xbf_\\x7f\\xfb\\xe7_\\xff\\xf6w\\xb0y\\xf7\\xff\\xda\\xd2\\xf4\\xaf\\x7f\\xf8\\xc7\\x9f\\xff\\xf8\\xef\\xady\\xe7^\\xb5\\xe6\\xa5\\xa3\\x81{\\xd5\\x9a\\x19W_\\xfc\\x95a\\x13D1\\xae-`\\x02\\xb0=\\xd5\\x00\\xac\\xb8u\\x06\\x80y&\\x13U\\xe5\\x07`\\xc7I\\xae\\x16\\xb2\\x80\\x89\\xc9l0\\xbf$EQ\\xfeD\\xe6U\\x8a6d\\x0c8*E3^0\\x9f*cU.\\xc5\\xb8\\xb6\\x80\\t\\xc0rd3\\x8b\\x8f\\x00l\\xd1>\\x03\\xe0\\xf3}\\xd2\\xf6\\x19\\x8b\\xef@\\xdc\\xe9w\\xa4\\'\\x8fwKR\\xb45\\xefN\\xafR\\xf4\\xd2\\xd1\\xe0\\xf4*E3n+\\x18\\x81\\x9d\\xfa>n\\xe1\\xf4\\x14\\x8b\\xbam\\x18OZ8}-a\\xe1\\xf4uW\\xa0\\xbe\\x03\\x85\\xd3\\xd7J5&\\xb3\\xe1\\xf4KJ\\xf5xG\\xa5\\xaa\\xd7\\t\\xbd4dpz\\x9d\\xf0k\\xc6\\x0b\\xe6\\xd3\\xe1Lg\\xbe\\xce\\x0f\\xbe\\xc5\\x03\\xd9\\xaa=\\x00\\xff\\x98S \\x96\\x9d\\x0c\\xc0\\x96\\xed\\x01\\xd8E\\x02\\x01\\xb8\\xd3\\xef\\x90\\xaa\\xc7\\xbb%\\xa9\\xda\\x9a_\\x9c^\\xdf7\\xa0>IU\\xbdd\\x0b\\xd4\\x8f\\xb8\\x15sg\\xd8>\\x1f\\xf73n\\x0e\\xaa\\xa0>Jp3\\xf0>\\x03\\x10o(Uu{&\\x00;R|\\xb5P\\xa9z\\xb5\\xb0H\\xbfC\\xaa\\x1e\\xef\\x96\\xa4jk\\xde\\x99W\\xa9z\\xe9\\xe8\\'\\xdc\\xe8\\x1d\\\\`~\\xd4\\xa2\\x05\\xf3#\\\\0OQ\\xa8\\t\\xa0x \\xdb\\x18\\x9b\\x01`\\x9eR\\xd5\\x99\\xa7\\xb8\\xd5\\xed\\xde\\xb00\\xa9z\\x1d\\xc3\\x98\\xdfQ-{\\xbc[\\x92\\xaa\\xadyg^O\\xca_:\\x1a\\x98W\\xa9\\x9a\\xf1\\x82\\xf9Q\\xaa\\x16\\xcc3\\x15\\xe9\\xcc\\x13\\x10\\xba\\xe0\\xf35\\x00\\xe6\\xa9Hm\\xa7\\xfd\\x8a\\xe8\\xde#B}\\xad\\x94\\xf1\\x92\\xad\\xf3\\x9a1\\xdb\\x8dP\\xbf\\xa4U\\x8fw\\xd4\\xaazK\\x14\\xe2M\\xd2\\xaaz\\x88\\x0f^?\\xe2\\x05\\xf7#\\\\p\\xcf\\xcc\\xa3s\\xdf\\x81b}C\\x0b\\xdd\\x0e\\x8e)\\x1c\\xecp\\xc3\\x15)\"N\\xef\\xcc\\xde\\x1b \\xbfV\\xb31\\xdd\\r\\xf2\\x97\\xd4\\xec\\xf1\\x8ejVK\\xff@~R\\xb3\\xfa\\xfc ?\\xab]\\xd9\\x11\\xce\\xb0\\x95\\xbe\\xc5\\xb8\\xc5\\n\\x87z\\xd2W8\\x04\\xe4/\\x14\\x8e?I\\x8c^\\x01\\xb1\\x80\\xdbS\\xcc\\xea\\x8ep\\x00\\xfe\\x9a\\xdd#f\\x0fkb\\x16\\xcd{\\xc8\\xd1}\\x84c\\xebh\\x089&f3\\xae\\x19\\xa6l\\xee\\x82\\x8a\\xe3\\xda6B\\xb3k\\x0fd\\x15\\x9dW\\xc0\\x98\\xa7\\x85]L\\x1c\\x16\\xfa\\x17\\xfd5\\x1b\\xe3;\\x00c\\x9es\\xbd\\xed\\xf3\\x875)\\x8b\\xe6\\x9dy\\xdbFh\\x1d\\r\\xcc\\x9b\\x94M\\xb8m\\x8e\\x1d\\xd9\\xb1+&\\x02\\xb696\\xb3\\xf8\\x08\\xc06\\xdbg\\x16\\xa0\\x96\"\\xd6\\x9c:\\x00}\\x8fr2\\x1b\\xd4\\xaeiU\\xec#tjm\\x97\\xa0\\xed0\\x0c\\xd4\\x9aVM\\xb8\\xef\\xd0$\\xd8\\xea\\x94\\x8f\\x1c\\xb7`\\x9e:\\xd2\\xf2\\x1cabu\\xca\\xb3\\xbe>g\\x00\\xa8\\xef\\x83XY[\\x00\\xee\\xd5{\\xb4\\xeaaM\\xab\\xa2y\\xa7\\xde\\xb6\\tZG\\x03\\xf5\\xa6U\\x13n5,Gv\\\\p[W\\xbe\\xbe\\xcf,\\xe0\\xd5u\\xa2\\x15\\xd4\\xd6\\x00\\xa8\\xadU*\\x02\\xc6D\\x8cr2\\x1b^\\xbd&F\\x0f\\x14\\xa3O\\xb6\\r\\x00d\\xa0V\\xb9{=&\\xbc\\xa0\\xb6wl\\x99\\x8afW\\xa50@m\\r\\x80ZfRm\\xe1=\\x01@m\\xb7\\xb0\\x93\\xc3\\x01\\xb8\\xd7\\xee\\x11\\x9b\\x875\\xb1\\x89\\xe6\\xddk5#}l\\x1d\\xfdx\\xad\\x16\\x8e\\x81\\xda\\x11/\\xa8e\\xdd\\xaa\\x15\\xd77\\xc36\\xa4\\x1f]\\xb8\"Z0\\x05v\\xeb\\xf3\\x92p\\xdc\\x0e\\xd8\\x9d\\x80\\xd3\\xbe\\xe0\\xb9\\xf5\\x11\\xcb\\x98\\xd0\\x86\\xe7\\xae)\\xca\\x03\\x15\\xa5\\xfe\\xc8/G #\\xbd\\x9a\\xfc\\x14\\xdc\\x17\\x19\\xa3\\xb9U\\x1a7\\xeb\\xc6\\xb1n\\x11\\xbc\\x05`\\xe7\\x86\\x03\\xb0\\x1a\\xefkW\\x9a\\xab\\x98\\x01p\\xec>\\xb8\\xfa\\x04\\x98\\xaf\\x93\\x9f1\\xd7\\r\\xe6\\xd7\\x14\\xe5\\x81\\x8aRe\\t\\x98O\\xc9\\xcf\\x93)\\xca\\x8c;\\xf3\\xe9\\x0e!\\xdb\\xc0\\xe2\\xb8*w\\xc0|\\x9d\\xcaDH\\xe9\\x80\\x1d+\\x0e\\xc0wmia\\t\\xff\\xb0\\xb0?-P?\\x11\\x94\\x9c\\xec\\x06\\xf5k\\x82\\xf2@A\\xa9\\xb7W\\x81\\xfa$(Oz\\xfaRp\\xa7>\\xe5F\\xefe\\x8d\\xf3\\xbb\\x99_\"\\x8bn`\\xf1\\xff\\xadD9\\x0c\\n\\xea\\'\\xb9\\xd1\\xb0\\xb0\\xdc\\xe8\\xb5+\\xdb\\xc0\\xe2\\xe0\\x1e\\xcdw\\xd4\\xd1\\x1e\\x0fkj\\x12\\xcd/\\xd1\\xfcY\\xd3\\xce\\x97\\x8e\\x86h\\xae\\xb9\\xd1\\x8c\\x17\\xd1\\x9c\\x8aM~1x5\\xc5\\x9f\\xec\\x98\\xc1\\xab\\xf9(\\xf2$\\x08\\xe5\\xb5\\x05Bym\\x81x\\x12\\x1a9\\xff\\xaep\\xea:\\xf7\\x19\\x93\\xb9\\xed\\xd4\\xf7kr\\x11\\xcd;\\xb5&\\x17[G\\x03\\xb5&\\x17\\x13\\xee\\xd4\\xb2c\\xbd\\xa0\\xea\\xedH@o\\xd5y\\x0f@#\\xd7\\xc7\\xcc\\xe2sf\\xf1u\\x05da\\xf5\\x1d\\x80y-\\'\\xb3A\\xed\\x9a\\x1e\\xbc\\xa7\\x1e\\xd4\\x93,/G #\\xb5\\xa6\\x07\\x13^P\\x1b\\xc7\\x17\\xcdm9\\xa4\\xbe\\x1c\\xc0m7\\xd1\\x1a\\x7fp\\xcb\\xcb|\\xc4\\xd1\\xc1m\\x07\\x1e\\x85*p\\xcb\\xae\\x9c\\xdb\\xfa\\xecd\\xccv\\x83\\xdb5AxOA\\xf8l\\x82\\x10\\xc8\\xc8\\xad\\t\\xc2\\x84\\xbb\\xe2c\\xc7Z[\\x04\\xb7\\xed#\\xfa6\\x06\\x01O\\x91\\xc53\\xda\\ncb\\x01j9+\\xd3\\xdaa\\xa1Z\\x9b\\x93\\xd9\\xa0vM\\xf0\\xddS\\xf0=\\x9b\\xe0\\x032Rk\\x82/\\xe1\\x05\\xb5\\xbd\\xe3\\x83\\xbe\\x1f\\xc1-\\x11\\xad\\x0f\\x85\\xdf\\xd6Z\\x10~[\\xa72\\xe1\\xb7\\xb5\\x05\\xc8e\\xc6\\xd2\\xded\\x04<&\\xec\\xa8\\x94=\\xde\\xafI>4\\xef\\xe1\\xd6$_\\xeb\\xe8\\'\\xdc\\xea\\x1a\\xe8\\xf52\\xd0\\x15\\xf7\\xa4{2\\xf7Mi\\x8e\\xeb\\xaa%\\x1e\\xc8\\xf6E\\t\\xe8H`\\x9eSp\\xb7\\xee\\x80Z\\x80\\xf9\\xda\\x02\\xd1\\xb8\\xae\\x94\\x8d\\xb9n\\xb8\\xf5\\x9a\"\\xbc\\xa7\"|6E\\x08dd^+e\\x8f\\t\\xf7\\xef\\xc66\\xfc\"J\\xb4v-\\x00\\x17%\\xb48\\xd8\\x89\\x91\\x99\\t\\xdc\\x9aJ\\xd1jI&\\xa3\\x83\\xdc\\x89\\x1e\\xe4t6\\xc8]\\xd3\\x83\\xf7q\\xacP\\x1e\\x0f\\xaf\\xba\\xa4\\x07\\xf5\")\\xb8\\xf5\\x88\\x17\\xaf\\xba\\xbav\\x15!\\x83b\\xcc\\x12Y\\x13\\x00~\\xcbg\\xb4\\x9d\\x8c\\t\\x00\\xbf\\xad\\x07\\x07\\xb5\\x13\\xc1\\xc7\\xc9lP\\xbb&\\xf8\\xee\\xa9p\\xf4\"(P\\x9b\\x04\\xdf\\xd9\\x04_\\xc2\\x0bj\\xeb\\x82RP;\\xcb\\x11N\\x00P\\xdb-\\xb4f\\n^[\\x03\\xa0\\xb6\\x1e\\x1c\\xd4N\\x04\\x1d\\'\\xb3A\\xed\\x9a\\xa0\\xbb\\x0f5d\\xd9Y cH0A\\x97p\\xff\\x9a\\xdd1\\xe3\\xae\\xe88r\\x11\\x8e\\xfb#\\xd9u\\xc6\\xad\\xc7\\x16d\\xec.\\xee\\x00<EH\\x0b\\xdfB\\x9a\\x0c\\x0e\\xee\\'\\tB\\xcef\\x83\\xfb5Iw\\x1f\\xf98\\xe7>%\\x00\\xd5\\xa7\\x101F\\xbc\\xe2>\\xe1\\x05\\xf7u^\\x0f~\\xdf\\x01\\xcf\\xcf\\x12\\xb0\\xa218~m\\x02\\xc7\\xef\\x80]\\x07\\x0e\\xcf\\xa7\\xea\\xf3e\\xc8D\\xf5q\\xbe\\xb7\\xd9?\\xae\\xa9>4\\xef\\xaf,\\x13\\xd4\\xad\\xa3a\\x19b\\xaa/\\xe1\\xfe\\xe9\\xd8c\\xc2}\\x1d\\xc2\\x81\\xdd\\xf1\\t8\\xf9\\x13\\xe0\\xa3\\x8d\\xd4\\xe6\\xe0Ag\\x02|]-\\x8c\\xfa\\xa0C\\x97\\xd7\\x9c\\xcc\\x06\\xf5k\\xaa\\xf0\\x18E\\xa1N}R\\x85gS\\x85\\xb0\\xfc\\xf9i*\\xeaG\\xbc\\xa0~r\\xf8\\xf2\\xc8\\'\\xf2\\x0f\\x85_\\x11\\xad\\xfd\\x00\\xf9\\xf5\\xb9\\xcc\\xcf\\x00\\xec\\xa3mW\\x0b\\'\\x7f\"\\x1b9\\xdd\\r\\xf2\\xd7d\\xe3\\xb1\\x0b,\\xd4\\xbd\\xe5\\x9f\\xfa\\xe5\\x08d\\xf4{\\x93\\x8d\\t\\xaf\\xc8\\x1f\\xed\\x8bE\"G.\\x1c\\xbf?\\x92\\x1d\\x1eiOt\\xd9\\xf5\\xf3\\xac\\x01\\x11O\\xe2N\\x00x~\\xcc[\\xb7\\x9a\\x020\\xcf\\xdf\\x93I<\\xae\\tK4\\xefA\\xc7\\xf2\\xe3\\xad\\xa3!\\xe8\\x98\\xb0LxE~\\xba\\xceU\\x7f\\xdc\\xdfG\\x8e\\xec\\xa9F\\x02\\xbe\\x83J\\xc0?X\\x1d}\\xf9\\xee5M|\\xf7\\x9a\\x80\\xe7\\r\\x82\\x10#\\x7f\\x8f\\xf0<\\xae\\tO4\\xef\\xe4\\xdb\\x86I\\xeb\\xe8\\x87|\\xe5\\xe8\\xf5\\x98\\xf0\\x8a\\xfc\\xd1\\xbe\\xf2\\xfc>\\xb2\\x17\\x86\\xf0\\x91\\xfc\\xe6\\xc66\\xe4\\xc5\\xf5=\\x89N\\xc4\\x8e\\xac\\x85\\x89\\xdd\\xb1\\x11\\x80\\xd7\\x01\\x06#\\xc6\\xfe\\x9et\\xe4qM|\\xa2\\xf9\\x8c\\xfd$>5j\\x83\\xfd\\x117\\xf6\\xe1\\xda\\xbd\\xe7\\x82]\\xa6#\\xd5\\xed\\xde\\xc3\\xe4\\xdew\\xac\\xd8Y\\xc1n\\xefL\\x7f\\x0f\\x04\\x96\\x0e\\x14\\xecN\\xd4\\'\\xe7\\xb3\\x11\\xd5\\xd7\\xd4\\xe71\\xd4\\xa7\\xedX\\x01\\x19}\\xdb\\xb2\\x91\\t\\xd7\\x1d\\xab_\\xc7\\x04\\xdb\\xc7\\xe1\\x1a\\\\\\x0b\\x7f\\x02\\x05\\xf5u\\xb5*\\xde\\xa7un\\x11\\xef\\xd3Y}+\\x01\\xfd\\xad\\xbe\\xafOe~\\xbd\\xa7\\xbe\\xf5\\xb8&N\\xd1\\xbc3`\\xdbY\\xad\\xa3!\\xaa\\x988Mx\\xc1\\xfch^0O\\x89j[.| \\xdf\\xa5%\\xe0\\xfaib\\x01\\xe6)Q\\xad\\xb2\\x98\\x80\\x9f\\x9b\\n6\\x8c\\xf9\\x1d\\'1\\x8f\\xc75\\xed\\x8a\\xe63\\xe6\\x93v\\xd5O$ \\xa2\\x8cx\\xc1\\xfc\\xad\\xe2W\\xc4\\x1b\\xd6\\xaa:\\xf3\\x93\\xbaS\\xc4\\x9b\\xba\\xee\\x15NO\\xc0v\\x12\\'\\x16\\x087\\xd3\\xe2\\xd6\\xe0\\xc3\\xb8\\xdf\\x93\\x8e<\\xaeiW4\\xef\\xdc\\xdbVb\\xebh\\xf0zKG&\\xdc>\\xd1ud\\xc7\\x1a7\\xde\\xae\\x80\\xedvM,\\xc0-3\\x9b\\xb6\\xdb5\\xb1\\x00\\xb7\\xb5\\x05\\x02\\xcaD\\x98r2\\xb7C\\xf9iM\\x98\\xa2\\xf9\\x85Z\\xbd\\xac\\xef\\xe5\\xd8:\\x1a\\xa85a\\x9ap\\xa7\\x96\\x1d\\xfb{2\\x00\\xa3\\x96\\x80\\x9f\\xb4$\\xe0_\\xacn\\xcf\\xd8\\x9e\\xde\\x17!3\\x93\\xef0\\xb1\\xe4\\x03\\xa7\\xb3A\\xee\\x9a\\xf4<Qi\\x15\\xe4&\\xe9\\xf9`\\xd2\\x13\\x96?\\xe4\\x17\\xe42WhA\\x81#\\xfav\\x16\\x01_\\xe0\\x11\\xb0\\xad\\xf1\\xcf\\xe3\\xc4\\xe4+\\x003\\x01\\xb9\\x13i\\xc9\\xe9l\\x90\\xbb&-O\\x94Xz\\xb9\"<7IK\\xbd~\\xe65\\xe3\\x05\\xb9\\xbdc\\x17/\\x1c\\xd1\\x8f\\x8e\\x11\\xf0\\xd4\\r\\x01?9F\\xc0\\xbe+\\xd7\\x9e\\xady\\xb4}\\'5\\x00\\xf7\\xdb=\\xc2\\xf1\\xb4&\\x1c\\xd1\\xbc\\x07\\x05\\xdb+l\\x1d\\rA\\xc1\\x84c\\xc2\\x0bj\\xeb\\\\\\xe1\\xdb\\x91#\\xfa\\x02\\x8e\\x80r\\xfe\\x11\\x16\\xca \\xdc\\xb6\\x8faW\\xca\\x07PP;)A\\xe5d6\\xbcvM\\x16\\x9e(\\x0b\\xb52\\x1a^\\x9bd\\xa1\\xc6Mxm\\xc2\\xad^\\x8c\\x1d\\xeb\\xee3\\xa8\\xa5\\x1c\\x14\\xcfy\\x0f@\\xf7\\xf3@-\\xf3\\x8a\\x12\\x95@-\\xbb\\xb2\\x15\\x1a\\x01?j\\x1a\\xd3\\xd5U\\x02\\'\\xb3A\\xed\\x9a\\xe6;Q\\x01\\xe9\\xb5E\\xa06i>-\\x84\\x01\\xb5\\xf9\\xea\\x9e\\xfc\\xb0\\xbf\\x1b|y\\xcb\\xc8\\xb4Am\\x07\\xf4#u\\xa0\\x96*M,@-\\xd5\\xa3\\xfc\\x18\\xa0\\x96\\x80SK%h%\\n1]\\xa3v\\xcf\\x81\\xc6\\xd3\\x9a\\xe0C\\xf3\\x1e\\x10l\\'\\xa9u\\xf4\\x13\\x10\\xb4\\x8a\\x03\\xd4\\xde\\xba\\\\\\xe7\\x97\\xc0\\xb2I\\x08\\xe6g\\xd9H\\x02.;\\x08x%\\x1e\\x01\\xbfE-\\x06q\\xad\\x1d\\x838\\xf5\\x93t$\\'\\xbb\\xe1\\xd5k\\x8a\\xefD\\xc5w\\xb0}$ #\\xf5\\xa6\\xf8\\x12nwy\\x1d\\xd9q\\xb1@c\\x1d\\xa9\\x07\\x0c&\\x17\\xad\\x14\\x8f]i!\\x19\\xbc\\xba\\xb6\\xc0\\x12\\x82c\\xd8\\xe6tL\\xd7\\xbcz\\x8f\\xa4;\\xadI:4\\xef^m\\xdb\\x18\\xad\\xa3\\xc1\\xab-\\x1d\\x99\\xf0\\x82\\xda\\x89jB\\xc4`V\\xd1\\xb9\\xa54snk\\x0bp[[\\x80\\xdb\\x0e\\xd8G&\\x02\\xf0%\\xc4\\x1e\\xc9vZ\\x93lh\\xde\\xb9\\xb5\\x8d\\x8a\\xd6\\xd1\\xc0\\xadI\\xb6\\x84\\xfb\\xb9\\xff\\x04\\xfb\\xfd\\xc2G\\x0el\\xb7\\x89\\x06\\xe0[\\xcf\\xb4\\xd0Z(\\x04\\xeb\\x99\\xa4\\x9bX\\x80\\xfa\\x99\\xa4\\x0b:\\xcc\\xad\\xf7\\x1cH<\\xafI:4\\xef\\xd4\\x9bZn\\x1d\\r\\xd4\\x9b\\xa4K\\xb8S\\x9f\\xe0\\x82z\\x0e\\xec\\x11\\x85\\x80\\x7f\\xe0\\xe3H\\xc4W\\xce\\x04\\xecR\\xf2\\x99\\xc5W\\x00\\xbe\\xbc\\x0b>\\x94{N\\xe7v\\xb4>\\xaf)>4\\x9fq\\x9f\\x14\\xdf\\xa3)\\xbe6\\xd0\\xf5\\xb7)\\xb8O\\xb9H\\xbf\\xd9\\x88\\x03\\x17\\xdc\\xb3v\\xd5\\x97\\xd6\\x13\\x93\\x8f#\\x01\\xff|a ^\\xe2\\x10&\\xfay\\xad\\xef0\\xb1\\xa0\\xc3\\xf9n\\xb0\\xbf&\\t\\xcf\\x94\\x84\\xfa\\xa7\\xfcr\\x042z\\xbee\\x1b\\x13\\xee\\xa7\\x9c\\xd9\\xf1Aw\\xf0\\xdfZ\\xc7\\xed\\x07\\xf7lb<\\x8b-\\x01\\'\\x16\\x9f\\xd1\\x95\\x9f0\\xa7\\x85\\xef<\\xc7\\x18\\xe6\\xd9{4\\xe1yM\\x13\\xa2\\xf9\\xc5\\xb3\\xef\\xedN\\x8b\\xd6\\xd1\\x10UL\\x13&\\xbc\\xe0\\x96\\xb5\\xa8\\x85\\xebv\\xc4#6\\x9f\\xc5\\x17y\\x04\\xecK\\xe3\\xc7\\x89\\x05\\xa2F\\xadH\\xe1\\xb7\\x13Q\\xc8\\xd9l\\xf8\\xed\\x9a(<S\\x14\\xea!o\\xf8m\\x12}\\xbaD}\\xcd\\xb8}\\x15(\\xc3~\\xba\\x8b\\xe3\\xfaN\\xc7\\x04xo\\x1d6/(\\xe2u\\x07\\xbc**,L\\xd8\\xc4\\xa4mu\\x1d\\x80y\\xf5\\x9e<\\xe1yM3\\xa2y\\xf7j+\\x0ei\\x1d\\xfdx\\xf5\\x93\\x15\\xa9&\\xbc`~4/\\x98\\x9fe\\x11\\xf9@\\xc5EtD\\xf4\\xcf\\x04\\xe1\\x9a\\x89G\\xfb\\xb4a \\xbe\\xcbD\\x13\\xcf\\x90\\x07\\x1f\\xc6\\xfd\\x1eQy^\\x13\\x95h>\\xe3>\\x89J\\xbd}\\x00^\\x9fD\\xa5\\x04\\x9c_\\x19.\\xb8\\xef\\xe3\\x16\\xf1\\xa6\\x03\\xd52\\x85\\x88\\x97\\x86p\\x12\\x07\\xfb\\xb4a{\\x8a6=\\xdb\\xb5F\\xcc\\xe9\\x88}W2\\x00\\x7fW\\xee\\xc9$\\x9e\\xd7t%\\x9aw\\xf6\\xad2\\xa7u4x\\xbe\\xe9\\xca\\x84\\xdb\\xa7\\r\\x8f\\xec\\xb8\\xa0\\xb7\\x8f\\xe8\\x15g\\xb4(j?\\x88\\xf8\\xfe\\xe9d\\x10p\\xdb\\x07)\\xb8\\x9d\\xd4\\xb9r6\\x1b\\xf1|MX\\x9e),\\xb5\\x8c\\x0b\\xf1<\\tK=\\xab\\x05\\xcf\\xbe\\x9d\\x0cd\\xc7E\\xc0\\xee#\\xea\\x80\\x08\\xd8|\\x14_\\x86PWZ.\\x90\\x16\\xbe\\x1d2\\x19\\x1c\\xafJ\\x8eaAc\\x8f\\xae<\\xaf\\xe9J4\\xefnk\\xdb!\\xad\\xa3\\xc1mMW&\\xdc3\\xdc\\xec\\xd8\\x8f\\xf0\\x13\\xf0C\\x05\\x04\\xec[\\xb3G\\x02\\xc5*$\\x8aT\\xedP\\xc1dtp;\\xc9\\x05r6\\xb7\\xdd\\xf6aM8\\xa2y\\xe7\\xd6\\xf6CZG\\x03\\xb7&\\x1c\\x13\\xee\\x95\\xef\\xec\\xd8\\xddv\\x02\\xbc\\x1f\\'\\xc0\\xc7\\x0c\\xf8\\x9c\\x01_3\\xe0;\\x00\\x8b\\xb6\\x9c\\xcc\\x06\\xb5k\\xba\\xf0\\x81\\xba\\xf0\\xde\\xb6C\\x80\\x8c\\xd4\\x9a.L\\xb8\\xbf\\xcc\\xd8\\xb1ow\\x10(\\x16\\x12\\x13\\x13p\\xdb\\x1f\\xd2_e\\x13\\x00\\xdcR\\\\\\xda6^\\xccWC\\x02g\\xb3\\xc1\\xed\\x9a\\xea{\\x08\\xd5g\\xfb\\x1d@FnM\\xf5%\\\\\\xb9\\xfduL\\xb0}!\\xb9\\xc1\\xed\\xcf\\xc5+L\\t\\xb8&\\x9cX\\x80\\xf9\\xba+xu\\r\\x80\\xf9Zw\\xc2\\xab\\xc9\\x861\\xbfG\\x13>\\xaciB4\\xbf\\x04\\x0c\\x95\\xc5/\\xc7\\xd6\\xd1\\x100L\\x13&\\xbc`~4/\\x98g\\x8a\\xcf\\xd2\\xdf|\\xa0\\xca\\xe9k\\x13P_\\x03\\xa0\\xbe\\x06@=\\x05\\xab}\\x8e)\\x10\\x8f({\\xeaK\\x1f\\xd64#\\x9aw\\xeeM\\x8f\\xb7\\x8e~\\xb8\\xd7\\xb7\\xd0\\xeb1\\xe1~\\xf9\\x15;.\\xdc\\xba\\x8f\\xe8\\xeb7Z\\xb8($\\xe0\\xcb\\xb7\\x89\\x05\\xb8\\xe5\\xacL\\x14\\x06`n\\xbdG\\x14>\\xac\\x89B4\\xef\\xd4Z\\xfa\\xbbu4Pk\\xa20\\xe1~\\xf9U\\x86}\\x13\\x8f\\x03\\xfb\\xd2\\x99\\x80\\x9dn\\xc1\\x8b\\x92\\xb9I\\xf9S\\x80_S\\x15\\xeae\\x91p\\xec\\xda\\x04\\xe4\\xd7YK\\xc4\\x94Im)\\xe7\\xb3\\x11\\xcd\\xd7T\\xe1\\x03U\\xe1\\xd1\\x149\\x90\\x91|\\xab-M\\xb8:#\\xa2\\xf9h\\xee\\xd7\\xe9q\\xdc\\xe2EZW\\x8a\\x82\\xfa\\x0ex\\xbdRteKk\\x02\\xae\\xc7\\txUo\\xb0an\\xbfG\\x11>\\xac)B4\\xefno\\x8a\\xb0u4\\xb8\\xbd)\\xc2\\x84k\\xb8\\x06\\xf3\\xb7o\\xba\\xe1\\xb8\\xca\\xca[\\xb3\\xab\\xf7V\\t\\xf8\\x1dC\\x13\\x0b\\xf8|\\xef\\xaa\\x10\\xe3D\\xbc\\xb84\\xe80\\xea\\xf7d\"\\x1f\\xd6\\x04#\\x9a\\xcf\\xa8O\\x82\\xf1\\xd92\\x91m\\xa0\\x9f\\xb4\\x81\\xc0\\xa0~\\x84\\xfd\\x88\\x12\\xc7-\\xa8g\\x06\\xd3\\xbe\\xe1\\xdbz\\xbclk(\\x82\\x883A\\xc0~\\xe4Cm\\x13\\x90H\\xc1\\xfeDSrB\\x1b!gMS>Pc\\xe9\\xce;\\x961ISjj\\t\\xaf\\xd2\\x11/tO\\xefX\\xaf\\xf4\\x80gON+\"\\xa80\\x83\\xe8\\xf1\\xbc\\x06@n\\r \\x9cw\\xc0\\xef\\x85\\x8b\\xf9\\x9ag\\xefIF>\\xaeiJ4\\xef\\x9emz\\xbdu4\\x04\\x15\\xd3\\x94\\t\\xf7\\x1c;;vn\\t\\x14k@\"\\x1e\\xb0g&\\x9f\\xc7\\x89\\xc9\\xd7\\x15\\xb0\\x85JLX\\xc9\\xe5tn;\\xee\\xe3\\x9a\\xaaD\\xf3N\\xae\\t\\xf6\\xd6\\xd1@\\xae\\xa9\\xca\\x84\\xdb\\x19\\xa2_\\xc7\\x84\\xfbf\\t\\x07\\xf6\\x85\\n\\x01\\xff\\x98\\x07\\x01\\xdf,!\\xe0\\x89^\\x02^\\xc77\\x19\\xfc\\xbb=\\xf4\\x85\\x0e\\xa3\\xbe\\x93\\xb1A\\xfd\\x9a\\xe8|\\xa4\\xcc\\xd2\\x8f\\xed\\xbe\\x1c\\x81\\x8c\\xd4\\x9b\\xe8LxE\\xfdh_P_\\x0b\\xbf\\xb76n\\x9b\\xbd\\x12\\xf9\\x1e\\x80\\x12\\xf9\\x11\\x80\\x1f\\xe8eW\\x9e\\xe6%\\xa0\\xbf;\\xa8\\x9f\\xa8NNv\\x83\\xfa5\\xd5\\xf9\\x18\\xaa\\xd3\\xf4>\\x90\\x91zS\\x9d\\t\\xf7\\x1c{\\x82}\\xab\\x85\\xe3\\xba0\"p\\x92\\x9f\\x1a\\xcc\\xf7\\'\\xf5\\x0b\\xb6\\x02\\x90\\xa0\\x87xC\\x0bQ\\x16\\x887\\xb3<e\\xb0aN\\xbfGs>\\xaeiN4\\xbf\\xfc\\x81\\xe9\\x9b\\x0eN?j\\xce\\x93*\\xe3\\xd7\\x8c\\x17\\xcc\\x8f\\xe6\\x05\\xf3<\\x9e\\xa8k\\x0e8=+R\\x9d\\xfa\\xba\\xea\\x15NO\\xc0\\xa9\\'\\xe0\\xd43\\xb5i\\x9b\\\\A\\x87Q\\xbfG\\x93>\\xaeiR4\\xef\\xd4\\x9b\\xdco\\x1d]C\\xfdIo-\\x01\\xf5#\\xee\\xe9wv\\xac>\\njYx*\\xd3\\x86WS?ZJ\\x81\\x80\\x9f\\xd4\\x8d\\x87\\xb7\\xe5\\xdf\\x04@<\\x99(NNf#\\x9e\\xac)\\xceG*\\xce\\x93\\xc9} #\\xb5\\xa68\\x13^xuJS\\xba\\xdc\\xe7\\xc0zG\\x1c\\xa8\\x9f&\"\\x89\\x14\\xb1\\xbc\\x9bx\\xce\\x81\\x16\\x1a\\xe4\\x11Q\\xea\\x83\\x8e\\xe0~R\\xdd\\xca\\xd9np\\xbf\\xa69\\x1f\\xa99\\xd5\\xfd\\x10QF\\xd1x\\xba3\\xcd\\x99p\\xdfALp\\xf1\\x16\\xad\\xebOA}\\r\\xc0\\xebY\\xca\\xea^_[ \\x96\\xd7\\xf2\\x15\\xcc\\xd7]\\x81\\xf9I\\x8e\\x92\\x93\\xd9`~Mr>R`\\xe9\\xe5p`~\\xd4\\x8c\\'=\\xdc\\x8f\\x802\\xe2\\x05\\xf3\\xb7S\\x98\\x1c\\xd7sA\\x04|\\xd7\\x9c\\x80iw\\xc4\\xf2Y\\x0e3L4\\r\\x0c\\xeei\\xe2\\xeb\\xf6\\x89\\xe0\\xe4l7\\xb8_\\x13\\x9c\\x8f\\x14\\x9c\\xba\\xd9\\x04\\xee\\xb3\\xa0\\xb4$f\\xc2\\xab\\xc5c\\xba\\x8bG\\xfeh~\\xb7\\xee\\xdb[\\xe4A^~p\\xfb\\x0e\\xe8\\xed\\xdcp{JXQ\\x10\\xe0\\x9e]\\xd9=\\x96\\x04\\x9e\\xc4\\x02\\xd4w\\x0b\\xfdJ,\\xdc~\\x92\\xe3\\xe4doS\\xff\\xb4\\xa6G\\xd1\\xbc\\xbfGM\\x8f\\xb6\\x8e\\x86\\xf7\\xa8\\xe9\\xd1\\x84\\x17\\xd4g\\xdc\\xa8\\xe7\\xc0OF}\\x00v\\xf3-\\x01\\xbd\\x16\\xf2\\xe38\\xb1\\xf8\\x0c\\xe0pg\\xdc\\xd3D\\xc3\\xecw\\x98X\\xca\\x82\\xb3\\xd9\\xe0~M\\xae>Q\\x9f\\xe9y\\x99\\x97#\\x90\\x91{\\x93\\xab\\t\\xaf\\xb8Or\\xd7\\xceFq`\\xdf\\xdb%\\xe0\\x9a\\x89\\x80\\x1f;\\x8b\\xaelowb\\xf1\\xd5\\xe6v\\xd9\\xc5\\xb4\\x88\\x13t\\xe8\\xf2\\x91\\x93\\xdd\\xa0~M\\xae>Q\\x9f\\xa9F\\x01\\xf5\\xa3\\xdc<\\xdd\\x99\\\\MxE}\\x92\\xbbN=\\xe5\\xaa\\xcc\\xfe\\xad\\x8d{\\xd9G\\xf4\\x92\\x95@\\xbc\\xd8\\x8a\\x88\\xbe\"\\xe0\\xf8\\xbd3\\xafY!\\xa0\\xbf<\\xfc~\"X9\\xdd\\r\\xf2\\xd7\\x04\\xeb\\x13\\x05\\xeb\\xc9\\x04+\\x90\\xd1\\xefM\\xb0&\\xdc\\xd7\\xee\\xecX\\xdfr \\x97)Ja\\xfd=\\x00?\\xeb\\x10\\x16\\xee\\xd7\\xbd+_?\\xd2\\xc2\\xb7nc\\xba\\xe6\\xd7{\\x14\\xe9\\xd3\\x9a\"E\\xf3K8\\xd7?T\\xf8uR\\xa4\\xaa\\x1c_3^P\\xdb;\\xd6\\xc8\\x00jk5\\x08j\\xa9\\x1f\\xe5GD\\xb8\\xa6zU\\x7f\\x86\\xdb\\x12\\xd1\\xbf\\x01\\x04\\r\\xe6Z\\xe5\\xa5\\x00\\xbf\\xe5\\x84\\x8d\\xdc=\\x9a\\xf3iMs\\xa2y\\'\\xd74g\\xeb\\xe8\\xe7]\\xa9\\'\\xb0An\\xd6\\xa4\\xf9a\\x7f7\\xb8J\\xec\\x80\\xdc\\x1a\\x00\\xb95\\x00rk\\x00\\xdc\\xd6\\x00\\xa8\\xad\\x01P;\\xd1\\x9c\\x9c\\xccFHX\\xd3\\x9cO\\xd4Xz?+\\xfc6i\\xce\\x83i\\xce\\x8c\\xcb\\x9f+\\xa8\\xad\\x93\\x92\\xa0\\xb6\\x16\\x88\\xa0\\xb6.\\x87\\x05\\xb5uW\\xa0v\"O\\xc1m\\x9d+\\x05\\xb7\\x13M\\xc9\\xd9lp\\xbb\\xa6)\\x9f\\xa8\\xa2\\xf4\\x82Vp\\x9b4\\xa5\\xe6\\xe7\\xe1\\xb6#~\\xf0\\x9b,\\xd9\\xb3\\xdf\\xa7M\\xc0\\xaf]\\xb8>K\\xfe\\x13\\x00\\xb9\\xfd!U\\xfb\\x83\\xdc\\xc8\\xc2f\\x0bpK\\x9d\\xe9\\xeb\\x88\\x89j\\xe4l6\\xb8]S\\x8dOQNj9b cH\\xb0De\\xc2+n{\\xcfz}\\x0e\\x1c7\\xd2\\x8a\\xfe2\\xa3\\x89Ir\\x9a\\xe8]; \\x97\\x16\\xb2\\xdc\\x05\\xb9uWp\\xdc\\x89,\\xe4t6\\xc8]\\x93\\x85O\\xd4A\\xaa\\xa9\\xe1\\xb8I\\x16jI\\x07\\x1c7\\xc9\\xbe\\xc2q)\\xd6\\xec\\xfb\\x05\\x1c\\xd2>x\\x89\\xb0@\\xe1\\xe7\\xe42\\xad(\\x1c\\x82\\xdc\\x0e(\\xeb \\xb7\\xee\\n\\xe4N\\x84\\x1f\\xa7s\\x9b\\xdc\\xe75\\xe1\\x87\\xe6\\xfde&\\x13z9\\xb6\\x8e\\x86\\x97\\x99\\t\\xbf\\x84\\x17\\x9e\\xcb\\x9e}\\x15F\\xc0O\\xde\\x11\\xf0\\xfa\\x85xH[\\x85M,\\xbe\\xda\\xc3\\xb7i\\xe9\\n\\xe2;\\x00\\x13v\\x9c\\xcd\\x06\\xb7k\\xc2\\xee\\x99\\xc2\\xeel\\xa2\\x1a\\xc8\\xc8\\xad\\t\\xbb\\x84W\\xdc\\xb2$\\xd5*\\xfd8\\xa4\\xef\\x16\\x11\\xb0\\xa3z\\x1fG\"~\\xd9\\xde\\xcc\\x04\\xec\\xf6\\xe1\\x0bv\\'\\xa9F\\xceg\\x83\\xdd5\\xed\\xf6L\\xa9\\xa2\\x17\\xd4\\xc2s\\x93v;\\x98vK\\xb8\\x97\\xa3%\\xd8+\\xa28\\xae\\xde\\xdf\\xff\\xd6\\x86\\xbd\\xec\"Y\\xd2\\x85\\x80F\\x00PO\\x15(\\xab\\x99\\xcf\\x00|\\xb3\\x88\\x16z\\x85\\x0c\\xfcz\"\\xdc8\\x99\\r\\xe6\\xd7\\x84\\xdb3\\x85\\xdb\\xd9\\xaa\\xb6\\x81\\x8c~m\\xc2-\\xe1\\xbe\\xfd\\xcc\\x8e\\xfd\\xb2\\x16\\x02~\\xc5\\x10\\x01?\\xfdE\\xc0\\xf3\\xe7\\x04\\\\\\x13O\\x06\\x07\\xb5\\x93#\\x8f\\x9c\\xcc\\x06\\xb5k\\xc2\\xed9\\x84\\x9bib \\x03\\xb5\\x1aU_\\x8f\\t/N\\xa1\\xb3\\xe7\\x82[\\xaa-\\xff\\x84h\\x98X\\xd1\\r\\x01\\xbfdhb\\x81\\x88A\\x15h\\xab\\xb4\\x98\\xb0\\n7Ng\\x83\\xdc5\\xe1\\xf6\\x1c\\xc2\\xcd\\xc9M\\xc2L\\xcf\\xf2\\x82\\xdc\\x11\\xaf\\xc8\\xads\\x7f\\x88\\t\\x1d8\\x14\\x9eK\\x13\\'\\x97&^\\xa1\\xca\\xce\\xfcZ\\xb7\\x18EM\\xe0\\xbb\\x13\\xf1\\xc6\\tm\\xd0\\xbb&\\xde\\x9e)f\\xf4\\xf9\\x10\\x90\\x93x\\xd3\\x90\\nzG\\xbc\\x08\\x0b\\xd4h\\xb6Y\\xc6\\x11u\\xeb\\xfc\\xbdu\\xd8B\\xb1n\\xeb!\\xe2v@-\\x10qk\\x0bxnm\\x01j\\'\\xda\\x8d\\x93\\xd9\\xa0vM\\xbb=S\\xcbh\\xa9\"\\xa8M\\xdaM\\xe7\\x05j\\xb3v3a\\xcc\\x9e\\xbdzc\\x02\\x80[\\xa6\\xe9\\xdcqk\\x00\\xdc\\xd6\\x00\\xb8\\xad\\x01p;\\xd1n\\x9c\\xcd\\x06\\xb7k\\xda\\xed\\x99R\\xe6\\xc1\\xf2\\xdc@\\xc6\\x90k\\xda-\\xe1v<\\xf6\\xf7\\x91=\\xfb\\xd9\\xb9\\t\\x00n\\xfb\\xb3\\xf8u\\x84\\x13\\x00\\xdc\\xd6\\x16\\xe0\\xb6\\x06\\xc0\\xedD\\xbaq6\\x1b\\xdc\\xaeI\\xb7g*\\x99\\x82\\xdb$\\xddt%\\t\\xbf\\xcd\\xd2\\xcd\\xfd\\x96\\xaa\\xcaW\\xc0\\x1d(N+\\xf3a\\nr\\'&`\\xb7\\x1e\\x05\\xec\\xd2\\xc4\\x0f\\xbb\\xc4\\x94\\xed\\x85\\xb6\\xa3\\x8a\\x14\\x15B\\x7f\\xfc\\xc3?\\xff\\xfb/\\x7f\\xff\\xe7\\x9f\\xffx\\xf8S\\xfb&\\xf8\\xff\\x1eN\\x7f\\xf9\\xeb\\x9f\\xfe\\xf3\\xff~\\xfd\\xed\\x9f\\x7f\\xfd\\xdb\\xdf!\\xc7\\xee\\xfe_[\\x8d\\xfc\\xf5\\x0f\\xff\\xf8\\xf3\\x1f\\xff\\xbd5\\xbf\\x887\\xdd.y\\xb9t\\xf4#\\xdeT\\xf9\\xbef\\xdc\\xb8\\xfa\\x95q\\xdb\\x06\\x8e\\x81\\xad\\xd01\\x00\\xd3v\\x01X\\xe6\\xe8\\nHp\\xff\\x9cY|\\x05`\\xea\\xe3J\\x87P\\x1f\\x93\\xb9\\xe9\\xd9\\xa8\\x10Z\\xa3\\x9eJG7f@}\\xd2v\\xca\\x1d\\xa8OW\\xd6\\xe8B\\x0e\\xd4\\xdf\\xba\\xf1\\xe6w\\x83/\\xf5\\x8c\\xea\\xf8\\x01\\xd8\\xddo\\x01\\xd8\\x1a\\xf9\\n8\\xf5\\xcc\\xcd\\xc9\\x18\\xa0\\xbe>\\n\\xf9\\x1d\\x80\\xca\\xea\\x98\\xcc\\x06\\xf5K\\xc2\\xeftG\\xa9\\xa3KYP\\x9f\\x84\\x9f\\x1e*\\x05\\xf5#^y\\xfd\\x88\\x17^\\xdf\\x07\\xb6\\x0b\\x80\\xde\\xe2\\x914\\xb4\\xbc\\x07`[\\x1aW\\xc0\\xb9\\xef\\x83\\xa8\\x05\\xb8\\xa7\\xbc\\xd4%\\xf4\\x95\\x0fs\\xfb\\x1dG\\x1bQA\\xb4\\xe6\\xf6\\xd4BZ*\\x01\\xee\\x93\\xf4\\xbbW\\xe9\\x97\\xf1\\x82\\xdb\\xd0\\x94y\\x16\\xa0\\x96\\x15\\x9e\\xf2\\xf6\\x05\\xb5<\\x88\\xa8;q\\x01<\\x8a\\x05\"\\xca$g\\x17\\xc0QV\\x00p\\xebZ\\xfa\\xc5d6\\xdczI\\xfa\\xa1\\xa2\\x88\\xc1\\\\\\xab\\xd6\\x1b2\\xacCT\\xa7\\xc1\\xadG\\xbc\\xa0\\xb6w\\xac\\xa9JP\\x1b\\x198\\xe76\\x10\\'\\x97\\t@\\'\\xb7Vx\\xf0[\\x0e\\xef\\xe4\\xd69\\xbb\\x98\\xce\\x06\\xb9K\\xd2\\xeftG\\x1d\\xa4\\xb7\\x1e\\xc3o\\x93\\xf4\\xd3/\\xba\\x83\\xdc\\x9bu\\xa2\\xd1qAn\\x1fQ\\xef\\xb2\\x80\\xdfR\\xdf\\xe9\\xbd4\\x1fWDOu\\xc0s\\x99\\x9c\\x93\\x9f\\x03\\xe4v@\\xf3e\\xf0\\xdcZ\\xf8\\xc5t6\\xc8]\\x12~\\xa7\\xbb\\x10~\\xaa\\xab\\x1b2z\\xaef\\xed2n\\x95\\xa2\\x19\\xf6O\\xba\\xc4\\xc0v\\xa6\\x05\\xae=I\\xeb]M\\xec\\xa3#\\x81\\xd81\\xff\\x00\\xac\\xec?\\x00\\xbbQ\\xf2J\\x88E\\xe4\\x1d\\xc7\\x13OwK\\xd2\\xb05\\xbf\\xac\\x01\\xf5\\xf5\\x0e\\xcfN\\xd2P\\x0f\\x8e\\xc2\\xb3\\xd3\\xf9C\\x89:Xh0\\xb1&\\xeftp\\xcb\\x11\\xb5\\x02:\\x00\\xbb9\\xf9\\xda\\x95\\xee\\xdf\\x07PP\\xdb\\xc7\\xd0\"/\\xf8u\\xad\\x0cc2\\x1b~\\xbd\\xa4\\x0cQ\\xf5Cj5\\xd1\\xdf\\x90\\xd1\\xafU\\x19f\\xdc\\x0e\\xeaG\\xc7Vx\\x15\\x80%L\\x03\\xb03Z\\xd7\\xae\\x9cZ>\\xbc\\xaf\\xe1:`\\x87j\\xaf\\xd35\\xaf\\xddq_\\xcd\\xe9nI\\x18\\xb6\\xe6\\xddkUt_:\\xfaQ.z\\xf6\\x10^;\\n\\xc3\\x82Z\\xa6\\xf4t\\xaf(F\\xb4\\x9a\\xb6\\x00,\\x88 \\x1e\\xb3/\\xe7\\xb6\\x03J!\\xc2q\\r\\xc0m\\xeb\\x94^\\xcc\\xe6\\xb6\\xdb\\x1e\\xd6T!\\x9awn\\xf5\\xa8\\xf8\\xa9u4p\\xab)\\xbd\\x8c\\xdb\\x81e\\x81\\xb5\\xa6\\xad\\xc1\\x17eb\\xd4\\x13\\xb0\\x0f#\\xbc\\x87\\x89I\\xf2\\x00\\xfc\\xae\\xcd\\x99\\xc9\\xd7\\xd5\\xc4$y &NH\\xc7\\x06\\xf9k\\xba\\xf0@]\\xa8\\x070_N@F\\xf25\\xe7\\x97\\xf1\\x82\\xfc$\\x0b\\x9d|\\xcaB\\'\\x9fw\\xd1\\xd8EMm\\xc0K\\xa9\\xa1\\xbf\\n\\x03Qq\\xfa\\x196\\xaeNf&\\xdfa\\xe2\\xec\\xef8~xj{ \\x0b\\x1b\"h\\xde]_\\xeb0.\\x1d\\r\\xae\\xaf9\\xc1\\x8c\\xfb\\xd7\\xe52n[\\xd4\\r\\xbel8\\x9b*\\'`\\'?\\xc3\\xa2p}\\xce\\xc1\\x94!\\xbb\\xb2\\xed\\xff\\xe8J\\x7fGP\\xcf\\xae4\\xa27VA\\xc6\\x86\\xe3\\xaf)\\xc3\\x03\\xa5\\x92\\xbe\\xbb\\xe0\\xf8I\\x19\\x1eM\\x19&\\xbc\\xa2~\\xb4/\\xa8\\xaf\\x8f\\x00\\xbe\\xb5q/\\xe5tB$\\xa2\\x0e\\xcb@\\xad\\x926\\x10;\\xfa\\x19\\x80e\\r\\xaf\\x16\\xf2\\xc3\\x83\\xfb\\x89t\\xe4l7\\xb8_\\x93\\x8e\\x07*\\xa9G-48\\x01\\x19\\x82\\x8en\\xcb\\xbdf\\xbc\\xe2~\\xb4/\\xb8g=\\xa6\\xbb}$\\x15\\x9d\\xfcI\\xba\\xf1\\xa3=K\\xf5\\xfe@\\xd0!`K\\x19\\x02v\\xee6,<\\xe6\\xec(\\x07=\\x1d\\xd6\\xa4%\\x9a\\xf7\\x98\\xe3\\xe4\\'i\\xa9\\x87H@~\\xca*Z!B\\xc6\\x0b\\xf2\\xa90\\x9d|*\\xcc\"\\xe4O\\xd2\\x91 \\x7f\\xa2J\\xc1~\\xe4#\\x9d\\xfe\\t\\x02\\xe7\\x9f\\xa8O\\xcex\\xc3\\xf9\\xd7\\xd4\\xe7\\x81\\xeaS\\xef\\x0eG\\xe0I\\xeaS\\xcf1\\x82\\xfft\\x10\\xd1>\\xd7\\xda\\xf0\\xf6\\xcbZ\\xfe&\\x00\\xbfK!\\x90\\xfb\"\\xb4\\xf4\\xce\\xec\\x14\\xe8\\xb43\\xachj\\x13\\xd0[\\xa7\\x1ecB\\x9d\\xde\\x1f\\xd1\\xf2/\\xff\\xf8\\xaf\\xff\\xf9\\xb7\\x7f\\xc5?-kp:\\xac\\xe9K4\\xef\\xee\\xad\\xc5\\x1e\\x97\\x8e~^\\xa9z\\x86\\x06\\xf4\\xdeN=6|Bo\\x9d\\x16D\\xe0\\xee@\\xb1T\\x9f!p\\xdfnc\\xbf\\x08\\xe8\\x9dd\\x1f\\x03\\xf0\\xe81^q3\\xa5wMc\\x1eBc\\xda\\xde\\t\\x901t\\x9b\\xc6L\\xb8\\x7f\\x91\\xf5\\xc4\\x9e\\x0b\\xef\\xedC\\xba\\xc8\\xa4\\x85\\x15+ :\\xd4&`\\x97U\\xa8.\\x85\\x88\\xb8\\xcc\\x8c\\x19\\xdb\\xa2d\\x94\\x99Sv\\xd7d\\xe6\\x81\\xb2KI@lH\\xf9G\\x8d\\x94p\\xde[2\\xf3W\\x86\\x8b\\xd0<\\xc9N6\\xbb\\xca\\xe7\\xe1\\xda\\x1d\\xf0D\\x01\\x81J\\t1\\x07\\xa9\\xeb>x6\\x11=\\xde\\x81\\xc81\\xd1\\xa1\\x9c\\xee\\xed\\xc8q\\xbf\\xa6C\\xd1\\xfc\\x129\\x9c\\xfc\\xd6\\xd1\\x109L\\x87&\\xdc\\xa5P\\x82\\x9d|\\x8e\\xeb\\x8eO\\xa0\\x08\\xdb\\x81\\xd8\\x01\\xa0S \\xbat\\xfa\\xbc\"\\xee\\xfaa\\xe3\\xf4\\x07%\\xea\\xfb\\x9c\\xd1\\x06\\xfdkJ\\xf4\\x9eJT\\xefh\\x7f9\\x01\\x19\\xe97%\\x9a\\xf0\\x82\\xfe\\xd1\\xbc\\xa0\\xbf\\x8f[\\xd0_g.\\xdf\\xdb\\xf3T\\x7f\\x14\\x1f\\x01X\\xd1*\\xc8\\xa7vU\\x8a\\xbf\\xa6\\xc8w \\x16\\xd69\\xdd\\r\\xf2\\xd7\\x84\\xe8=\\x95WA~\\xcaQj\\x85\\xd2\\xeb\\t\\x96??NA\\xfe\\x08\\x17\\xe4\\xf7q\\x0b\\xf2;`T\\x82}\"\\xbed\\t\\xc4J\\x83\\xaf6v\\x90\\xfc\\x8a\\x14\\xbe?\\x11\\xa3\\x9c\\xf0\\x06\\xfdkb\\xf4\\x9e\\xe2K\\xef\\xc8\\x87\\xef\\'1\\xaaG\\x0fA\\xff\\x88{.\\x8d\\x1d\\x17\\x19\\x87\\x19\\x02\\x82\\xfb\\xc3xh\\x0f\\x13_\\x13\\x06\\xa2Q\\x07\\xee]w\\x06\\xef\\x9e\\xe8MNh\\x83\\xde5\\xbdyO\\xbdY\\xd0\\x9b\\xf4\\xa6N\\x0c\\xf4\\xdeNU\\xb2\\xe3\\x8a^\\xcaF+\\xa4l]^d\\xa3\\xd6\\xa3\\x05p\\xd0?\\x06D\\x0fv\\xe6[)\\x93\\xce@\\xef$Y\\xc9\\tm\\xd0\\xbb\\xa6(\\xef\\xa9\\x9e\\xb4`\\x1c\\xde\\x9b\\x14\\xa5V\\x81\\x83\\xde\\x11\\xb7\\x0b\\x83\\x1a|\\xd9\\xf1\\xd3?\\xf5\\xb7+R\\xd0\\x1bb\\xd2\\xf9\\x9d\\xf4\\x06~;\\xe2\\xbb\\x84\\x13\\x00\\xf4N\\x04#\\'\\xb4A\\xef\\x9a`\\xbc\\xa7z*\\xe8M\\x82Q\\x93\\xaa\\xa0w\\xc4\\xed\\x8a\\x8f\\x0c\\xdb\\x17 \\x1a<c\\x9f\\x88\\xd7\\x8f\\x84\\x8d\\'~\\x02)\\x82G\\x9d\\xfbD\\xec\\xa8\\x01\\xb0?\\xd1\\x93\\x9c\\xef\\x06\\xfbkz\\xf2\\x9ezR\\x13\\xe3p\\xee\\x94\\xaf\\xd4c\\x8a`?\\xe5+\\xf5NO\\x81m\\x83\\x9c\\xe3\\xdau)\\xf0}\\xaa\\xca\\xc2\\xf7\\x99\\x85t\\xd7\\x9f\\x98\\xc0\\xf5k\\x13\\x90O\\xc0\\xcaw\\x82\\x10[\\x13\\xeeQ\\x9b\\xf7kj\\x13\\xcd\\xfb\\x92\\xdc\\xf6\\xc7[G?Kr\\xf5m\\x90?\\xe2\\xc5\\xb2$\\xc1N>e\\xa2\\xd6<\\x80|\"\\x85\\xeb\\x87\\x8d\\xb3?\\xb1\\x01\\xfb\\x13\\x1b\\xd0O\\xc4J\\xe4\\x03\\xf1e\\xe1\\x1e=z\\xbf\\xa6G\\xd1\\xbc\\xf3/^\\x00\\xe7OzT7\\xa0\\xc1\\x7f\\xaa\\x87\\xf5\\xbd\\xc2\\x84\\x17\\xeb\\xc2I\\xbd*~\\x80\\t\\x82u\\xcb\\x04\\xc1\\xba|\\x82\\xe0\\x07\\x98 \\xf8\\x01&\\x08\\xa2\\xcfD\\x93rJ\\xb7\\xa3\\xcfqM\\x93\\xa2y\\xff\\x01l\\xb3\\xb6u4\\xfc\\x01\\x98&M\\xb8\\x13\\xcc\\x8e\\xad\\x8e\\xfeD\\xc0O\\x80\\x04\\xe2%\\xb13\\x93\\xcf\\x99\\xc9\\xd7t\\x94\\xef@\\xcc\\xbd9\\x9f\\rv\\xd7$\\xe71$\\xa7\\xb3\\x9b$\\xa7\\x1e\\xd9{=\\xc1\\xf2\\x87\\xfd\\x82\\xdd\\xdeq\\xc1.u\\xa0\\x87\\x0f>\\x8b+z\\x02\\xc5\\xb2pb\\x02v9\\x8aof\\xc5\\x8c5xs>\\x1b\\xec\\xaei\\xcachJg7iJ=\\x96\\x07vo\\x8bFv\\\\\\xb0\\xdbG\\xb4\\xd3\\xa4\\xad\\xc3\\xcbR\\xc6\\x97%D\\xec.\\x9a\\xa9\\t\\xd8\\xed\\x9d\\xd9\\x85\\xcc\\x01\\xb8\\xeb\\x8e\\xe9\\xcb\\xd9N\\xe1qM1\\xa2\\xf9,0$\\xc5x\\xb6\\xf4e\\x1b\\xe8\\x1a8\\n\\xd7e\\xd1\\xa9ei8\\xa2\\x17\\xa4\\x04`\\xef\\xbd\\x89\\x05\\xc2B-\\nA-3\\x9d\\xfa\\xe7\\x81\\xb00\\x91\\x8b\\x9c\\xcd\\x86\\xe3\\xae\\xc9\\xc5c\\xc8E\\xabl\\x052\\x04]\\xf5&8\\xee\\x88\\xdb79\\x1a\\xdc~4/\\xbe$\\xa0\\xd5\\x9e\\xefa\\xa1U\\xfb\\x1f\\x01x\\xf5\\xdfd\\x0cp\\xcbY\\xe9]4\\xd7\\xae,&\\xecI>\\x1e\\xd7\\xa4\"\\x9aw\\xb7\\xb5\\xecL\\xeb\\xe8\\xe7}\\xa6\\x07\\xc7@mJ>\\xea\\xbdl\\rn\\x1d\\xdb\\x15\\xf8\\x01<\\xc9\\xdf\\x01\\xa8e:\\xd2J\\x86\\txR\\x9d\\x80W\\xff\\xc5\\xac$\\xd0\\xc1k\\xfb\\x18\\xb2z\\xfd\\x8f\\x98L\\xf7\\xda\\x9f\\xbf\\x9b\\x9c\\xf8:\\xae\\xc9D4\\xef\\xd4Zf\\xa6u4PkU\\xad\\t\\xf7\\xa5Z\\x82]\\xa4s\\\\\\xbbb\\xe9D\\xe0p\\xe7\\xd4\\x87\\xb2t\\xee;b\\'u\\xa33\\xbbF<\\x00\\xbd\\xb3\\x00\\xdc\\xf7\\xae\\x9c\\xfb=E\\xad\\xc75\\x91\\x88\\xe6\\x17\\xee\\xf5\\x9d\\xf0rj\\x1d\\r\\xdc\\x8b\\xdf\\xc2\\xadS\\xd2Q\\x98\\xfa\\xdd\\xe0\\xd6\\xb1]U\\x13\\x80\\xbe;\\xe1\\xd6\\xb5\\x05\"\\x06\\xd3\\x87\\xf2\\x97\\x87h\\\\[ bt@\\xff\\x16A--,b\\x8c\\x12p\\xea\\xd6k\\x12\\xf0H\\t\\xa8o*P\\x9b$\\xa0\\x86HP;\\xe2\\xf6i\\xd7\\x0c\\xeb\\xde\\n\\x98\\xef\\xe3\\xdaE6\\x01<\\xea\\xb5\\t\\x01\\xe86\\x0c\\x98g6\\xd2\\x99gi\\xab\\xfcE\\x82\\xf9\\x0e\\xe8n<\\x98\\xef\\x80;\\xf5\\x9e\\x9a\\xd7\\xe3\\x9a\\xf8C\\xf3\\xee\\xd4V\\xf3\\xda:\\x1a\\x9cZ\\xfe\\x8a\\xc1|\\x12\\x7f\\xe2\\xd4\\xbf2\\\\0\\xdf\\xc7\\xd5\\xe2\\xa0\\xb7f\\xd77\\xa4\\xec\\xfc\\x07\\x91Gy\\xb7\\x81\\xfa\\x89\\t\\xbc\\x9e\\xa3\\xe8=\\xe1?&\\xf2s\\x81\\xfcn\\xe2\\xe4\\xef9*yZ\\x13~h\\xde\\xc9\\xb7\\xa2\\xd8\\xd6\\xd1@\\xbe\\t\\xbf\\x84{F\\x80\\x1d\\xebv\\xd5\\xdb)\\x00\\xbd\\xc0\\xf4\\n\\xc8\\x93|\\x04\\xa0\\xf1\\xe1\\xf3j!\\xcf\\xf6\\x15\\x80}\\xb0\\xf8\\nhD\\xe1dn\\xbf(Ok\\xaa\\x0f\\xcd;\\xb5\\xb6\\xa9\\xd4:\\x1a\\xa8\\xb5Dc\\xc2\\x0bj{\\xc7\\x1e28\\xa2\\x1eB{?\\x05 \\xae\\x06j\\x99b\\xd4ky\\x03\\xd0?\\x0eP[K\\xce\\xef\\x00\\xcck9\\x99\\rj\\xd7$\\xdf\\x89\\x92O\\x17\\x03/\\' #\\xb5V\\xcf\\x9ap?Y\\x93\\xe0\\xa2x\\x84\\x03\\xeb&-\\xbc\\xba?\\x91\\xde\\xd7\\x0b\\xea\\t8\\xf5\\xd4\\x8az\\x1d\"\\xdc\\x9a\\x88^\\xce\\x0f\\xf2;\\xa2\\x82\\x00\\xe4w\\xc0\\xc9\\xdfS\\xd1zZ\\x93\\x84h\\xde\\xfd\\xda\\xf4v\\xebh\\xf0k\\x93\\x84\\x19\\x17\\x1d\\xf7\\xeb\\x94`\\xbb`\\xa8\\xc1\\x975\\x8a)F\\x02^K\\x1cOj\\x8aq\\x02\\x80z\\xce\\xcdj\\xfa\\x08\\x14\\xcc\\xf3\\xa9,\\xa2\\xec\\xb8\\xbe\\xf4tZ\\x13\\x8ch\\xde\\x997\\xc1\\xd8:\\xfaa^w\\x19^/\\x03\\xfd\\xe0\\xce|J?\\xda65\\xc7u=I\\xc0K\\xa6\\xc2\\xc2\\x99\\xefS\\xf0\\xb2\\x11Zxf\\x97\\x80K\\xf5\\xb00\\xe6\\xf7\\xe8\\xc9\\xd3\\x9a\\x9eD\\xf3\\xce\\xbc\\xe9\\xc9\\xd6\\xd1\\xc0\\xbc\\x04R0\\x9fpg>\\x1d\\xa3t\\xe6k\\xf1\\x88x\\xc3$\\xa3\\xee\\xe3!\\xe0P\\xa1:\\xf5\\x1d\\xf0\\xc4\\x18-<\\xeb\\x1b\\x83\\xf8\\xd1\\x11\"\\x1eo\\xfat6\\x82\\xfd\\x9a\\xe0<Qp\\xea\\xcdb\\x08\\xf6Ip>\\x9a\\xe0\\xcc\\xb8\\x10\\xf2\\xbb\\x99_\\xb6I$N\\x81\\\\J:+\\xd2\\x0e\\xc0\\xb9\\xe53\\xda\\xe1\\x84\\x89\\x05B9-l\\x9b$,\\xcc\\xad\\xf7\\xe8\\xc9\\xd3\\x9a\\x9eD\\xf3\\x1eReB\\xa06\\xe9I=\\xb5\\x03\\xb7N\\xb8\\xbb\\xf5\\xed3\\x94\\x1c\\xf7\\xd1\\x99\\xef\\x0fd\\x1f\\x8dm\\xe3\\xb5\\'\\xf5\\x8dU\\x02\\xbe\\x8b2\\xb1\\x00\\xf3\\xbd+]\\xc4\\xe3%:\\x91\\x9b\\x9c\\xeb\\x86S\\xaf\\xc9\\xcd\\x13\\x05\\x96\\xbe\\xe3\\xc1|\\x92\\x9bzZ\\x1f\\xcc\\x8f\\xb8\\x1e\\xcd\\x87SS\\xc7\\xca+\\x02N\\xdd\\x01\\xbb@=\\x00\\xad\\xc3\\xc7\\xe2\\xb0\\xb6\\xc0[\\x92\\x0fo\\x9afb\\x01j\\'z\\x92\\x93\\xd9\\xa0vMO\\x9e(\\x9f\\xeeLO\\x02\\x19c\\xb5\\xe9\\xc9\\x84\\x17\\xd4R\\xca9\\xb5\\x1d(\\xbc\\xb6\\x03Z\\x90\\x02j\\tx\\xbc\\xa8-\\xe0\\xb5\\x1d\\xd0MAP;Q\\x8b\\x9c\\xccmj\\xcfkj\\x11\\xcd{\\xbc0\\xb5\\xd8:\\x1a^\\x83\\xa6\\x16\\x13\\xae|\\xfc>E\\xc7vL\\x8f\\x80N\\xfb=,\\x8e\\xf2\\n\\xfa\\xb8v%1\\xe9sf\\xf15\\x1b\\xfc\\xfb\\nh(\\xe6d6\\xa8]S\\x8b\\xe7\\xae\\xab\\xec\\x03:/\\' #\\xb5\\xa6\\x16\\x13^PK\\xb5h\\xcbf\\x8e\\xe8^\\x1b\\x8f\"\\xd1\\x19\\xd4\\xd6]\\x81Z>\\xbcX\\x80\\xda\\xda\\x02\\xd4\\xd2\\xc2\\xa8\\xdds\\xfa\\xf1\\xbc\\xa6\\x16\\xd1\\xbc{\\xadU\\x17\\xb4\\x8e\\x06\\xaf5\\xb5\\x98\\xf0\\x82Zj;\\xa7\\x96\\n\\xceWg|\\x16}\\xf3\\x81\\xdbnb\\x17s\\x06\\xa0\\x16\\xe0\\xb6[\\xf8)\\xaf\\x98\\xafq\\xbbG\\x0c\\x9e\\xd7\\xc4 \\x9awnM\\x0c\\xb6\\x8e\\x06nM\\x0c&\\xdc\\xb3\\x01\\x19\\x96\\xbfr\\x04\\x8c\\x99\\x18$`\\xb7v\\x86\\x85\\x9e\\x9c\\x07\\xf3u&\\x12^\\xdd\\x01%\\x18\\xcc\\xd3\\xc2j\\x96\\xe2\\xa9\\x8c\\xf9=b\\xf0\\xbc&\\x06\\xd1\\xbc3ob\\xb0u\\xf4\\xc3\\xbc\\n\\xa7\\xd7S\\xc2\\x0b\\xe6Sr\\xd1\\x99\\xef\\xe3\\xda\\x17\\xb9Z\\xb7\\xed\\x81<+N\\xc0>\\xe6\\x1a\\x16\\x07]\\x93\\x80zV\\xa2ja\\x14\\xb8\\xaf\\xcbZ\\x11Q\\xc8\\x87q\\xbfG\\x0e\\x9e\\xd7\\xe4 \\x9aw\\xeeM\\x0e\\xb6\\x8e\\x06\\xeeM\\x0e&\\xbc\\xb8\\xba\\x85=?\\xd8\\x1a\\x83\\x80q\\x857a<L\\x9e9\\x1c\\x9b\\xa2\\xd5\\xdf\\x845\\x00r)\\x11mK:\\xc60r\\xf7\\xe8\\xbd\\xf3\\x9a\\xdeC\\xf3N\\xae%\\x18[G\\x03\\xb9\\xa6\\xf7\\x12^\\x91\\xcbBO\\'\\x97\\x89\\xc2b\\x99\\xd1\\x11\\xd7\\x1d|J\\xb5\\x80\\xebRU\\xda\\x16R\\x00N\\xee$\\x83\\xc8\\xe9l,3\\xd6\\x14\\xdf\\x99\\x1aG\\xcf!`\\x99\\x91\\x14\\x9d\\xa6K\\x105R\\x06QO\\x85\\xfe\\x12\\xdc\\x8b\\x128\\xb2\\x06\\xe6\\xb7fx\\xf9\\xbd\\xe5\\xe7\\x84cw\\xe0\\xa07\\x95\\xc3\\xb3k\\x13\\x90O\\xfd(\\x1c\\xc3\\xb3;\\xe0w\\x01DW\\xe6\\xd9{r\\x8c\\xe75\\xd1\\x87\\xe6\\x97\\x99\\xea\\x96/\\xc8O\\xa2O\\xb7\\x97A~\\xca1\\x16\\xe4\\'\\xbc \\x9fYF_\\xa9\\xd4\\xa9A\\x90\\xcf\\xc2P\\xad\\x15\\x01\\xf9\\x9c\\x85\\xfc\\x15\\x81|\\x9a\\xe8G\\xae\\xc1>E\\xa9\\x0c\\x8f\\xa0=\\xd1\\x85\\x9c\\xef\\x86\\xeb\\xaf\\xe9\\xc23\\x85\\x92~$\\x07\\xec\\']\\xa8\\x0bb\\xb0?\\xe2\\xae\\x0b\\xa3c\\'\\xb7\\x8f\\xa8\\x97\\xfe\\x81\\\\>\\x8a\\xd5%\\x10P\\x0bp[[\\x80\\xda\\x0e\\x1c\\xad&$,\\xcc\\xb1\\xf7d\\x11\\x1f\\xd6t!\\x9aw\\xc76]\\xd8:\\x1aB\\xb6\\xe9\\xc2\\x84+\\xb5\\xbfN\\tv\\xb7\\xe6\\xb8\\xbe\\x16!\\xa0Ui\\xef\\xad\\xc3\\xf6\\xa4\\xf6E\\xdc\\x00t\\x99\\xfd\\x19\\x80\\x15\\xc8\\x7f\\x05\\xe2\\xd4\\x07\\x1dJ=gs\\xdb\\xab\\x1f\\xd6t#\\x9a\\xcf\\xa8O\\xbaQ\\xbf\\x99\\xf0zj\\x03]\\x7f\\x9a\\x82\\xfa\\x11\\xf6r\\x1c\\x8e[P\\xdf\\x1fH\\x89\\x04\\xf5\\xac\\x16\\xf5\\x0b\\xfe\\x88\\xe8\\xaf\\x05\\xee\\x99\\x9e\\x94\\xbf\\x13P\\xcf\\xdc\\xaay}\\xd0a\\xd4\\xef\\xd1\\x95\\x0fk\\xba\\x12\\xcdg\\xd4\\']\\xf9d\\xba\\xb2\\rt\\x8b\\xfa\\x11.\\xb2\\x90\\x1c\\xb8\\xe0\\x9e\\xf9A\\xab\\x84\\xa2\\x85\\xaa\\xcb\\x8fSt%\\x16\\xa0\\xbe\\xd6\\xa3\\xa0\\xbe\\x03\\x85\\xd7\\x93\\x0e\\xa3~\\x8f\\xec|X\\x93\\x9dh\\xde\\xa9\\xb7\\xdcz\\xebh\\x088&;\\x13^x}:\\xe7h\\xf9\\x18\\x8e\\xeb\\x17<\\x13x\\xb6\\x92\\x11\\x02^\\xcd>\\xb1\\x00\\xf3\\xb5\\x1e\\x05\\xf3\\x1d\\xd0\\xf4\\xfew\\x00\\x96\\x8d\\xe1\\\\7\\xe2\\xcd\\x9a\\xec|\\xa0\\xcc\\xd2\\x03#/\\' \\x03\\xf3Z\\xa2\\x86x3\\xe2\\x05\\xf3\\xb7s\\x90\\x1c\\xd7\\x97\\x8f\\x13\\x00\\xf1\\x86O*?\"|\\x9eiT\\xd3E\\x13\\x0b0_K[0?\\x11\\x9d\\x9c\\xeb\\x06\\xf3k\\xa2\\xf3\\x81:\\xef`[-@F\\xe6Mt&\\xbc`\\xfev\\x0e\\x92\\xe3\\x16>\\xcf\\xe4\\xa4\\xf0\\x08\\xe6\\x99\\x9c\\xd4\\x1dxP_\\x9b\\xc0\\xe9\\'&\\xe0\\xbe\\x96\\xb7\\xe0\\x9e\\x80\\xc5\\x9b=\\x9a\\xf4aM\\x93\\xa2y\\x8f7\\xb6\\xd9\\xd2:\\xfa\\x897\\xcf\\xa6I\\x13\\xee[\\x88\\xec\\xb8\\x08\\xe5\\xb3\\x1c$-\\xfc\\xda\\xf2xF\\xcb)\\x10\\xf0c\\xa7\\x01\\xd8>Vte\\xd4\\xee\\xc9A>\\xac)R4\\xef\\xd4\\xda^J\\xebh\\xa0\\xd6jZ\\x13\\xeeeR\\xec\\xd8\\xab\\x16\\x08\\xb8\\xd8\\'\\xe0[\\x84a\\xe1\\x11\\xa3\\x96\\x95\\xf0\\xda:\\x91\\t\\xaf\\x9d$\\x199\\x99\\x8d\\x88\\xb1\\xa67\\x1fBo\\xdaN\\n\\x90\\x91Zys V\\xa7s\\x8bv\\x07.;\\xd6U\\xf4[\\xb3k?\\xa6-\\x96\\x11\\x13(4M\\xf2L\\xfaBH\\xa0\\x85m\\xa4\\xc4 ~f1&l~\\xbb\\xa7l\\xf5aMN\\xa2y\\xdf\\xb6\\xb0\\xdcy\\xebh\\xf0[K3&\\xbc\\x105\\xb5\\xd4\\x03\\xb9\\x94zV\\x96\\x10\\x8f\\xe2\\xdc2i(Q\\t\\xdc2\\xcd(\\x7fS\\xf0\\xdbz\\x0c\\xf8\\xed$\\xcd\\xc8\\xc9\\xdc\\xf6\\xdb\\xc759\\x89\\xe6\\x9dZ\\xbb`\\xb8u4Pkr2\\xe1N-;\\xf6W\\x19\\x01\\r\\xc3\\xef\\xa7\\x89\\xc5G\\x00*\\xab>\\xaf\\x16\\xb6\\x05\\xc5\\xae\\xf4\\x8f\\xe6;,l\\xf9\\xc6\\xc9lP\\xbb&\\x17\\x1f)\\x17\\xb5\\xbc\\xee\\xe5\\x04d\\xa4\\xd6\\xd2\\x8c\\t\\xf7h\\xcb\\x8e\\xbd\\x9a:F\\xb4:\\xf6\\t\\x00jYbj\\x1bL\\x04\\xf4\\xab9_a\\xa1\\xc9`P;I3r2\\x1b\\xd4\\xae\\xc9\\xc1G\\xea\\x1f\\xfd\\xd8\\x14\\xa8Mr\\xf0\\xd9\\xe4`\\xc2\\xbd(5\\xc1\\xae\\xc49\\xeeAw\\x15\\xdf\\xda\\xb8\\x97\\xcd\\x0e\\xf9+\\x87WS\\'ZQ*\\x01]\\xc6\\xc0\\xab\\xd9\\x95\\x1d! \\xa0\\xd7\\x97\\x82\\xfa\\x89\\x1c\\xe4l6\\xa8_\\x93\\x83\\x8f\\x94\\x83z\\x00\\x1f\\xd4\\'9\\xa8%d\\xaf\\x82K(\\xff\\xdd\\xe0KN\\xcb\\xea\\x12\\x08\\x14wf\\x11Q\\x95\\x06\\xb7\\xa6|\\xb3E\\xc4\\xc4\\x02n\\xdd-\\x0e\\xfe\\xa2\\x8b\\t\\xeb\\x8b\\x8e\\xd3\\xdd wM\\xf1=\\x86\\x8e\\xb2\\xf49\\x90\\x9f\\x90q\\xd6*A\\x90\\x9b2\\x89\\xfa\\xb5\\xa5_\\x19\\xf7\\x82_\\x0e\\xac\\xebV\\xf85\\xcf7\\x9a\\xf0 \\xe0E!\\x04\\xfc\\xc6\\xa6\\x98\\x9c\\x04_p?\\x93|aa\\xd4\\xef\\xc93>\\xaeI>4\\xef/B\\x93|\\xad\\xa3\\xeb\\x8b\\xf0\\xacUd\\xa0>\\x1dc,\\xa8\\xbf\\xad\\xf98\\xb0\\x9d\\xce\\x07\\xf73\\xd1\\x17\\xcfj\\x059\\x04\\xf4gDLa\\xb6\\xd1\\xb9\\xaf\\xc7@L\\x99H>\\xcev\\xc3\\xed\\xd7$\\xdf#\\x05\\x98\\xc6c\\xc4\\x94t\\xdd\\x8d\\x8a\\\\p\\x9f$\\xa1\\xc7\\x14&\\x08=\\xa60\\xd7(?6\\xc25\\x1f\\xc5\\xa9\\xad\\x01P\\xcb1\\xecd\\x0c\\x81b\\x112IBr2\\x1b\\xd4\\xaeI\\xbe\\xc7H\\xdf\\x99\\xe4\\x032\\xba\\xb5I\\xbe\\x84k\\xad8\\xc25\\xabD\\x9dZ\\xd6|:\\xb5\\xd4iNm\\x07\\xf4u\\x0bj;\\xf0\\xec\\xd42]\\xa9\\xfb\\xdbp\\xdb\\x89\\xe6\\xe3l6\\xb8]\\xd3|\\x8f\\xd4|\\xfa\\x95/\\xb8\\xed\\xa8\\xe9\\xce\\x9aC\\x84\\xdb&M(n\\x8b`=\\xc2~\\x9a\\x8e\\xe3\\xdawt\\x9b\\xddE\\x12\\xea\\x861\\xdc\\xba#\\xbag\\x8a7%\\x95\\x9f\\xfc(\\xe0\\x9e\\x16\\xce}\\x0cb[\\x19\\xc1\\x87\\x85\\xeb=\\x92\\xf0qM\\x12\\xa2y\\x0f\\xd7\\xa6\\xb7[GC\\xb86I\\x98p\\xff\\xb0\\xf9\\x89=\\xfb6\\xd1\\x04\\x00\\xb9\\x94~\\xf2;\\x82\\xdc\\x0e\\x98D\\x07\\xbb\\x13\\x04/\\xc3\\t\\x02\\xd7\\x9e\\xc8BN\\xe8\\xb6k?\\xad\\xc9B4\\xbf\\xd0\\xab{\\xc0/\\xa7\\xd6\\xd1@\\xaf\\xc9\\xc2\\x84\\xdbw\\x8a\\x7fe{_\\x88p\\xe0\\xe2\\xfa\\xbd@\\xbc\\xaa\\x9a\\x88\\x9f\\xd2\\xbdvf\\xfbt\\x13\\x93\\xaf\\xf6x\\x97U\\xa8\\x9d\\x15\\x08F\\xd4\\xb99\\xdf\\r\\xf6\\xd7\\x94\\xe3\\x13\\xa5\\x94~\\n\\x0c\\xec\\xa7L\\xe1\\x9d)\\xc7\\x84{\\xd0\\x8e\\x8e\\xed0\\x00\\x01?\\xd7\\x15\\x16\\xb6\\xb3?\\x01>\\xdb#6\\x06\\x8f\\xf2l\\xa0\\xb6\\xce0~\\x07`\\xa2\\x9c\\x93\\xd9\\xa0vM9>Q*\\xe9\\xd6<\\xa8\\x1d\\x95\\xe3\\xf9\\xce\\x94c\\xc2\\x0bj{\\xc7z\\xd4\\xe1\\xad\\xf5{Q\\x86VsC\\xc0/\\x02\\x99\\x00\\xa0\\xb6w\\xa5\\xc9[P\\xdb\\x81\\x83\\xd6[\\x80\\xdb\\x894\\xe4l6\\xb8]\\x93\\x86O\\x94\\x86\\xfa\\x9d/p;J\\xc3\\xb3\\xde\\x1e\\xf1\\x9aq\\xbf\\xc0&:\\xb6\\xb5\\x06\\x01\\xaf@%\\xe0\\xa9@\\x02^K6\\xb1\\x00\\xb7\\x9c\\x95\\xbd\\xee\\x02\\xb0\\x88\\xb0\\xa7\\x02\\xf5iM\\x18\\xa2y\\x8f\\xc7\\x96\\x84m\\x1d\\xfd\\xc4c\\xad5\\x03\\xb5\\xb7JL\\x11\\x8e\\x13\\xfc`\\xb7Up`\\xfd\\xbc/\\xdc\\x9a\\xb5\\xa9\\xb6\\xe1\\x11\\x8f*\\x7f\\xff\\x1fa\\xa1\\x87_\\xe0\\xd6\\x91\\xe7\\xccL\\x82z\\nC\\x994\\xbcz\\x92\\x0b\\xe4l6\\xbczM\\x18>Q\\x08i\\xaa\\x02^\\x9d\\x84\\xa1\\xee\\t\\x81\\xfa$\\x0ce\\x12\\xa0>\\xc1\\x05\\xf5\\x91\\xa7\\x13\\x8a\\xc1}G\\x9e\\x9d\\xfb\\x0ehI+\\xb8\\xef\\x80F\\'pO\\x0b;_D@\\xeb\\xe3\\xc0\\xfdD\\x18r:\\x1b\\xdc\\xaf\\t\\xc3\\'*%]\\xd0\\x82\\xfb$\\x0c5\\xee\\x81\\xfb\\x11/\\xbe*\\x93\\xf0\"\\xe2P\\xd4Y\\xf9*\\x9fHw\\xbf\\xde\\xdb\\x80\\x970/\\x0b\"P\\xdf\\x01\\xb5\\x00\\xf5\\xb5\\x05\\xdc\\x9e\\x16\\xf2\\xf3\\x82\\xfa\\x89p\\xe4d6\\xa8_\\x13\\x8eO\\x14R\\xfa\\x1e\\x07\\xf5I8\\xea\\xce?\\xa8O\\xd5\\xab^\\xf4\\x9e\\xf0\\x82z\\nK\\xa7\\x9e\\xfa\\xd1*n\\xf8\\xa8\\x07\\xcd\\xd6\\x83{jQ+\\xb9\\x99\\x99\\x80|\\xa6\\x19\\x9d\\xfc\\x89\\xb2\\xe4t6\\xc8_S\\x96OT\\x96Z\\xde\\t\\xf2\\x93\\xb2\\xd4\\xcf\\xb4\\x82\\xfc\\x9b\\xd5\\xab\\xbf\\x1b\\xde\\xdc\\xd4/\\xda#\\xe0\\xb7\\x18\\x12\\xf0z&\\x02\\xfa\\xca\\x81c\\xf3\\xe9\\xad\\x94lb\\x01\\xc7\\x9e\\xd4\\xa6r6\\x1b\\xdc\\xae)\\xc7\\'\\xca(\\xddF\\x07\\xb7I9\\xeaN0\\xb8\\x1dqu\\\\\\xc4\\xf3\\x11\\xd6\\x1bT\\xc0|\\x1fW\\xcf)!\\x9a\\x13\\xb0\\\\c<\\xa9\\xe5\\x1a\\t\\xf8\\r\\x87\\x04\\xbc\\xfc\\x80\\x80\\xdf\\xa9\\x10c\\xd8\"fO\\xe9\\xea\\xf3\\x9a\\xa8D\\xf3\\xcb\"F\\x17\\xcf/\\xa7\\xd6\\xd1\\xb0\\x881Q\\x99p_{\\xb3\\xe3B4\\x121j\\xeb\\xff\\xffh\\x0fr\\xd9A1\\xc1H\\xc0/\\x8a#\\xe0\\xd5\\xee1[e\\x96s\\xb9\\xed\\xd3\\xcfk\\x82\\x11\\xcd;\\xb3\\x96\\xc5m\\x1d\\r\\xcc\\x9a`L\\xb82\\xfb\\xeb\\x94`W\\xeb\\x1c\\xd73\\x91\\x04\\xbc\\xee#\\x9e\\xd4|\\x9a\\x80\\xa7\\xc3\\xc2\\xc2\\xd2aaaR=,\\x8c\\xf9=\\x85\\xa9\\xcfkz\\x12\\xcd;\\xf3v\\x02\\xbau40oz2\\xe1\\xb6\\x0f\\x05\\xeaSe\\xaa/\\x0f9\\xb2Gr\\x02\\xca\\xe4{\\xeb\\xf1\\xe2\\xdc\\xaam\\xe1\\xf6\\x1d)\\xc8\\x9f\\x98|\\x85\\x89\\xae\\x8a\\xbf\\x0305\\xcf\\xf9l\\xf8\\xfd\\x9a\\xe2|\\xa66\\xd3/\\x7f!\\xa2$\\xc5\\xa9W\\xc5\\xbdf\\xdc/\\x13\\xcf\\xe62\\x97\\xdf\\xcd\\xfa\\xf2\\x16\\x95\\x1f\\xf5-\\x00?\\x98\\x17O\\xea~_\\x9f\\xae\\xfc\\x8c\\xae\\xf4:P0\\x1f\\x19\\xd8\\xec\\xdf`\\x9e\\x80\\xf9\\xfd\\x1eA\\xfa\\xbc&H\\xd1\\xbc\\xfb\\xbd\\t\\xd2\\xd6\\xd1\\x8f\\xdf\\xeb\\xeb\\x0e\\xcc\\xa7\\xe2SSE\\xd9\\xdc\\x99\\xa7\\xect\\xe6;\\xa0\\xaf>x=-\\x9c\\xf9:\\xb5\\t\\xe6\\t\\xd8\\xfa\\x85\\x80~s\\x04\\xccO\\xf4(\\'\\xb3\\xe1\\xf3kz\\xf4\\x99\\xfaK\\x1d\\x03>\\x9f\\xf4\\xe8\\xbd\\xd5\\xa6&\\xbc\\xf0\\xf9d\\xee\\xcc\\x87\\x1cu\\xea\\x89\\xf86\\x0c\\x9f\\xd5\\xd7\\x8e\\x04\\xfc\\xbb(\\x018\\xf71\\xbc\\x04Z\\x90?\\x11\\xa4\\x9c\\xee\\x06\\xf9k\\x82\\xf49\\xb2\\x80\\xf2| ?\\tR}U\\xc2\\xedG\\xbc ?\\x99;\\xf9}\\xdc\\x83\\x86nD\\x1c\"E\\xc8!\\xa2\\x0bY\\x84{\"\\xfeqe\"\\xfa\\x83!\\xe8t\\x13}C\\x80\\xfd\\x89&\\xe5|7\\xd8_\\xd3\\xa4\\xcf\\x94`\\'\\xcb\\xd1\\x03\\x19\\x83\\x8e%3\\x13^, \\x99O\\xd4\\xb7\\x19\\xe8\\xa5\\xe8\\xf4\\x15$\\x9f\\xc5\\x92>\\xf1\\x90V{2\\xe9\\n\\xdc2\\xffi\\xf1|\\xa289\\x99\\rj\\xd7\\x14\\xe73\\x15\\xd8\\xc9\\xaa\\xae\\x81\\x8c\\xd4\\x8ak\\xc2\\xb1o\\'+\\xa3c;\\xb1G\\xa0\\xf0[>\\x8a3\\xdb\\x01\\xfd\\x91\\x10\\xb0k\\x0b0\\xdb\\x01\\x97=aa\\xaf\\xca=\\xa9\\xca\\xe75\\xc1\\x89\\xe6\\xfdUi)\\xf8\\xd6\\xd1\\xf0\\xaa\\xb4Te\\xc25\\x0f\\x8c\\x15\\xe2h^\\x9c]\\xe2\\xc0^\\x82I\\xc0>\\xe8\\x88\\x97e\\x7fV\\xafx\\xbf\\x9a\\xb82\\xaaM@~\\x07\\xfcR\\xfd \\xc4\\xc8\\xdf\\xa19Q\\xfa\\xb4\\xf29\\xf6\\xd6\\xbc&\\xff\\xd2\\xd1@\\xbej\\xce\\x8c\\x1b\\xf9\\x19v\\xf2c`#?\\x80\\x83}\\x1a9\\x10=\\xc3\\xf6\\xf1c\\xa21e6\\xca\\xd7\\xd5\\xc42BWF\\x84\\xfd\\x98\\xd0\\xcd\\xa8\\x82\\xea\\xa75\\xf6C\\x97j\\x96\\xfe\\xd2\\xd1\\xc0\\xbe\\xeaR\\xc1\\xf5}\\xd8\\xe0\\xf6\\xb3\\xea\\x89\\xe9\\xb7\\x00\\xf4\\x82\\xba\\xf7+\\xa0u\\x98\\x01\\xe8V\\xdbg\\x00\\xfa\\xd1fp\\xcb\\x0c\\xa7\\xaeD\\xae\\x16F\\xed\\x0e\\xe1y\\xbe[\\x12\\x9e\\xad\\xf9\\xc5\\xb1U\\xff\\xbd\\\\:\\x1a\\xa8U\\xe1)\\xb8S;\\x91|\\xe0\\x96\\x88\\xfa\\x14\\xc8\\r\\xc4\\xd9\\xed\\x88\\xfeP`\\xb7\\x03\\xfaC\\x81]NL\\\\\\xe2\\xfb\\n\\x18\\xbb;\\x0e=\\x9e\\xef\\x96\\x84ek\\xde\\xd9\\xd5\\r\\x95KG\\x03\\xbbz\\xe81\\xe3\\xba?\\xfb+\\xc3v\\xbe\\xfd:\\xae\\xbe-\\x03\\xb0\\x0f\\x84\\x05`\\x9fv\\x0c@\\x17\\xe5`\\xbe\\xbeR\\x07\\xcc\\xb3jV3\\x9d\\xd7\\xa72\\xe6w\\x08KT?\\xad\\x85\\x0cJ)\\xad\\xe6\\x80_\\'a\\xa9\\xf3z\\xcdx\\xc1\\xfc\\xedLg3o?y\\x11\\xb0\\'\\xca2,\\xec5\\x8a\\x80M\\xcd\\xe9\\xf1\\x9a\\x83\\xa8\\xbc\\t\\x0b]x\\xc3\\xebki\\x19\\xb3\\xdd\\x08\\xd7K\\xd2\\xf2|G%\\xa57\\x89\\x83\\xfb\\xa4\\r\\xb5.\\x05\\xdc\\xdfLuf\\xd8\\n\\xda\\xae\\xe3\\xaa\\xb2\\x0c@7\\xd3\\x11p\\xf8\\xa4\\xbaF\\x9cY\\xc0\\xebk\\x0bx}\\x07\\xec\\xc3JW\\x0b\\xf3\\xfa\\x1d\\x87\\x1e\\xcfwK\\xba\\xb25\\xef\\xf1F\\xb7S.\\x1d\\xfd\\xc4\\x1b\\x8d\\x18`>%:u;%\\xc3\\x05\\xf3\\xccAj\\x8a9\\x1e\\xe8p\\xa7e\\x9c\\x81\\xd8\\x15S\\x01\\xe8\\xbd\\xdc\\xa0\\xbe\\x0fb{\\xe7W\\x0b\\x0f8\\xb5\\xa8\\x8c\\xd9l8\\xfd\\x92\\xa8<\\xdfQei\\xed\\x13\\x9c>\\x89J\\xadj\\x01\\xf5)\\xd1)\\x14\\xfe\\x8e\\x8e\\xf5ZQ\\xbcG\\xa3zU\\x8b\\xea\\xaf&Zm\\x15\\x80\\x15v\\xcf,\\xe0\\xd6\\x9c\\x96^\\xdbp\\x05\\xcc\\xadw\\xdc\\xc2\\x83\\xb2\\xa8\\xb5`\\x1e\\x99@\\x15\\xec\\x97\\x8e\\x06\\xb7VU\\x99q;\\x02\\xd5\\xe0\\xcb\\xdf\\x8b\\x16\\xb2\\xcd\\x00D\\x0c&>5??\\xb3\\x80\\xdbR<ji\\xc4\\x15pj\\xeb4fLf\\xc3m\\x97T%\\x8a\\xa8\\x181T\\xb07dP\\x95\\xaa\\x96\\xe1\\xb6#^P\\xcbjV\\xa7\\xb6\\x06@-\\x15\\xa0S[[\\x80\\xda\\x0eh\\xa8\\x80\\xd7R3jN\\xe7:]\\xf3\\xda=\\x9a\\xf1\\xb0\\xa6\\x19\\xd1\\xbc\\x07c\\x15\\xec\\xe7\\xd6\\xd1\\xe0\\xb5\\xa6\\x19\\x13n\\xa7\\xcb\\xb2\\xb9e\\xd3\\x1a\\xdc\\xc7\\xcd\\x93|\\x0b\\xc0\\xae\\xb8\\x0c\\xc0\\xca\\xdc\\x02\\xb0C8\\x01\\x1c\\xec\\xb3\\xe9\\xb3\\xbe\\xbe\\xaf\\x8f\\xa5\\xd4s\\xb2\\xb7\\xbd\\xfa\\xb0&\\x18\\xd1\\xbcS`\\x82\\xb1u4Po\\x821\\xe1Vtr\\xce\\xb0\\xce\\xfew\\xc3/\\x82\\xd2\\x16\\xde\\x01h\\xf9fX\\x14\\xdc\\xb3+=\\t<\\x1b\\xe3+\\x00\\xfb\\x86\\xca\\x150\\xea\\xf7\\x08\\xca\\xc3\\x9a\\xa0D\\xf3\\x0b\\xf5\\xea3/\\xe7\\xd6\\xd1@\\xbd\\t\\xca\\x84\\x17\\xd4\\xa7DfA}\\x1f\\xd8\\xce\\x9e\\xb5q\\xdb\\x13Y\"3\\x00\\xfd\\x16\\xc2\\xc7\\xcc\\xe23\\x00\\xfb\\xd6X\\x00\\xb6C\\x18\\x80\\xa61\\x83\\x8c\\r\\xaf_S\\x9b\\x07\\xaa\\xcd\\x82\\xfa\\x94\\xc6\\xd4\\x92\\x95\\xd73,\\x7f~\\x9a\\x82\\xfa\\x04\\x17\\xd4\\xf7\\x81\\x0b\\xeay\\x1cR\\xd7\\x9b\\xefm\\xc4\\xf6\\xa3\\xd8\\x99\\x06\\x90?\\xb1\\x01\\xfb\\x13\\x1bx~G\\xacz\"\\x00\\xa7\\x7f\\x8f\\xe4<\\xacIN4\\xef\\x9eob\\xbfu\\xf4\\xe3\\xf9\\xfa\\xf7\\t\\xfaoj\\xca_\\x82\\x17\\xfc\\xcf4\\'\\x1f\\xc9\\xc24\\xf8\\x9f\\xa43\\x03\\xb0\\xcfG\\x06P\\xf8~\\xef\\xca\\xee9E\\xc8\\x9f\\x88N\\xcew\\xc3\\xf9\\xd7D\\xe7\\x81\\xc2L\\x8f\\x9a#\\xee\\xe4\\x84\\xa4\\xe63\\x05\\x17\\x18\\xe4\\'Mj7\\x144\\xbc\\x16\\xfc\\x13\\x00\\xdc3\\x07i\\x19\\xb5+\\xe2\\xbb-\\xb4\\xb1\\x92\\xac0)\"O\\x9d\\xcf\\x8c\\xf9l\\x90\\xbf\\xa6;\\x0f\\x14ZZ\\xdf\\r\\xf2sBR/\\xdb\\xc9\\xb8e\\xd4\\x1a|\\t\\x13Z\\x1d\\x88\\xc5\\x0c%\\xa7f\\xd4\\x02\\xb0d\\xf1\\xd5\\xc2vS\\xd8\\x95e+\\xc3\\xc25}\\xcc\\xd7^\\xa8;n\\xdb9\\x1f\\xd6\\x84%\\x9a\\xf7\\xb0b\\x9a\\xbeu4\\x84\\x15\\xcdV^\\x06\\x1a\\xf0\\xfc\\xb0p\\xec\\xa4;\\xf5t!\\xd62\\xd4\\x97\\xea\\xa6\\xe0\\x9e\\x88\\xfe^p\\xed\\xc8\\x80\\xda\\x8e\\n\\x11\\xfb\\xeaG\\x98(\\x80\\xa0^\\xa7F\\x11V\\xea\\x84fLh\\xc3\\xb3\\xd7\\xa4\\xe7\\x81ZLw\\x1d\\xe0\\xd9)\\xa1\\xa9\\xdf\\xe1DPO%\\xb4&\\xeb\\xd9\\xb1\\x17\\x1b6\\xc3\\xfej4]\\x1f\\x88\\x9e]\\xc3K\\x936VE\\x1b\\x88\\xfa0\\xe8\\xadKxA\\xefD~rB\\x1b\\xf4\\xae\\xc9\\xcf\\x03\\xe5\\xa7\\xde\\xbd\\x00z\\x93\\xfc\\xd4\\xd7\\x11\\xe8\\xcdU\\xb6\\xd9\\xb9\\xe1\\xbc\\x14\\x93\\x12\\x1e\\xe0\\xbb\\x1d8\\xe8\\x9d\\x1f\\xf0]\\xcaL=q\\x12\\x80]\\xf4\\x1f@\\xf1J\\xa4\\xfe\\xb4\\x1d\\xa9\\x98\\xaf\\x05\\x8e=\\xfa\\xf3~M\\x7f\\xa2y\\x0f\\x1c&\\xed[GC`0\\xfd\\x99p-z\\xfb}f\\xc7\\xf6E\\xe5\\x00\\xecC\\xe0\\x01\\xd8\\x81\\x92\\x00\\xfc>\\xf9Y__\\x01\\xe8&\\xe4w\\x00\\xb6\\xd6\\xe3ln\\xfb\\xed\\xfd\\x9a\\xc0D\\xf3\\xce\\xadi\\xfb\\xd6\\xd1\\xc0\\xad\\t\\xcc\\x84\\xeb\\x8e\\xf4\\xafs\\x82]\\xdbs\\\\\\xbb\\xc6\\xab\\xd9\\xb5\\x07\\xf2\\xc4\\x0e\\x01\\x7f\\x1d\\x12\\xb0\\xb5\\xe1g\\xf4e\\x97\\x98\\x80{\\x9e\\xbd\\x94\\xc8\\x04\\xee\\xeb[{b:\\x1b\\xdc\\xaf)\\xcc\\xfbP\\x98&\\xee\\x81\\x8c\\xdc\\x9b\\xc2L\\xb8\\xdd\\xaaxNp\\xc1}\\x1fWw\\x9b\\xde\\x9a\\xdde\\x05h{\\xdc\\x04\\xd4\\xe2#,\\xec\\xa8\\t\\xb8\\xef}\\xe9G\\xabA=U\\xac\\x85\\x94\\xa0CC\\ng\\xb3A\\xfd\\x9a\\xc2\\xbc\\xa7\\xc2\\xd4\\xec\\xd6\\xcb\\x19\\xc8H\\xbd\\xe53\\x13\\xee\\x8bhvlw\\x11\\xb4~\\xcb\\x05\\xe0\\xfb\\x15\\xd1\\xb52\\xd8e\\x02\\xd2\\x16z\\x93Q@.\\x05\\xac\\x93[\\xd7\\xc2\\xc6t7\\xc8]\\xd3\\x8f\\xf7TKz\\xba\\x0e\\xe4&\\xfd\\xa8\\x7f\\xe3\\xaf\\x19\\xb7?h\\x04\\xecZ\\xec\\xc1s\\xeb\\x04#\\xc8\\xa5\\xa6\\xd3\\xf5\\x04\\xc8%\\xe2\\x12\\x85\\x88/\\xa3\\'\\xc3#jL\\xf4!\\xe7\\xbb\\xc1\\xee\\x9a>\\xbc\\xa7\\x1c\\xd2J\\x01\\xb0\\x9b\\xf4\\xa1^\\xf8\\tvo\\x15\\xb4\"b\\x8fp\\x115(\\x0fm!\\xc2\\x07*^\\x96\\x94\\x87\\xbe\\xca\\x8b9h\\xf1T{\\x86K\\x04\\xb2|\\xf0d\\x10P?Q\\x87\\x9c\\xcd\\x06\\xf5k\\xea\\xf0\\x9e\\xeaP\\xbfI\\x08\\xea\\x93:\\xd4\\\\=\\xa8OYI\\xdd\\xf8\\x00\\xf77\\xcb]\\x1b<Q\\x8f\\x81X\\xadq\\xd8hI1\\x1c\\xbfwf\\xa7\\xa5\\x02P\\x05\\x8e\\xa8B\\x89\\xeao\\xcbI^\\x92\\xd3\\xd9 \\x7fM>\\xdeS,i\\xfe\\x10\\xe4\\'\\xf9\\xa8\\xc9z\\x90?\\xe2.\\xcd\\xd9q\\xb1\\x14a\\xad\\xab\\xc9\\x17ZXU`\\x1b\\xe9\\xf2;YIf \\xba\\xd4\\x04\\xb7\\xdd\\xc4\\xaa\\x02\\x03\\xf0U\\xe0\\x9e\\xbc\\xe4\\xfd\\x9a8D\\xf3\\xcb*P\\x1f\\x0f\\xdc&q\\xa8W\\x12\\x81\\xdb\\x11\\xb73\\x80\\x19\\xf6t;\\xc7\\xf5\\xb25\\x02\\xfe\\xc9\\xa1\\xd6c{TO\\xb7O\\x00\\xacDBRzP\\xe9\\x88}\\xdf7L\\x9c\\xfb\\x1d\\xe5\\xb0\\xe7\\xfb5\\xe5\\x88\\xe63\\xee\\x932\\xd4}\\x05p?\\xe2\\x05\\xf7#\\\\pO\\x95hE&|\\xa0\\x83\\x1dVk\\x03\\xb6G-\\x96\\xe0\\xec\\xcb\\xe39E\\xaan\\xbd\\xc0\\xef\\x03\\xf1\\xa0BBl\\x1d\\xb8GZ\\x1e\\xd7\\xa4%\\x9aw\\xf2-!\\xdf:\\xfa\\x91?\\xba\\x8c}=\\'\\xdc>\\xf8\\xf4Kp_(rd\\xbbV\\xa9\\x19^\\x04\\x90\\xed\\x07\\x12\\xb0B\\xd9\\x8f0\\xd1\\xbf\\xde\\xcf\\x00\\xec.\\xbd\\xaf@<\\xc5\\x16\\x8c(\\xfb\\x9c\\xef\\xed\\x90~\\\\\\x13\\x9fh\\xde\\xd97a\\xdf:\\x1a\\xd87\\xf1\\x99p\\xbf\\xb4\\xea\\x1c=\\xdbb\\x85\\x80_\\x9e\\x19&\\x07\\xbb\\x82;\\x10\\xbb#ej\\x02z#o\\x9bi\\xfc\\xbe\\x02F\\xef\\x9e\\x0c\\xe6qM_\\xa2y\\xa7\\xd7\\xb4}\\xebh\\xa0\\xd7\\xf4e\\xc2m\\x1d\\x0e\\xe7\\xce)L\\xf9\\xe3\\xf9\\xdd\\xf0\\xcb2\\xce\\xb2\\xc7\\x04\\xecT\\xfd\\xcc\\x02\\xbeM\\xb1j\\x1ah2\\x06\\xb8\\xef\\x16V\\x86\\x08\\xf2I\\x88\\x91\\xbf\\xa7b\\xf6\\xb8\\xa60\\xd1\\xbc\\x93o\\xe2\\xbeu4\\x90o\\n3\\xe3\\x96\\xc6Ip\\xe5\\xfa,gu\\xeek\\xe0\\xfd\\xccG}\\xb4\\xfdB\\x02\\xbe_8\\xb1\\x00\\xf7\\xd4\\x9fV\\xaf\\x12t\\x18\\xf5{\\xf2\\x97\\xc75\\xfd\\x89\\xe63\\xea\\x93\\xfe\\xd4\\xd8\\x8b\\xa0\\x9e/\\x0f\\xd2DC\\x82};\\x91\\xe3\\xda\\t\\xe4\\xd6m\\xb5f\\x01\\xf3\\xd4\\xa0zq\\x19\\xdc>\\x10{\\xa5\\xcel@~\\xb7\\xd1]\\x1a\\xf8\\xfdD\\x9er>\\x1b1}M\\x9e\\x1eC\\x9e\\xba\\xdf\\'\\xf9\\xa9;\\x86 ?\\xe1\\xee\\xf7I\\x9e\\x8a\\xaf\"\\xe4\\xd4e\\xabo\\x01\\xf8j\\x86\\x16\\x87\\x82|\\nW\\xbdN\\x13/\\xd4@d|\\x90\\xdf\\x91\\x82\\xfc\\x89@\\xe5t7\\xc8_\\x13\\xa8\\xc7\\x10\\xa8N~\\x12\\x98\\x9a[\\x06\\xf9\\tw\\xf2o\\xeaW\\xb0\\xdf\\x07.\\\\\\xbf\\xaeu\\x85\\xebS\\xd2\\x16\\xec\\x07\\xe2\\xae?\\xb1\\x01\\xfbT\\xa8V\\x82\\x18\\x8cX\\xdc\\xd9\\x93\\xe0<\\xae)T4\\x9f\\xc5\\x9d\\xa4P5\\xb9\\x0c\\xf6\\x13\\xee\\xec\\x8f\\xb0\\xef\\xccp\\xdc\\x82\\xfc\\xfe@\\x85\\xebG\\xc5\\xad\\x87\\xfc@\\x9c\\xfc\\x89\\r\\xc8\\xa7Nv\\xf2\\'\\xf9MNw\\xc3\\xf5\\xd7$\\xec1$\\xac\\xbb~\\x92\\xb0z\\xbd \\xc8\\xcfW\\x08Y\\xd0\\xbf\\x9d\\xfe\\xe4\\xb8\\x05\\xf9\\xb5P\\x85\\xe7GZ\\xd4\\xc9\\x0f\\xc4\\xc9\\x9f\\xd8\\x80|jX\\'\\x7f\\x92\\xfd\\xe4t7\\xc8_\\xd3\\xb0GJ6]\\xd7\\xbd\\x9c\\x81\\x0c\\x8b\\x1d\\xf5D\\x90\\x7fK\\xc3\"\\xae\\xcc\\xb2\\x9f\\x13\\x00\\xecRW\\xfan\\xfa\\xc4\\x04A}b\\x02rg\\xe9\\xcf\\x98\\xb0\\x85\\x95Q\\xa3\\xfe\\xfc\\x1d\\xff\\xcb?\\xfe\\xeb\\x7f\\xfe\\xed_\\xf1\\xcf\\x1f\\xfe\\xf1\\xe7?\\x9eOk\\x1a\\x15\\xcd/a\\xe5\\xc9\\xca\\xb1ZG?+IM=\\xbf^\\x06\\xba\\xe2v\\xb3X\\x83[\\xc7\\xfa\\xa3\\xbd\\x05\\xe0\\x9f\\xd2\\x99\"\\x1fS\\xe4s\\x8a|\\xcd\\x1e\\xe0;\\x00\\xdb\\x7f\\xe1\\x84\\xbb\\xefN\\xe9]\\x13\\xa1\\'J5\\xbd\\xc5\\xe2\\xe5\\x0cd\\xa4\\xd7Dh\\xc2\\x0bz{\\xc7\\x9e]\\xe6\\x88\\xc5\\xe6\\x16\\x11\\xdfX\\x9c\\x99\\x80]\\x8e\"\\xcb}\\x90\\xdb\\x01\\xff\\x82C \\xce\\xee\\xa8A\\xa7\\xec\\xaei\\xd0\\x13%\\x97\\xee?\\x81\\xdd\\xa4Au\\x0b\\x10\\xce\\x9b4\\xa6\\xd7r&\\\\/\\x90\\xf8\\xdd\\xcc/[\\xb1\\xfai\\x08x7\\x11/\\x1f\\x9f!\\xf0n\\xdah\\x98\\x07\\xff\\x93q\\xf0\\x03t\\xc4wv\\x83\\x13\\r\\x1e\\x9c\\xd1\\x86w\\xaf\\xc9\\xd0\\x13e\\xa8\\xde[\\t\\xfe\\x93\\x0c\\xd5\\xfb\\x94\\xc0\\xff\\x88{\\xed~\\x86\\xed\\xd4,\\xc7\\xf5JZ\\x02E%g \\xfa\\x8b\\x81}\\xe6N\\x0b\\xf6\\x89x\\xf9\\xfe\\xac7\\x04\\x97I*\\x943\\xda\\xa0\\x7fM\\x8a\\x9e\\xa8\\xbc4\\xb9\\x00\\xfa\\x93\\xd4\\xd4\\xbfx\\xd0\\x9fJieQ\\xf3K`\\xdf^\\xe4\\xc0\\x1a\\x95\\xe0\\xfd\\xfd\\x89\\xec^\\xa0\\x00\\xec\\x84\\x1b\\xe8\\x9ffJ\\x03\\xd1Sqp\\xfen\\xa3{\\n`\\x7f\\xa2E9\\xdf\\r\\xf6\\xd7\\xb4\\xe8\\x89\\xd2KE\\x19\\xd8OZS\\x13\\xd5`\\x7f\\xc4=e\\xc4\\x8em\\x8b\\t\\xf4R \\xda\\xe7\\xbc\\xae\\x88g\\xa2ic\\x97\\xffLM@o\\xe8P\\xdb=\\x8f9[p\\x19OiN\\x83\\xfb\\x9a\\xdc<Qn\\xea\\x97\\xc8\\xc0o\\x92\\x93\\x9a\\xaa\\x06\\xbfYO\\xca\\xe2\\x15\\xee=\\xe2Ep\\xa7\\x10\\xf4U7\\x1f\\xa9\\xd8\\xdf\\rDC\\x05\\xfc;d\\xa5\\xed1\\xcel\\xf0\\x03t\\x9b\"\\xb8OR\\xa2\\x9c\\xd1\\x86\\x7f\\xaf\\t\\xce\\x13\\xf5U\\xc1\\x7f\\x12\\x94\\x9a\\xaf\\x06\\xff\\xa9d\\xd6\\xbe\\xd1\\x93\\xf1\\x82\\x7fj\\xc1\\x82\\x7f\"\\xc5\\xcb5\\xf4\\xa3U\\xd4r\\x1aE\\x01W \\xfaJ\\x00\\xff\\xb3\\xb4ipb\\xfe?\\xa6M\\xa7\\xfe\\xbf\\xa69O\\x94XzC\\t\\xfc?iJMY\\x83\\xff[iS,^(\\xf7\\xecr\\xd4@\\xec\\x96\\xa0\\xa9\\t\\xdc\\xbbw\\xe6\\xd9\\xa1\\x18E\\xa5\\x12\\xd8\\xa5\\xa8\\xb42\\xa2\\x98\\xb1\\xb1\\xbb\\'1zZ\\x13\\x95h\\xdeu\\x8f)\\xfa\\xd6\\xd1\\x8f\\xee\\xd1\\x89\\x81\\xdd\\x11\\xf7\\x13\\x9d\\xec\\xb8\\xd0=}D\\xcfNL,\\xc0mm\\x81ea\\r\\x80\\xda\\x1a\\xc0\\x8bq\\x92\\xf6\\xe4dn\\xeb\\xf5\\xf3\\x9a\\xa4D\\xf3\\x0b\\xb5\\x1a\\xbe^\\xce\\xad\\xa3\\x81Z\\xab\\xa8M\\xb8S\\xcb\\x8e\\x8bb\\xf0\\x19\\xf2\\xde\\x86,W\\xea\\x1fS\\xe4s\\x8a\\xfc\\x7f\\xca\\xbev\\xb9\\xb5\\xdcH\\xf2U\\x1c~\\x80\\xb1(\\x89\\xa4\\xe4\\xb0\\x1d1\\xd2\\xbd\\xfa\\xf4>Do\\xbb\\xc7\\x9e\\xd8]\\xb7\\xa3\\xbb#f\\xe6\\xed7AdQ\\xa8\\xcc\\x02\\x0f\\xf1\\xc7\\xe1\\xbe\\x89\\x02\\x0e\\x92\\xa5:HT\\x01\\xe7c\\x8a|\\x06b\\xb2\\x87S\\xda xMT\\xee)*u\\xfd\\x05\\x82\\x93\\xa8\\xd4\\xf5\\xd1s\\xc6\\xed{1\\xdf\\x1b^\\xa7\\xd6\\x08\\xf8\\xc2n\\x02\\x80^*D\\xafV\\x99\\x98\\x80]\\x9ahI\\x17\\xd8\\x9d\\x14\\xcer\\xbe\\x97\\xdf{\\xfb5Q\\x89\\xe6\\xdd}\\xf5\\x92\\xd9}\\xebhp_Kl&\\xdcW\\xcd\\xec\\xb8r\\xdf\\x89\\xcc\\x83\\xfbN\\x10\\xf0;A\\xe0\\xbeS\\xd18C@0\\'\\xad\\xa1\\x97S\\xda xM5\\xee)\\x91\\xf4\\xa8)\\xdc7\\xa9\\xc6\\xa3%/\\x13\\xee\\xa2=\\xc1\\xbe\\x93\\xcdq+\\xfe\\xe3\\xc8\\xa4~\\xe3\\xa1=\\xd1\\xe9\\x0fB\\xdeU\\xa0\\x7f\\xa2\\rA\\x7fm\\x02\\xf7\\x0e\\x13\\xbbl)\\x181\\xf6\\xc7\\xfc\\xe5lY\\xb1_\\x13\\x8dh\\xde\\xdd[\\xe6\\n\\xf6\\x93h\\xd4\\xf7\\x14\\x82\\xc7\\x88\\xbbla\\xc7\\xb6\\xd0zi\\x86\\xa7\\x18\\xec\\xcb\\xb6\\x19\\x02~\\'6\\xe0w\\x82\\x80\\xe0\\t\\x02\\xf7\\x9e\\xe8BNi\\xc3\\xbd\\xd7t\\xe1\\x9e\\xbaP?\\xff\\x06\\x82\\x93.\\xd4\\x1dW\\x10<\\xe2^r\\x95`O\\x10s\\xdc\\xca\\xbd\\'z\\x0e\\xe1e\\x82\\x80\\xff\\t\\x02\\xfe\\'\\x08\\xf8\\x9f\\xeaF\"\\xf2W\\xf4\\xd7\\x98\\xf1\\x06\\xffk\\xbaqO\\x8d\\xa4\\x85\\x05\\xe0?\\xe9F\\xdd\\x92\\x05\\xffI7\\xdaY\\xb4\\xe8\\xd8\\xca~&\\x00\\xe8e\\xe2\\xd2\\xa3\\x07\\x9f\\xd1R1\\x13\\x0bp\\xcbT\\xa7~)\\xe3<\\x86\\xc5\\x8ekr\\x90\\xfb5I\\x88\\xe6=vXA[\\xeb\\xe8\\xeb\\xd5\\xa8\\xfb\\xb1\\xa06IB\\xa7\\x96\\xb9D++\\xe1\\x88\\xbe\\xe1A\\xc0o%\\x98X\\xc0o\\xfb\\x18^$K\\xc0\\x8fJ\\x11p\\xaf\\xbd\\xa6Hv\\xbf\\xa6\\xf6\\xd0\\xbcSk\\xd5j\\xad\\xa3\\x81Z\\xbb\\xbc\\'\\xe1\\xc5\\xaa\\xa3\\x16h\\x88\\xca5\\x00\\xaf\\xed\\x80\\x17bN,@mm\\x01\\xaf\\xa5\\xd4\\xd4\\xc7BD\\xee\\x88s{\\x8d\\xd6\\xdb\\xafi=4\\xef\\xdcZ\\xa9Z\\xebh\\xe0V\\x9e\\x06n;\\xe2E\\xc8\\xad+S\\xc1-\\x01_O\\xf0Q<\"\\xd4\\x00\\xb8\\xad\\x01p[\\x03\\xa0\\xb6\\x03N\\xed5%\\xae\\x875\\xad\\x87\\xe6\\x9dZ\\x93\\xd1\\xad\\xa3\\x81Z\\xd3z\\tWj\\xbf\\xed\\x13\\xec\\xf5\\xc5\\x1c\\xd73\\x00\\x01\\x18\\xf3\\x04\\xb4\\xd0\\xf9\\xad\\x8dTi\\x9e\\xf7\\x00\\xfc\\xc8\\xf5\\xa4\\xab\\xcf\\xb3\\x85\\xc6bN\\xe6\\xb2\\x08<\\xac\\x89@4o\\x8fm_\\'\\x7f\\xda\\xb7\\x8e\\x06\\xe6-\\xb3\\x98\\xf0\\x82\\xf9\\xd1\\xbc`>2\\x7f\\x16\\xab\\xf9D\\xc5\\x99a\"^V\\x1f&\\xba\\x05\\x07\\xf2\\xfb0~\\x8d\\xdd\\x04\\x00\\xf9$\\xc4\\xc8\\xbf\\xa6\\xf8\\xf5\\xb0\\xa6\\x11\\xd1\\xbc\\x93oY\\xf3\\xd6\\xd1@\\xbei\\xc4\\x84\\xfb\\x16Gtlk\\x8c\\t\\xf0\\xba\\'\\xa0G\\xbf\\xe1\\xd7\\xfd\\x19\\xb5\\x1e\\x08\\xd4R\\xeb\\xc9\\x18\\x1f3\\x00\\xd4r\\xbaF\\xed5\\xa5\\xad\\x875u\\x88\\xe6\\x9dZ\\x93\\xdf\\xad\\xa3\\x81ZS\\x87\\t/\\xa8\\xadu\\xd9\\xcb\\x9e#\\xea\\xc2\\x00\\xd4v\\x0b]|\\x80\\xda\\x0e\\xe8\\x1f\\x07\\xa8\\xad-@m\\r\\x80ZN\\xd7\\xa8\\xbd\\xa6t\\xf5\\xb0&\\xfd\\xd0\\xbcSk\\xd2\\xafu\\xf4E\\xadF\\xd5\\xe7}\\xc2\\x0bj\\x99\\xf6s\\xaf\\x8dBS;\\xe5\\xc4g\\xd1\\xd4%\\xb8\\r\\x13\\xf9\\xd3\\x01\\xb9\\xcc\\xfaY1\\xc2\\x04\\x00\\xb9\\x9c\\xb0\\x91\\xdb\\xa7\\xbb\\x11\\x8f\\xd7d\\xdf!JD\\xed\\x02\\x12 #\\xb9v\\xb3N\\xc2]W\\xb3c\\xfd\\x03\\x87\\xdfrDa\\x1d~\\xdb\\x01\\xbd\\xc0\\n\\xdc\\x120\\xd91\\xb1\\x80\\xdfR\\xcc\\xda\\xed\\xdb1\\xb8Q;f\\x02\\xbf~\\xa9\\\\\\xa3tXSth\\xde\\xfdV\\x9e\\x1b\\xaf\\xba\\xa4\\xe8tC\\t~;\\xe2\\x05\\xb5\\x14U\\xfe*c\\xc5\\xa7SK\\x0b\\t>\\xa0\\xb6\\xee\\n^[[\\x80\\xda\\x0ex\\x12;\\xa6k\\xd4^\\xa3\\xe8\\x0ek\\x8a\\x0e\\xcd;\\xb5\\xa6\\xe8ZGCH\\xb0ks\\x12^PK\\xa9\\xe8!\\xa1\\x96z\\xf0\\xda\\xda\\x02\\xd4v@w\\x85Amm\\x01j9+\\x19\\x1c\\x01\\x81\\x80Q{\\x8d\\xa2;\\xac):4\\xef\\xd4\\x9a\\xa2k\\x1d\\r\\xd4\\x9a\\xa2KxAm\\xef\\xd8o\\x01\\xe0\\x88\\x9ea\"P\\xac\\xbfzW\\xbeG?\\xb1\\x00\\xb5\\x1c\\xdcJ\\x03b\\xbaF\\xed5\\x82\\xee\\xb0&\\xe8\\xd0\\xbcSk\\x82\\xaeu4Pk\\x82.\\xe1\\x05\\xb5\\xcc\\x9f\\xb9\\xd7v\\xc0?\\xe2\\xb1\\xe7\\xb3\\xf8\\x95\\xf0\\x04\\xfc\\x8a\\xb8\\x89\\x05\\xb8\\x9de\\xefb\\xbe\\xc6\\xed5\\x8a\\xee\\xb8\\xa6\\xe8\\xd0\\xbcsk\\x8a\\xaeu4pk\\x8a.\\xe1Er\\x89=\\xeb\\'\\xa9_\\xf6\\xe7!\\xf3\\xfc^\\x03\\xd0\\xaf\\xe2\\xbe\\xcd,\\xdeg\\x16\\x1f\\x01h\\x19\\xeb\\xe7\\xb9+\\xe5\\x96\\xb3\\xb9\\xbcF8\\xaei64?q\\xabU:O\\xfb\\xd6\\xd1\\xc0\\xadi\\xb6\\x84W\\xdcR.I,\\x01\\xb7\\x1d\\xd0\"\\x02p\\x1b\\xfa1O\\x1c\\xdc\\xd6\\x16\\xe0\\xb6\\xb6\\x00\\xb7\\x94\\x84Z\\xa8\\x05r\\'\\x9a\\x8c\\xd3\\xd9 wM\\x93\\x1d)R\\xf4\\xd3\\xe0 7i\\xb2G\\xd3d\\t\\xf7\\x1d\\xb4\\xe8\\xd8V\\t\\x01\\xd8^\\x03\\x81{\\xfb@\\xc7\\xc4\\x02\\xdcR\\x93\\x89\\x05\\xb8\\xa5\\x8a\\x93\\x1f\\x16\\xd4N4\\x19\\'\\xb3A\\xed\\x9a&;R\\xa4\\xe8\\xb7H@m\\xd2d\\x8f\\xa6\\xc9\\x12^P;\\xd3d\\x1cQ\\x7f+\\xb8-\\x85\\x94p\\x0e\\xb7\\xed\\x80Z\\x80\\xda\\xda\\x02\\xd42\\x1fwc\\xe7\\tc\\xbe\\x16\\x13\\xae\\x11e\\xc75Q\\x86\\xe6=&\\x98(k\\x1d\\x9dc\\xc2A\\xb7H\\x9e\\xf7\\t\\xf7\\xcd\\xc9\\xe8\\xd8\\xdd\\x96#\\xba\\xdb2K\\xe6n[[\\x80\\xdb\\xda\\x02\\xdcv@\\xcf\\xc3\\xc0m\\'\\x92\\x8c\\x93\\xd9p\\xdb5Iv\\xa4@\\xd2\\xcf\\x93\\xc0mGIvP\\x07\\x00\\xb5#^P\\xdb;\\xf6\\xe2{\\x8eX\\xb8m\\xb7\\xd0\\xcd\\x18\\xb8m\\x07\\n\\xb7\\xad-@md\\xd9\\xdcm9_s\\xdbk4\\xd9qM\\x93\\xa1yw[\\xd3d\\xad\\xa3\\xc1m\\xed.\\xd3\\x84\\xfb^Bt\\xecn\\xcb\\x11\\xddm\\x99Ls\\xb7\\xad-\\xe0\\xb6\\xb5\\x05\\xb8\\xa5X\\xf3h\\xcb\\xae\\x8c\\xdak4\\xd9qM\\x93\\xa1y\\xa7\\xd64Y\\xebh\\xa0\\xd64Y\\xc2\\x0bj\\xeb\\x0c\\x18\\x16\\t\\xacw\\x14\\x06\\x11m)\\xd6<\\xda\\xd6\\x16\\xa0\\xb6\\xb6\\x00\\xb5\\x1d\\xd8\\x15\\xd1v\"\\xca8\\x9b\\x8d\\x90\\xb0&\\xca\\x8e\\x14e;\\x13e@FnM\\x94%\\xdc\\xcf\\xe3\\xb0c\\xfb8\\xf7\\x9e\\x80\\xaaWp\\xcb\\x8c\\x9f\\xa5\\x82\\x08\\xe85\\x90\\xe0\\x96\\x0fo\\x1b\\xb71\\x86\\xbb\\xed$\\xcb\\xc6\\xc9lP\\xbb&\\xca\\x8e\\x14e;\\x13e@FjM\\x94%\\xbc\\xa06\\xb4\\x97\\xfc=\\xc0o9\\xa4m\\xd3\\x10\\xf0\\xddE\\x02v,\\x1b\\xe4\\xf6\\xbe\\xfc^6\\x02\\xb7\\xb2\\xb6\\xc1\\xabl\\x92g\\xe3t.\\x93\\xfb\\xb0\\xa6\\xca\\xd0\\xbc\\xc7\\x04Se\\xad\\xa3!&\\x98*K\\xb8}s~\\x9f`\\xaf\\x99\\x8aq-\\x1a\\x07`\\xd4O,\\xde\\xdaHm\\nw\\xf2\\x84\\xefg\\xc0\\xf6ui\\xa1\\xdf\\x1b\\xff\\x0c\\x0b\\x19\\xfb\\xaf1\\x99\\r\\xe6\\xd74\\xdb\\x03%\\x8c\\x16/=\\xed\\x81\\x8c\\xcc\\x9bfKx\\xc1\\xfch^0OE\\'\\xef\\xcf\\x976\\xec)_)\\xe3\\xbd\\x06\\xa0\\xc7\\xef\\xc1|-\\xdc\\xc0|\\x07\\xfc\\xa3\\x8b\\x04t\\xc3\\x08\\xccO\\x04\\x1d\\xe7\\xba\\xc1\\xfc\\x9a\\xa0{\\xa0\\xc2\\xd1ok\\x83\\xf9Q\\xd0\\x1d\\xf43\\xcd\\xcf\\x19/\\x98\\x1f\\xcd\\x0b\\xe6\\xfb\\xb8^\\xc1\\xcd\\x07\\xb2C\\x8f\\xa0\\xbe6\\x01\\xf5\\x94o\\xb6\\xe3\\x1e\\x93\\xb3XN\\xe0\\xd1\\n}\\xc2B\\x97 $c\\x83\\xfa5\\xc1\\xf7@\\xc1\\xa7\\xe4\\x80\\xfaQ\\xf0\\x1dnL\\xf0%\\\\o\\x89\\xfc\\xde\\xcc\\x9b\\xf3z2\\x83\\x80\\x17\\xfa\\x10\\xd0{hAm$\\n3!\\xf0\\xea\\x0e\\xa8\\xc5G\\x00\\xfa\\x8e\\x86WO\\x92p\\x9c\\xcc\\x06\\xb5kz\\xef\\x81\\x02Ho\\xd6\\x06\\xb5I\\xef\\xe9\\x1e\\x11\\xbc\\xfa\\xd2\\xfd1\\xa0\\x96\\xe91\\xdb\\xbb$P\\x9cZ\"\\xe2\\xaa\\x84\\x80\\x1f\\x1a\\x9bX\\x80[\\xa6\\xedvvU@L\\xd8\\xfc\\xf6\\x9a$\\xdc\\xc3\\x9a\\xe2C\\xf3\\xd3kR\\x0f\\x15\\x81\\xdc\\xa4\\xf8t\\x8f\\x08\\xe4&\\xc5\\xe7\\xd7\\xfcG\\xcf\\xcen\\xad\\x05\\x11\\x13:\\xe0k\\x10\\x02\\x9e\\xcf\\x98\\x00 \\x97\\x92\\xcf\\xf2\\x19\\xf1T\\xc6\\xed5\\x8a\\xefaM\\xf1\\xa1y\\xe7\\xd6\\x14_\\xeb\\xe8k\\t\\xa2\\x9bD\\xe06\\xd5U\\x16\\xdc2\\x13\\xe6\\x8b\\x8c\\x0e\\x14W\\x05\\xf0a\\x8a\\x0f\\xe3\\xc4c\\xdaq;\\x02\\xfa:\\x00\\xbb}\\x14}\\xc1#,LD\\x1f\\xe7\\xb3\\x11\\x16\\xd6D\\xdf\\x03E\\x90\\x9e\\x96\\x83\\xe7&\\xd1\\xa7{h`7\\x95V\\x16\\xec\\xf6\\x9e\\xfd\\x06R\\x0eiw\\xd2\\xc1u\\xa9\\xd5\\xfc\\x9a\\x0b\"\\xfe\\xa93\\x02\\x1a1\\xc0n\\x9d\\xbd\\x03\\xbb\\x13\\xd9\\xc7\\xf9l\\xb0\\xbb&\\xfb\\x1e\\xa8\\x83T\\x13\\x83\\xdd$\\xfbt\\xa7\\x08\\xec^:K\\xf7-\\xc3\\xc5R\\xa2VlX\\xc4\\xd5\\xe2\\x0f\\xd4\\x130\\xc5\\x1dS\\xf0\\x95Dm\\x01\\xe6;\\xa0\\xe7c\\xc1\\xfcD\\x15r\\xae\\x1b\\xcc\\xaf\\xa9\\xc2\\x07\\x8a\\xa4[S\\x85@\\xc6\\xa8a\\xaa0\\xe1^\\r\\x9f\\xe0\\x82yV`\\xca*\\x19\\xcc\\xf3\\x81|\\xf9\\\\\\x8bI,4:\\xa0\\x89z,4j\\x0b0\\x1f\\x8a\\xd5\\x04y\\x98X\\xc0\\xbe&\\x93\\xf7\\xb8\\xa6\\x19\\xd1\\xbc\\x07l\\xd3\\x8c\\xad\\xa3!`\\x9bfL\\xb8^\\xcb\\xfb}\\xcf\\x8e\\xfdvQ\\x02\\x1aj^\\xc3Bc\\xef[\\x00~M:\\xbb\\xd2\\x85\\xe2\\xc7yp\\xf1\\xa7\\xcf\\x00L\\x14r2\\x97\\xbd\\xfaqM\\x14\\xa2\\xf9\\x89Z}\\xee\\xa7}\\xebh\\xa0\\xd6Da\\xc2\\x95\\xdao\\xd9|\\xe7\\t\\x13\\x0e\\\\\\xdc\\r\\x10\\x88\\xe6\\xf2A>\\x95\\xa4\\x1d\\x8d\\x8eY\\xd8\\xab2,L\\x9c\\x10\\xd0l\"\\xc8\\x9f\\xe8BNw\\x83\\xfc5]\\xf8H]\\xa8\\x1f\\xc6\\x06\\xf9I\\x17\\xeaF\\xd4s\\xc6=\\xfb\\xcf\\x8ew7\\x12|_\\x9aa\\xfb\\xbd]\\x9d\\x10\\xf0oWL,\\xde\\xa3+\\xff\\x1akL\\xcb*+\\x02\\xd0\\x98\\xc1\\xd9np\\xbb&\\xfc\\x1e\\xa9\\x84\\nn\\x93\\xf0\\xd3\\x9c\\x08\\xb8\\x1dq\\xd7\\xdc\\t\\xd6\\xeb\\x19\\x11R\"\\x17\\xe7\\xd4\\xd7\\x95\\x93pk\\x9a\\xe8\\x8a\\tA\\xa5#\\xae^f&\\x88*\\xb5\\x98\\x84cO\\xa4!\\xe7\\xb3A\\xfe\\x9a4|\\x8c4\\x9b\\x95\\xbe\\x02\\x19\\xa2\\x8a\\xaeTA\\xfe\\x88{\\xcd6;\\xf6|\\x15\\x01\\xaf\\x18\\x8aG\\xb1\\xcdi\\x02.^\\x08h\\xf8\\x01\\xb5}V\\n\\x80\\xdaI*\\x90\\x93\\xd9\\xa0vM\\x18>R\\x18\\xeaw\\xc5\\x113\\x920\\xd4\\xbd&P;\\xe2\\x05\\xb5\\xb5\\xcaC\\xc8\\x884\\x9d\\xed\\x90\\x12qaH@\\xffx\\x103\\xf8\\xf4\\xb6C:\\xb1\\x00\\xb7\\x93T g\\xb3\\xc1\\xed\\x9a0|\\x8c4\\x9bU\\xbe\\x02\\x19\\xdd\\xd6R\\x81\\t/\\xb8\\x9d\\xc8?\\x90KD\\xa9BT\\xe8\\x88\\x1f^\\x8a\\xa7\\xb4\\xf53\\x01?i@@\\x97  w\\xa2\\x0b9\\x9d\\rr\\xd7t\\xe1#U\\x92\\xfe\\xf9\\xc0q\\x93.\\xd4\\xed$8\\xee\\x88{20:6\\xd1=\\x01@m\\x7f\\x94b\\x11\\xc7g\\xf4uDm\\x81\\x98\\xc0,\\xa1\\xad\\x8fcp{\\xd7]S\\xa0\\xf9\\xb8&\\n\\xd1\\xbc/\\xe2,\\xcf\\xda:\\xfaZ\\xc4\\xe9f\\x12\\xa8\\x1dq\\xbf\\xbd,\\xc1\\xc5\\xf2\\x99\\xba\\xcc\\xb6\\x92\\xf8@~\\xa3j<\\xa9G\\xe3\\xba\\x14\\x14\\x11c\\x96*\\x8c1,\\x9b\\x15\\x16\\xc6\\xfc5\\xf5\\x9b\\x8fk\\xa2\\x10\\xcd;\\xf3\\x96\\x85m\\x1d\\r\\xcc\\x9b(Lx\\xc1|*\\xff\\xb4{\\xe38\\xae\\xed\\x1a!\\xa0\\xd4\\xd9?8=\\xc5\\x9fS\\xcfbM\\x8f\\'\\xb5\\x05\\x9c\\x9e\\x80;\\xfd$\\x91\\xc8\\xc9^\\x8c\\'\\xa8\\x0b\\xfa\\xfd\\xef~\\xfd\\xd7\\x0f\\xff\\xfc\\xf5\\xcf\\xbf\\xdf\\xfd\\xb1}\\x1c\\xfc\\xbfw\\xf7?\\xfc\\xf8\\xc7\\xbf\\xfd\\xcf\\xb7\\x9f~\\xfd\\xf1\\xa7\\x7f\\x82\\xcc\\x9b\\x7fkk\\x98\\x1f\\xdb\\xed\\xa0\\xff\\xde\\x9aw\\xeaU\\x8f\\x9f:\\x1a\\xa8WQ\\x98q\\x0b\\xd6\\xd1\\xb1\\x1f\\xff?#Z\\xc1\\xf4\\x1a\\x88\\xbd\\t\\x030Y8\\xb3\\xf8\\x08\\xc0\\x82\\xf5y\\xc2\\xe2\\xd71\\x9d\\rr\\x97d!\\n\\x89H\\xae*\\xee\\x86\\x8c~\\xad\\xb20\\xe3\\x05\\xb9\\xcc\\xf9i\\xc8\\x88\\x11\\xfd\\xb6\\xcf@\\xec\\x80t\\x00\\x05\\xb7\\xf5 \\xe0\\x96\\x15\\xa1\\xba\\xfd|\\x9e\\xafq{\\xc5\\x91\\xbb\\xc3\\xcd\\x92\\xeak\\xcdO\\x8e\\xab\\xaf\\x9f\\xa7SG\\x83\\xe3jyg\\xc6\\xed{\\x86\\x196\\xc5\\x1d\\xe3Z\\xc6\\xea\\xfc@Z\\x8f\\x14\\x80\\xdd\\xb3z\\xeeJ\\xdf\\x93\\x01\\xd8\\xb7\\xb1\\xce\\x16z\\xfc\\xe6<\\xb81\\x7f\\xc5\\x89\\xbc\\xc3\\xcd\\x92&l\\xcd;\\xf3z\\xd8\\xf1\\xd4\\xd1\\xc0\\xbc&\\x033^0?J\\xc6\\x82y\\x8e\\xebNOI\\xe8\\xccw\\xc0j\\xf1\\xcfSp\\xe6k\\xa9\\x08\\x9f\\xef\\x80\\xa6\\xc6?\\xcf]\\x19\\xf3W\\xd4\\x86\\x1en\\x96\\x04ak\\xde\\x99WAx\\xea\\xe8\\x8by\\xfd[~\\xcex\\xc1\\xfc\\xa8\\x17\\x0b\\xe6\\'\\xa9\\xc4x \\xdb!A(\\xef&\\xf6A\\xb8\\x00\\xec\\x83p3\\x0bP\\xdf\\xbb\\xd2\\xd3\\\\\\xa0\\xbe\\x16\\x8c1\\xd9\\x8dP\\xbe$\\x18\\x0f7\\x14PZ|\\x82p\\x93\\x04\\xa3n\\x94\\x80\\xfa\\x11/\\xa8O\\x89F]\\xa2\\xc4\\xb8\\xfa\\x8b\\xbe\\x04\\xa0q\\x08\\xcc\\xf3I\\xf5H\\xda\\xac\\xab\\xf73 \\x16`\\x9e]\\xe9\\x05Eg\\xc0\\x9c\\xfe\\x8a<\\xe3\\xe1fIN\\xb6\\xe6\\xdd\\xe9UN\\x9e:\\x1a\\x9c^\\xe5d\\xc6\\x0b\\xe6S\\x1a\\xd2\\x99gQ\\xa8\\n\\xa2\\xf3\\x03\\xa9\\x90\\x0f@\\xab\\xde\\xdf\\x020!\\x1f\\x80\\xdel\\x05\\xe69\\xb83_k\\xcd\\x98\\xeb\\x86\\xcf/i\\xcd\\xc3\\ru\\x9c\\xfa\\x18|>iM\\xddD\\x81\\xcf\\x8fx\\xc1|JQ:\\xf3T\\x83\\xce|\\xd4\\x8c\\n\\x02\\xa7gR\\xd3\\x9d\\x9es\\xd0eyX\\xe8U\\xd4\\xa0\\x9e\\x83h\\xde\\x1a\\xf1\\xa6\\xceP\\xc6l7\\xb8_\\x12\\xa3(b\\xa2\\xd7\\xab\\x18m\\xc8\\xb0t\\xbc\\xd3\\xc2\\xd4\\x8c\\xdb\\xa5hb.\\xaf\\xf0\\xef1\\xae\\xba*\\xe2M\\x7f \\xd5X\\xa0\\x9e\\x9aS\\xd3\\t\\x01\\xe8i-\\xc4\\x1b\\xceM\\xb7\\xaf\\xce]i\\xcd\\xc8\\xd9\\xc2\\xe2\\xcd\\x15b\\x14EIk\\x8a\\x88\\xea\\xeb^\\xc5\\xe8\\xa9\\xa3!\\xde\\xa8\\x18\\xcdx\\xc1|Np\\xe6\\xb9\\x80yf(\\xdd\\xeb\\xeb\\xd4%\\x98\\xaf%\\'\\xe2\\xcd$Cy\\x064\\x91\\x13\\x80}Z\\x1bN_\\x8b\\xd1\\x98\\xece\\xa7\\xdf\\xad\\x89Q4\\xef\\xa1\\xde\\xc4h\\xebh\\xa0\\xde\\xc4h\\xc2}\\x01\\xc3\\x8e}\\xd1N\\xc0\\x92d\\x87x\\x14\\xf3j\\x02\\xbe~\\x99X|DW\\xfa\\n\\xff<\\x8f\\xa1^\\xcd\\xc9lP\\xbb&Ew\\x94\\xa2\\xf7&E\\x81\\x8c\\xd4\\x9a\\x14MxA-U\\xa2\\xb9-G\\xb4\\x1c\\xd9\\x81\\x80+Q\\x02\\x96\\xcc|\\x9f\\x99\\x80\\xdb>\\xba\\xdd\\x8c\\x1d\\x808\\xfa_\\xdb\\xbf\\xb7\\xd9np\\xbb&E\\xb1\\xcbrr[\\xbd\\xa0\\xfa\\xe9\\xd0\\xf6_\\x06\\xb75)\\x9ap\\xdb\\x93m\\xe6\\xa7\\xd2^\\xe7\\xb6\\x03\\xba$~\\r\\x0b;\\xd9\\x1d\\x80\\xe5\\xc0\\x02\\xb0[\\x8d\\x02\\xd0\\x93Hp[N\\xd7\\xdc\\xf6\\x1a\\xad\\xb9[\\xd3\\x9ah\\xde\\xa95\\xad\\xd9:\\x1a\\xa85\\xad\\x99pK\\xac\\x1f\\x12\\xec\\x07h\\x1b~\\x1a\\xd8\\xa9\\xef\\x80V\\xd1\\x80\\xfa\\x0e\\xd8\\x17=g\\x00\\xbc\\xba\\xb6\\x80WS\\xd0\\xda\\x06K<\\x95Q\\x7f\\x8d\\xd8\\xdc\\xad\\x89M4\\xef\\xd4\\x9b\\xd8l\\x1d}Q\\xafK\\x85\\xe7C\\xc2\\x0b\\xea\\x93\\xd8\\xd4\\x05\\xd8\\xf7f^%\\xd7_\\x02\\xd0\\x8b\\x1aA=\\x8f\\x1d\\xea\\xa6\\xec\\x0c\\x00\\xf5\\xb5\\x05\\xa8\\xa7\\xd4\\xd5M\\xd9\\x00<\\xa0\\\\Q\\xb6z\\xd8\\xad\\x89M4\\xef\\xd4\\xeb\\x19\\xd0SG\\x03\\xf5zwL\\xc6\\x0b\\xea\\x93\\xd8,\\xa8\\xef\\x03k\\xb6\\x0c\\xd43{\\xa9\\xe7\\xa4\\xc0=\\x13\\x9e\\xfe\\xa2\\xec\\x80}\\xc86,\\xf4\\r\\n\\xee9\\xba\\xedn\\x05\\x1f\\xe6\\xf6\\xd7\\xc8\\xcd\\xdd\\x9a\\xdcD\\xf3\\xce\\xbd\\xc9\\xcd\\xd6\\xd1\\xc0\\xbd\\xc9\\xcd\\x84\\xdb!\\xd1\\x03;\\xd6i\\x83[\\xa6(M\\xd4\\x10\\xb0\\xab\\xbc\\xc2B\\xbfs\\r\\xb7\\xa6l\\xb4\\xf5]\\xccJ\\xc6@0\\x9f\\xe8INf\\xe3=\\xb9\\xa6\\'w\\xa1\\xc5\\xe4\\xf1\\xf0\\x9eLzR\\xf7X\\x10Q\\x92`\\x94X\\x8f\\x88\\x11\\xba\\xd0\\xb6\\x06\\x03\\xb1\\xc4p\\xd8\\xd8\\xfd\\x7f\\x01\\xf8~\\xf8\\xf9\\xf1\\xb3\\x1b\\xc2o\\xfb\\xf0\\xfaW\\x03r\\'\\x82\\x91\\xd3\\xd9 wM0\\xee\"\\xc3\\xe7\\xe4&\\xc1xo\\x82\\x11\\x96_~m\\xf7\\xff\\x1d\\x12l\\xa7\\xf1\\x1a\\xdc\\xfe^<\\x87\\x16\\x88\\x12\\x89\\x9011y;#\\xbeS2\\xb3\\x01\\xfbuj\\x13\\xec\\xd7e\\xad1\\xa1\\r\\xf6\\xd7D\\xe3.J?M\\xae\\x03\\x19\\xa3\\x86\\x89\\xc6\\x84\\x17\\xcb\\xeb:{\\x88\\xa8A\\xf1\\'\\x03\\x82\\xddZ.\\x82\\xdc\\x0e\\xd87\\x97\\x106j\\x13p[kRp;Q\\x85\\x9c\\xcdeno\\xd7T!\\x9a\\xf7\\x88l\\x82\\xbcu4DdS\\x85\\t\\xf7m\\xa8\\x04\\xef\\xacR\\xfe\\x10\\x03\\xdb\\x1a\\x90\\x80%\\xe6\\xc3\\xc2\\x13\\x98\\xb4\\xb0\\x8b\\x95\\xc2\\xc2\\xca\\xa4\\xce\\x83\\xdb\\x1a0\\x9eJ_\\x86\\x9c\\xcd\\x06\\xf5k\\xaa\\xf1\\x96\\xaaqo\\x82\\x1c\\xc8H\\xbd\\xa9\\xc6\\x84\\x17\\xd4\\x8f\\xe6\\x15\\xf53U\\xc9\\'\\xd2X\\xfbz `\\x99\\xcf\\xb7@|!B\\x13\\xbb\\x01:,<y\\x1c|\\x18\\xf7\\xd7\\xa8\\xca\\xdb5U\\x89\\xe6\\xdd\\xedM\\xb1\\xb7\\x8e\\x06\\xb77U\\x99p\\xd36\\xdf\\x0e\\t\\xf7\\xe4r\\x0c\\xecnO9j\\x1b\\xdf\\xb4\\xf0\\x0c\\'\\x81\\xc2\\xedke\\xfb\\xd1\\x9e\\xad\\xcdZ\\xaf\\xca\\xf9\\x0c\\xc0\\xd6\\xdf\\x9c\\xcc\\x86\\xdb\\xaf\\xa9\\xce[\\x8a?\\xdd\\xbbx:\\x00\\x19\\xa97\\xd5\\x99\\xf0\\x8a\\xfa\\xd1\\xbe\\xa0\\xbe\\x16~/m\\xdcF\\x8b}o%\\x00;\\x83\\n\\xb7g\\xc6\\xd2v\\xbe\\t\\x98\\t\\xc8\\xe7\\xbc\\xb5\\x96\\xfe\\x0c\\x98\\xdf_\\xa3;o\\xd7t\\'\\x9a\\x9f\\xfc^\\x8b\\x82A~\\xd2\\x9d\\xba\\xdb\\xf2\\x9cq;!\\x92a;!\\xd2\\xe0\\xd3f\\x8b\\x1e\\xb0\\x0e@c B\\xce,\\xc7I\\xc0\\xd2\\xa2\\xef3\\x13P\\xcf$\\xa7%|\\x82\\x0e\\xa3\\xfe\\x1a\\xddy\\xbb\\xa6;\\xd1\\xbcSo\\x92\\xbfu\\xf4\\x15r\\xf4\\x1c/\\xa8O\\xc2RK\\xb0\\xbf7\\xbc\\xf5|\\'\\x9e\\x05\\xc7&`\\xe2\\x87@\\xf1*\\rq\\x9c\\x19\\x01\\xb7\\xb5\\xe0\\x04\\xb7\\xf5\\x18\\x88)uUl\\xccf#\\xa6\\xac\\xe9\\xca[\\n-=\\\\\\x0b\\xb7N\\xbaro\\xba2\\xe1\\xbb\\x82[\\xf6\\xec\\xdc\\x12pn\\xa3\\\\\\xd66L\\xf8\\x94\\xfaz\\x05\\xb9\\x93\\xda[\\xb0\\xdb\\x11\\xdf\\xde\\x8e\\x19\\x9b\\xe7^qG\\xce\\xe1vMZ\\xa2y\\xf7\\\\S\\xed\\xad\\xa3\\xc1s\\xf5\\x8e\\x9c\\xd3@g\\xdc*\\x083\\\\-T\"G\\x9ag\\t\\xc7\\xee\\xc0Q\\xef\\xd0\\t\\xc0\\x82\\x03\"6\\xfb\\x92g\\x04\\xf9\\x1d\\xb0\\xc3O\\x01h0\\x83gO\\x94\\'\\xd9\\xd8\\xf0\\xec5\\xe5yK\\x9d\\xa5\\x0b,xvR\\x9e\\xba\\x1d\\x85\\xa8q\\xb1n6\\xc3\\x15\\xf7,\\x9c\\x95\\xdf\\x1c\\xdc\\x87\\xc0t\\xf2\\x89h\\xca\\x1a\\xe4w\\xc4\\xee\\xf0\\x0e\\xc0\\xea\\xc1\\x03\\xd0\\xc5-\\xc8\\x9f\\x08ONw\\x83\\xfc5\\xe1yK!\\xa6\\x17Y\\x82\\xfc$<u\\x9f\\x03\\xe4\\x8f\\xb8\\xb1\\x8bU\\xe2\\x88\\x17\\xaf\\xcbP\\xbc\\xe6\\xf8\\x94\\x99\\x9a?\\xc7\\xfb\\xb2#\\xbe\\x9fE@\\xbf\\\\\\t\\xc7\\xaf-\\x10t(\\x8bm?+\\xf8\\xb0\\xa0s\\xc5\\x81\\xca\\xc3\\xdd\\x9a0E\\xf3\\x1etL\\x98\\xb6\\x8e\\x86\\xa0c\\xc24\\xe1\\x05\\xf7\\tw\\xee9\\xb0\\x9d\\xdfi\\x138m\\xc6\\xf8v\\x17\\x11O\\x0c\\x85\\x89\\xfe\\\\\\xef\\xd1\\x99;\\xfe\\xd9\\xc4\\xd8\\x0fF\\x94}\\xce\\xe7\\xb2\\xe7\\xdf\\xadiS4\\xef\\xec\\x9b6m\\x1d\\r\\xec\\x9b6M\\xb8\\x1e\\xf1\\xfe~\\x88\\x8eM\\xffL\\x80\\xd7\\xb0\\xb0\\x9bv\\x02\\xf0\\xed,v\\xa5\\x16\\x1f\\xe7\\xaeL\\xf6\\xc7\\xe0F\\xed5\\xd2\\xf3nMz\\xa2y\\xa7\\xd6\\xa4g\\xebh\\xa0\\xd6\\xa4g\\xc2\\x0bj{\\xc7v\\x95\\xce\\x81#\\xba\\xac\\'\\xa09\\x9f\\xb7\\xb0\\xb0\\x9b\\x07\\x02P\\x0bP[\\xcb\\xd7\\xcf\\x00LZr2\\x1b^\\xbb&-\\xef(\\xb1T+?\\x1d\\x80\\x8c\\xd4\\x9a\\xb4Lx\\x91\\xb1d\\xcf^\\xb9C\\xc0w\\xab&\\x16\\xe0\\xb6\\xae\\x82EH\\xa0\\xa6\\xb4\\xca\\x9d\\xc9\\x18\\xe0\\x96\\xf35\\xb7\\xbdF9\\xde\\xad)G4?\\xb9\\xad~a\\x1d\\xdc&\\xe5\\xa8>\\xf3\\x9c\\xf1\\x8a\\xdbYJ\\x92C\\xfa\\x8d$\\xad\\xcb\\xf60\\xf6\\xb1\\x90\\x00\\xfc\\x03\\xd43\\x13xn\\xef\\xcbF\\x01\\xbd\\x93\\x12XNx\\xc3u\\xd7\\xd4\\xe1]T\\x83\\x9a:\\x042\\xb8\\xae\\nw\\xd0;\\xe2v\\xce\\xba\\xc1}\\xa7K\\x97\\x12\\x01\\x98\\x80!`G\\xcf\\xa2\\xab\"\\xe0\\xf61\\x14\\x00\\xb7\\x1d\\xd0w)\\xa8\\x9d\\x88CNf\\x83\\xda5qxG\\xa5\\xa6\\xdfN\\x87\\xe7&q\\xa8\\xef\\x0bP;\\xe2\\x05\\xb5\\xbd\\xe3b\\xa5\\xc0\\xa4\\xa3\\xed\\xe5\\xf1Q\\n\\xbf\\xed\\x16\\xbe\\x8d:\\xb1\\x00\\xb5\\xd4\\x8c\\x9a\\xa7\\x04\\xb7\\x93\\xac#g\\xb3\\xc1\\xed\\x9a4\\xbc\\xa3\\x14\\xd2\\xd5%\\xb8M\\xd2P\\x859\\xb8\\x1dq\\xcf|\\xb1c/*#\\xe0\\x89\\xafx\\x14\\xcb\\x95\\x07`{u\\x04\\x8a5X-\\tA\\xedD\\xf9q2\\x1b\\xd4\\xae)\\xbf;\\n\\x1du/P\\x9b\\x94\\x9f^\\xfb\\x0cj/]\\xa3\\x83%X]S\\xfa\\x12\\x80W\\xbd\\xd3\\xc2\\xb7\\xa0\\x03pj)\\xf8,W\\x1e\\xb3\\xf2%\\xd8D\\xd7q2\\x1b\\xd4\\xae\\xe9\\xba;\\xca+\\xbd\\x9c\\x0e\\xd4&]\\xa7\\x9e\\x01jG\\xbc\\xf0\\xdaZ9\\x81\\xdaZ\\xd0au\\xdb\\x01;B=\\x03\\xb0L\\x08\\t\\xe8\\xeb\\x04&\\x14\\x9d\\xdbIB\\x91\\xb3\\xb9\\xcc\\xed\\xfd\\x9anC\\xf3\\xbeN0\\xdd\\xd6:\\xfaZ\\xde\\xaa\\xa6~>$\\xdc\\xb9e\\xc7\\x1e\\x11\\x08xD\\x08\\x0b\\x8b\\x08\\x04\\xec\\x95\\xff\\xde\\x9e\\xe1\\xf4\\xf4\\xc6-\\x01\\xbb\\xb7\\xecl\\xa1k0\\xcef\\x83\\xdb5UvOU\\xa6\\xfb^O\\x07 #\\xb7\\xa6\\xca\\x12^p\\xcb[k\\xac\\xc4\\x83#\\xba\\xe4\\x8dGqn{W\\x96*\\x04\\xb7\\xf5\\xd58\\x1f\\x01\\xf8&g\\x0cb\\xdc^#\\xcb\\xee\\xd7d\\x19\\x9aw\\xbf5Y\\xd6:\\x1a\\xfc\\xd6dY\\xc2\\x0bn{\\xc7~\\x8b\\xd0\\x81C\\xbav \\xe0E\\xbc\\x04*r)\\xfe,\\xe0\\xd2\\xa4 \\x97\\x136r\\xaf\\xa94\\xbd_\\x13fh~\"W\\xb5)\\x1c7\\t3-\\x9aCP\\x18q\\xdfA\\xce\\xb0\\xac\\x9d\\xbf7\\xeb\\x93N\\xb0\\xb4\\x13\\x01\\xad\\xd7y\\r\\x0b\\xcd\\x7f\\xbd\\x05\\xa0\\x16p\\xeb\\xba\\x98\\x15nM\\xc0\\xc2q\\x00\\xc6\\xfc5\\xb2\\xed~M\\xb6\\xa1yg\\xdej|[G_n\\xad\\xefv0?\\xe2\\x05\\xf3\\tv\\xe6\\x99\\xf0\\xf3\\x88\\xc2\\xbc\\x9e^\\t\\xd7\\xc6;\\xfdVz\\x19_\\x00\\x0fb\\x01\\xe6k\\x0b0\\xcf|\\x9f\\xa5Z\\x83\\rc\\xfe\\x9a|\\xdf\\xfd\\x9a\\xa2C\\xf3\\xce\\xbc)\\xba\\xd6\\xd1\\xc0\\xbc\\xd5\\x99&\\xdc\\xa4,\\xbc\\x9a)7\\xbd\\xa2=\\x00u^x5\\x9f\\xc5\\xa3u\\x9d\\xd6\\x03\\xb7\\x04\\xfcEH\\xadg5\\xbc1\\x86q{M\\x1d\\xe9\\xfd\\x9a\\xa4C\\xf3\\xce\\xad\\xd5\\xf0\\xb6\\x8e\\x06n-\\xdf\\x97\\xf0\\x8a[\\xf6,?\\xca\\xcb\\x81C\\x16\\xc1\\xba\\x96n\\x88\\x18\\x1d\\xf0S\\x01\\x04\\xbc4&\\xa6\\xa5\\xf7\\x85DW\\xb6\\x89\\xc6\\xd9l,2\\xd6$\\xdd=5\\xce\\x83e\\xfb\\x80\\x8c\\xdcZ\\xb6/\\xe1\\x15\\xb7\\xcc\\xda9\\xb7u\\x8d\\'\\xfc\\xb6\\x03\\x9e\\xa7&P\\x9cf!b\\x9f\\x16\\x88\\xbe\\xf48\\xe8g\\x00N\\xee\\x15\\xd7\\xe0\\x1c\\xee\\xd7D\\x1d\\x9aw\\xc7\\x95\\xd1\\xf0\"L\\xa2N\\xf54\\xc2\\xf1\\x88\\xebz\\xec[\\x86\\xbd\\xd2\\x91\\xe3\\xda-\\x92\\xcd\\xae\\xdaI\\x03\\xf5|R\\x0f\\x19\\x1d\\xf0]\\xa0\\x89\\x05\\xc21S\\x89\\xfe\"\\x9ch>\\xceu\\xc3\\xad\\xd74\\xdf=5\\x90\\xde\\x05\\x08\\xe6\\x93\\xe6\\xd3\\xbfJ0?\\xe2\\x05\\xf3)\\xd5\\'\\x7f\\x14\\x08\\xd6}\\\\\\xdf\\x95\\'\\xe07\\x85\\x87\\x89\\xcbm\\x9a\\xf8\\xb6<\\x01\\xaf\\xfa\\'\\xe0\\xd5\\xd3A\\x87E\\xebkRy\\xfb5I\\x88\\xe6\\xdd\\xe9M\\x12\\xb6\\x8e\\x86hm\\xa9\\xbc\\x84ka\\xcc\\xb7C\\x82=\\x93\\x17\\xe3\\xda\\x1a\\x84\\x80}\\x84\\xbauX\\xef+O,\\xdeg\\x16\\x1f\\x01X%\\xc2g \\x16o8\\x9b\\xcb^\\xbf_S\\x8ch\\xde\\xa9\\xb7<^\\xebh\\xa0\\xde\\x14c\\xc25\\r\\xff\\xfd\\x10\\x1d[\\x1e\\x8f@\\xc1m\\x7f\\x14OP\\xd3\\xc2\\x03J\\x00\\xa6i\\x08\\xe8\\xdf\\x01\\xa8\\xe5t\\xd5\\xab9\\x99\\rj\\xd7\\x04\\xe3\\x9e\\xfa\\xe9\\xc1\\x04#\\x90\\x91Z\\x13\\x8c\\t\\xf7\\xf2\\xdd\\x04\\xfb\\xb5\\xb4\\x07\\x0e\\xecg]\\x08\\xf8\\x1d\\xe3a\\xe27\\xb8\\x07\\xe2!%:\\xbbq\\xf6\\xfb\\xc4}+$\\x181\\xf6\\xafQ\\x94\\xfb5E\\x89\\xe6\\'\\xc7\\xd6\\xa2\\xcd\\xa7C\\xebhplK\\xf5%\\xdc\\x0f\\x92g\\xd8\\xaeO\\xe0\\xb8*T_\\xda\\xb0U\\x9e\\xe55\\x80\\xc2\\xefk\\x0b\\xc4\\x94\\x1a@L\\xe9\\x80o\\xf9\\x87\\x851\\x7f\\x8d\\xa2\\xdc\\xaf)J4\\xef\\xcc\\x9b\\xa2l\\x1d}1\\xafo\\xbc\\xe7C\\xc2\\x0b\\xe6\\xd3\\xd1Eg\\x9ey:M|\\x83zJJ\\xf1TPO\\x11jk\\x98\\x89\\x05\\xa8gW&{\\x08\\xf86J\\xd0a\\xd4_#)\\xf7k\\x92\\x12\\xcd;\\xf5&)[G\\x03\\xf5&)\\x13\\xeeb>\\xc1E\\x15d\\x0c\\xeco\\xd2:\\xf3\\x07\\xeag\\x8a\\x93\\x80g\\xba\\x08\\xe8Z\\x1f^_\\x8f\\x81h?I\"r6\\x1b\\xd1~Mq\\xee\\xa9\\x0b\\xf5SA\\x887Iqje\\x04\\xbc~\\xc4\\x0b\\xea\\xd3E9^\\x80\\xca\\x81m\\x99\\x08\\xb7\\xa7\\xf0\\xb4\\x04.\\x01_?\\x12P\\x8a\\xe1\\xf6\\xd3\\x02\\xd4\\xc9  \\x7f\\x92e\\xe4t7\\xc8_\\x93\\xa4{J\\xd2G\\x93\\xa4@F\\xbf7I\\x9ap\\xbf\\x03\\x80\\x1d\\xef\\xd4\\x1bA.\\xb5\\xaa\\xc7\\x14JR\\x8f)L\\x1a\\n\\x00rg\\x05\\xa6\\x04tpp;I3r6\\x1b\\xdc\\xae)\\xd2=5\\x98J\\x048vR\\xa4\\xba\\x1d\\x00\\xc7\\x1e\\xf1b\\x193\\xc2\\xf6q\\xaaf}\\x8ae\\xbe\\x80\\xa4\\xbe\\xb4\\r\\xc2\\x89\\xc5\\xdb\\xb9+\\xdb \\x9cX \\xa4P\\xf5\\x9a\"\\r\\x0b\\x8b\\xe6}2\\x1b\\xcc\\xaf)\\xd2=\\x15\\xe9\\xa3\\x1dk\\x042z\\xb5<%\\x98\\x1f\\xf1\\x82\\xf9\\x11.\\x98\\x9f%)\\xf9@\\xfa\\xed\\r\\x04s&\\x16\\xdd\\xe7\\x99\\xbdt\\xe6k\\x0b0\\xcf\\xec\\xa5~G\\x0eN?IRr\\xb2\\x97\\xa9?\\xac)R4\\xef/RS\\xa4\\xad\\xa3\\xe1Ej\\x8a4\\xe1\\xbe\\x86\\xc9\\xb0\\xef\\xc3p`\\xcd\"\\xbc\\x1c\\xe2\\x89,\\x98\\x13\\xd0\\xbc\\xd2[X\\xe8\\x85\\xc9\\xef\\x01\\xd8G\\x0f\\x02\\xd0\\x8f\\x9d}\\x9e\\x07W\\xaf\\xe7l6\\xa8_S\\xa4\\x07J4\\xbd\\xfa\\xe4\\xe9\\x00d\\xa4\\xde\\x14i\\xc2\\x0b\\xea\\xd3\\xa9\\xc7\\x82z\\x9ez\\xb4\\x82v>\\x91\\xbe\\\\^\\xdb\\x035/\\xd9\\xe9\\xb5\\x83\\xe0>.\\xfc\\xc9\\x8c\\x81{\\x9a\\xe8\\x97\\xd9>\\x02q\\xd5\\x14}\\x19\\xf9\\xd7$9\\x0fk\\x9a\\x15\\xcd\\xbb\\xdf\\x9bfm\\x1d\\r~o\\x9a5\\xe1\\x85(e\\xcf^ \\x19C\\xda\\x8b\\x94\\x80\\xafR\\xa2+\\xb1\\x00\\xb9\\xfd\\xe9\\xfd\\xe6V\\x02\\xbe8\\x8f\\xc1\\x8d\\xdbk\\x14\\xe9aM\\x91\\xa2y\\xdf;\\x92?a8vR\\xa4\\xba_\\xf0\\x9c\\xf1\\x8a\\xdb\\xe89O\\x03A\\xa3.%\\x85\\xe7v\\xc0\\xabJ\\x08\\xf8\\x05[\\xd1\\x95\\xa9}\\x02\\x9aSB\\xd0\\x98\\x14\\x9fr\\xb6\\x1bAcMs\\x1e\\xa2\\xde\\xd34\\'\\x90\\xc1ou7\\x00\\xdc&QYD\\x85Y\\xf1)\\x87,\\xb6g\\x03Q\\x19\\x8e\\xb0P\\xebMxn\\xadP\\x11\\x15\\x98\\xa9\\x14\\x9f\\x01\\xbbT\\xd9\\xe6\\xb9\\xd7\\xc8\\xca\\xc3\\x9a\\xacD\\xf3\\xee\\xb9&+[G_QA\\xdfA`w\\xc4}\\xa5\\xc1\\x8e\\xf5\\x842\\x1c\\xb7.J\\x85\\xe3\\xd6Z\\x0f\\xd4\\x12\\xf0\\xa0P[\\x80\\xda:\\x83\\tj\\'\\xb2\\x91\\x93\\xd9p\\xdc5\\xd9x\\x08\\x8df\\x89J #\\xb5\\x96\\xa8LxAm\\x9du\\x04\\xb5\\xcc:z\\xbce\\xb5\\xaa-\\xe2h\\xa1;\\xb6\\xf0\\xda\\xda\\x02\\xd4v@\\x83=\\xa8\\x9d\\x88BNf\\x83\\xda5Qx\\xe8\"\\t\\x17\\x12\\xe7\\xbf\\x11\\xc4\\xdb$\\nU\\xb1\\xc3kG\\xbc\\xa0\\xb6N:\\x82\\xda\\x0e\\xf8\\'\\x89\\x03\\xf1\\x0b\\x99\\xc3DwQAn\\xad#A.\\xc5\\x9f\\x87\\x84\\x89*\\xe4t6\\xc8]S\\x85\\x87H\\x0bZ\\x9e\\x12\\xc8\\xe8\\xb7v\\xe1M\\xc2\\xbd\\x1a\\x8a\\x1d\\xeb\\x899\\x90K=\\xe8~[\\x03\\x08\\tu\\x8d)\\xa8\\xad-@m\\x07\\x8au\\xc2$\\x11\\xc9\\xc9lP\\xbb&\\xfb\\x0e!\\x8dL\\xf6\\x01\\x19\\xa95\\xd9\\x97\\xf0\\x82Z\\xea:\\xdb\\xa4\\xe3\\x88\\x9e\\x92\\x99\\x00\\xa0\\x96*\\xcd\\xbe<\\x15\\x88\\xa7\\xd7iR\\xc4\\x84\\x89\\xae\\xe3l.s{\\\\\\xd3uh\\xde\\xdfd\\xa6\\xebZG\\xc3\\x9b\\xcct]\\xc2m\\x07\\xf4\\xdb!\\xe3vI\\x16\\x07\\xd6U\\xd2K\\xb3kO\\xe4\\xc5\\xa9a!\\xbf\\xd6[X\\xf8\\x06\\xe9\\xc4\\xe2#,\\\\Z\\x84\\x85.\"8\\x99\\r\\xea\\xd7t\\xdd1\\xaa;-\\xd3\\x08d\\xa4\\xdet]\\xc2+\\xea\\x93\\xb0s\\xea\\xeb\\xb2RP\\xcf\\x84\\xa3I\\xea\\xf3\\xa3f^@}\\xb7\\xf0\\x03\\xfa\\x13\\x0bPO!h\\x1bI\\x01\\x18\\xf5\\xd7\\xa8\\xba\\xe3\\x9a\\xaaC\\xf3\\xee\\xf5\\xa6\\xeaZG\\x83\\xd7\\x9b\\xaaKxE\\xfdh\\xef\\xb7\\xee\\x9d\\x07VaB@\\xa3\\xfc\\xeb\\x81\\x80\\x7f4\\x82\\xc0N\\xd3d\\xef3\\x13p\\xdf\\xa7\\xad/\\xdd\\xcf\\x00\\xe47\\xf9k\\xfb\\xf7\\xc6\\xc6\\x86\\xdb\\xaf\\xa9\\xbe#\\xb5\\x99n\\xaa<\\x1d\\x80\\x8c\\xdc[\\x1e2\\xe1\\xba\\x8b\\xf3\\xbd\\x99\\xb7\\x1f\\xf5\\xde\\x8a\\xfc\\x08h9$\\xb8\\xade\"\\xdc\\xba\\x03~\\xe9^\\x8ca\\xd9.\\x02{\\xbb0%\\x00s\\xebk\\x12\\x8d\\xc75\\xd1\\x87\\xe6\\'\\xb7\\xd6\\xef\\xc7\\x83\\xdaQ\\xd4\\x1d\\xf5SG\\xcf\\x19/\\xa8e\\xc7Nm\\xa4\\x18m\\xef\\x99\\xcf\\xe2\\x9b\\x15\\x04\\xbcx\\x81\\x80\\xbe\\x11\\xe0\\xb6\\x1c\\xdd\\xb9\\x9dH>\\xcev\\xc3m\\xd7$\\xdf\\x91\\xe2H\\x0f\\xa6\\x83\\xdbQ\\xd2\\x1do,\\x93\\x98\\xf0\\x82\\xdb\\xde\\xb1\\x9e\\xacA4\\xee\\xc0No~\\x87\\xdfv\\xa4\\x88\\t\\xb5\\x82CH\\xe0 \\xee\\xb7\\xec\\xca\\xb9\\x9dh>\\xcef\\x83\\xdb5\\xcdw\\xa44\\xd3\\xcd\\x06p;j\\xbe\\xe3\\x8di\\xbe\\x84\\x17\\x05\\x94\\xec\\xd9\\x17\\xcf\\x04\\xd4=\\xc1m\\xad\\xd4\\x10\\x13\\xea\\xe4!\\xb8\\xad-\\xe0\\xb73\\xd1\\x17Oe1\\xe1\\x9a\\xabh\\x8ek\\xa2\\x0f\\xcd{L0\\xd1\\xd7::\\xbf\\xea\\x8e\\xfaUa\\xc4\\x84t\\xcb\\xa9\\xae\\x95\\x10o\\xeb\\x1aT8n\\xa8>_G\\xccR\\x814\\xf1]6\\x02\\xfa\\xca\\x02\\xb93\\xd1\\x17\\x80\\x91{Mq\\xeaqM\\xf4\\xa1y\\'\\xd7D_\\xebh \\xd7D_\\xc2+\\xc7e\\x05\\xa8%\\xfb8\\xa4W\\xac\\x13\\xd0w\\x16\\x1c\\xb7wU\\xac\\xd1:`\\xd5O \\x97\\x88\\x8ap\\xac\\x14&\\xba\\x8f\\xf3\\xd9\\x08\\x0bk\\xba\\xefH\\xdd\\xa7\\xa9\\x01\\x84\\x85Q\\xf7\\x1d\\xf5)\\xe1\\xba\\x97\\xd2}\\xf0\\\\\\n,\\'\\xb7\\x03~x\\x8b\\x16^VM\\xa0x\\x9b\\xf1\\xe1m{\\x98\\x16*\\x14A\\xedD\\xf6q2\\x97\\xa9}X\\x93}h\\xde\\x1d\\xd7d_\\xebhp\\\\\\x93}\\t\\xf7*Gv\\xec\\xc5\\xbb\\x04<\\xe0\\x12\\xf0\\xc3\\xf3\\x04l?\\xf9\\xfd\\x10Ooo\\xb30\\xf1\\xab2\\x89\\xd8\\n\\x97\\xd3\\xd9 wM\\xd8=P_\\xe9\\x17\\xde\\x9f\\x0e@FrM\\xd8%\\xdc\\xefK\\xcf\\xb0},\\x87\\xe3\\xeend\\xe5\\xfc\\xd2\\xc6=\\xfd\\xdcv;/\\x01-Ux\\x0b\\x8b\\x07\\x19\\x04\\xdcS\\xf1\\xc9\\x18\\x1f\\x01\\xf8\\xfdS\\xb4p\\xea\\xaf\\x11v\\x0fk\\xc2\\x0e\\xcd\\xbb_\\x9b\\xb0k\\x1d\\r~m\\xc2.\\xe1~\\x15&;\\xf6\\xb3\\xb4\\x0442\\xbc\\x1e\\x08\\xf8\\xb9\\xb8\\x00lc~b\\x01j9+\\xd3\\xcca\\xa1\\xef:Nf\\xc3\\xab\\xd7t\\xdb\\x03\\xc5\\x92.\\x04\\xe0\\xd5\\xa3n;\\xaa\\xf7=g\\xbc\\xa0\\x96\\x1d\\xdb.\\x1cG,\\xbe\\x1e\\x1a\\xcfb;\\xf3\\x04\\xfc]7\\xb1\\x00\\xb7\\xac\\x10\\xf5W\\x1d\\x11\\xf7\\xdbk\\x94\\xdb\\xc3\\x9arC\\xf3\\x93\\xdf\\xea\\x07\\xdeAnRn*\\x9aAn:Uh5\\xa0\\xecX+T\\x10\\x12\\xa8\\xdc\\xf4\\xe7\\x84\\xe3\\xd6\\x196\\xc4\\x84:\\xf3\\x87\\x98P[\\x80\\xdc\\x0e\\xf8\\xf5\\xb9\\x04\\x9c\\xdbk\\x92u\\x0fk\\xca\\r\\xcd;\\xb7\\x96\\xack\\x1d}\\xc5\\x04U\\xcd\\xe06%\\xeb\\x84\\xdbo\\x19.j@9\\xf0\\xde\\xc31\\xd5\\x98\\xf4\\x08\\xea)\\xba\\xdc\\xaf;\\xe07\\x17O,@}m\\xf1y\\x1e\\xc3b\\xc65\\xa7\\x0e\\x1f\\xd6\\x84\\x1d\\x9aw\\xea-\\x99\\xd7:\\x1a\\xa87a\\x97\\xf0\\xe2M\\xb8Q\\x03\\xca\\x81\\xb5r\\x00n\\xcf\\xbaM\\xd5\\xe1\\xe0\\x9ei@\\xe7\\x9e):\\x8f\\xd7\\xb5\\x05\\xb8\\xaf-\\xc0\\xfd$\\xdb\\xc7\\xd9n\\xc4\\xeb5\\xe1\\xf7@\\xe1\\xa73EHI\\xc2OE7\\xdc>\\t?-\\xdc\\x87\\xdf\\'\\xdc+\\x048r\\xf1\\xae\\xac\\xf3\\x84\\xe0\\xbe\\x03\\xbeY\\x14]\\xc9\\x8f\\x82\\x90\\xc3\\x12Q_\\x02F\\x923\\xfb7\\xb8\\x9f$\\x039\\x9b\\r\\xee\\xd7t\\xe1\\x03u\\xa1.\\xf2\\xc1}\\xd2\\x85Z\\x99\\x0f\\xeeG\\xbc\\xb8\\xb1;\\xe3\\x05\\xf7u\\x9d&\\x1c\\x9f\\x92N\\x1f\\t\\xe4\\x87\\xd8s\\xcfgg\\xce~\\xadN\\xe1\\xf95\\x00\\xf6\\'\\xba\\x91\\xf3\\xd9`\\x7fM7>Pzii8\\xd8O\\xbaQ\\xcbQ\\xc0\\xfe\\xa5\\x83\\x8b\\xdf\\x1b\\xdc\\xc2\\x99\\x7f\\x8f\\x88\\x80\\x1d\\xae\\x05\\xb9\\xb5\\t^\\xa6\\xb5\\xd4\\x84g\\xd7\\x16\\xe0\\x96\\xfa\\xd0W\\x81\\x13\\xe1\\xc8\\xd9\\\\\\xe6\\xf6qM8\\xa2y\\x8f\\xe8&\\x1c[GCD7\\xe1\\x98p?\\x14\\x9a`?\\x99\\xc8q\\xfd\\x08\\x17\\x01]V\\xbe\\x1e\\x08\\xf8\\xfa\\x9b\\x80\\x7f\\x08tb\\xf1\\x11]\\xf9\\xe9\\xb9\\xb0\\xd0w)\\'\\xb3\\xc1\\xfc\\x9a\\xaa|\\xa4\\x86\\xbb\\xb5t!\\x90\\x91yS\\x95\\t/\\x98\\x1f\\xcd\\x0b\\xe6Y\\xa0\\xa9I\\x83\\x97\\x03\\x9fhwk_:\\'\\xe2\\xd7\\xb1\\x10\\xd04\\xc9{\\xf4\\xe5\\'\\xfci\\xe19\\xab\\xe8\\xca\\xb8\\xbfFV>\\xae\\xc9J4\\xef^o\\xb2\\xb2u4x\\xbd\\xc9\\xca\\x84\\x17\\xf1<\\xe1\\x05\\xf9}\\xe0\\xc2\\xed;\\xe0\\xf9B>jA}\\xb7\\xf0taL\\xcev\\xaa\\x02\\xb0\\xba\\x1a\\x02\\xb6z\\xe7d6\\xdc~Mv>R\\x1d\\xea\\xbe\\xe6\\xd3\\x01\\xc8H\\xbd\\xa5\\x0b\\x13^Q\\x9f.\\xca\\xb1\\xfbX8pq\\x0bQ<\\x92\\xcc\\x1f!g\\xa2%\\xdf\\x02\\xd1\\x9f\\x0b~_\\xd7\\x9d\"\\xe6\\xd4\\x95\\xaa\\x9f\\xe7\\xae\\xcc\\xef\\xaf\\x91\\xa5\\x8fk\\xb2\\x14\\xcdO~\\xaf\\xf5\\xdc ?\\xc9R\\x15\\x91\\xcf\\x19\\xf7<8;\\xd6]\\x13\\xc4\\x14JI\\xcb\\'\\xc6\\xa3\\xc8{\\x05\\xd4R\\xc8z\\xc1\\xd8\\xc4\\x04\\xdcrZ\\xf6&%\\xe0\\x8e}\\x8d,}\\\\\\x93\\xa5h\\xde\\xb95Y\\xda:\\xfa\\x8a)\\xba%\\x00nG\\xdc\\x0f\\xb3$\\xb8(\\x8e\\xe6\\xc0\\xfa\\x01\\x11p\\xcf\\x84\\xa3\\xee\\xe0\\xc0\\xb1\\x89h\\xf2\\x13\\xecwD\\x15>\\x1c\\xbb\\x06@\\xfed\\x14x\\xf6$\\xe5\\xc8\\tm\\x84\\x955e\\xfaHe\\xaa7\\xef\\xc3\\xb3\\x932\\xd5\\x90\\x0c\\xf6\\x93\\xf4tu\\x94pO\\xf7r`\\xfd\\xae\\x06\\xd8\\xe7\\x13yT\\xa1h\\xb4\\xe59-\\x8a\\x88^[\\x80\\xfb\\x0e\\xe8wO@\\xfdD\\x98r2\\x1b\\xd4\\xaf\\t\\xd3G*4\\xfdV<\\xa8O\\xc2T\\x97\\x15\\xa0~C\\x98&\\xbc\\xa0\\x9e*\\xd3\\xee6\\xe3\\x13\\xf9\\x1e.\\x01\\xd7\\xa51\\x07\\xdb\\x13\\x98X\\x80z\\xcaO\\xbba+\\x00\\x8b\\xe7\\xd7\\xe4+\\x1f\\xd7t)\\x9a\\xf7\\x98#\\xcf\\r\\xea\\x93.U\\xee@\\xfd\\x86.MxA=s\\x90N\\xfd$\\xd3\\x88\\x98C\\x13w\\xfb\\x89\\x92E\\xcc\\xa9M@>\\x01\\'\\x7f\"K9\\x9d\\r\\xbf_\\x93\\xa5\\x8f\\x94\\xa5wV\\xc6\\nd\\x0c\\xf8\\xf2\\xe3\\x80\\xfc\\xcb\\xa7\\x17\\x13\\\\\\xbckk\\xdd\\x88\\x88\\xd3\\x81\\xc2\\xedk\\x0bD\\xfb:q\\n\\xe6k\\x0b0\\xcfI\\xfb\\x1ar\"Z9\\x99\\x8b\\xcc\\xa3\\x80\\xe9\\xf7\\xbf\\xfb\\xf5_?\\xfc\\xf3\\xd7?\\xff~\\xf7\\xc7\\xf6\\xd5\\xf2\\xff\\xde\\xdd\\xff\\xf0\\xe3\\x1f\\xff\\xf6?\\xdf~\\xfa\\xf5\\xc7\\x9f\\xfe\\x89\\x97\\xe7\\xcd\\xbf\\xb5\\xf5\\xd3\\x8f\\xbf\\xfb\\xe5\\xcf\\xbf\\xff\\xf7\\xd6\\xbc\\xbb\\xbd\\x8a\\xd6SG\\xc3\\xabVEk\\xc6\\xedU\\x9bac>\\xc6\\xb5U\\xce\\xf9\\x81\\xb4@\\xe2\\x0c\\x88\\x0b\\xbc\\x05`\\xb9\\xfa\\xf73b\\xd7\\x8e|!J~ \\xba\\xce\\x89\\xf9l\\x90\\xbf\\xa4[Q\\x10E\\xf2U\\xb76dt{\\xd5\\xad\\x19\\xb7\\x85\\xcc\\xb7\\x8c[^)\\x06\\xd6\\xb2\\xef\\x973\\xe0\\xecS\\xea\\xde\\x8a\\x96\\x00\\xfd\\xccz\\xeaNX\\x00\\xfa\\xfd\\xf5\\x8f\\x00vvl7\\x10\\'\\x7f\\x14\\xae_y\\xd7?\\xfc\\xf2\\xf3\\x7f\\xfd\\xe5O\\xf8\\x9f\\xe6\\xcb(\\x81Z\\xf3|\\n\\xd7;\\x15\\xae\\xa7\\x8e\\x06\\xcfW\\xe1\\x9aq\\xff&L\\xc6\\x0b\\xf2\\xfb\\xc0\\x05\\xf9\\x1d\\xd8)\\xc7\\xaf\\xad\\xc7\\xd3\\xee\\x9a\\x06\\xfc\\x00\\x94c\\xb8~m\\x01\\xf29HA>u\\xb3\\xbcmc:\\xdd\\xf3\\xa7\\xe4/IW\\x94Tu\\xcf\\xd7-\\x97\\xa7\\x86\\x8c\\x9e\\xaf\\xd25\\xe3vp7\\xc3\\x05\\xf7\\xd4\\x94zk`<\\x90}\\xb61\\x00e\\x18~\\xcf\\xae\\xdc\\xef)u\\xf5g\\x04\\xf7!\\x82\\xf5e\\x1b\\x88;\\xfe\\xa8\\\\\\xa7\\xdc/)\\xd7\\xe3\\r%\\xde\\xbd\\x9e\\x7fl\\xc8\\xc0\\xbdn+<g\\xdcvd\\xa2c\\xbd\\x14\\x11Q%Jau\\x01\\x7f6q\\xc7\\x8e\\x1c\\xac.#\\xc3\\xc4\\xca\\xde\\xbeF\\x91y}\\x06\\xe2\\xec\\x8e\\xdau\\xca\\xee\\x92vE\\xc5\\x15=\\xdb\\xd9M\\xdaU\\xf7\\r\\xc0\\xee\\x88\\x17\\xec23\\xaa)\\xd3\\x18\\xd1\\x0f\\x97\\x06b\\'\\xc9\\xce&\\x9a3G\\xdc`\\xd1\\xab&\\x8f\\xce&\\xaa\\xb9\\xc1n\\xadMc>\\x1bqcI\\x9b\\x1eo\\xa8\\x04\\xefug\\xa0!\\xa3\\xefj\\xd64\\xe3v\\xfb_\\x86\\x0b\\xf2\\xfb\\xb8\\x85k3i\\xaa\\t\\x13\\xc4l\\x9a\\xb8kG\\x9e\\xd5]{\\x925\\x8d\\xbev\\x9a\\x87\\x07\\xf9\\xb5:\\x8d\\xf9l\\x90\\xbf\\xa4N\\x8f7T\\xa7\\x05\\xf9I\\x9d\\xea\\xc6\\x01\\\\\\xfb\\xd2!I\\xacVF\\xb8 \\x9f\\xe2\\xd4=\\x9f\\xd5\\xb4\\xba\\xbe\\x03\\xf9\\x93\\xaci\\x00~4$\\x90\"\\xae\\xc4(\\x1eW\\xea\\xbci\\xccg\\x83\\xfc%}z\\xbc\\xa1>\\xbd\\xd7z\\x81\\x86\\x8c\\x9e\\xaf\\xf5\\xb4\\x19W\\xfd\\t\\xf2\\x93|\\xd5\\x13Q1\\xae_\\x19uF\\xacLfj\\x83\\x97&\\x05\\xaa\\xa6\\x9e\\x10xB\\xbaz\\xe4\\xa9\\xa5+|\\xbfV\\xa81\\xa3\\r\\xfa\\x97\\x14*J\\xb7\\x18\\xd6\\xb5V\\xbc!#\\xfd\\xaaP3^\\xd0\\x7f\\xf1~\\x9d\\x18\\xb7\\xa2\\xbf?\\xd1\\xce\\xca\\x9d\\xcf6\\xfa\\xc3\\x80~\\xda(\\x02\\xfa\\x89h*\\x0b\\x8b\\x16&]])\\xd525&|\\x99\\xfe\\xdd\\x9aLE\\xf3\\x93L\\xd5\\r\\xbd\\xa7c\\xeb\\xe8k\\xb1\\xae\\x1b\\x08\\xcf\\x19\\xb7j\\x99\\x0c{\\xe8\\xe1\\xb8V,\\xd3\\xec\\xda\\x03y\\x01^ v\\x02\\xe5l\\xa2\\xaf\\x8a\\xf7@<\\xf4\\xc4(zr\\xe63LlIC:6\\xc8_\\x93\\xa9;\\xca\\xd4\\x82\\xfc$S5m\\x0c\\xf2G\\xbc \\xffbz\\xb5Y7\\x8e\\x0b\\xf2)F\\xed\\xe3BaR\\x90\\x1f\\xa9Z{\\xe9\\xc6(\\x16w\\x08\\xa8N\\x03\\xf7<\\xa7\\xa9B\\x89\\xb3\\xdd\\xe0~M\\xa5b\\x07\\xa7;\\xbe\\xee\\x8c\\x1d\\xdb\\xde\\xce\\xe0\\xf8\\xa6R\\x13\\xeeq\\'\\xc1~\\xca\\xa2u_:\\xf8\\xcb\\x19\\xb1c\\xc8\\x81\\x14\\xec\\xb33;583\\xf98\\x03\\xf2{\\x81\\xfd\\x89L\\xe5\\x846\\xd8_\\x93\\xa9\\xbb\\x90\\xa9\\xce~\\x92\\xa9\\xba\\x87\\x00\\xcfO\\x19T\\xad\\x8f\\xccp\\xc5~hH\\x99>\\xd8\\'b\\xa7\\x05\\xce\\x88\\x86\\xf0\\xb73\\xe2a\\x9f\\xbd\\xe9/\\x06\\xfa\\xeb\\xe4+\\xe8\\xef\\x80\\x07\\x9ek\\x94\\xeanM\\xa9\\xa2\\xf9\\xcc\\xf9\\x93R\\xd5]\\x04\\xd0\\x7f\\xa9\\xf4\\xf7[\\x86+\\xfa\\'\\xea\\x13\\xf4\\xcfj\\x83\\x03)\\x9c\\x9f&v\\x82\\xeb\\xdc\\x99\\xbft9\\x8c]\\xb5\\x1e&N\\xff5Rv\\xb7&e\\xd1\\xbc\\xd3o{\\xc3\\xad\\xa3\\xaf\\xd8\\xa3\\x1b\\t\\xa0?IY1\\x07\\xfd#\\xec\\x9b4\\x1c\\xd77\\xc8\\x08\\xe8^\\xcck\\xeb\\xb0\\xde\\x1f#`[jx\\xe7\\xce\\x84n\\x98\\xf8\\x06\\x19\\x11\\xe7\\xfe\\x8a\\xf2\\xe0\\xe3nM\\xe8\\xa2\\xf9\\x8c\\xfb$tU\\x8b\\x81\\xfb\\x11\\xb7+b3\\\\p\\xdf\\xc7-\\xb8\\xa7\\x9c\\x15a\\r\\xeeia:\\x97@\\xc5}m\\x82\\xa8Ci\\\\p?\\xd1\\xb9\\x9cm\\x8f\\xfa_\\x8f\\x90w\\x86wk:\\x17\\xcd;\\xf7\\xb6-\\xdf:\\x1a\\xfc^o\\x88=&\\xdc\\xca\\xc92lw\\xae4\\xf8\\xf4\\xca\\xb5r\\xb2@\\xec2\\xcd\\x19\\x80\\x90\\xcf\\xbe\\xb4$\\x0e\\x8e?A\\xc0~G4\\x82!\\xe6Ot.\\xa7\\xbbA\\xfe\\x9a\\xce\\xdd\\x85\\xceu\\xf2\\x93\\xce\\xd5[/\\xe1\\xf8#^\\x90?\\xc2\\x85\\xe3G\\xb6U\\xfc\\x18!?\\x94\\xa9<\\x11\\\\\\x7f\\x92\\x87\\r@\\x7f/\\x90\\xdf-\\x14\\x00\\xf7\\x93A@\\xfeD\\xe5r\\xba\\x1b\\xe4\\xaf\\xa9\\xdc]\\xa8\\\\\\xcb\\x89\\x00\\x19=\\xdfTn\\xc2=\\x1b\\x98`/\\xbc9r`\\xfd\\x1e4\\xc8\\x9f(V\\x90O]*\\x8f\\x02\\xd7\\x9f\\x8a\\xdc\\x89\\t\\xd8g_2m\\x90?\\xd1\\xb8\\x9c\\xcfe\\xf2o\\xd74.\\x9a\\x9f\\xc2\\x8e\\n\\xfa\\xa7c\\xebh\\x08;\\x96\\x8aM\\xb8\\x15\\xbe7\\xf3\\xd6\\xf1^\\xaf\\xa8\\x08@?\\x03\\xfdz\\x06\\x8c[ve5Ma\\xa1\\x8a\\xec#\\x00\\xab\\xab9\\x8f\\xa1*\\x8a\\x93\\xd9\\xa0vM\\xc1\\xdeR\\xc1\\xea\\xbe/\\xa8M\\nV\\xef\\x93x\\xcexAm\\x9cg\\x95Kk\\x9a]\\xe3\\\\?\\xae\\tj\\x99.uj\\xa9*\\xe5Wz\\x0f\\x0b-J\\x03\\xb5\\xb4\\xd0\\x0b*\\x02\\x90\\x9e\\xfe\\x1a\\x93\\xd9\\xa0vM\\xa0\\xdeR\\xa0j\\xd5\\x16\\xa8M\\x02U]\\x06\\xd4\\xa6\\xfb\\x80\\xe4]\\xfa-\\xc3\\x1e\\xaf9\\xee\\x83\\x04\\xe5\\x97f\\xd7\\xdf\\xa2Z\\'yFt\\x9b\\xe7-\\x10\\xfdP\\x16\\xb8\\xef\\x9dY\\xedu\\x00\\xfa\\xbd\\xe4\\xcf3`n}\\xc5}A\\xc7\\xdb5y\\x8a\\xe6=b\\xd8\\x9ep\\xebh\\x88\\x18\\x96EM\\xb8Wg\\xb0c\\xbb\\x80\\xb7=`\\x1b\\xd17^&\\x16\\xa0\\x96\\xcf(\\xebFPK\\xc0\\xf6]&\\x00\\xa8\\xa5\\x85Q{Ey\\xef\\xf1vMz\\xa2y\\xa7\\xd6\\xf6{[G_\\xd4j\\xb0\\x86[\\x8fxAm\\xef\\xd8N>6\\xbbS\\x94\\x96\\xdf\\n\\x11\\x83\\x80x:\\xa8eA\\xb0e\\xa0\\t\\xd8\\x17\\xbc\\xc2B?^\\x0fj9]\\xa3\\xf6\\x8a\\xea\\xde\\xe3\\xed\\x9a\\xacD\\xf3N\\xad\\x84@D\\x8c$+5X\\x83\\xda\\x11Wj\\x111F\\xd8\\x97\\xd7\\x1cW\\xff\\x96\\x111\\xf8@\\xce<S\\xae\\xe2\\xbb`>\\x8a~\\xc5;\\xe0\\xd5Q\\xc2\\xebn\\x1d\\x88\\xd8\\x80|\\x8eo\\xe4_\\xa3+o\\xd7t%\\x9aw\\xf2mG\\xabu4\\xf8\\xb5%P\\x13n_\\xbf8\\xb2c\\xdd\\x0b\\x00\\xbbTnz\\xc1\\xc2\\xd9\\xc2\\x84c<\\xa3\\x87\\x8c\\xde\\x95.\\xfd\\xf1&\\xa48\\xb5\\x0c]te\\xd4^q\\x9d\\xd0\\xf1vM6\\xa2y\\xa7\\xd6\\xb6KZG\\x03\\xb5&\\x1b\\x13^PK\\xf9\\xa5\\x97\\xcd\\xb7\\x07<\\x8d\\xa8\\x87\\x8c\\x02\\xd0w2\\x1c\\xb7[\\xe8\\xeb\\x14~\\xcb1\\xe4W\\x02\\xb5\\x14\\x85\\xbe\\xc8\\xe0\\xe0F\\xed\\x15\\xc5\\xb9\\xc7\\xdb5Q\\x88\\xe6\\x9dZ\\x13\\x85\\xad\\xa3\\x81ZK~&\\xdcwC\\x12l\\x07a\\xbe\\xb7\\xe7<-\\xe3\\xb487\\x00\\xdd\\xa0C\\xb4\\xe6\\xa3\\n_\\xa0>\\x04\\xa6\\xfcZ\\xe0\\x9e\\x83\\x88\\xf7\\x82\\xfb\\x10\\x852<B\\x06G1\\xf2;\\x1d\\x1b+\\xbc5QxKQ\\xa8\\xaf,\\xc4\\xeb$\\n\\xf5\\x04\\x0f\\xe2\\xf5\\xc53\\xa3\\rn\\xe4\\xaa4@\\xc8 \\xe0!\\xa3\\xb6\\x00\\xb9\\x04<d\\xd4]\\x81[*;\\xf7kN\\xd7\\xa8\\xed\\x93\\xb9L\\xed\\xdd\\x9a\\xe4C\\xf3\\x93_\\xeb\\xf1\\xc9\\xa7c\\xebh\\xf0k\\x93|\\t\\xf7\\xcd\\x8e\\x04k\\xe2\\xed{\\xeb\\xbd\\x8d\\xeb\\xd5\\xb7\\x04T*\\xbe\\x86\\x85n\\\\\\xbc\\x05\\xe0\\t}v\\xe5[\\x1d\\x01X\\x11\\\\\\xb0\\xa1\\xccs2\\x1b\\xcc\\xaf)\\xc2;\\n7\\xd5\\xbe`>)B=\\x8e\\xf9\\x9c\\xf1\\x82\\xf9\\xcb9M\\x8ek\\x17\\x00\\xb4nO\\xcb?y\\x1b\\x82\\xf9\\x0eh\\xdd\\x07\\x98\\'`\\xcb?\\x02\\xfaw\\xf5\\x11\\x16\\x07\\x0b\\'\\xc1\\x861\\x7f\\xc5\\x81\\xd1\\xe3\\xdd\\x9a`D\\xf3\\xee\\xf3V\\xc2\\xd5:\\x1a|\\xde2\\x9a\\t\\xf7\\xe5_\\x82=\\x95\\x1f\\xe3Z(\\'\\xa0\\x8bb0\\xcfL\\xa3I\\xf5\\x00L\\xaa\\x07 c\\x80\\xf9\\xde\\x95^&\\xf5\\x19\\x80IuNf\\xc3\\xe7\\xd7\\xe4\\xe2\\x1d\\xf5\\xd3\\xc1\\xe4\"\\x90\\x91y\\x93\\x8b\\t/\\x98\\xbfx\\\\\\xf4\\xc8qu/\\xe4%\\x00\\xbdI\\x0b\\xcc\\xf7\\'\\xd5\\xed@\\xf8<\\x01[w\\xc7\\xdc\\xe4\\xd1\\xc1|dR\\x85bP?\\x91\\x93\\x9c\\xec\\x06\\xf5kr\\xf2\\x8e\\xfaJ\\xf7\\x0b\\x10n\\x92\\x9c\\xd4\\x17\\x01\\xc2\\xcd\\x88\\xdb\\xa5r\\r\\xae\\xdf\\xa1\\x01\\x88\\xf3\\x82\\xdbna\\x97\\xca\\x05\\xa0\\x8b\\xa4\\xf73 ]\\x81[\\x0en9\\xfa\\x98\\xae\\xc5\\x93k\\xe4\\xe4\\xdd\\x9a\\x9cD\\xf3\\x1eOLN\\xb6\\x8e\\xbe\\xe2\\x89FzP{\\xe9\\xb0(^\\x92\\xbd\\xe3\"Tw@C\\x0c\\xa8\\xe5\\xa3\\x98\\xa2!PP\\xdb-\\xb4.\\x02\\xd4r\\x0c\\xdb\\x91\\x8e1\\x8c\\xdak\\xc4\\xe2\\xdd\\x9aXD\\xf3N\\xad\\x89\\xc5\\xd6\\xd1@\\xad\\x89\\xc5\\x84{: \\xc1E\\xa8\\xae\\xeb`\\x110\\xa8%-\\t\\x19\\x803_\\xa7\\x1a\\xe1\\xd4\\xec\\xcat:\\x01\\xad:B\\xbc \\x1b\\xc6\\xfc5Z\\xf2nMK\\xa2yg\\xde\\xb4d\\xebh`\\xde\\xb4d\\xc2\\x8bP=\\x9ak\\x0c\\x80\\xcfs\\\\\\x7fIR\\x1f\\xfa\\xf2\\x84\\x80\\xedN\\xb1+}\\xad\\x82\\xf9Z\\xce\\xc2\\xe7;\\xa0\\xe9}0?\\x91\\x9a\\x9c\\xebF\\xa4^\\x93\\x9awTV\\x07\\x93\\x9a@F\\xe6Mj&\\xbc`\\xfeRz\\x12\\xcc\\xf7q\\xf5C{\\xf0y>\\x90e\\x1f\\t\\xf8\\xc9\\x14\\x02v\\xd9%\\xa8\\x8f\\xc9e\\x1f\\x06\\xf5!N\\xfd-9Q\\x9a\\x9c\\xed\\x06\\xf7kJ\\xf3\\x8e\\xd2KO\\x8e\\xe3-\\x99\\x94\\xa6~\\xce\\x02\\xa1|\\xc45\\xd2\\x83\\xdc\\xde\\xb1})1\\x00]*#\\x94S7\\xdaq\\xb7xF\\xbd\\xfd3,\\xf4\\x88\\x00\\xb8\\xe5\\xe0\\xbe\\xea\\x9e(MN\\xe62\\xb5\\xf7kJ\\x13\\xcdO\\x01E\\xf7\\x84\\x9f\\x8e\\xad\\xa3!\\xa0\\x98\\xd2L\\xb8S\\xcb\\x8eUc\\xbe\\xb4~\\xdb\\x88\\x9e*\\x08\\xc0vH\\x08\\xd8\\xb7\\xa3\\xa2+\\xfd\\xca\\xe3G\\x00\\xba\\xcf\\xf5\\x19\\x80-\\xab9\\x99\\rj\\xd7\\xa4\\xe4=\\xa5\\xa4\\xaeVAm\\x92\\x92\\x07;\\xc5\\x99\\xf0\\x82\\xda:\\x87\\x08j#\\x9d\\x99\\xff\\x8c_\\xcf\\x80\\x05cZ\\xec\\xf4\\x96\\x8a\\xf70\\xd9\\xe9\\x0f\\x08r9\\xbc\\xad\\xeebx}\\x11r:\\x1b\\xe4\\xae\\xa9\\xc5{\\xaaE\\x8dr 7\\xa9E\\r\\xd7\\xcf\\x19\\xf7\\xccmtlI\\xf1\\x00l\\xe1L@\\x13\\x99om\\xa4\\xd3\\xdf\\x96m>\\x11\\xd0=\\x04PKei!!\\xba2j\\xaf\\xc9\\x1e\\xde\\xaf\\xc9A4\\xef!\\xc1\\xe4`\\xebh\\x08\\t&\\x07\\x13^P\\x1b\\x92K:\\x86\\xe3\\x12\\xd1\\n\\'xn\\x9d&\\x04\\xb9,D\\x95?\\x1e8n\\x07T<\\x82\\\\ve\\xfbK\\x01\\x18\\xb9\\xd7\\xe4\\x0f\\xef\\xd7\\x04\\x1f\\x9awr-\\x7f\\xd8:\\xfa\"W\\xe31\\xfcv\\xc4=\\xef}\\xee8\\xcf\\x02\\xdc\\xf6\\x11\\xf5\\x9b\\xf1\\xa0\\x96\\x8fbY,\\x02\\xfaU\\x18PK\\x89(\\x0c\\x82Z\\x02\\xf2\\xc3\"\\xdeN\\xf2\\x87\\x9c\\xccFHX\\x13|\\xf7TY\\xfa\\x9e@HH\\x82O\\xe31\\xa8\\xbdTw\\xfa-\\xc3E2\\x80\\x03\\xdb\\x1d\\x87\\xcd\\xb0\\xfd\\xd8;\\xbb95\\x10\\xdd\\xfa\\x80[\\xd79Gp\\xcf\\x9c\\xa3%\\x03\\x08h\\x19\\x08\\xb8\\x9f\\xa4\\x0f9\\xdb\\r\\xee\\xd7\\x14\\xe1=5\\x90~\\x92\\x05\\xdc\\'E\\xa8\\xe1\\x1a\\xdc\\x8f\\xb8\\x0b\\x0fv\\xec\\xc9Y\\x02z6\\x06n\\xcdG1\\xc9\\x17\\x80\\x04pP;+;%\\xb0\\xd3\\x8f\\xa8\\x80\\xdb\\x89\\xe6\\xe3l6\\xb8]\\xd3|\\xf7T9\\xbac\\x0en\\x93\\xe6SE\\x05nG\\xdc\\x13\\xdf\\xd1\\xb1\\x89:\\x02\\xfaF\\x03\\xb7\\xb5D\\x83\\xdb\\xd6\\x19GpK\\xc0\\xe4t\\x00\\x1e\\x8d\\'\\xa2\\x8e\\x93\\xd9\\xa0vM\\xd4\\xddGR\\xceD\\x1d\\x901\\x1a\\x9b\\xa8KxA-Sw\\x96\\x9a\\xe5\\x88\\x05\\xb5\\xb4\\x90u\\x07\\xa8\\xa5\\x00\\xb4\\xf4`\\x00\\x1e\\x11B\\xb4YEA\\xcc\\xd7\\xdet\\xd7\\xa4\\x07\\xef\\xd7D\\x1b\\x9a\\xf77\\x9ds\\x9bD\\x9b\\xfei\\xc3mG\\xbc\\xe0\\xb6w\\xacEYx\\xd3QP\\x99\"&\\xa0\\xc1\\t\\xdcv\\x0bO{\\x07\\xe0\\xdcv\\x0b\\xbb\\xdd\\x03!a\\xa2\\xda8\\x9b\\xcb~\\xbb_Smh\\xde\\xb9\\xb5z\\xdc\\xd6\\xd1\\xb0\\x8a0\\xd5\\x96\\xf0\\xe2\\x82\\x98\\x8c\\xebu\\xc0\\xdf\\x8f\\x1c\\xd97?\\tx<&`\\'U\\xdf\\xa2/\\xbb\\xa1\\xfd\\x0c\\xc8\\xda\\xee#\\x00-^\\xff\\x0c\\xc0t\\x1d\\xa7\\xb3A\\xfe\\x9a\\xae\\xdbSe\\xe9T\\x9f\\x8e@F\\xf2M\\xd7%\\xbc\"\\x7f\\xb4\\xf7\\xdb\\xf1[\\xff\\xa7\\\\\\xa0\\x1dx\\'\\xe0\\x97)\\x87\\x89\\x9d\\x06\\x06\\xfbL\\x13\\xda\\xeb0\\x00K\\x99\\x10\\xd0\\xdf\\x0b\\xec\\x93\\x11\\r+\\x9c\\xef\\x06\\xfbk\\xc2oOQ\\xa5\\xeb{\\xb0\\x9f\\x84\\x9f.\\xad\\x9e3^\\xb1\\x9f\\xeaN\\x0b\\xd7\\xe7\\xc8v\\x10\\x80\\x8fT\\x9c\\xb8&b\\x17*\\xb7g9\\xad\\x0c==>1\\x81\\xef\\xd7\\xc3\\x83}\\x02\\xc6\\xfe5\\xdap\\xbf\\xa6\\r\\xd1\\xfc\\x14x\\n\\xf6\\x936\\xd4\\xdd.\\xb0?\\xe2\\x15\\xfb\\t/\\xd8\\xaf\\xcbB_Z\\xc7\\xa7?\\n\\xdb\\x81&P\\xb9~m\\xf2\\x1e}\\x99\\t\\xd8\\xaf\\x87\\x07\\xfb\\x93l!\\xe7\\xbb\\xe1\\xfbk\\xe2qO5\\xa5Z\\x0e\\xbe\\x9f\\xc4\\xa3F&\\xb0?\\xe2\\xbe\\xa3\\xc4\\x8e=\\x13K@7\\xd2^[\\x87\\'G\\xb0Uv\\x00\\xb6\\\\\\t\\xc0\\xb2\\x85\\x04\\xf4\\xeeJP;\\x11\\x8f\\x9c\\xcc\\x06\\xb5k\\xe2qO\\xb1\\xa4K\\x01P\\x9b\\xc4\\xa3:>\\xa8\\x1d\\xf1\\x82\\xda(\\xef\\xb4\\xab\\xa58\\xa4\\x9fZ\\x9c\\x00\\x08\\xd9\\xbd\\xafG\\x89\\xcc\\xf0\\xdb\\x0ehn\\nn;K\\x17\\xc6|-h\\\\\\x93.\\xdc\\xaf\\x89C4\\xefA\\xc3\\xf6<ZG_\\xab\\x15ukp;\\xe2\\x05\\xb7\\xec\\xd8\\x04\\x0cG\\xf4Uv<\\x8a\\xad\\xb2\\th-\\x1b\\xa8e>\\xd0\\xd7\",:\\xb5Ll\\x8ca\\xd4^\\x93\\x0f\\xdc\\xafiC4\\xef\\xd4Z\\x92\\xbbu4Pk\\xf9\\xc0\\x84\\x17\\xd4\\xf6\\x8e\\xf5\\'A\\xb8%\\xe0\\xe1\\x96\\x80SK\\xc0\\x17\\x1a\\xcc\\xebyD\\x98%\\xfcb\\xbaF\\xed5\\xb5\\xa5\\xfb5m\\x88\\xe6\\x9dZKr\\xb7\\x8e\\x06jM\\x1b&\\xdcoQ?&\\xdc\\xf5\\r\\x07\\xde\\xdb.i\\x002 \\x82q\\x7fT\\xb5@\\xc0\\xe8\\x80}\\xb7!\\x00\\xdd\\xe2C\\xc0\\xe8\\x16\\xf65\\xc0\\x00|\\x85}\\x8dt\\xdc\\xafIG4\\xef\\xd4[\\x96\\xbbu4P/\\x9e\\x83\\x801\\xe2\\x15\\xf5\\x97\\xa5%\\x07\\xf6d+\\x81G+0\\x08\\x0b\\xcb\\xac\\x9c\\xe7\\x90}\\x15\\x01\\x85\\xf2\\xd5\\xbd\\x9e\\x80m\\xa2FW\\xe6\\xf5\\xd7T\\x9e\\x1e\\xd6\\x94%\\x9aw\\xeaM\\xb5\\xb7\\x8e\\x06\\xeaMY&\\xbc\\xb8\\xfd2\\xe1^\\xcc\\xce\\x81\\xf5\\xdc\\xfa\\xcb\\x91\\x80/A\\xe2Q-_H@/\\xdfx?w%\\xcf\\xfeq\\x06$\\xa8}\\x06`^\\xcf\\xc9\\\\^\\x82\\x1c\\xd6t%\\x9aw\\xeaM\\xd4\\xb7\\x8e\\x06\\xeaMW&\\xbc\\xa2>\\xd5\\x9e\\x8a\\xf9\\xf7#\\x07\\xd6\\x85\\x08\\xa8\\xefO\\xb4\\xf3{\\xd4\\x02\\xd1;\\x8b\\xde\\xc2F\\xd3\\x86 \\xbfw\\xa6\\x7f[ ?\\xe6\\x9d\\xfd\\x1b\\xe4Od%\\xa7\\xbbA\\xfe\\x9a\\xac<PD\\xe9!\\xf7\\xa7#\\x90\\x91|\\xab>M\\xb8~\\x9d\\xea[6/\\xdc\\xbe\\x8f\\xab:\\x10\\xdc\\xd7r\\xefu\\x06\\x80\\xf9\\xda\\x02\\xcc\\xd7\\x00\\x98\\xef\\x80V\\x99\\x81\\xf9\\x89\\xa4\\xe4\\\\7\\x98_\\x93\\x94\\x07\\n(}\\x11\\x82\\xf9$)uq\\xfb\\x9c\\xf1\\x82\\xf9T}*/Mx=\\xc7\\x958\\x0c\\xe6;\\xa0\\xfb\\x92`\\x9e)G\\xd3<\\x01X.\\x92\\x80}\\xee\\x07\\xd4\\xf7\\xbe\\xb4\\xf2\\x04\\xd4O\\xf4$\\xc9\\xd8\\xa0~MO\\x1e(\\xb0\\xf4\\xb5\\x06\\xea\\x93\\x9e\\xd4?\\nP?\\xe2\\x85W\\xf7\\x8e\\x0b\\xaf&`\\'\\x93\\xe2Q,\\x19I@\\xd3[\\xf0j>\\xbct\\x05j\\x99\\x8c\\xb4\\xdd\\xef\\xb0\\xd0\\xf7(\\'\\xb3A\\xed\\x9a\\x9e<D\\x1e\\xcf\\x92\\xe8@\\x86x\\xa2^\\x0fjG\\xbc\\xa0\\xb6\\xce\\x03\\xc2m\\t8\\xb5\\x14\\x87\\xb6D\\xa1\\x85\\xdds\\x04ngz\\x92\\x80\\xca$\\xb8\\xed$\\xd9\\xc8\\xd9lp\\xbb\\xa6\\'\\x0f\\x94}\\x8f\\xa6\\'\\x81\\x8c\\xdcZ\\xf9i\\xc2\\xfd\\xb2\\xd7\\x04{.\\x92\\xe3z\\xb5\\x18\\x01\\xaf\\x16\\x0b@~\\x13\\xc4jN\\xc1\\xaa\\xc5b\\x0c\\xf7\\xean\\xa1u\\x01`~\\x92\\x8a\\xe4d6\\x98_\\x93\\x9b\\x07\\xcaMMu#`$\\xb9\\xf9hr3\\xe1\\x05\\xf3\\x97\\xcbOc\\\\\\x13\\xfa\\x04\\xec\\x9b^\\xedyN\\xbb\\x82\\x1eO:P\\x14A\\xd2D\\xbd\\n\\x01eb\\x02\\xee\\'\\xb9J\\xcev\\x83\\xfb5=z\\xa0\\x1e}4=\\nd\\xf4z\\xd3\\xa3\\t\\xaf\\x96\\x87\\xa3\\xbd}\\x88\\xe4\\xc8\\x81\\xed\\xe3G\\x01\\xe8\\x8b\\x19/J\\xe62}e^\\xabK\\x04\\x9c\\x1a\\x00\\xf7\\x04,M\\x1ctX0\\xbfF\\x8f\\x1e\\xd6\\xf4(\\x9a\\x9fV\\xe6\\x8f\\xa6G[G_+s\\xfd\\xb3@0Oz\\xf4F~\\x1a\\xac\\x0eG\\xbc\\xa0\\x9e\\xf9I\\xf7{\\xa6!\\xf5\\xd6mpOD\\x0b\\x8d\\x11sb\\x16\\xaaH\\thP\\x07\\xf9T\\xa4v|:\\xba2\\xf2\\xafQ\\xa4\\xc75E\\x8a\\xe6\\x9d|S\\xa4\\xad\\xa3\\x81|S\\xa4\\t/\\xfc>\\xe3z\\t\\xe2\\xf7#G\\xb6\\x0f\\x81\\x07\\xa0\\x84\\xbd\\x9e\\x01[!\\xc6$l\\x85\\x18\\x80\\xc5{\\x02\\xbaC\\xf3\\x19c\\x98$\\xe5l.\\xc7\\x9c\\xe3\\x9a$E\\xf3\\xce\\xbdI\\xd2\\xd6\\xd1\\xc0\\xbdI\\xd2\\x84W\\xdc\\xe7T\\xa7\\x10\\x06\\xee)=5+\\xf0\\x12\\x88\\xdfyF\\x13\\xaf{\\'\\xe0\\xdb\\xe6\\x01\\xd8\\xb1<\\x02^S\\x15\\x84\\xa8\\xe3s\\xba\\x1b\\xe4\\xafI\\xd2c\\x17a\\xf8\\xc2L\\x1e\\xed\\xe9\\x08d$\\xdf$i\\xc2}o\\x97\\x1d{\\xbd\\x1a\\x01-\\xa3\\x87_S\\x0f\\xda\\x89G\\x02\\x96x~\\x0f\\x93\\x9d\\x1fa\\x8a\\xcel\\xb3%\\x00#\\xf7\\x9aD\\xe6qMu\\xa2y\\xf3l|Y\\xc6\\xc8M\\xaaS\\x9d\\xe6\\xf9\\xd8\\x06:{\\xbe\\xa6\\x8b\\xbee\\xd8\\x8f0\\xc5\\xb8\\xf2\\x9b\\xc1\\xad).m\\x871,\\x9c{N\\xc1\\xce<\\xd2B\\x8fs~\\xc4\\x18\\xbb\\x9d\\xbdM\\xc3\\xc4\\xa8\\xbf\\xa6\\x04\\xf6\\xb8\\xa6:\\xd1\\xbcS/S\\x85_\\xa7\\x12W\\xf5{P?\\xe2\\xbe\\x88Lp\\xe1\\xf6Qz\\x9b\\'\\t\\xea)J\\xadn(\\x00[\\xc7\\x10\\xd0d \\xbc\\xbe\\x1e\\x03\\xd4w`\\xe77v\\x87\\x89Q\\x7f\\xcd\\x99\\xc8\\xe3\\x9a*E\\xf3N\\xbd\\xa9\\xd2\\xd6\\xd1\\x97W\\xebS\\x82\\xfa\\x11\\xaf\\xe2\\xf9\\xe5,(\\x07\\xf6\\r\\x81\\t\\x80\\x90\\xc3\\xbc\\xa9\\xd7NLL@\\xfe\\xc4\\x04\\xecwD\\xfb\\xc2\\xcbt\"[9\\xdd\\x8dx\\xbe&[\\x8f\\xa1\\xe0L\\xb6\\x02\\x19\\xc97\\xd9\\x9ap_%\\xb2c\\xaf\\xc9\"\\xe0_\\x02 \\xa0\\x95<o\\xc7\\xb0\\xb0\\\\]<\\xbce-bp\\x8f\\xe6\\x13]\\xca\\xc9lP\\xbb\\xa6K\\x8fL\\x18\\xeaF5B\\xca(,\\x1fnL\\x97&\\xbc\\xa06\\xf2\\xab\\x163\\xea\\xdc%\\xfc\\x96\\xc2\\xd3$?\\x01\\xaf5$`51p[\\x8e\\xee\\xdcNt\\'g\\xb3\\xc1\\xed\\x9a\\xee<R\\xcc\\xdd\\x98\\xee\\x042\\xba\\xad\\xe9\\xce\\x84\\x17\\xdc\\xf6\\x8eus\\x11\\xf18\\xeaW-\\xc7|~\\x96\\xfcs\\xc0oi\\xe2\\x1f.\\nD\\xff\\x08\\xc0.\\x0bk\\x9d]*m\\x8b\\xc8\\xd7H\\xcb\\xe3\\x9a\\xb4D\\xf3\\x1e\\x91MZ\\xb6\\x8e\\x86\\x88l\\xa9\\xce\\x84\\x17\\x05U\\t/\\xde\\x86}`=\\x83\\x04\\xf6\\xa99\\x9d\\xfc\\x0e\\xe8\\x8e%\\xc8\\xaf-\\x10\\x90\\tX\\xedD\\xcc\\xda\\x8e\\x90\\x11pqs\\x8d\\xb0|X\\x13\\x96h\\xde\\xa97a\\xd9:\\x1a\\xa87a\\x99p\\xab\\xd3\\xfcv\\xcc\\xb8D\\x82\\xef\\rn\\x03\\xeb\\xcd-/\\x01\\xf8\\x15\\xfeaa[\\xb8\\x04\\xbc\\x8c\\x90\\x80\\xde\\x1b\\xf1\\x11c\\xf8\\xbd\\xaba\\xa1^\\xcf\\xc9\\\\\\x8e)\\x0fk\\xba\\x12\\xcd;\\xf5\\xa6+[G\\x03\\xf5\\xa6+\\x13^Q\\x9ft\\xa5S\\xcf$\\xa4%}\\xf8DE\\x05m<\\xab\\xd5\\xb5\\x10P\\xb5\\xf4~$\\xa0\\xb53\\xe0\\x9e\\xf5\\xbb\\xd2\\xd5g\\x00\\xe6\\xf6\\x9c\\xed\\x06\\xf7k\\xb2\\xf2\\x81\\xb2RC\\xe5\\xd3\\x11\\xc8\\xc8\\xbd\\xc9\\xca\\x84W\\xdc\\xa7\\x02Z\\xe7\\xbe\\x0f|o\\xd5\\xcb|\\xa2\\x83L\\xff\\xb5=Pw\\x13\\r\\xf7\\x04t\\'\\x1e\\xd4w\\x0b\\xdd\\x0f\\x06\\xf5\\x04l++\\x067\\xb7\\xbfFt>\\xac\\x89N4?\\xcd\\xa7\\xa0>\\x89J\\xfd\\x9a\\xfc\\xf3\\xb1\\rt\\xfe\\xb3\\xa8\\xa8O\\xb8S_g\\x1b\\x11q\\x98mt\\xeaC\\x1f\\x1b\\xf5uW\\xa0\\xbe\\x03\\x05\\xf5\\x04\\xdc\\xeb\\'\\xa9NNv\\xc3\\xeb\\xd7D\\xe7\\x03EgA}\\x12\\x9d\\x8a\\x83\\xfa\\x11\\xaf\\xa8O\\xb8SOqi\\'\\x81\\xf8D\\x85\\xd7\\x87>6\\xea\\xeb\\xc4&\\xa8\\xe7\\x18\\xb68\\'\\xe0\\x9b\\x881\\xb8y\\xfd5\\xa2\\xf3aMt\\xa2\\xf9\\xcc\\xeb\\x93\\xe8\\xd4\\x8f\\x18\\x82\\xfa$:\\xb5&\\x1c\\xef\\xd9\\x84;\\xf5T}\\x1ep\\xa8\\xfa\\xdc\\xebC\\x1f\\x1b\\xf5\\x1d(\\x02\\x0e\\xc7p\\xeai\\xe1\\x01g\"99\\x99\\r\\xaf_\\x93\\x9c\\x0f\\x94\\x9cJ-b}\\x92\\x9cz\\xfc\\x1f\\xd4\\x8fx\\xe5\\xf5\\tw\\xea)\\xfe\\xfc=[\\x9f\\xb5D\\xac\\xef\\xc0\\xce/\\xe1&\\xe2\\x15\\x001;\\xe7\\xbe\\xf7\\xe5\\xb7\\xaa\\xd1\\xc2\\xdf\\xb3\\xd7\\x94\\xe6>\\xaciR4\\xefno;\\x8c\\xad\\xa3\\xaf5\\x8e\\x9e\\x93\\x07\\xf7#^q\\x9fp\\xe7\\x9e\\n\\xd4\\xb9\\xaf\\x0bq\\xc1=\\x13\\x9c\\x05\\xf7\\xecK\\xd6\\x02\\x089\\xb5\\xfe\\xc5\\x8b\\xb6\\x03\\xbao\\x8a5\\xceD\\xb3r\\xb6\\x1b~\\xbf\\xa6Y\\x1f\\xa8Y\\x0b\\xbfO\\x9aU\\x8b\\x86\\xc0\\xfd\\x88W\\xdc\\'\\xdc\\xb9\\xe7\\xc0\\xce=\\xc5\\xae\\x00\\xe0\\x9e\\xca\\xb5\\xe0\\xbe#\\x85\\xdf\\xd7\\x83\\x80{\\nW+I\\x0f\\xc0\\xc2\\xfd5\\x8a\\xf6aM\\xd1\\xa2\\xf9\\xcc\\xef\\x93\\xa2\\xd5\\xd2Ap\\x9f\\x92\\xa5E\\xb8O\\xb8sO\\xb5\\xe9\\xdc3%\\xea\\xb7K\\xf0Y\\xab\\xa0Cy\\xec\\x8e\\xcf\\xe9y\\xd0\\xa1\\x85\\x95\\x1dq\\x10\\x0f:\\xd7h\\xda\\xc75M\\x8b\\xe6\\x9d|\\xdb[o\\x1d\\rA\\xc74m\\xc2\\x8bO\\x9f\\xb1g]\\xde\\xbd\\x1c\\t\\xe8\\xddL\\xaf\\x01\\xe8e\\xb2o\\x01\\xe8\\xf5o\\xefg\\xc0\\xb8\\xe5\\x18~\\xee3\\x06W\\xc7\\xe6l.\\x07\\x95\\xc75\\xd1\\x8a\\xe6\\x9d[\\xdb<o\\x1d\\r\\xdc\\x9ahMx\\xc5m\\xef\\xd9\\x13r\\x1cr\\xb7\\x93.A.\\xf3\\xa3\\xfa\\x8e\\x03\\xbb<\\xd7ii\\xa1\\x00\\xe4\\xa7\\xff\\x08\\x8b\\x82\\xddI\\x01.\\xe7\\xb3\\xc1\\xee\\x9a,}\\x0cYj\\xbb\\xe3@FvM\\x96&\\\\\\xc3\\xe8\\xb7c\\x86\\xad\\x0c\\x94\\xe3\\xfa\\'-\\x08\\xf8\\xd7,\\x03\\xb0\\x84\\\\te\\x9b\\xe7\\x931\\xc0|-W?\\x03\\xb0\\x98\\xc1\\xc9l0\\xbf\\xa6J\\x1fC\\x95\\xcas?\\x1d\\x81\\x8c\\xcc\\xdb}?\\t/\\x98\\xbf\\\\\\x80\\xcbq\\xfd\\xb2\\xe9x \\xdb\\x81\\x0c\\x0b+\\xaf \\xa0\\xf59\\x88(}n\\xfe\\x05]\\x02V\\x99\\x0b\\xea\\'\\xaa\\x94\\x93\\xdd\\xa0~M\\x95>\\x86*\\xb5\\xbdu \\x03\\xf5Z\\x9b\\xf2|L\\xb8\\xef\\xee\\xb2c[\\xc0 \\\\3\\x11y\\'\\xcbR\\x84\\x94\\x8eh\\x14BD\\x99\\x98\\x80^\\x9a\\xc8\\xdf$\\x1c\\x9b\\x80\\xadD\\x08\\xb8c\\x8f\\xc2\\xf3\\xeb\\xd1\\xf2\\xf7\\xfa\\x1e\\xd7\\x84\\'\\x9a\\xf7\\x80m{\\xeb\\xad\\xa3\\xaf\\x80\\xadET`7\\tK}\\xb5!\\xa6\\xa4\\x1a]y\\xd7~op\\x1b\\xb8b\\x9fH\\xc1~G\\n\\xf6\\'&`\\x9f&\\xce>\\x01g\\x7f\\xa2=9\\x9f\\xee\\xdbS\\xf6\\xd7\\xb4\\xe7chO\\xdb^\\x072\\xb2o\\xe9\\xce\\x84\\xfb\\x17\\x8a\\x13\\xecw\\xd8s\\xdc\\x9d~+\\x12\\xaeO\\x89\\xe9\\xeb\\xc0@\\xd4\\x13\\xe0\\xfb\\x94\\x92V\\xa8K@\\x7f/\\xb8>\\x15\\xae\\xe56\\x08\\xb8\\xeb\\x8f\\xe2sJ\\xfe\\x9a\\xf8|\\x0c\\xf1i\\x1b\\xec@F\\xf2-!\\x9a\\xf0\"\\xd1\\x9f\\xf0\"\\xf0P0J\\x88\\x06\\xf9\\xd4\\x98\\x05\\xf9D<\\xd3?\\xb3\\x81\\xebOl@\\x7f\\xfd\\x00\\x88\\xeb\\x13\\xfd\\xc9\\tm\\xf8\\xfe\\x9a\\xfe|\\x0c\\xfd\\xe9\\xf4\\'\\xfd\\xa9\\xce\\x8d\\xc8\\x93\\xf4\\xa5\\x17\\x8c&\\xbc\\xa0\\x9f\\x9a\\xd1\\xe9\\xa7\\xcc\\xd4\\x84\\x10\\xc2\\xfe$u\\n\\xdf\\x9f\\xd8\\x80\\xfe\\x89\\r\\xe8\\x9f \\xe0\\x7f\\x92U\\xe5\\x8c6\\xf8_\\xd3\\xa0\\x8f\\x14i\\xfa\\xde\\xc4\\x92&i\\xd0[\\xf9#\\x05\\xff#\\xae\\xa9N\\x04\\xfe\\x8b\\x12\\x15\\x91\\xbfN\\x85\\xc2\\xfd\\xa9Au\\x7f\\x19\\xfcwD\\x7f\\x18\\xd0O\\x13O\\xee\\x05\\xe2\\xb5u1q\\xcbi\\xc7(&\\x94F\\x11:\\t>\\x0f7K\"\\xb45?\\xbdw\\x8d\\xfdSG\\xc3{WEh\\xc6\\x8d\\xfd\\x0c\\xfbE|1\\xb0\\xae\\xf6^\\x02\\xd8\\x99\\xf7\\x07b\\xec\\x9fM\\xec\\xeb\\xdcg\\xc4\\xd8\\x9f\\x8d\\xffy\\x1eE\\xd8\\x8f\\t]\\xf4\\xfd\\x87\\x9b%\\x99\\xda\\x9aw\\xf6u\\xdf\\xf1\\xd4\\xd1\\xc0\\xbe\\xca\\xd4\\x8c\\xdbE\\xd5\\x19\\xb6\\x83I1nA>\\xa5\\xaa\\xb9~\\x98\\x98\"~;#\\xca\\xf1{ \\xf6e\\xfa\\xf3\\xbc\\xd5\\xf5\\x03\\xd0\\xf7n\\xcc\\xa7&\\xff\\x0f\\xbf\\xfe\\xe3\\xa7\\x9f~\\xfb\\xf6\\xc3o?\\xfc\\xe5O\\xff\\xfa\\xe1\\xef?\\xfd\\xaf\\x1f~\\xf9\\xfb\\x7f\\xfe\\xf3\\xd7\\xdf\\xfd\\xdf\\x9f\\xfe\\x03\\x14\\xde\\xfc\\x1b\\xde\\xa2\\xbf\\xfc\\xe7\\xdf\\xff\\x11\\xff\\xff\\xb7\\x9f\\xffu\\xfaW\\xac\\x0b\\xff\\xf7\\xcf\\xbf\\xfd\\xf6\\xf3\\xff\\x8b\\xff\\xfa\\xc7O?\\xfc\\xed\\xa7_\\xda\\x7fA\\x0c\\xfd\\xc7\\xcf?\\xff\\x16\\xff\\xf1\\x87\\xbf\\xfc\\xe9\\x0f\\xff\\xf5\\xf3/\\xff\\xe74\\xce_\\xfe\\xbf\\x00\\x00\\x00\\x00\\xff\\xff\\x03\\x00PK\\x03\\x04\\x14\\x00\\x06\\x00\\x08\\x00\\x00\\x00!\\x00\\xedl3\\xc4F\\x01\\x00\\x00g\\x02\\x00\\x00\\x11\\x00\\x08\\x01docProps/core.xml \\xa2\\x04\\x01(\\xa0\\x00\\x01\\x00\\x00\\x00\\x00\\x00\\x00\\x00\\x00\\x00\\x00\\x00\\x00\\x00\\x00\\x00\\x00\\x00\\x00\\x00\\x00\\x00\\x00\\x00\\x00\\x00\\x00\\x00\\x00\\x00\\x00\\x00\\x00\\x00\\x00\\x00\\x00\\x00\\x00\\x00\\x00\\x00\\x00\\x00\\x00\\x00\\x00\\x00\\x00\\x00\\x00\\x00\\x00\\x00\\x00\\x00\\x00\\x00\\x00\\x00\\x00\\x00\\x00\\x00\\x00\\x00\\x00\\x00\\x00\\x00\\x00\\x00\\x00\\x00\\x00\\x00\\x00\\x00\\x00\\x00\\x00\\x00\\x00\\x00\\x00\\x00\\x00\\x00\\x00\\x00\\x00\\x00\\x00\\x00\\x00\\x00\\x00\\x00\\x00\\x00\\x00\\x00\\x00\\x00\\x00\\x00\\x00\\x00\\x00\\x00\\x00\\x00\\x00\\x00\\x00\\x00\\x00\\x00\\x00\\x00\\x00\\x00\\x00\\x00\\x00\\x00\\x00\\x00\\x00\\x00\\x00\\x00\\x00\\x00\\x00\\x00\\x00\\x00\\x00\\x00\\x00\\x00\\x00\\x00\\x00\\x00\\x00\\x00\\x00\\x00\\x00\\x00\\x00\\x00\\x00\\x00\\x00\\x00\\x00\\x00\\x00\\x00\\x00\\x00\\x00\\x00\\x00\\x00\\x00\\x00\\x00\\x00\\x00\\x00\\x00\\x00\\x00\\x00\\x00\\x00\\x00\\x00\\x00\\x00\\x00\\x00\\x00\\x00\\x00\\x00\\x00\\x00\\x00\\x00\\x00\\x00\\x00\\x00\\x00\\x00\\x00\\x00\\x00\\x00\\x00\\x00\\x00\\x00\\x00\\x00\\x00\\x00\\x00\\x00\\x00\\x00\\x00\\x00\\x00\\x00\\x00\\x00\\x00\\x00\\x00\\x00\\x00\\x00\\x00\\x00\\x00\\x00\\x00\\x00\\x00\\x00\\x00\\x00\\x00\\x00\\x00\\x00\\x00\\x00\\x00\\x00\\x00\\x00\\x00\\x00\\x00\\x00\\x00\\x00\\x00\\x00\\x00\\x8c\\x92QO\\xc3 \\x14\\x85\\xdfM\\xfc\\x0f\\r\\xef-\\xb4\\x8d\\x9b\\x92\\xb6K\\xd4\\xcc\\x07]b\\xe2\\x8c\\xc67\\x02w\\x1b\\xb1P\\x02h\\xb7\\x7f/\\xed\\xb6\\xdae>\\xf8\\xc8=\\x87\\x8fsn(f[UG\\xdf`\\x9dlt\\x89\\xd2\\x84\\xa0\\x084o\\x84\\xd4\\xeb\\x12\\xbd.\\xe7\\xf15\\x8a\\x9cgZ\\xb0\\xba\\xd1P\\xa2\\x1d84\\xab./\\nn(o,<\\xdb\\xc6\\x80\\xf5\\x12\\\\\\x14H\\xdaQnJ\\xb4\\xf1\\xdeP\\x8c\\x1d\\xdf\\x80b.\\t\\x0e\\x1d\\xc4Uc\\x15\\xf3\\xe1h\\xd7\\xd80\\xfe\\xc9\\xd6\\x803B&X\\x81g\\x82y\\x86;`l\\x06\": \\x05\\x1f\\x90\\xe6\\xcb\\xd6=@p\\x0c5(\\xd0\\xde\\xe14I\\xf1\\xaf\\xd7\\x83U\\xee\\xcf\\x0b\\xbd2r*\\xe9w&t:\\xc4\\x1d\\xb3\\x05\\xdf\\x8b\\x83{\\xeb\\xe4`l\\xdb6i\\xf3>F\\xc8\\x9f\\xe2\\xf7\\xc5\\xd3K_5\\x96\\xba\\xdb\\x15\\x07T\\x15\\x82Sn\\x81\\xf9\\xc6V\\x8f \\xfd&z`u-\\x0b<\\x9aw;\\xac\\x99\\xf3\\x8b\\xb0\\xee\\x95\\x04q\\xbb;\\xb5\\x9e\\xcb\\x81\\xda\\x97\\xd8\\xa3AD!\\x16\\xdd\\x978*o\\xf9\\xdd\\xfdr\\x8e\\xaa\\x8c\\xa4\\xd7qJb2Y\\x92\\x8cfSz5\\xfd\\xe8^?\\xb9\\xdf\\xc5\\xdc\\x0f\\xd4!\\xc3?\\x899\\xcd\\xa7\\x94\\xdc\\x8c\\x88G@U\\xe0\\xb3\\xafQ\\xfd\\x00\\x00\\x00\\xff\\xff\\x03\\x00PK\\x03\\x04\\x14\\x00\\x06\\x00\\x08\\x00\\x00\\x00!\\x00.\\xe3\\xb3k\\x86\\x01\\x00\\x00\\x04\\x03\\x00\\x00\\x10\\x00\\x08\\x01docProps/app.xml \\xa2\\x04\\x01(\\xa0\\x00\\x01\\x00\\x00\\x00\\x00\\x00\\x00\\x00\\x00\\x00\\x00\\x00\\x00\\x00\\x00\\x00\\x00\\x00\\x00\\x00\\x00\\x00\\x00\\x00\\x00\\x00\\x00\\x00\\x00\\x00\\x00\\x00\\x00\\x00\\x00\\x00\\x00\\x00\\x00\\x00\\x00\\x00\\x00\\x00\\x00\\x00\\x00\\x00\\x00\\x00\\x00\\x00\\x00\\x00\\x00\\x00\\x00\\x00\\x00\\x00\\x00\\x00\\x00\\x00\\x00\\x00\\x00\\x00\\x00\\x00\\x00\\x00\\x00\\x00\\x00\\x00\\x00\\x00\\x00\\x00\\x00\\x00\\x00\\x00\\x00\\x00\\x00\\x00\\x00\\x00\\x00\\x00\\x00\\x00\\x00\\x00\\x00\\x00\\x00\\x00\\x00\\x00\\x00\\x00\\x00\\x00\\x00\\x00\\x00\\x00\\x00\\x00\\x00\\x00\\x00\\x00\\x00\\x00\\x00\\x00\\x00\\x00\\x00\\x00\\x00\\x00\\x00\\x00\\x00\\x00\\x00\\x00\\x00\\x00\\x00\\x00\\x00\\x00\\x00\\x00\\x00\\x00\\x00\\x00\\x00\\x00\\x00\\x00\\x00\\x00\\x00\\x00\\x00\\x00\\x00\\x00\\x00\\x00\\x00\\x00\\x00\\x00\\x00\\x00\\x00\\x00\\x00\\x00\\x00\\x00\\x00\\x00\\x00\\x00\\x00\\x00\\x00\\x00\\x00\\x00\\x00\\x00\\x00\\x00\\x00\\x00\\x00\\x00\\x00\\x00\\x00\\x00\\x00\\x00\\x00\\x00\\x00\\x00\\x00\\x00\\x00\\x00\\x00\\x00\\x00\\x00\\x00\\x00\\x00\\x00\\x00\\x00\\x00\\x00\\x00\\x00\\x00\\x00\\x00\\x00\\x00\\x00\\x00\\x00\\x00\\x00\\x00\\x00\\x00\\x00\\x00\\x00\\x00\\x00\\x00\\x00\\x00\\x00\\x00\\x00\\x00\\x00\\x00\\x00\\x00\\x00\\x00\\x00\\x00\\x00\\x00\\x00\\x00\\x00\\x00\\x00\\x00\\x9c\\x92\\xcbn\\xdb0\\x10E\\xf7\\x05\\xfa\\x0f\\x02\\xf71\\xe5\\xf4\\x81\\xc2\\xa0\\x18\\x14I\\x8b,Z\\xd4\\x80\\x9dt\\x19L\\xa9\\x91E\\x98\"\\t\\xceD\\xb0\\xfb\\xf5\\xa5$\\xc4\\x91\\x93\\xae\\xb2\\x9b\\xc7\\xc5\\xe5\\xe1%\\xd5\\xd5\\xa1sE\\x8f\\x89l\\xf0\\x95X.JQ\\xa07\\xa1\\xb6~W\\x89\\xbb\\xed\\xf7\\x8b/\\xa2 \\x06_\\x83\\x0b\\x1e+qD\\x12W\\xfa\\xfd;\\xb5N!bb\\x8bTd\\x0bO\\x95h\\x99\\xe3JJ2-v@\\x8b\\xbc\\xf6y\\xd3\\x84\\xd4\\x01\\xe76\\xeddh\\x1ak\\xf0&\\x98\\xc7\\x0e=\\xcb\\xcb\\xb2\\xfc,\\xf1\\xc0\\xe8k\\xac/\\xe2\\xc9PL\\x8e\\xab\\x9e\\xdfjZ\\x073\\xf0\\xd1\\xfd\\xf6\\x183\\xb0V_ct\\xd6\\x00\\xe7[\\xea\\x9f\\xd6\\xa4@\\xa1\\xe1\\xe2\\xdb\\xc1\\xa0Sr\\xbeT\\x99n\\x83\\xe61Y>\\xeaR\\xc9y\\xab6\\x06\\x1c^gc\\xdd\\x80#T\\xf2y\\xa0n\\x11\\x86\\xd0\\xd6`\\x13i\\xd5\\xf3\\xaaG\\xc3!\\x15d\\xff\\xe6\\xd8.E\\xf1\\x07\\x08\\x07\\x9cJ\\xf4\\x90,x\\xceX\\x83lj\\xc6\\xdaE\\xe2\\xa4\\x7f\\x87\\xb4\\xa7\\x16\\x91I\\xc9,\\x98\\x86c9\\xd7\\xcek\\xfbQ/GA.\\xce\\x85\\x83\\xc1\\x04\\x92\\x17\\xe7\\x88[\\xcb\\x0e\\xe9W\\xb3\\x86\\xc4\\xff!^\\xce\\x89G\\x86\\x89w\\xc2\\x89a\\x8f]\\xf0\\x0f50\\xbc\\xa2\\x1c/\\x9e\\xcf{q\\xc2\\x0f\\xeb\\xf7t\\x17\\xb7\\xe1\\x06\\x18\\x9f\\x12<\\x1f\\xaaM\\x0b\\t\\xeb\\x1c\\xfa)\\xe1\\xd3@\\xdd\\xe6\\xf0\\x92\\x1bL\\xae[\\xf0;\\xac\\x9f4\\xaf\\x17\\xc3{\\xdfO\\x9fZ/?-\\xca\\x0fe~\\xca\\xd9L\\xc9\\xe7\\xef\\xab\\xff\\x01\\x00\\x00\\xff\\xff\\x03\\x00PK\\x01\\x02-\\x00\\x14\\x00\\x06\\x00\\x08\\x00\\x00\\x00!\\x00b\\xee\\x9dh^\\x01\\x00\\x00\\x90\\x04\\x00\\x00\\x13\\x00\\x00\\x00\\x00\\x00\\x00\\x00\\x00\\x00\\x00\\x00\\x00\\x00\\x00\\x00\\x00\\x00[Content_Types].xmlPK\\x01\\x02-\\x00\\x14\\x00\\x06\\x00\\x08\\x00\\x00\\x00!\\x00\\xb5U0#\\xf4\\x00\\x00\\x00L\\x02\\x00\\x00\\x0b\\x00\\x00\\x00\\x00\\x00\\x00\\x00\\x00\\x00\\x00\\x00\\x00\\x00\\x97\\x03\\x00\\x00_rels/.relsPK\\x01\\x02-\\x00\\x14\\x00\\x06\\x00\\x08\\x00\\x00\\x00!\\x00\\x81>\\x94\\x97\\xf3\\x00\\x00\\x00\\xba\\x02\\x00\\x00\\x1a\\x00\\x00\\x00\\x00\\x00\\x00\\x00\\x00\\x00\\x00\\x00\\x00\\x00\\xbc\\x06\\x00\\x00xl/_rels/workbook.xml.relsPK\\x01\\x02-\\x00\\x14\\x00\\x06\\x00\\x08\\x00\\x00\\x00!\\x00\\x13bQ\\x18\\xf3\\x01\\x00\\x00\\xdd\\x03\\x00\\x00\\x0f\\x00\\x00\\x00\\x00\\x00\\x00\\x00\\x00\\x00\\x00\\x00\\x00\\x00\\xef\\x08\\x00\\x00xl/workbook.xmlPK\\x01\\x02-\\x00\\x14\\x00\\x06\\x00\\x08\\x00\\x00\\x00!\\x00\\x0eO\\xc1\\xc6\\x8d\\x14\\x00\\x00\\xe0P\\x00\\x00\\x14\\x00\\x00\\x00\\x00\\x00\\x00\\x00\\x00\\x00\\x00\\x00\\x00\\x00\\x0f\\x0b\\x00\\x00xl/sharedStrings.xmlPK\\x01\\x02-\\x00\\x14\\x00\\x06\\x00\\x08\\x00\\x00\\x00!\\x00\\x8b\\x82nX\\x93\\x06\\x00\\x00\\x8e\\x1a\\x00\\x00\\x13\\x00\\x00\\x00\\x00\\x00\\x00\\x00\\x00\\x00\\x00\\x00\\x00\\x00\\xce\\x1f\\x00\\x00xl/theme/theme1.xmlPK\\x01\\x02-\\x00\\x14\\x00\\x06\\x00\\x08\\x00\\x00\\x00!\\x00e\\xa3\\x1b\\x1eF\\x08\\x00\\x00\\xbb@\\x00\\x00\\r\\x00\\x00\\x00\\x00\\x00\\x00\\x00\\x00\\x00\\x00\\x00\\x00\\x00\\x92&\\x00\\x00xl/styles.xmlPK\\x01\\x02-\\x00\\x14\\x00\\x06\\x00\\x08\\x00\\x00\\x00!\\x00\\xdd\\xeei_\\xf2\\xb1\\x00\\x00\\xa4r\\x04\\x00\\x18\\x00\\x00\\x00\\x00\\x00\\x00\\x00\\x00\\x00\\x00\\x00\\x00\\x00\\x03/\\x00\\x00xl/worksheets/sheet1.xmlPK\\x01\\x02-\\x00\\x14\\x00\\x06\\x00\\x08\\x00\\x00\\x00!\\x00\\xedl3\\xc4F\\x01\\x00\\x00g\\x02\\x00\\x00\\x11\\x00\\x00\\x00\\x00\\x00\\x00\\x00\\x00\\x00\\x00\\x00\\x00\\x00+\\xe1\\x00\\x00docProps/core.xmlPK\\x01\\x02-\\x00\\x14\\x00\\x06\\x00\\x08\\x00\\x00\\x00!\\x00.\\xe3\\xb3k\\x86\\x01\\x00\\x00\\x04\\x03\\x00\\x00\\x10\\x00\\x00\\x00\\x00\\x00\\x00\\x00\\x00\\x00\\x00\\x00\\x00\\x00\\xa8\\xe3\\x00\\x00docProps/app.xmlPK\\x05\\x06\\x00\\x00\\x00\\x00\\n\\x00\\n\\x00\\x80\\x02\\x00\\x00d\\xe6\\x00\\x00\\x00\\x00'}"
            ]
          },
          "metadata": {},
          "execution_count": 13
        }
      ]
    },
    {
      "cell_type": "code",
      "source": [
        "import pandas as pd\n",
        "dataset2=pd.read_excel(\"dataset.xlsx\")\n",
        "print(dataset2.shape)\n",
        "print(dataset2.head(5))"
      ],
      "metadata": {
        "colab": {
          "base_uri": "https://localhost:8080/"
        },
        "id": "gqfovUHILnyS",
        "outputId": "d0a01d76-b4a3-4f85-b0fd-6bf37c2dd6a2"
      },
      "execution_count": 14,
      "outputs": [
        {
          "output_type": "stream",
          "name": "stdout",
          "text": [
            "(800, 12)\n",
            "   #                   Name Type 1  ... Speed  Generation  Legendary\n",
            "0  1              Bulbasaur  Grass  ...    45           1      False\n",
            "1  2                Ivysaur  Grass  ...    60           1      False\n",
            "2  3               Venusaur  Grass  ...    80           1      False\n",
            "3  3  VenusaurMega Venusaur  Grass  ...    80           1      False\n",
            "4  4             Charmander   Fire  ...    65           1      False\n",
            "\n",
            "[5 rows x 12 columns]\n"
          ]
        }
      ]
    },
    {
      "cell_type": "code",
      "source": [
        "from google.colab import files\n",
        "uploaded=files.upload()\n",
        "uploaded"
      ],
      "metadata": {
        "colab": {
          "resources": {
            "http://localhost:8080/nbextensions/google.colab/files.js": {
              "data": "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",
              "ok": true,
              "headers": [
                [
                  "content-type",
                  "application/javascript"
                ]
              ],
              "status": 200,
              "status_text": ""
            }
          },
          "base_uri": "https://localhost:8080/",
          "height": 110
        },
        "id": "K4-F3u37Re4B",
        "outputId": "3bd34291-6839-4f98-b6f0-5a78a0dd68ae"
      },
      "execution_count": 15,
      "outputs": [
        {
          "output_type": "display_data",
          "data": {
            "text/html": [
              "\n",
              "     <input type=\"file\" id=\"files-416756a4-3597-43df-991d-e85f0c83318f\" name=\"files[]\" multiple disabled\n",
              "        style=\"border:none\" />\n",
              "     <output id=\"result-416756a4-3597-43df-991d-e85f0c83318f\">\n",
              "      Upload widget is only available when the cell has been executed in the\n",
              "      current browser session. Please rerun this cell to enable.\n",
              "      </output>\n",
              "      <script src=\"/nbextensions/google.colab/files.js\"></script> "
            ],
            "text/plain": [
              "<IPython.core.display.HTML object>"
            ]
          },
          "metadata": {}
        },
        {
          "output_type": "stream",
          "name": "stdout",
          "text": [
            "Saving dataset.txt to dataset.txt\n"
          ]
        },
        {
          "output_type": "execute_result",
          "data": {
            "text/plain": [
              "{'dataset.txt': b\"#\\tName\\tType 1\\tType 2\\tHP\\tAttack\\tDefense\\tSp. Atk\\tSp. Def\\tSpeed\\tGeneration\\tLegendary\\n1\\tBulbasaur\\tGrass\\tPoison\\t45\\t49\\t49\\t65\\t65\\t45\\t1\\tFALSE\\n2\\tIvysaur\\tGrass\\tPoison\\t60\\t62\\t63\\t80\\t80\\t60\\t1\\tFALSE\\n3\\tVenusaur\\tGrass\\tPoison\\t80\\t82\\t83\\t100\\t100\\t80\\t1\\tFALSE\\n3\\tVenusaurMega Venusaur\\tGrass\\tPoison\\t80\\t100\\t123\\t122\\t120\\t80\\t1\\tFALSE\\n4\\tCharmander\\tFire\\t\\t39\\t52\\t43\\t60\\t50\\t65\\t1\\tFALSE\\n5\\tCharmeleon\\tFire\\t\\t58\\t64\\t58\\t80\\t65\\t80\\t1\\tFALSE\\n6\\tCharizard\\tFire\\tFlying\\t78\\t84\\t78\\t109\\t85\\t100\\t1\\tFALSE\\n6\\tCharizardMega Charizard X\\tFire\\tDragon\\t78\\t130\\t111\\t130\\t85\\t100\\t1\\tFALSE\\n6\\tCharizardMega Charizard Y\\tFire\\tFlying\\t78\\t104\\t78\\t159\\t115\\t100\\t1\\tFALSE\\n7\\tSquirtle\\tWater\\t\\t44\\t48\\t65\\t50\\t64\\t43\\t1\\tFALSE\\n8\\tWartortle\\tWater\\t\\t59\\t63\\t80\\t65\\t80\\t58\\t1\\tFALSE\\n9\\tBlastoise\\tWater\\t\\t79\\t83\\t100\\t85\\t105\\t78\\t1\\tFALSE\\n9\\tBlastoiseMega Blastoise\\tWater\\t\\t79\\t103\\t120\\t135\\t115\\t78\\t1\\tFALSE\\n10\\tCaterpie\\tBug\\t\\t45\\t30\\t35\\t20\\t20\\t45\\t1\\tFALSE\\n11\\tMetapod\\tBug\\t\\t50\\t20\\t55\\t25\\t25\\t30\\t1\\tFALSE\\n12\\tButterfree\\tBug\\tFlying\\t60\\t45\\t50\\t90\\t80\\t70\\t1\\tFALSE\\n13\\tWeedle\\tBug\\tPoison\\t40\\t35\\t30\\t20\\t20\\t50\\t1\\tFALSE\\n14\\tKakuna\\tBug\\tPoison\\t45\\t25\\t50\\t25\\t25\\t35\\t1\\tFALSE\\n15\\tBeedrill\\tBug\\tPoison\\t65\\t90\\t40\\t45\\t80\\t75\\t1\\tFALSE\\n15\\tBeedrillMega Beedrill\\tBug\\tPoison\\t65\\t150\\t40\\t15\\t80\\t145\\t1\\tFALSE\\n16\\tPidgey\\tNormal\\tFlying\\t40\\t45\\t40\\t35\\t35\\t56\\t1\\tFALSE\\n17\\tPidgeotto\\tNormal\\tFlying\\t63\\t60\\t55\\t50\\t50\\t71\\t1\\tFALSE\\n18\\tPidgeot\\tNormal\\tFlying\\t83\\t80\\t75\\t70\\t70\\t101\\t1\\tFALSE\\n18\\tPidgeotMega Pidgeot\\tNormal\\tFlying\\t83\\t80\\t80\\t135\\t80\\t121\\t1\\tFALSE\\n19\\tRattata\\tNormal\\t\\t30\\t56\\t35\\t25\\t35\\t72\\t1\\tFALSE\\n20\\tRaticate\\tNormal\\t\\t55\\t81\\t60\\t50\\t70\\t97\\t1\\tFALSE\\n21\\tSpearow\\tNormal\\tFlying\\t40\\t60\\t30\\t31\\t31\\t70\\t1\\tFALSE\\n22\\tFearow\\tNormal\\tFlying\\t65\\t90\\t65\\t61\\t61\\t100\\t1\\tFALSE\\n23\\tEkans\\tPoison\\t\\t35\\t60\\t44\\t40\\t54\\t55\\t1\\tFALSE\\n24\\tArbok\\tPoison\\t\\t60\\t85\\t69\\t65\\t79\\t80\\t1\\tFALSE\\n25\\tPikachu\\tElectric\\t\\t35\\t55\\t40\\t50\\t50\\t90\\t1\\tFALSE\\n26\\tRaichu\\tElectric\\t\\t60\\t90\\t55\\t90\\t80\\t110\\t1\\tFALSE\\n27\\tSandshrew\\tGround\\t\\t50\\t75\\t85\\t20\\t30\\t40\\t1\\tFALSE\\n28\\tSandslash\\tGround\\t\\t75\\t100\\t110\\t45\\t55\\t65\\t1\\tFALSE\\n29\\tNidoran (Female)\\tPoison\\t\\t55\\t47\\t52\\t40\\t40\\t41\\t1\\tFALSE\\n30\\tNidorina\\tPoison\\t\\t70\\t62\\t67\\t55\\t55\\t56\\t1\\tFALSE\\n31\\tNidoqueen\\tPoison\\tGround\\t90\\t92\\t87\\t75\\t85\\t76\\t1\\tFALSE\\n32\\tNidoran (Male)\\tPoison\\t\\t46\\t57\\t40\\t40\\t40\\t50\\t1\\tFALSE\\n33\\tNidorino\\tPoison\\t\\t61\\t72\\t57\\t55\\t55\\t65\\t1\\tFALSE\\n34\\tNidoking\\tPoison\\tGround\\t81\\t102\\t77\\t85\\t75\\t85\\t1\\tFALSE\\n35\\tClefairy\\tFairy\\t\\t70\\t45\\t48\\t60\\t65\\t35\\t1\\tFALSE\\n36\\tClefable\\tFairy\\t\\t95\\t70\\t73\\t95\\t90\\t60\\t1\\tFALSE\\n37\\tVulpix\\tFire\\t\\t38\\t41\\t40\\t50\\t65\\t65\\t1\\tFALSE\\n38\\tNinetales\\tFire\\t\\t73\\t76\\t75\\t81\\t100\\t100\\t1\\tFALSE\\n39\\tJigglypuff\\tNormal\\tFairy\\t115\\t45\\t20\\t45\\t25\\t20\\t1\\tFALSE\\n40\\tWigglytuff\\tNormal\\tFairy\\t140\\t70\\t45\\t85\\t50\\t45\\t1\\tFALSE\\n41\\tZubat\\tPoison\\tFlying\\t40\\t45\\t35\\t30\\t40\\t55\\t1\\tFALSE\\n42\\tGolbat\\tPoison\\tFlying\\t75\\t80\\t70\\t65\\t75\\t90\\t1\\tFALSE\\n43\\tOddish\\tGrass\\tPoison\\t45\\t50\\t55\\t75\\t65\\t30\\t1\\tFALSE\\n44\\tGloom\\tGrass\\tPoison\\t60\\t65\\t70\\t85\\t75\\t40\\t1\\tFALSE\\n45\\tVileplume\\tGrass\\tPoison\\t75\\t80\\t85\\t110\\t90\\t50\\t1\\tFALSE\\n46\\tParas\\tBug\\tGrass\\t35\\t70\\t55\\t45\\t55\\t25\\t1\\tFALSE\\n47\\tParasect\\tBug\\tGrass\\t60\\t95\\t80\\t60\\t80\\t30\\t1\\tFALSE\\n48\\tVenonat\\tBug\\tPoison\\t60\\t55\\t50\\t40\\t55\\t45\\t1\\tFALSE\\n49\\tVenomoth\\tBug\\tPoison\\t70\\t65\\t60\\t90\\t75\\t90\\t1\\tFALSE\\n50\\tDiglett\\tGround\\t\\t10\\t55\\t25\\t35\\t45\\t95\\t1\\tFALSE\\n51\\tDugtrio\\tGround\\t\\t35\\t80\\t50\\t50\\t70\\t120\\t1\\tFALSE\\n52\\tMeowth\\tNormal\\t\\t40\\t45\\t35\\t40\\t40\\t90\\t1\\tFALSE\\n53\\tPersian\\tNormal\\t\\t65\\t70\\t60\\t65\\t65\\t115\\t1\\tFALSE\\n54\\tPsyduck\\tWater\\t\\t50\\t52\\t48\\t65\\t50\\t55\\t1\\tFALSE\\n55\\tGolduck\\tWater\\t\\t80\\t82\\t78\\t95\\t80\\t85\\t1\\tFALSE\\n56\\tMankey\\tFighting\\t\\t40\\t80\\t35\\t35\\t45\\t70\\t1\\tFALSE\\n57\\tPrimeape\\tFighting\\t\\t65\\t105\\t60\\t60\\t70\\t95\\t1\\tFALSE\\n58\\tGrowlithe\\tFire\\t\\t55\\t70\\t45\\t70\\t50\\t60\\t1\\tFALSE\\n59\\tArcanine\\tFire\\t\\t90\\t110\\t80\\t100\\t80\\t95\\t1\\tFALSE\\n60\\tPoliwag\\tWater\\t\\t40\\t50\\t40\\t40\\t40\\t90\\t1\\tFALSE\\n61\\tPoliwhirl\\tWater\\t\\t65\\t65\\t65\\t50\\t50\\t90\\t1\\tFALSE\\n62\\tPoliwrath\\tWater\\tFighting\\t90\\t95\\t95\\t70\\t90\\t70\\t1\\tFALSE\\n63\\tAbra\\tPsychic\\t\\t25\\t20\\t15\\t105\\t55\\t90\\t1\\tFALSE\\n64\\tKadabra\\tPsychic\\t\\t40\\t35\\t30\\t120\\t70\\t105\\t1\\tFALSE\\n65\\tAlakazam\\tPsychic\\t\\t55\\t50\\t45\\t135\\t95\\t120\\t1\\tFALSE\\n65\\tAlakazamMega Alakazam\\tPsychic\\t\\t55\\t50\\t65\\t175\\t95\\t150\\t1\\tFALSE\\n66\\tMachop\\tFighting\\t\\t70\\t80\\t50\\t35\\t35\\t35\\t1\\tFALSE\\n67\\tMachoke\\tFighting\\t\\t80\\t100\\t70\\t50\\t60\\t45\\t1\\tFALSE\\n68\\tMachamp\\tFighting\\t\\t90\\t130\\t80\\t65\\t85\\t55\\t1\\tFALSE\\n69\\tBellsprout\\tGrass\\tPoison\\t50\\t75\\t35\\t70\\t30\\t40\\t1\\tFALSE\\n70\\tWeepinbell\\tGrass\\tPoison\\t65\\t90\\t50\\t85\\t45\\t55\\t1\\tFALSE\\n71\\tVictreebel\\tGrass\\tPoison\\t80\\t105\\t65\\t100\\t70\\t70\\t1\\tFALSE\\n72\\tTentacool\\tWater\\tPoison\\t40\\t40\\t35\\t50\\t100\\t70\\t1\\tFALSE\\n73\\tTentacruel\\tWater\\tPoison\\t80\\t70\\t65\\t80\\t120\\t100\\t1\\tFALSE\\n74\\tGeodude\\tRock\\tGround\\t40\\t80\\t100\\t30\\t30\\t20\\t1\\tFALSE\\n75\\tGraveler\\tRock\\tGround\\t55\\t95\\t115\\t45\\t45\\t35\\t1\\tFALSE\\n76\\tGolem\\tRock\\tGround\\t80\\t120\\t130\\t55\\t65\\t45\\t1\\tFALSE\\n77\\tPonyta\\tFire\\t\\t50\\t85\\t55\\t65\\t65\\t90\\t1\\tFALSE\\n78\\tRapidash\\tFire\\t\\t65\\t100\\t70\\t80\\t80\\t105\\t1\\tFALSE\\n79\\tSlowpoke\\tWater\\tPsychic\\t90\\t65\\t65\\t40\\t40\\t15\\t1\\tFALSE\\n80\\tSlowbro\\tWater\\tPsychic\\t95\\t75\\t110\\t100\\t80\\t30\\t1\\tFALSE\\n80\\tSlowbroMega Slowbro\\tWater\\tPsychic\\t95\\t75\\t180\\t130\\t80\\t30\\t1\\tFALSE\\n81\\tMagnemite\\tElectric\\tSteel\\t25\\t35\\t70\\t95\\t55\\t45\\t1\\tFALSE\\n82\\tMagneton\\tElectric\\tSteel\\t50\\t60\\t95\\t120\\t70\\t70\\t1\\tFALSE\\n83\\tFarfetch'd\\tNormal\\tFlying\\t52\\t65\\t55\\t58\\t62\\t60\\t1\\tFALSE\\n84\\tDoduo\\tNormal\\tFlying\\t35\\t85\\t45\\t35\\t35\\t75\\t1\\tFALSE\\n85\\tDodrio\\tNormal\\tFlying\\t60\\t110\\t70\\t60\\t60\\t100\\t1\\tFALSE\\n86\\tSeel\\tWater\\t\\t65\\t45\\t55\\t45\\t70\\t45\\t1\\tFALSE\\n87\\tDewgong\\tWater\\tIce\\t90\\t70\\t80\\t70\\t95\\t70\\t1\\tFALSE\\n88\\tGrimer\\tPoison\\t\\t80\\t80\\t50\\t40\\t50\\t25\\t1\\tFALSE\\n89\\tMuk\\tPoison\\t\\t105\\t105\\t75\\t65\\t100\\t50\\t1\\tFALSE\\n90\\tShellder\\tWater\\t\\t30\\t65\\t100\\t45\\t25\\t40\\t1\\tFALSE\\n91\\tCloyster\\tWater\\tIce\\t50\\t95\\t180\\t85\\t45\\t70\\t1\\tFALSE\\n92\\tGastly\\tGhost\\tPoison\\t30\\t35\\t30\\t100\\t35\\t80\\t1\\tFALSE\\n93\\tHaunter\\tGhost\\tPoison\\t45\\t50\\t45\\t115\\t55\\t95\\t1\\tFALSE\\n94\\tGengar\\tGhost\\tPoison\\t60\\t65\\t60\\t130\\t75\\t110\\t1\\tFALSE\\n94\\tGengarMega Gengar\\tGhost\\tPoison\\t60\\t65\\t80\\t170\\t95\\t130\\t1\\tFALSE\\n95\\tOnix\\tRock\\tGround\\t35\\t45\\t160\\t30\\t45\\t70\\t1\\tFALSE\\n96\\tDrowzee\\tPsychic\\t\\t60\\t48\\t45\\t43\\t90\\t42\\t1\\tFALSE\\n97\\tHypno\\tPsychic\\t\\t85\\t73\\t70\\t73\\t115\\t67\\t1\\tFALSE\\n98\\tKrabby\\tWater\\t\\t30\\t105\\t90\\t25\\t25\\t50\\t1\\tFALSE\\n99\\tKingler\\tWater\\t\\t55\\t130\\t115\\t50\\t50\\t75\\t1\\tFALSE\\n100\\tVoltorb\\tElectric\\t\\t40\\t30\\t50\\t55\\t55\\t100\\t1\\tFALSE\\n101\\tElectrode\\tElectric\\t\\t60\\t50\\t70\\t80\\t80\\t140\\t1\\tFALSE\\n102\\tExeggcute\\tGrass\\tPsychic\\t60\\t40\\t80\\t60\\t45\\t40\\t1\\tFALSE\\n103\\tExeggutor\\tGrass\\tPsychic\\t95\\t95\\t85\\t125\\t65\\t55\\t1\\tFALSE\\n104\\tCubone\\tGround\\t\\t50\\t50\\t95\\t40\\t50\\t35\\t1\\tFALSE\\n105\\tMarowak\\tGround\\t\\t60\\t80\\t110\\t50\\t80\\t45\\t1\\tFALSE\\n106\\tHitmonlee\\tFighting\\t\\t50\\t120\\t53\\t35\\t110\\t87\\t1\\tFALSE\\n107\\tHitmonchan\\tFighting\\t\\t50\\t105\\t79\\t35\\t110\\t76\\t1\\tFALSE\\n108\\tLickitung\\tNormal\\t\\t90\\t55\\t75\\t60\\t75\\t30\\t1\\tFALSE\\n109\\tKoffing\\tPoison\\t\\t40\\t65\\t95\\t60\\t45\\t35\\t1\\tFALSE\\n110\\tWeezing\\tPoison\\t\\t65\\t90\\t120\\t85\\t70\\t60\\t1\\tFALSE\\n111\\tRhyhorn\\tGround\\tRock\\t80\\t85\\t95\\t30\\t30\\t25\\t1\\tFALSE\\n112\\tRhydon\\tGround\\tRock\\t105\\t130\\t120\\t45\\t45\\t40\\t1\\tFALSE\\n113\\tChansey\\tNormal\\t\\t250\\t5\\t5\\t35\\t105\\t50\\t1\\tFALSE\\n114\\tTangela\\tGrass\\t\\t65\\t55\\t115\\t100\\t40\\t60\\t1\\tFALSE\\n115\\tKangaskhan\\tNormal\\t\\t105\\t95\\t80\\t40\\t80\\t90\\t1\\tFALSE\\n115\\tKangaskhanMega Kangaskhan\\tNormal\\t\\t105\\t125\\t100\\t60\\t100\\t100\\t1\\tFALSE\\n116\\tHorsea\\tWater\\t\\t30\\t40\\t70\\t70\\t25\\t60\\t1\\tFALSE\\n117\\tSeadra\\tWater\\t\\t55\\t65\\t95\\t95\\t45\\t85\\t1\\tFALSE\\n118\\tGoldeen\\tWater\\t\\t45\\t67\\t60\\t35\\t50\\t63\\t1\\tFALSE\\n119\\tSeaking\\tWater\\t\\t80\\t92\\t65\\t65\\t80\\t68\\t1\\tFALSE\\n120\\tStaryu\\tWater\\t\\t30\\t45\\t55\\t70\\t55\\t85\\t1\\tFALSE\\n121\\tStarmie\\tWater\\tPsychic\\t60\\t75\\t85\\t100\\t85\\t115\\t1\\tFALSE\\n122\\tMr. Mime\\tPsychic\\tFairy\\t40\\t45\\t65\\t100\\t120\\t90\\t1\\tFALSE\\n123\\tScyther\\tBug\\tFlying\\t70\\t110\\t80\\t55\\t80\\t105\\t1\\tFALSE\\n124\\tJynx\\tIce\\tPsychic\\t65\\t50\\t35\\t115\\t95\\t95\\t1\\tFALSE\\n125\\tElectabuzz\\tElectric\\t\\t65\\t83\\t57\\t95\\t85\\t105\\t1\\tFALSE\\n126\\tMagmar\\tFire\\t\\t65\\t95\\t57\\t100\\t85\\t93\\t1\\tFALSE\\n127\\tPinsir\\tBug\\t\\t65\\t125\\t100\\t55\\t70\\t85\\t1\\tFALSE\\n127\\tPinsirMega Pinsir\\tBug\\tFlying\\t65\\t155\\t120\\t65\\t90\\t105\\t1\\tFALSE\\n128\\tTauros\\tNormal\\t\\t75\\t100\\t95\\t40\\t70\\t110\\t1\\tFALSE\\n129\\tMagikarp\\tWater\\t\\t20\\t10\\t55\\t15\\t20\\t80\\t1\\tFALSE\\n130\\tGyarados\\tWater\\tFlying\\t95\\t125\\t79\\t60\\t100\\t81\\t1\\tFALSE\\n130\\tGyaradosMega Gyarados\\tWater\\tDark\\t95\\t155\\t109\\t70\\t130\\t81\\t1\\tFALSE\\n131\\tLapras\\tWater\\tIce\\t130\\t85\\t80\\t85\\t95\\t60\\t1\\tFALSE\\n132\\tDitto\\tNormal\\t\\t48\\t48\\t48\\t48\\t48\\t48\\t1\\tFALSE\\n133\\tEevee\\tNormal\\t\\t55\\t55\\t50\\t45\\t65\\t55\\t1\\tFALSE\\n134\\tVaporeon\\tWater\\t\\t130\\t65\\t60\\t110\\t95\\t65\\t1\\tFALSE\\n135\\tJolteon\\tElectric\\t\\t65\\t65\\t60\\t110\\t95\\t130\\t1\\tFALSE\\n136\\tFlareon\\tFire\\t\\t65\\t130\\t60\\t95\\t110\\t65\\t1\\tFALSE\\n137\\tPorygon\\tNormal\\t\\t65\\t60\\t70\\t85\\t75\\t40\\t1\\tFALSE\\n138\\tOmanyte\\tRock\\tWater\\t35\\t40\\t100\\t90\\t55\\t35\\t1\\tFALSE\\n139\\tOmastar\\tRock\\tWater\\t70\\t60\\t125\\t115\\t70\\t55\\t1\\tFALSE\\n140\\tKabuto\\tRock\\tWater\\t30\\t80\\t90\\t55\\t45\\t55\\t1\\tFALSE\\n141\\tKabutops\\tRock\\tWater\\t60\\t115\\t105\\t65\\t70\\t80\\t1\\tFALSE\\n142\\tAerodactyl\\tRock\\tFlying\\t80\\t105\\t65\\t60\\t75\\t130\\t1\\tFALSE\\n142\\tAerodactylMega Aerodactyl\\tRock\\tFlying\\t80\\t135\\t85\\t70\\t95\\t150\\t1\\tFALSE\\n143\\tSnorlax\\tNormal\\t\\t160\\t110\\t65\\t65\\t110\\t30\\t1\\tFALSE\\n144\\tArticuno\\tIce\\tFlying\\t90\\t85\\t100\\t95\\t125\\t85\\t1\\tTRUE\\n145\\tZapdos\\tElectric\\tFlying\\t90\\t90\\t85\\t125\\t90\\t100\\t1\\tTRUE\\n146\\tMoltres\\tFire\\tFlying\\t90\\t100\\t90\\t125\\t85\\t90\\t1\\tTRUE\\n147\\tDratini\\tDragon\\t\\t41\\t64\\t45\\t50\\t50\\t50\\t1\\tFALSE\\n148\\tDragonair\\tDragon\\t\\t61\\t84\\t65\\t70\\t70\\t70\\t1\\tFALSE\\n149\\tDragonite\\tDragon\\tFlying\\t91\\t134\\t95\\t100\\t100\\t80\\t1\\tFALSE\\n150\\tMewtwo\\tPsychic\\t\\t106\\t110\\t90\\t154\\t90\\t130\\t1\\tTRUE\\n150\\tMewtwoMega Mewtwo X\\tPsychic\\tFighting\\t106\\t190\\t100\\t154\\t100\\t130\\t1\\tTRUE\\n150\\tMewtwoMega Mewtwo Y\\tPsychic\\t\\t106\\t150\\t70\\t194\\t120\\t140\\t1\\tTRUE\\n151\\tMew\\tPsychic\\t\\t100\\t100\\t100\\t100\\t100\\t100\\t1\\tFALSE\\n152\\tChikorita\\tGrass\\t\\t45\\t49\\t65\\t49\\t65\\t45\\t2\\tFALSE\\n153\\tBayleef\\tGrass\\t\\t60\\t62\\t80\\t63\\t80\\t60\\t2\\tFALSE\\n154\\tMeganium\\tGrass\\t\\t80\\t82\\t100\\t83\\t100\\t80\\t2\\tFALSE\\n155\\tCyndaquil\\tFire\\t\\t39\\t52\\t43\\t60\\t50\\t65\\t2\\tFALSE\\n156\\tQuilava\\tFire\\t\\t58\\t64\\t58\\t80\\t65\\t80\\t2\\tFALSE\\n157\\tTyphlosion\\tFire\\t\\t78\\t84\\t78\\t109\\t85\\t100\\t2\\tFALSE\\n158\\tTotodile\\tWater\\t\\t50\\t65\\t64\\t44\\t48\\t43\\t2\\tFALSE\\n159\\tCroconaw\\tWater\\t\\t65\\t80\\t80\\t59\\t63\\t58\\t2\\tFALSE\\n160\\tFeraligatr\\tWater\\t\\t85\\t105\\t100\\t79\\t83\\t78\\t2\\tFALSE\\n161\\tSentret\\tNormal\\t\\t35\\t46\\t34\\t35\\t45\\t20\\t2\\tFALSE\\n162\\tFurret\\tNormal\\t\\t85\\t76\\t64\\t45\\t55\\t90\\t2\\tFALSE\\n163\\tHoothoot\\tNormal\\tFlying\\t60\\t30\\t30\\t36\\t56\\t50\\t2\\tFALSE\\n164\\tNoctowl\\tNormal\\tFlying\\t100\\t50\\t50\\t76\\t96\\t70\\t2\\tFALSE\\n165\\tLedyba\\tBug\\tFlying\\t40\\t20\\t30\\t40\\t80\\t55\\t2\\tFALSE\\n166\\tLedian\\tBug\\tFlying\\t55\\t35\\t50\\t55\\t110\\t85\\t2\\tFALSE\\n167\\tSpinarak\\tBug\\tPoison\\t40\\t60\\t40\\t40\\t40\\t30\\t2\\tFALSE\\n168\\tAriados\\tBug\\tPoison\\t70\\t90\\t70\\t60\\t60\\t40\\t2\\tFALSE\\n169\\tCrobat\\tPoison\\tFlying\\t85\\t90\\t80\\t70\\t80\\t130\\t2\\tFALSE\\n170\\tChinchou\\tWater\\tElectric\\t75\\t38\\t38\\t56\\t56\\t67\\t2\\tFALSE\\n171\\tLanturn\\tWater\\tElectric\\t125\\t58\\t58\\t76\\t76\\t67\\t2\\tFALSE\\n172\\tPichu\\tElectric\\t\\t20\\t40\\t15\\t35\\t35\\t60\\t2\\tFALSE\\n173\\tCleffa\\tFairy\\t\\t50\\t25\\t28\\t45\\t55\\t15\\t2\\tFALSE\\n174\\tIgglybuff\\tNormal\\tFairy\\t90\\t30\\t15\\t40\\t20\\t15\\t2\\tFALSE\\n175\\tTogepi\\tFairy\\t\\t35\\t20\\t65\\t40\\t65\\t20\\t2\\tFALSE\\n176\\tTogetic\\tFairy\\tFlying\\t55\\t40\\t85\\t80\\t105\\t40\\t2\\tFALSE\\n177\\tNatu\\tPsychic\\tFlying\\t40\\t50\\t45\\t70\\t45\\t70\\t2\\tFALSE\\n178\\tXatu\\tPsychic\\tFlying\\t65\\t75\\t70\\t95\\t70\\t95\\t2\\tFALSE\\n179\\tMareep\\tElectric\\t\\t55\\t40\\t40\\t65\\t45\\t35\\t2\\tFALSE\\n180\\tFlaaffy\\tElectric\\t\\t70\\t55\\t55\\t80\\t60\\t45\\t2\\tFALSE\\n181\\tAmpharos\\tElectric\\t\\t90\\t75\\t85\\t115\\t90\\t55\\t2\\tFALSE\\n181\\tAmpharosMega Ampharos\\tElectric\\tDragon\\t90\\t95\\t105\\t165\\t110\\t45\\t2\\tFALSE\\n182\\tBellossom\\tGrass\\t\\t75\\t80\\t95\\t90\\t100\\t50\\t2\\tFALSE\\n183\\tMarill\\tWater\\tFairy\\t70\\t20\\t50\\t20\\t50\\t40\\t2\\tFALSE\\n184\\tAzumarill\\tWater\\tFairy\\t100\\t50\\t80\\t60\\t80\\t50\\t2\\tFALSE\\n185\\tSudowoodo\\tRock\\t\\t70\\t100\\t115\\t30\\t65\\t30\\t2\\tFALSE\\n186\\tPolitoed\\tWater\\t\\t90\\t75\\t75\\t90\\t100\\t70\\t2\\tFALSE\\n187\\tHoppip\\tGrass\\tFlying\\t35\\t35\\t40\\t35\\t55\\t50\\t2\\tFALSE\\n188\\tSkiploom\\tGrass\\tFlying\\t55\\t45\\t50\\t45\\t65\\t80\\t2\\tFALSE\\n189\\tJumpluff\\tGrass\\tFlying\\t75\\t55\\t70\\t55\\t95\\t110\\t2\\tFALSE\\n190\\tAipom\\tNormal\\t\\t55\\t70\\t55\\t40\\t55\\t85\\t2\\tFALSE\\n191\\tSunkern\\tGrass\\t\\t30\\t30\\t30\\t30\\t30\\t30\\t2\\tFALSE\\n192\\tSunflora\\tGrass\\t\\t75\\t75\\t55\\t105\\t85\\t30\\t2\\tFALSE\\n193\\tYanma\\tBug\\tFlying\\t65\\t65\\t45\\t75\\t45\\t95\\t2\\tFALSE\\n194\\tWooper\\tWater\\tGround\\t55\\t45\\t45\\t25\\t25\\t15\\t2\\tFALSE\\n195\\tQuagsire\\tWater\\tGround\\t95\\t85\\t85\\t65\\t65\\t35\\t2\\tFALSE\\n196\\tEspeon\\tPsychic\\t\\t65\\t65\\t60\\t130\\t95\\t110\\t2\\tFALSE\\n197\\tUmbreon\\tDark\\t\\t95\\t65\\t110\\t60\\t130\\t65\\t2\\tFALSE\\n198\\tMurkrow\\tDark\\tFlying\\t60\\t85\\t42\\t85\\t42\\t91\\t2\\tFALSE\\n199\\tSlowking\\tWater\\tPsychic\\t95\\t75\\t80\\t100\\t110\\t30\\t2\\tFALSE\\n200\\tMisdreavus\\tGhost\\t\\t60\\t60\\t60\\t85\\t85\\t85\\t2\\tFALSE\\n201\\tUnown\\tPsychic\\t\\t48\\t72\\t48\\t72\\t48\\t48\\t2\\tFALSE\\n202\\tWobbuffet\\tPsychic\\t\\t190\\t33\\t58\\t33\\t58\\t33\\t2\\tFALSE\\n203\\tGirafarig\\tNormal\\tPsychic\\t70\\t80\\t65\\t90\\t65\\t85\\t2\\tFALSE\\n204\\tPineco\\tBug\\t\\t50\\t65\\t90\\t35\\t35\\t15\\t2\\tFALSE\\n205\\tForretress\\tBug\\tSteel\\t75\\t90\\t140\\t60\\t60\\t40\\t2\\tFALSE\\n206\\tDunsparce\\tNormal\\t\\t100\\t70\\t70\\t65\\t65\\t45\\t2\\tFALSE\\n207\\tGligar\\tGround\\tFlying\\t65\\t75\\t105\\t35\\t65\\t85\\t2\\tFALSE\\n208\\tSteelix\\tSteel\\tGround\\t75\\t85\\t200\\t55\\t65\\t30\\t2\\tFALSE\\n208\\tSteelixMega Steelix\\tSteel\\tGround\\t75\\t125\\t230\\t55\\t95\\t30\\t2\\tFALSE\\n209\\tSnubbull\\tFairy\\t\\t60\\t80\\t50\\t40\\t40\\t30\\t2\\tFALSE\\n210\\tGranbull\\tFairy\\t\\t90\\t120\\t75\\t60\\t60\\t45\\t2\\tFALSE\\n211\\tQwilfish\\tWater\\tPoison\\t65\\t95\\t75\\t55\\t55\\t85\\t2\\tFALSE\\n212\\tScizor\\tBug\\tSteel\\t70\\t130\\t100\\t55\\t80\\t65\\t2\\tFALSE\\n212\\tScizorMega Scizor\\tBug\\tSteel\\t70\\t150\\t140\\t65\\t100\\t75\\t2\\tFALSE\\n213\\tShuckle\\tBug\\tRock\\t20\\t10\\t230\\t10\\t230\\t5\\t2\\tFALSE\\n214\\tHeracross\\tBug\\tFighting\\t80\\t125\\t75\\t40\\t95\\t85\\t2\\tFALSE\\n214\\tHeracrossMega Heracross\\tBug\\tFighting\\t80\\t185\\t115\\t40\\t105\\t75\\t2\\tFALSE\\n215\\tSneasel\\tDark\\tIce\\t55\\t95\\t55\\t35\\t75\\t115\\t2\\tFALSE\\n216\\tTeddiursa\\tNormal\\t\\t60\\t80\\t50\\t50\\t50\\t40\\t2\\tFALSE\\n217\\tUrsaring\\tNormal\\t\\t90\\t130\\t75\\t75\\t75\\t55\\t2\\tFALSE\\n218\\tSlugma\\tFire\\t\\t40\\t40\\t40\\t70\\t40\\t20\\t2\\tFALSE\\n219\\tMagcargo\\tFire\\tRock\\t50\\t50\\t120\\t80\\t80\\t30\\t2\\tFALSE\\n220\\tSwinub\\tIce\\tGround\\t50\\t50\\t40\\t30\\t30\\t50\\t2\\tFALSE\\n221\\tPiloswine\\tIce\\tGround\\t100\\t100\\t80\\t60\\t60\\t50\\t2\\tFALSE\\n222\\tCorsola\\tWater\\tRock\\t55\\t55\\t85\\t65\\t85\\t35\\t2\\tFALSE\\n223\\tRemoraid\\tWater\\t\\t35\\t65\\t35\\t65\\t35\\t65\\t2\\tFALSE\\n224\\tOctillery\\tWater\\t\\t75\\t105\\t75\\t105\\t75\\t45\\t2\\tFALSE\\n225\\tDelibird\\tIce\\tFlying\\t45\\t55\\t45\\t65\\t45\\t75\\t2\\tFALSE\\n226\\tMantine\\tWater\\tFlying\\t65\\t40\\t70\\t80\\t140\\t70\\t2\\tFALSE\\n227\\tSkarmory\\tSteel\\tFlying\\t65\\t80\\t140\\t40\\t70\\t70\\t2\\tFALSE\\n228\\tHoundour\\tDark\\tFire\\t45\\t60\\t30\\t80\\t50\\t65\\t2\\tFALSE\\n229\\tHoundoom\\tDark\\tFire\\t75\\t90\\t50\\t110\\t80\\t95\\t2\\tFALSE\\n229\\tHoundoomMega Houndoom\\tDark\\tFire\\t75\\t90\\t90\\t140\\t90\\t115\\t2\\tFALSE\\n230\\tKingdra\\tWater\\tDragon\\t75\\t95\\t95\\t95\\t95\\t85\\t2\\tFALSE\\n231\\tPhanpy\\tGround\\t\\t90\\t60\\t60\\t40\\t40\\t40\\t2\\tFALSE\\n232\\tDonphan\\tGround\\t\\t90\\t120\\t120\\t60\\t60\\t50\\t2\\tFALSE\\n233\\tPorygon2\\tNormal\\t\\t85\\t80\\t90\\t105\\t95\\t60\\t2\\tFALSE\\n234\\tStantler\\tNormal\\t\\t73\\t95\\t62\\t85\\t65\\t85\\t2\\tFALSE\\n235\\tSmeargle\\tNormal\\t\\t55\\t20\\t35\\t20\\t45\\t75\\t2\\tFALSE\\n236\\tTyrogue\\tFighting\\t\\t35\\t35\\t35\\t35\\t35\\t35\\t2\\tFALSE\\n237\\tHitmontop\\tFighting\\t\\t50\\t95\\t95\\t35\\t110\\t70\\t2\\tFALSE\\n238\\tSmoochum\\tIce\\tPsychic\\t45\\t30\\t15\\t85\\t65\\t65\\t2\\tFALSE\\n239\\tElekid\\tElectric\\t\\t45\\t63\\t37\\t65\\t55\\t95\\t2\\tFALSE\\n240\\tMagby\\tFire\\t\\t45\\t75\\t37\\t70\\t55\\t83\\t2\\tFALSE\\n241\\tMiltank\\tNormal\\t\\t95\\t80\\t105\\t40\\t70\\t100\\t2\\tFALSE\\n242\\tBlissey\\tNormal\\t\\t255\\t10\\t10\\t75\\t135\\t55\\t2\\tFALSE\\n243\\tRaikou\\tElectric\\t\\t90\\t85\\t75\\t115\\t100\\t115\\t2\\tTRUE\\n244\\tEntei\\tFire\\t\\t115\\t115\\t85\\t90\\t75\\t100\\t2\\tTRUE\\n245\\tSuicune\\tWater\\t\\t100\\t75\\t115\\t90\\t115\\t85\\t2\\tTRUE\\n246\\tLarvitar\\tRock\\tGround\\t50\\t64\\t50\\t45\\t50\\t41\\t2\\tFALSE\\n247\\tPupitar\\tRock\\tGround\\t70\\t84\\t70\\t65\\t70\\t51\\t2\\tFALSE\\n248\\tTyranitar\\tRock\\tDark\\t100\\t134\\t110\\t95\\t100\\t61\\t2\\tFALSE\\n248\\tTyranitarMega Tyranitar\\tRock\\tDark\\t100\\t164\\t150\\t95\\t120\\t71\\t2\\tFALSE\\n249\\tLugia\\tPsychic\\tFlying\\t106\\t90\\t130\\t90\\t154\\t110\\t2\\tTRUE\\n250\\tHo-oh\\tFire\\tFlying\\t106\\t130\\t90\\t110\\t154\\t90\\t2\\tTRUE\\n251\\tCelebi\\tPsychic\\tGrass\\t100\\t100\\t100\\t100\\t100\\t100\\t2\\tFALSE\\n252\\tTreecko\\tGrass\\t\\t40\\t45\\t35\\t65\\t55\\t70\\t3\\tFALSE\\n253\\tGrovyle\\tGrass\\t\\t50\\t65\\t45\\t85\\t65\\t95\\t3\\tFALSE\\n254\\tSceptile\\tGrass\\t\\t70\\t85\\t65\\t105\\t85\\t120\\t3\\tFALSE\\n254\\tSceptileMega Sceptile\\tGrass\\tDragon\\t70\\t110\\t75\\t145\\t85\\t145\\t3\\tFALSE\\n255\\tTorchic\\tFire\\t\\t45\\t60\\t40\\t70\\t50\\t45\\t3\\tFALSE\\n256\\tCombusken\\tFire\\tFighting\\t60\\t85\\t60\\t85\\t60\\t55\\t3\\tFALSE\\n257\\tBlaziken\\tFire\\tFighting\\t80\\t120\\t70\\t110\\t70\\t80\\t3\\tFALSE\\n257\\tBlazikenMega Blaziken\\tFire\\tFighting\\t80\\t160\\t80\\t130\\t80\\t100\\t3\\tFALSE\\n258\\tMudkip\\tWater\\t\\t50\\t70\\t50\\t50\\t50\\t40\\t3\\tFALSE\\n259\\tMarshtomp\\tWater\\tGround\\t70\\t85\\t70\\t60\\t70\\t50\\t3\\tFALSE\\n260\\tSwampert\\tWater\\tGround\\t100\\t110\\t90\\t85\\t90\\t60\\t3\\tFALSE\\n260\\tSwampertMega Swampert\\tWater\\tGround\\t100\\t150\\t110\\t95\\t110\\t70\\t3\\tFALSE\\n261\\tPoochyena\\tDark\\t\\t35\\t55\\t35\\t30\\t30\\t35\\t3\\tFALSE\\n262\\tMightyena\\tDark\\t\\t70\\t90\\t70\\t60\\t60\\t70\\t3\\tFALSE\\n263\\tZigzagoon\\tNormal\\t\\t38\\t30\\t41\\t30\\t41\\t60\\t3\\tFALSE\\n264\\tLinoone\\tNormal\\t\\t78\\t70\\t61\\t50\\t61\\t100\\t3\\tFALSE\\n265\\tWurmple\\tBug\\t\\t45\\t45\\t35\\t20\\t30\\t20\\t3\\tFALSE\\n266\\tSilcoon\\tBug\\t\\t50\\t35\\t55\\t25\\t25\\t15\\t3\\tFALSE\\n267\\tBeautifly\\tBug\\tFlying\\t60\\t70\\t50\\t100\\t50\\t65\\t3\\tFALSE\\n268\\tCascoon\\tBug\\t\\t50\\t35\\t55\\t25\\t25\\t15\\t3\\tFALSE\\n269\\tDustox\\tBug\\tPoison\\t60\\t50\\t70\\t50\\t90\\t65\\t3\\tFALSE\\n270\\tLotad\\tWater\\tGrass\\t40\\t30\\t30\\t40\\t50\\t30\\t3\\tFALSE\\n271\\tLombre\\tWater\\tGrass\\t60\\t50\\t50\\t60\\t70\\t50\\t3\\tFALSE\\n272\\tLudicolo\\tWater\\tGrass\\t80\\t70\\t70\\t90\\t100\\t70\\t3\\tFALSE\\n273\\tSeedot\\tGrass\\t\\t40\\t40\\t50\\t30\\t30\\t30\\t3\\tFALSE\\n274\\tNuzleaf\\tGrass\\tDark\\t70\\t70\\t40\\t60\\t40\\t60\\t3\\tFALSE\\n275\\tShiftry\\tGrass\\tDark\\t90\\t100\\t60\\t90\\t60\\t80\\t3\\tFALSE\\n276\\tTaillow\\tNormal\\tFlying\\t40\\t55\\t30\\t30\\t30\\t85\\t3\\tFALSE\\n277\\tSwellow\\tNormal\\tFlying\\t60\\t85\\t60\\t50\\t50\\t125\\t3\\tFALSE\\n278\\tWingull\\tWater\\tFlying\\t40\\t30\\t30\\t55\\t30\\t85\\t3\\tFALSE\\n279\\tPelipper\\tWater\\tFlying\\t60\\t50\\t100\\t85\\t70\\t65\\t3\\tFALSE\\n280\\tRalts\\tPsychic\\tFairy\\t28\\t25\\t25\\t45\\t35\\t40\\t3\\tFALSE\\n281\\tKirlia\\tPsychic\\tFairy\\t38\\t35\\t35\\t65\\t55\\t50\\t3\\tFALSE\\n282\\tGardevoir\\tPsychic\\tFairy\\t68\\t65\\t65\\t125\\t115\\t80\\t3\\tFALSE\\n282\\tGardevoirMega Gardevoir\\tPsychic\\tFairy\\t68\\t85\\t65\\t165\\t135\\t100\\t3\\tFALSE\\n283\\tSurskit\\tBug\\tWater\\t40\\t30\\t32\\t50\\t52\\t65\\t3\\tFALSE\\n284\\tMasquerain\\tBug\\tFlying\\t70\\t60\\t62\\t80\\t82\\t60\\t3\\tFALSE\\n285\\tShroomish\\tGrass\\t\\t60\\t40\\t60\\t40\\t60\\t35\\t3\\tFALSE\\n286\\tBreloom\\tGrass\\tFighting\\t60\\t130\\t80\\t60\\t60\\t70\\t3\\tFALSE\\n287\\tSlakoth\\tNormal\\t\\t60\\t60\\t60\\t35\\t35\\t30\\t3\\tFALSE\\n288\\tVigoroth\\tNormal\\t\\t80\\t80\\t80\\t55\\t55\\t90\\t3\\tFALSE\\n289\\tSlaking\\tNormal\\t\\t150\\t160\\t100\\t95\\t65\\t100\\t3\\tFALSE\\n290\\tNincada\\tBug\\tGround\\t31\\t45\\t90\\t30\\t30\\t40\\t3\\tFALSE\\n291\\tNinjask\\tBug\\tFlying\\t61\\t90\\t45\\t50\\t50\\t160\\t3\\tFALSE\\n292\\tShedinja\\tBug\\tGhost\\t1\\t90\\t45\\t30\\t30\\t40\\t3\\tFALSE\\n293\\tWhismur\\tNormal\\t\\t64\\t51\\t23\\t51\\t23\\t28\\t3\\tFALSE\\n294\\tLoudred\\tNormal\\t\\t84\\t71\\t43\\t71\\t43\\t48\\t3\\tFALSE\\n295\\tExploud\\tNormal\\t\\t104\\t91\\t63\\t91\\t73\\t68\\t3\\tFALSE\\n296\\tMakuhita\\tFighting\\t\\t72\\t60\\t30\\t20\\t30\\t25\\t3\\tFALSE\\n297\\tHariyama\\tFighting\\t\\t144\\t120\\t60\\t40\\t60\\t50\\t3\\tFALSE\\n298\\tAzurill\\tNormal\\tFairy\\t50\\t20\\t40\\t20\\t40\\t20\\t3\\tFALSE\\n299\\tNosepass\\tRock\\t\\t30\\t45\\t135\\t45\\t90\\t30\\t3\\tFALSE\\n300\\tSkitty\\tNormal\\t\\t50\\t45\\t45\\t35\\t35\\t50\\t3\\tFALSE\\n301\\tDelcatty\\tNormal\\t\\t70\\t65\\t65\\t55\\t55\\t70\\t3\\tFALSE\\n302\\tSableye\\tDark\\tGhost\\t50\\t75\\t75\\t65\\t65\\t50\\t3\\tFALSE\\n302\\tSableyeMega Sableye\\tDark\\tGhost\\t50\\t85\\t125\\t85\\t115\\t20\\t3\\tFALSE\\n303\\tMawile\\tSteel\\tFairy\\t50\\t85\\t85\\t55\\t55\\t50\\t3\\tFALSE\\n303\\tMawileMega Mawile\\tSteel\\tFairy\\t50\\t105\\t125\\t55\\t95\\t50\\t3\\tFALSE\\n304\\tAron\\tSteel\\tRock\\t50\\t70\\t100\\t40\\t40\\t30\\t3\\tFALSE\\n305\\tLairon\\tSteel\\tRock\\t60\\t90\\t140\\t50\\t50\\t40\\t3\\tFALSE\\n306\\tAggron\\tSteel\\tRock\\t70\\t110\\t180\\t60\\t60\\t50\\t3\\tFALSE\\n306\\tAggronMega Aggron\\tSteel\\t\\t70\\t140\\t230\\t60\\t80\\t50\\t3\\tFALSE\\n307\\tMeditite\\tFighting\\tPsychic\\t30\\t40\\t55\\t40\\t55\\t60\\t3\\tFALSE\\n308\\tMedicham\\tFighting\\tPsychic\\t60\\t60\\t75\\t60\\t75\\t80\\t3\\tFALSE\\n308\\tMedichamMega Medicham\\tFighting\\tPsychic\\t60\\t100\\t85\\t80\\t85\\t100\\t3\\tFALSE\\n309\\tElectrike\\tElectric\\t\\t40\\t45\\t40\\t65\\t40\\t65\\t3\\tFALSE\\n310\\tManectric\\tElectric\\t\\t70\\t75\\t60\\t105\\t60\\t105\\t3\\tFALSE\\n310\\tManectricMega Manectric\\tElectric\\t\\t70\\t75\\t80\\t135\\t80\\t135\\t3\\tFALSE\\n311\\tPlusle\\tElectric\\t\\t60\\t50\\t40\\t85\\t75\\t95\\t3\\tFALSE\\n312\\tMinun\\tElectric\\t\\t60\\t40\\t50\\t75\\t85\\t95\\t3\\tFALSE\\n313\\tVolbeat\\tBug\\t\\t65\\t73\\t55\\t47\\t75\\t85\\t3\\tFALSE\\n314\\tIllumise\\tBug\\t\\t65\\t47\\t55\\t73\\t75\\t85\\t3\\tFALSE\\n315\\tRoselia\\tGrass\\tPoison\\t50\\t60\\t45\\t100\\t80\\t65\\t3\\tFALSE\\n316\\tGulpin\\tPoison\\t\\t70\\t43\\t53\\t43\\t53\\t40\\t3\\tFALSE\\n317\\tSwalot\\tPoison\\t\\t100\\t73\\t83\\t73\\t83\\t55\\t3\\tFALSE\\n318\\tCarvanha\\tWater\\tDark\\t45\\t90\\t20\\t65\\t20\\t65\\t3\\tFALSE\\n319\\tSharpedo\\tWater\\tDark\\t70\\t120\\t40\\t95\\t40\\t95\\t3\\tFALSE\\n319\\tSharpedoMega Sharpedo\\tWater\\tDark\\t70\\t140\\t70\\t110\\t65\\t105\\t3\\tFALSE\\n320\\tWailmer\\tWater\\t\\t130\\t70\\t35\\t70\\t35\\t60\\t3\\tFALSE\\n321\\tWailord\\tWater\\t\\t170\\t90\\t45\\t90\\t45\\t60\\t3\\tFALSE\\n322\\tNumel\\tFire\\tGround\\t60\\t60\\t40\\t65\\t45\\t35\\t3\\tFALSE\\n323\\tCamerupt\\tFire\\tGround\\t70\\t100\\t70\\t105\\t75\\t40\\t3\\tFALSE\\n323\\tCameruptMega Camerupt\\tFire\\tGround\\t70\\t120\\t100\\t145\\t105\\t20\\t3\\tFALSE\\n324\\tTorkoal\\tFire\\t\\t70\\t85\\t140\\t85\\t70\\t20\\t3\\tFALSE\\n325\\tSpoink\\tPsychic\\t\\t60\\t25\\t35\\t70\\t80\\t60\\t3\\tFALSE\\n326\\tGrumpig\\tPsychic\\t\\t80\\t45\\t65\\t90\\t110\\t80\\t3\\tFALSE\\n327\\tSpinda\\tNormal\\t\\t60\\t60\\t60\\t60\\t60\\t60\\t3\\tFALSE\\n328\\tTrapinch\\tGround\\t\\t45\\t100\\t45\\t45\\t45\\t10\\t3\\tFALSE\\n329\\tVibrava\\tGround\\tDragon\\t50\\t70\\t50\\t50\\t50\\t70\\t3\\tFALSE\\n330\\tFlygon\\tGround\\tDragon\\t80\\t100\\t80\\t80\\t80\\t100\\t3\\tFALSE\\n331\\tCacnea\\tGrass\\t\\t50\\t85\\t40\\t85\\t40\\t35\\t3\\tFALSE\\n332\\tCacturne\\tGrass\\tDark\\t70\\t115\\t60\\t115\\t60\\t55\\t3\\tFALSE\\n333\\tSwablu\\tNormal\\tFlying\\t45\\t40\\t60\\t40\\t75\\t50\\t3\\tFALSE\\n334\\tAltaria\\tDragon\\tFlying\\t75\\t70\\t90\\t70\\t105\\t80\\t3\\tFALSE\\n334\\tAltariaMega Altaria\\tDragon\\tFairy\\t75\\t110\\t110\\t110\\t105\\t80\\t3\\tFALSE\\n335\\tZangoose\\tNormal\\t\\t73\\t115\\t60\\t60\\t60\\t90\\t3\\tFALSE\\n336\\tSeviper\\tPoison\\t\\t73\\t100\\t60\\t100\\t60\\t65\\t3\\tFALSE\\n337\\tLunatone\\tRock\\tPsychic\\t70\\t55\\t65\\t95\\t85\\t70\\t3\\tFALSE\\n338\\tSolrock\\tRock\\tPsychic\\t70\\t95\\t85\\t55\\t65\\t70\\t3\\tFALSE\\n339\\tBarboach\\tWater\\tGround\\t50\\t48\\t43\\t46\\t41\\t60\\t3\\tFALSE\\n340\\tWhiscash\\tWater\\tGround\\t110\\t78\\t73\\t76\\t71\\t60\\t3\\tFALSE\\n341\\tCorphish\\tWater\\t\\t43\\t80\\t65\\t50\\t35\\t35\\t3\\tFALSE\\n342\\tCrawdaunt\\tWater\\tDark\\t63\\t120\\t85\\t90\\t55\\t55\\t3\\tFALSE\\n343\\tBaltoy\\tGround\\tPsychic\\t40\\t40\\t55\\t40\\t70\\t55\\t3\\tFALSE\\n344\\tClaydol\\tGround\\tPsychic\\t60\\t70\\t105\\t70\\t120\\t75\\t3\\tFALSE\\n345\\tLileep\\tRock\\tGrass\\t66\\t41\\t77\\t61\\t87\\t23\\t3\\tFALSE\\n346\\tCradily\\tRock\\tGrass\\t86\\t81\\t97\\t81\\t107\\t43\\t3\\tFALSE\\n347\\tAnorith\\tRock\\tBug\\t45\\t95\\t50\\t40\\t50\\t75\\t3\\tFALSE\\n348\\tArmaldo\\tRock\\tBug\\t75\\t125\\t100\\t70\\t80\\t45\\t3\\tFALSE\\n349\\tFeebas\\tWater\\t\\t20\\t15\\t20\\t10\\t55\\t80\\t3\\tFALSE\\n350\\tMilotic\\tWater\\t\\t95\\t60\\t79\\t100\\t125\\t81\\t3\\tFALSE\\n351\\tCastform\\tNormal\\t\\t70\\t70\\t70\\t70\\t70\\t70\\t3\\tFALSE\\n352\\tKecleon\\tNormal\\t\\t60\\t90\\t70\\t60\\t120\\t40\\t3\\tFALSE\\n353\\tShuppet\\tGhost\\t\\t44\\t75\\t35\\t63\\t33\\t45\\t3\\tFALSE\\n354\\tBanette\\tGhost\\t\\t64\\t115\\t65\\t83\\t63\\t65\\t3\\tFALSE\\n354\\tBanetteMega Banette\\tGhost\\t\\t64\\t165\\t75\\t93\\t83\\t75\\t3\\tFALSE\\n355\\tDuskull\\tGhost\\t\\t20\\t40\\t90\\t30\\t90\\t25\\t3\\tFALSE\\n356\\tDusclops\\tGhost\\t\\t40\\t70\\t130\\t60\\t130\\t25\\t3\\tFALSE\\n357\\tTropius\\tGrass\\tFlying\\t99\\t68\\t83\\t72\\t87\\t51\\t3\\tFALSE\\n358\\tChimecho\\tPsychic\\t\\t65\\t50\\t70\\t95\\t80\\t65\\t3\\tFALSE\\n359\\tAbsol\\tDark\\t\\t65\\t130\\t60\\t75\\t60\\t75\\t3\\tFALSE\\n359\\tAbsolMega Absol\\tDark\\t\\t65\\t150\\t60\\t115\\t60\\t115\\t3\\tFALSE\\n360\\tWynaut\\tPsychic\\t\\t95\\t23\\t48\\t23\\t48\\t23\\t3\\tFALSE\\n361\\tSnorunt\\tIce\\t\\t50\\t50\\t50\\t50\\t50\\t50\\t3\\tFALSE\\n362\\tGlalie\\tIce\\t\\t80\\t80\\t80\\t80\\t80\\t80\\t3\\tFALSE\\n362\\tGlalieMega Glalie\\tIce\\t\\t80\\t120\\t80\\t120\\t80\\t100\\t3\\tFALSE\\n363\\tSpheal\\tIce\\tWater\\t70\\t40\\t50\\t55\\t50\\t25\\t3\\tFALSE\\n364\\tSealeo\\tIce\\tWater\\t90\\t60\\t70\\t75\\t70\\t45\\t3\\tFALSE\\n365\\tWalrein\\tIce\\tWater\\t110\\t80\\t90\\t95\\t90\\t65\\t3\\tFALSE\\n366\\tClamperl\\tWater\\t\\t35\\t64\\t85\\t74\\t55\\t32\\t3\\tFALSE\\n367\\tHuntail\\tWater\\t\\t55\\t104\\t105\\t94\\t75\\t52\\t3\\tFALSE\\n368\\tGorebyss\\tWater\\t\\t55\\t84\\t105\\t114\\t75\\t52\\t3\\tFALSE\\n369\\tRelicanth\\tWater\\tRock\\t100\\t90\\t130\\t45\\t65\\t55\\t3\\tFALSE\\n370\\tLuvdisc\\tWater\\t\\t43\\t30\\t55\\t40\\t65\\t97\\t3\\tFALSE\\n371\\tBagon\\tDragon\\t\\t45\\t75\\t60\\t40\\t30\\t50\\t3\\tFALSE\\n372\\tShelgon\\tDragon\\t\\t65\\t95\\t100\\t60\\t50\\t50\\t3\\tFALSE\\n373\\tSalamence\\tDragon\\tFlying\\t95\\t135\\t80\\t110\\t80\\t100\\t3\\tFALSE\\n373\\tSalamenceMega Salamence\\tDragon\\tFlying\\t95\\t145\\t130\\t120\\t90\\t120\\t3\\tFALSE\\n374\\tBeldum\\tSteel\\tPsychic\\t40\\t55\\t80\\t35\\t60\\t30\\t3\\tFALSE\\n375\\tMetang\\tSteel\\tPsychic\\t60\\t75\\t100\\t55\\t80\\t50\\t3\\tFALSE\\n376\\tMetagross\\tSteel\\tPsychic\\t80\\t135\\t130\\t95\\t90\\t70\\t3\\tFALSE\\n376\\tMetagrossMega Metagross\\tSteel\\tPsychic\\t80\\t145\\t150\\t105\\t110\\t110\\t3\\tFALSE\\n377\\tRegirock\\tRock\\t\\t80\\t100\\t200\\t50\\t100\\t50\\t3\\tTRUE\\n378\\tRegice\\tIce\\t\\t80\\t50\\t100\\t100\\t200\\t50\\t3\\tTRUE\\n379\\tRegisteel\\tSteel\\t\\t80\\t75\\t150\\t75\\t150\\t50\\t3\\tTRUE\\n380\\tLatias\\tDragon\\tPsychic\\t80\\t80\\t90\\t110\\t130\\t110\\t3\\tTRUE\\n380\\tLatiasMega Latias\\tDragon\\tPsychic\\t80\\t100\\t120\\t140\\t150\\t110\\t3\\tTRUE\\n381\\tLatios\\tDragon\\tPsychic\\t80\\t90\\t80\\t130\\t110\\t110\\t3\\tTRUE\\n381\\tLatiosMega Latios\\tDragon\\tPsychic\\t80\\t130\\t100\\t160\\t120\\t110\\t3\\tTRUE\\n382\\tKyogre\\tWater\\t\\t100\\t100\\t90\\t150\\t140\\t90\\t3\\tTRUE\\n382\\tKyogrePrimal Kyogre\\tWater\\t\\t100\\t150\\t90\\t180\\t160\\t90\\t3\\tTRUE\\n383\\tGroudon\\tGround\\t\\t100\\t150\\t140\\t100\\t90\\t90\\t3\\tTRUE\\n383\\tGroudonPrimal Groudon\\tGround\\tFire\\t100\\t180\\t160\\t150\\t90\\t90\\t3\\tTRUE\\n384\\tRayquaza\\tDragon\\tFlying\\t105\\t150\\t90\\t150\\t90\\t95\\t3\\tTRUE\\n384\\tRayquazaMega Rayquaza\\tDragon\\tFlying\\t105\\t180\\t100\\t180\\t100\\t115\\t3\\tTRUE\\n385\\tJirachi\\tSteel\\tPsychic\\t100\\t100\\t100\\t100\\t100\\t100\\t3\\tTRUE\\n386\\tDeoxysNormal Forme\\tPsychic\\t\\t50\\t150\\t50\\t150\\t50\\t150\\t3\\tTRUE\\n386\\tDeoxysAttack Forme\\tPsychic\\t\\t50\\t180\\t20\\t180\\t20\\t150\\t3\\tTRUE\\n386\\tDeoxysDefense Forme\\tPsychic\\t\\t50\\t70\\t160\\t70\\t160\\t90\\t3\\tTRUE\\n386\\tDeoxysSpeed Forme\\tPsychic\\t\\t50\\t95\\t90\\t95\\t90\\t180\\t3\\tTRUE\\n387\\tTurtwig\\tGrass\\t\\t55\\t68\\t64\\t45\\t55\\t31\\t4\\tFALSE\\n388\\tGrotle\\tGrass\\t\\t75\\t89\\t85\\t55\\t65\\t36\\t4\\tFALSE\\n389\\tTorterra\\tGrass\\tGround\\t95\\t109\\t105\\t75\\t85\\t56\\t4\\tFALSE\\n390\\tChimchar\\tFire\\t\\t44\\t58\\t44\\t58\\t44\\t61\\t4\\tFALSE\\n391\\tMonferno\\tFire\\tFighting\\t64\\t78\\t52\\t78\\t52\\t81\\t4\\tFALSE\\n392\\tInfernape\\tFire\\tFighting\\t76\\t104\\t71\\t104\\t71\\t108\\t4\\tFALSE\\n393\\tPiplup\\tWater\\t\\t53\\t51\\t53\\t61\\t56\\t40\\t4\\tFALSE\\n394\\tPrinplup\\tWater\\t\\t64\\t66\\t68\\t81\\t76\\t50\\t4\\tFALSE\\n395\\tEmpoleon\\tWater\\tSteel\\t84\\t86\\t88\\t111\\t101\\t60\\t4\\tFALSE\\n396\\tStarly\\tNormal\\tFlying\\t40\\t55\\t30\\t30\\t30\\t60\\t4\\tFALSE\\n397\\tStaravia\\tNormal\\tFlying\\t55\\t75\\t50\\t40\\t40\\t80\\t4\\tFALSE\\n398\\tStaraptor\\tNormal\\tFlying\\t85\\t120\\t70\\t50\\t60\\t100\\t4\\tFALSE\\n399\\tBidoof\\tNormal\\t\\t59\\t45\\t40\\t35\\t40\\t31\\t4\\tFALSE\\n400\\tBibarel\\tNormal\\tWater\\t79\\t85\\t60\\t55\\t60\\t71\\t4\\tFALSE\\n401\\tKricketot\\tBug\\t\\t37\\t25\\t41\\t25\\t41\\t25\\t4\\tFALSE\\n402\\tKricketune\\tBug\\t\\t77\\t85\\t51\\t55\\t51\\t65\\t4\\tFALSE\\n403\\tShinx\\tElectric\\t\\t45\\t65\\t34\\t40\\t34\\t45\\t4\\tFALSE\\n404\\tLuxio\\tElectric\\t\\t60\\t85\\t49\\t60\\t49\\t60\\t4\\tFALSE\\n405\\tLuxray\\tElectric\\t\\t80\\t120\\t79\\t95\\t79\\t70\\t4\\tFALSE\\n406\\tBudew\\tGrass\\tPoison\\t40\\t30\\t35\\t50\\t70\\t55\\t4\\tFALSE\\n407\\tRoserade\\tGrass\\tPoison\\t60\\t70\\t65\\t125\\t105\\t90\\t4\\tFALSE\\n408\\tCranidos\\tRock\\t\\t67\\t125\\t40\\t30\\t30\\t58\\t4\\tFALSE\\n409\\tRampardos\\tRock\\t\\t97\\t165\\t60\\t65\\t50\\t58\\t4\\tFALSE\\n410\\tShieldon\\tRock\\tSteel\\t30\\t42\\t118\\t42\\t88\\t30\\t4\\tFALSE\\n411\\tBastiodon\\tRock\\tSteel\\t60\\t52\\t168\\t47\\t138\\t30\\t4\\tFALSE\\n412\\tBurmy\\tBug\\t\\t40\\t29\\t45\\t29\\t45\\t36\\t4\\tFALSE\\n413\\tWormadamPlant Cloak\\tBug\\tGrass\\t60\\t59\\t85\\t79\\t105\\t36\\t4\\tFALSE\\n413\\tWormadamSandy Cloak\\tBug\\tGround\\t60\\t79\\t105\\t59\\t85\\t36\\t4\\tFALSE\\n413\\tWormadamTrash Cloak\\tBug\\tSteel\\t60\\t69\\t95\\t69\\t95\\t36\\t4\\tFALSE\\n414\\tMothim\\tBug\\tFlying\\t70\\t94\\t50\\t94\\t50\\t66\\t4\\tFALSE\\n415\\tCombee\\tBug\\tFlying\\t30\\t30\\t42\\t30\\t42\\t70\\t4\\tFALSE\\n416\\tVespiquen\\tBug\\tFlying\\t70\\t80\\t102\\t80\\t102\\t40\\t4\\tFALSE\\n417\\tPachirisu\\tElectric\\t\\t60\\t45\\t70\\t45\\t90\\t95\\t4\\tFALSE\\n418\\tBuizel\\tWater\\t\\t55\\t65\\t35\\t60\\t30\\t85\\t4\\tFALSE\\n419\\tFloatzel\\tWater\\t\\t85\\t105\\t55\\t85\\t50\\t115\\t4\\tFALSE\\n420\\tCherubi\\tGrass\\t\\t45\\t35\\t45\\t62\\t53\\t35\\t4\\tFALSE\\n421\\tCherrim\\tGrass\\t\\t70\\t60\\t70\\t87\\t78\\t85\\t4\\tFALSE\\n422\\tShellos\\tWater\\t\\t76\\t48\\t48\\t57\\t62\\t34\\t4\\tFALSE\\n423\\tGastrodon\\tWater\\tGround\\t111\\t83\\t68\\t92\\t82\\t39\\t4\\tFALSE\\n424\\tAmbipom\\tNormal\\t\\t75\\t100\\t66\\t60\\t66\\t115\\t4\\tFALSE\\n425\\tDrifloon\\tGhost\\tFlying\\t90\\t50\\t34\\t60\\t44\\t70\\t4\\tFALSE\\n426\\tDrifblim\\tGhost\\tFlying\\t150\\t80\\t44\\t90\\t54\\t80\\t4\\tFALSE\\n427\\tBuneary\\tNormal\\t\\t55\\t66\\t44\\t44\\t56\\t85\\t4\\tFALSE\\n428\\tLopunny\\tNormal\\t\\t65\\t76\\t84\\t54\\t96\\t105\\t4\\tFALSE\\n428\\tLopunnyMega Lopunny\\tNormal\\tFighting\\t65\\t136\\t94\\t54\\t96\\t135\\t4\\tFALSE\\n429\\tMismagius\\tGhost\\t\\t60\\t60\\t60\\t105\\t105\\t105\\t4\\tFALSE\\n430\\tHonchkrow\\tDark\\tFlying\\t100\\t125\\t52\\t105\\t52\\t71\\t4\\tFALSE\\n431\\tGlameow\\tNormal\\t\\t49\\t55\\t42\\t42\\t37\\t85\\t4\\tFALSE\\n432\\tPurugly\\tNormal\\t\\t71\\t82\\t64\\t64\\t59\\t112\\t4\\tFALSE\\n433\\tChingling\\tPsychic\\t\\t45\\t30\\t50\\t65\\t50\\t45\\t4\\tFALSE\\n434\\tStunky\\tPoison\\tDark\\t63\\t63\\t47\\t41\\t41\\t74\\t4\\tFALSE\\n435\\tSkuntank\\tPoison\\tDark\\t103\\t93\\t67\\t71\\t61\\t84\\t4\\tFALSE\\n436\\tBronzor\\tSteel\\tPsychic\\t57\\t24\\t86\\t24\\t86\\t23\\t4\\tFALSE\\n437\\tBronzong\\tSteel\\tPsychic\\t67\\t89\\t116\\t79\\t116\\t33\\t4\\tFALSE\\n438\\tBonsly\\tRock\\t\\t50\\t80\\t95\\t10\\t45\\t10\\t4\\tFALSE\\n439\\tMime Jr.\\tPsychic\\tFairy\\t20\\t25\\t45\\t70\\t90\\t60\\t4\\tFALSE\\n440\\tHappiny\\tNormal\\t\\t100\\t5\\t5\\t15\\t65\\t30\\t4\\tFALSE\\n441\\tChatot\\tNormal\\tFlying\\t76\\t65\\t45\\t92\\t42\\t91\\t4\\tFALSE\\n442\\tSpiritomb\\tGhost\\tDark\\t50\\t92\\t108\\t92\\t108\\t35\\t4\\tFALSE\\n443\\tGible\\tDragon\\tGround\\t58\\t70\\t45\\t40\\t45\\t42\\t4\\tFALSE\\n444\\tGabite\\tDragon\\tGround\\t68\\t90\\t65\\t50\\t55\\t82\\t4\\tFALSE\\n445\\tGarchomp\\tDragon\\tGround\\t108\\t130\\t95\\t80\\t85\\t102\\t4\\tFALSE\\n445\\tGarchompMega Garchomp\\tDragon\\tGround\\t108\\t170\\t115\\t120\\t95\\t92\\t4\\tFALSE\\n446\\tMunchlax\\tNormal\\t\\t135\\t85\\t40\\t40\\t85\\t5\\t4\\tFALSE\\n447\\tRiolu\\tFighting\\t\\t40\\t70\\t40\\t35\\t40\\t60\\t4\\tFALSE\\n448\\tLucario\\tFighting\\tSteel\\t70\\t110\\t70\\t115\\t70\\t90\\t4\\tFALSE\\n448\\tLucarioMega Lucario\\tFighting\\tSteel\\t70\\t145\\t88\\t140\\t70\\t112\\t4\\tFALSE\\n449\\tHippopotas\\tGround\\t\\t68\\t72\\t78\\t38\\t42\\t32\\t4\\tFALSE\\n450\\tHippowdon\\tGround\\t\\t108\\t112\\t118\\t68\\t72\\t47\\t4\\tFALSE\\n451\\tSkorupi\\tPoison\\tBug\\t40\\t50\\t90\\t30\\t55\\t65\\t4\\tFALSE\\n452\\tDrapion\\tPoison\\tDark\\t70\\t90\\t110\\t60\\t75\\t95\\t4\\tFALSE\\n453\\tCroagunk\\tPoison\\tFighting\\t48\\t61\\t40\\t61\\t40\\t50\\t4\\tFALSE\\n454\\tToxicroak\\tPoison\\tFighting\\t83\\t106\\t65\\t86\\t65\\t85\\t4\\tFALSE\\n455\\tCarnivine\\tGrass\\t\\t74\\t100\\t72\\t90\\t72\\t46\\t4\\tFALSE\\n456\\tFinneon\\tWater\\t\\t49\\t49\\t56\\t49\\t61\\t66\\t4\\tFALSE\\n457\\tLumineon\\tWater\\t\\t69\\t69\\t76\\t69\\t86\\t91\\t4\\tFALSE\\n458\\tMantyke\\tWater\\tFlying\\t45\\t20\\t50\\t60\\t120\\t50\\t4\\tFALSE\\n459\\tSnover\\tGrass\\tIce\\t60\\t62\\t50\\t62\\t60\\t40\\t4\\tFALSE\\n460\\tAbomasnow\\tGrass\\tIce\\t90\\t92\\t75\\t92\\t85\\t60\\t4\\tFALSE\\n460\\tAbomasnowMega Abomasnow\\tGrass\\tIce\\t90\\t132\\t105\\t132\\t105\\t30\\t4\\tFALSE\\n461\\tWeavile\\tDark\\tIce\\t70\\t120\\t65\\t45\\t85\\t125\\t4\\tFALSE\\n462\\tMagnezone\\tElectric\\tSteel\\t70\\t70\\t115\\t130\\t90\\t60\\t4\\tFALSE\\n463\\tLickilicky\\tNormal\\t\\t110\\t85\\t95\\t80\\t95\\t50\\t4\\tFALSE\\n464\\tRhyperior\\tGround\\tRock\\t115\\t140\\t130\\t55\\t55\\t40\\t4\\tFALSE\\n465\\tTangrowth\\tGrass\\t\\t100\\t100\\t125\\t110\\t50\\t50\\t4\\tFALSE\\n466\\tElectivire\\tElectric\\t\\t75\\t123\\t67\\t95\\t85\\t95\\t4\\tFALSE\\n467\\tMagmortar\\tFire\\t\\t75\\t95\\t67\\t125\\t95\\t83\\t4\\tFALSE\\n468\\tTogekiss\\tFairy\\tFlying\\t85\\t50\\t95\\t120\\t115\\t80\\t4\\tFALSE\\n469\\tYanmega\\tBug\\tFlying\\t86\\t76\\t86\\t116\\t56\\t95\\t4\\tFALSE\\n470\\tLeafeon\\tGrass\\t\\t65\\t110\\t130\\t60\\t65\\t95\\t4\\tFALSE\\n471\\tGlaceon\\tIce\\t\\t65\\t60\\t110\\t130\\t95\\t65\\t4\\tFALSE\\n472\\tGliscor\\tGround\\tFlying\\t75\\t95\\t125\\t45\\t75\\t95\\t4\\tFALSE\\n473\\tMamoswine\\tIce\\tGround\\t110\\t130\\t80\\t70\\t60\\t80\\t4\\tFALSE\\n474\\tPorygon-Z\\tNormal\\t\\t85\\t80\\t70\\t135\\t75\\t90\\t4\\tFALSE\\n475\\tGallade\\tPsychic\\tFighting\\t68\\t125\\t65\\t65\\t115\\t80\\t4\\tFALSE\\n475\\tGalladeMega Gallade\\tPsychic\\tFighting\\t68\\t165\\t95\\t65\\t115\\t110\\t4\\tFALSE\\n476\\tProbopass\\tRock\\tSteel\\t60\\t55\\t145\\t75\\t150\\t40\\t4\\tFALSE\\n477\\tDusknoir\\tGhost\\t\\t45\\t100\\t135\\t65\\t135\\t45\\t4\\tFALSE\\n478\\tFroslass\\tIce\\tGhost\\t70\\t80\\t70\\t80\\t70\\t110\\t4\\tFALSE\\n479\\tRotom\\tElectric\\tGhost\\t50\\t50\\t77\\t95\\t77\\t91\\t4\\tFALSE\\n479\\tRotomHeat Rotom\\tElectric\\tFire\\t50\\t65\\t107\\t105\\t107\\t86\\t4\\tFALSE\\n479\\tRotomWash Rotom\\tElectric\\tWater\\t50\\t65\\t107\\t105\\t107\\t86\\t4\\tFALSE\\n479\\tRotomFrost Rotom\\tElectric\\tIce\\t50\\t65\\t107\\t105\\t107\\t86\\t4\\tFALSE\\n479\\tRotomFan Rotom\\tElectric\\tFlying\\t50\\t65\\t107\\t105\\t107\\t86\\t4\\tFALSE\\n479\\tRotomMow Rotom\\tElectric\\tGrass\\t50\\t65\\t107\\t105\\t107\\t86\\t4\\tFALSE\\n480\\tUxie\\tPsychic\\t\\t75\\t75\\t130\\t75\\t130\\t95\\t4\\tTRUE\\n481\\tMesprit\\tPsychic\\t\\t80\\t105\\t105\\t105\\t105\\t80\\t4\\tTRUE\\n482\\tAzelf\\tPsychic\\t\\t75\\t125\\t70\\t125\\t70\\t115\\t4\\tTRUE\\n483\\tDialga\\tSteel\\tDragon\\t100\\t120\\t120\\t150\\t100\\t90\\t4\\tTRUE\\n484\\tPalkia\\tWater\\tDragon\\t90\\t120\\t100\\t150\\t120\\t100\\t4\\tTRUE\\n485\\tHeatran\\tFire\\tSteel\\t91\\t90\\t106\\t130\\t106\\t77\\t4\\tTRUE\\n486\\tRegigigas\\tNormal\\t\\t110\\t160\\t110\\t80\\t110\\t100\\t4\\tTRUE\\n487\\tGiratinaAltered Forme\\tGhost\\tDragon\\t150\\t100\\t120\\t100\\t120\\t90\\t4\\tTRUE\\n487\\tGiratinaOrigin Forme\\tGhost\\tDragon\\t150\\t120\\t100\\t120\\t100\\t90\\t4\\tTRUE\\n488\\tCresselia\\tPsychic\\t\\t120\\t70\\t120\\t75\\t130\\t85\\t4\\tFALSE\\n489\\tPhione\\tWater\\t\\t80\\t80\\t80\\t80\\t80\\t80\\t4\\tFALSE\\n490\\tManaphy\\tWater\\t\\t100\\t100\\t100\\t100\\t100\\t100\\t4\\tFALSE\\n491\\tDarkrai\\tDark\\t\\t70\\t90\\t90\\t135\\t90\\t125\\t4\\tTRUE\\n492\\tShayminLand Forme\\tGrass\\t\\t100\\t100\\t100\\t100\\t100\\t100\\t4\\tTRUE\\n492\\tShayminSky Forme\\tGrass\\tFlying\\t100\\t103\\t75\\t120\\t75\\t127\\t4\\tTRUE\\n493\\tArceus\\tNormal\\t\\t120\\t120\\t120\\t120\\t120\\t120\\t4\\tTRUE\\n494\\tVictini\\tPsychic\\tFire\\t100\\t100\\t100\\t100\\t100\\t100\\t5\\tTRUE\\n495\\tSnivy\\tGrass\\t\\t45\\t45\\t55\\t45\\t55\\t63\\t5\\tFALSE\\n496\\tServine\\tGrass\\t\\t60\\t60\\t75\\t60\\t75\\t83\\t5\\tFALSE\\n497\\tSerperior\\tGrass\\t\\t75\\t75\\t95\\t75\\t95\\t113\\t5\\tFALSE\\n498\\tTepig\\tFire\\t\\t65\\t63\\t45\\t45\\t45\\t45\\t5\\tFALSE\\n499\\tPignite\\tFire\\tFighting\\t90\\t93\\t55\\t70\\t55\\t55\\t5\\tFALSE\\n500\\tEmboar\\tFire\\tFighting\\t110\\t123\\t65\\t100\\t65\\t65\\t5\\tFALSE\\n501\\tOshawott\\tWater\\t\\t55\\t55\\t45\\t63\\t45\\t45\\t5\\tFALSE\\n502\\tDewott\\tWater\\t\\t75\\t75\\t60\\t83\\t60\\t60\\t5\\tFALSE\\n503\\tSamurott\\tWater\\t\\t95\\t100\\t85\\t108\\t70\\t70\\t5\\tFALSE\\n504\\tPatrat\\tNormal\\t\\t45\\t55\\t39\\t35\\t39\\t42\\t5\\tFALSE\\n505\\tWatchog\\tNormal\\t\\t60\\t85\\t69\\t60\\t69\\t77\\t5\\tFALSE\\n506\\tLillipup\\tNormal\\t\\t45\\t60\\t45\\t25\\t45\\t55\\t5\\tFALSE\\n507\\tHerdier\\tNormal\\t\\t65\\t80\\t65\\t35\\t65\\t60\\t5\\tFALSE\\n508\\tStoutland\\tNormal\\t\\t85\\t110\\t90\\t45\\t90\\t80\\t5\\tFALSE\\n509\\tPurrloin\\tDark\\t\\t41\\t50\\t37\\t50\\t37\\t66\\t5\\tFALSE\\n510\\tLiepard\\tDark\\t\\t64\\t88\\t50\\t88\\t50\\t106\\t5\\tFALSE\\n511\\tPansage\\tGrass\\t\\t50\\t53\\t48\\t53\\t48\\t64\\t5\\tFALSE\\n512\\tSimisage\\tGrass\\t\\t75\\t98\\t63\\t98\\t63\\t101\\t5\\tFALSE\\n513\\tPansear\\tFire\\t\\t50\\t53\\t48\\t53\\t48\\t64\\t5\\tFALSE\\n514\\tSimisear\\tFire\\t\\t75\\t98\\t63\\t98\\t63\\t101\\t5\\tFALSE\\n515\\tPanpour\\tWater\\t\\t50\\t53\\t48\\t53\\t48\\t64\\t5\\tFALSE\\n516\\tSimipour\\tWater\\t\\t75\\t98\\t63\\t98\\t63\\t101\\t5\\tFALSE\\n517\\tMunna\\tPsychic\\t\\t76\\t25\\t45\\t67\\t55\\t24\\t5\\tFALSE\\n518\\tMusharna\\tPsychic\\t\\t116\\t55\\t85\\t107\\t95\\t29\\t5\\tFALSE\\n519\\tPidove\\tNormal\\tFlying\\t50\\t55\\t50\\t36\\t30\\t43\\t5\\tFALSE\\n520\\tTranquill\\tNormal\\tFlying\\t62\\t77\\t62\\t50\\t42\\t65\\t5\\tFALSE\\n521\\tUnfezant\\tNormal\\tFlying\\t80\\t115\\t80\\t65\\t55\\t93\\t5\\tFALSE\\n522\\tBlitzle\\tElectric\\t\\t45\\t60\\t32\\t50\\t32\\t76\\t5\\tFALSE\\n523\\tZebstrika\\tElectric\\t\\t75\\t100\\t63\\t80\\t63\\t116\\t5\\tFALSE\\n524\\tRoggenrola\\tRock\\t\\t55\\t75\\t85\\t25\\t25\\t15\\t5\\tFALSE\\n525\\tBoldore\\tRock\\t\\t70\\t105\\t105\\t50\\t40\\t20\\t5\\tFALSE\\n526\\tGigalith\\tRock\\t\\t85\\t135\\t130\\t60\\t80\\t25\\t5\\tFALSE\\n527\\tWoobat\\tPsychic\\tFlying\\t55\\t45\\t43\\t55\\t43\\t72\\t5\\tFALSE\\n528\\tSwoobat\\tPsychic\\tFlying\\t67\\t57\\t55\\t77\\t55\\t114\\t5\\tFALSE\\n529\\tDrilbur\\tGround\\t\\t60\\t85\\t40\\t30\\t45\\t68\\t5\\tFALSE\\n530\\tExcadrill\\tGround\\tSteel\\t110\\t135\\t60\\t50\\t65\\t88\\t5\\tFALSE\\n531\\tAudino\\tNormal\\t\\t103\\t60\\t86\\t60\\t86\\t50\\t5\\tFALSE\\n531\\tAudinoMega Audino\\tNormal\\tFairy\\t103\\t60\\t126\\t80\\t126\\t50\\t5\\tFALSE\\n532\\tTimburr\\tFighting\\t\\t75\\t80\\t55\\t25\\t35\\t35\\t5\\tFALSE\\n533\\tGurdurr\\tFighting\\t\\t85\\t105\\t85\\t40\\t50\\t40\\t5\\tFALSE\\n534\\tConkeldurr\\tFighting\\t\\t105\\t140\\t95\\t55\\t65\\t45\\t5\\tFALSE\\n535\\tTympole\\tWater\\t\\t50\\t50\\t40\\t50\\t40\\t64\\t5\\tFALSE\\n536\\tPalpitoad\\tWater\\tGround\\t75\\t65\\t55\\t65\\t55\\t69\\t5\\tFALSE\\n537\\tSeismitoad\\tWater\\tGround\\t105\\t95\\t75\\t85\\t75\\t74\\t5\\tFALSE\\n538\\tThroh\\tFighting\\t\\t120\\t100\\t85\\t30\\t85\\t45\\t5\\tFALSE\\n539\\tSawk\\tFighting\\t\\t75\\t125\\t75\\t30\\t75\\t85\\t5\\tFALSE\\n540\\tSewaddle\\tBug\\tGrass\\t45\\t53\\t70\\t40\\t60\\t42\\t5\\tFALSE\\n541\\tSwadloon\\tBug\\tGrass\\t55\\t63\\t90\\t50\\t80\\t42\\t5\\tFALSE\\n542\\tLeavanny\\tBug\\tGrass\\t75\\t103\\t80\\t70\\t80\\t92\\t5\\tFALSE\\n543\\tVenipede\\tBug\\tPoison\\t30\\t45\\t59\\t30\\t39\\t57\\t5\\tFALSE\\n544\\tWhirlipede\\tBug\\tPoison\\t40\\t55\\t99\\t40\\t79\\t47\\t5\\tFALSE\\n545\\tScolipede\\tBug\\tPoison\\t60\\t100\\t89\\t55\\t69\\t112\\t5\\tFALSE\\n546\\tCottonee\\tGrass\\tFairy\\t40\\t27\\t60\\t37\\t50\\t66\\t5\\tFALSE\\n547\\tWhimsicott\\tGrass\\tFairy\\t60\\t67\\t85\\t77\\t75\\t116\\t5\\tFALSE\\n548\\tPetilil\\tGrass\\t\\t45\\t35\\t50\\t70\\t50\\t30\\t5\\tFALSE\\n549\\tLilligant\\tGrass\\t\\t70\\t60\\t75\\t110\\t75\\t90\\t5\\tFALSE\\n550\\tBasculin\\tWater\\t\\t70\\t92\\t65\\t80\\t55\\t98\\t5\\tFALSE\\n551\\tSandile\\tGround\\tDark\\t50\\t72\\t35\\t35\\t35\\t65\\t5\\tFALSE\\n552\\tKrokorok\\tGround\\tDark\\t60\\t82\\t45\\t45\\t45\\t74\\t5\\tFALSE\\n553\\tKrookodile\\tGround\\tDark\\t95\\t117\\t80\\t65\\t70\\t92\\t5\\tFALSE\\n554\\tDarumaka\\tFire\\t\\t70\\t90\\t45\\t15\\t45\\t50\\t5\\tFALSE\\n555\\tDarmanitanStandard Mode\\tFire\\t\\t105\\t140\\t55\\t30\\t55\\t95\\t5\\tFALSE\\n555\\tDarmanitanZen Mode\\tFire\\tPsychic\\t105\\t30\\t105\\t140\\t105\\t55\\t5\\tFALSE\\n556\\tMaractus\\tGrass\\t\\t75\\t86\\t67\\t106\\t67\\t60\\t5\\tFALSE\\n557\\tDwebble\\tBug\\tRock\\t50\\t65\\t85\\t35\\t35\\t55\\t5\\tFALSE\\n558\\tCrustle\\tBug\\tRock\\t70\\t95\\t125\\t65\\t75\\t45\\t5\\tFALSE\\n559\\tScraggy\\tDark\\tFighting\\t50\\t75\\t70\\t35\\t70\\t48\\t5\\tFALSE\\n560\\tScrafty\\tDark\\tFighting\\t65\\t90\\t115\\t45\\t115\\t58\\t5\\tFALSE\\n561\\tSigilyph\\tPsychic\\tFlying\\t72\\t58\\t80\\t103\\t80\\t97\\t5\\tFALSE\\n562\\tYamask\\tGhost\\t\\t38\\t30\\t85\\t55\\t65\\t30\\t5\\tFALSE\\n563\\tCofagrigus\\tGhost\\t\\t58\\t50\\t145\\t95\\t105\\t30\\t5\\tFALSE\\n564\\tTirtouga\\tWater\\tRock\\t54\\t78\\t103\\t53\\t45\\t22\\t5\\tFALSE\\n565\\tCarracosta\\tWater\\tRock\\t74\\t108\\t133\\t83\\t65\\t32\\t5\\tFALSE\\n566\\tArchen\\tRock\\tFlying\\t55\\t112\\t45\\t74\\t45\\t70\\t5\\tFALSE\\n567\\tArcheops\\tRock\\tFlying\\t75\\t140\\t65\\t112\\t65\\t110\\t5\\tFALSE\\n568\\tTrubbish\\tPoison\\t\\t50\\t50\\t62\\t40\\t62\\t65\\t5\\tFALSE\\n569\\tGarbodor\\tPoison\\t\\t80\\t95\\t82\\t60\\t82\\t75\\t5\\tFALSE\\n570\\tZorua\\tDark\\t\\t40\\t65\\t40\\t80\\t40\\t65\\t5\\tFALSE\\n571\\tZoroark\\tDark\\t\\t60\\t105\\t60\\t120\\t60\\t105\\t5\\tFALSE\\n572\\tMinccino\\tNormal\\t\\t55\\t50\\t40\\t40\\t40\\t75\\t5\\tFALSE\\n573\\tCinccino\\tNormal\\t\\t75\\t95\\t60\\t65\\t60\\t115\\t5\\tFALSE\\n574\\tGothita\\tPsychic\\t\\t45\\t30\\t50\\t55\\t65\\t45\\t5\\tFALSE\\n575\\tGothorita\\tPsychic\\t\\t60\\t45\\t70\\t75\\t85\\t55\\t5\\tFALSE\\n576\\tGothitelle\\tPsychic\\t\\t70\\t55\\t95\\t95\\t110\\t65\\t5\\tFALSE\\n577\\tSolosis\\tPsychic\\t\\t45\\t30\\t40\\t105\\t50\\t20\\t5\\tFALSE\\n578\\tDuosion\\tPsychic\\t\\t65\\t40\\t50\\t125\\t60\\t30\\t5\\tFALSE\\n579\\tReuniclus\\tPsychic\\t\\t110\\t65\\t75\\t125\\t85\\t30\\t5\\tFALSE\\n580\\tDucklett\\tWater\\tFlying\\t62\\t44\\t50\\t44\\t50\\t55\\t5\\tFALSE\\n581\\tSwanna\\tWater\\tFlying\\t75\\t87\\t63\\t87\\t63\\t98\\t5\\tFALSE\\n582\\tVanillite\\tIce\\t\\t36\\t50\\t50\\t65\\t60\\t44\\t5\\tFALSE\\n583\\tVanillish\\tIce\\t\\t51\\t65\\t65\\t80\\t75\\t59\\t5\\tFALSE\\n584\\tVanilluxe\\tIce\\t\\t71\\t95\\t85\\t110\\t95\\t79\\t5\\tFALSE\\n585\\tDeerling\\tNormal\\tGrass\\t60\\t60\\t50\\t40\\t50\\t75\\t5\\tFALSE\\n586\\tSawsbuck\\tNormal\\tGrass\\t80\\t100\\t70\\t60\\t70\\t95\\t5\\tFALSE\\n587\\tEmolga\\tElectric\\tFlying\\t55\\t75\\t60\\t75\\t60\\t103\\t5\\tFALSE\\n588\\tKarrablast\\tBug\\t\\t50\\t75\\t45\\t40\\t45\\t60\\t5\\tFALSE\\n589\\tEscavalier\\tBug\\tSteel\\t70\\t135\\t105\\t60\\t105\\t20\\t5\\tFALSE\\n590\\tFoongus\\tGrass\\tPoison\\t69\\t55\\t45\\t55\\t55\\t15\\t5\\tFALSE\\n591\\tAmoonguss\\tGrass\\tPoison\\t114\\t85\\t70\\t85\\t80\\t30\\t5\\tFALSE\\n592\\tFrillish\\tWater\\tGhost\\t55\\t40\\t50\\t65\\t85\\t40\\t5\\tFALSE\\n593\\tJellicent\\tWater\\tGhost\\t100\\t60\\t70\\t85\\t105\\t60\\t5\\tFALSE\\n594\\tAlomomola\\tWater\\t\\t165\\t75\\t80\\t40\\t45\\t65\\t5\\tFALSE\\n595\\tJoltik\\tBug\\tElectric\\t50\\t47\\t50\\t57\\t50\\t65\\t5\\tFALSE\\n596\\tGalvantula\\tBug\\tElectric\\t70\\t77\\t60\\t97\\t60\\t108\\t5\\tFALSE\\n597\\tFerroseed\\tGrass\\tSteel\\t44\\t50\\t91\\t24\\t86\\t10\\t5\\tFALSE\\n598\\tFerrothorn\\tGrass\\tSteel\\t74\\t94\\t131\\t54\\t116\\t20\\t5\\tFALSE\\n599\\tKlink\\tSteel\\t\\t40\\t55\\t70\\t45\\t60\\t30\\t5\\tFALSE\\n600\\tKlang\\tSteel\\t\\t60\\t80\\t95\\t70\\t85\\t50\\t5\\tFALSE\\n601\\tKlinklang\\tSteel\\t\\t60\\t100\\t115\\t70\\t85\\t90\\t5\\tFALSE\\n602\\tTynamo\\tElectric\\t\\t35\\t55\\t40\\t45\\t40\\t60\\t5\\tFALSE\\n603\\tEelektrik\\tElectric\\t\\t65\\t85\\t70\\t75\\t70\\t40\\t5\\tFALSE\\n604\\tEelektross\\tElectric\\t\\t85\\t115\\t80\\t105\\t80\\t50\\t5\\tFALSE\\n605\\tElgyem\\tPsychic\\t\\t55\\t55\\t55\\t85\\t55\\t30\\t5\\tFALSE\\n606\\tBeheeyem\\tPsychic\\t\\t75\\t75\\t75\\t125\\t95\\t40\\t5\\tFALSE\\n607\\tLitwick\\tGhost\\tFire\\t50\\t30\\t55\\t65\\t55\\t20\\t5\\tFALSE\\n608\\tLampent\\tGhost\\tFire\\t60\\t40\\t60\\t95\\t60\\t55\\t5\\tFALSE\\n609\\tChandelure\\tGhost\\tFire\\t60\\t55\\t90\\t145\\t90\\t80\\t5\\tFALSE\\n610\\tAxew\\tDragon\\t\\t46\\t87\\t60\\t30\\t40\\t57\\t5\\tFALSE\\n611\\tFraxure\\tDragon\\t\\t66\\t117\\t70\\t40\\t50\\t67\\t5\\tFALSE\\n612\\tHaxorus\\tDragon\\t\\t76\\t147\\t90\\t60\\t70\\t97\\t5\\tFALSE\\n613\\tCubchoo\\tIce\\t\\t55\\t70\\t40\\t60\\t40\\t40\\t5\\tFALSE\\n614\\tBeartic\\tIce\\t\\t95\\t110\\t80\\t70\\t80\\t50\\t5\\tFALSE\\n615\\tCryogonal\\tIce\\t\\t70\\t50\\t30\\t95\\t135\\t105\\t5\\tFALSE\\n616\\tShelmet\\tBug\\t\\t50\\t40\\t85\\t40\\t65\\t25\\t5\\tFALSE\\n617\\tAccelgor\\tBug\\t\\t80\\t70\\t40\\t100\\t60\\t145\\t5\\tFALSE\\n618\\tStunfisk\\tGround\\tElectric\\t109\\t66\\t84\\t81\\t99\\t32\\t5\\tFALSE\\n619\\tMienfoo\\tFighting\\t\\t45\\t85\\t50\\t55\\t50\\t65\\t5\\tFALSE\\n620\\tMienshao\\tFighting\\t\\t65\\t125\\t60\\t95\\t60\\t105\\t5\\tFALSE\\n621\\tDruddigon\\tDragon\\t\\t77\\t120\\t90\\t60\\t90\\t48\\t5\\tFALSE\\n622\\tGolett\\tGround\\tGhost\\t59\\t74\\t50\\t35\\t50\\t35\\t5\\tFALSE\\n623\\tGolurk\\tGround\\tGhost\\t89\\t124\\t80\\t55\\t80\\t55\\t5\\tFALSE\\n624\\tPawniard\\tDark\\tSteel\\t45\\t85\\t70\\t40\\t40\\t60\\t5\\tFALSE\\n625\\tBisharp\\tDark\\tSteel\\t65\\t125\\t100\\t60\\t70\\t70\\t5\\tFALSE\\n626\\tBouffalant\\tNormal\\t\\t95\\t110\\t95\\t40\\t95\\t55\\t5\\tFALSE\\n627\\tRufflet\\tNormal\\tFlying\\t70\\t83\\t50\\t37\\t50\\t60\\t5\\tFALSE\\n628\\tBraviary\\tNormal\\tFlying\\t100\\t123\\t75\\t57\\t75\\t80\\t5\\tFALSE\\n629\\tVullaby\\tDark\\tFlying\\t70\\t55\\t75\\t45\\t65\\t60\\t5\\tFALSE\\n630\\tMandibuzz\\tDark\\tFlying\\t110\\t65\\t105\\t55\\t95\\t80\\t5\\tFALSE\\n631\\tHeatmor\\tFire\\t\\t85\\t97\\t66\\t105\\t66\\t65\\t5\\tFALSE\\n632\\tDurant\\tBug\\tSteel\\t58\\t109\\t112\\t48\\t48\\t109\\t5\\tFALSE\\n633\\tDeino\\tDark\\tDragon\\t52\\t65\\t50\\t45\\t50\\t38\\t5\\tFALSE\\n634\\tZweilous\\tDark\\tDragon\\t72\\t85\\t70\\t65\\t70\\t58\\t5\\tFALSE\\n635\\tHydreigon\\tDark\\tDragon\\t92\\t105\\t90\\t125\\t90\\t98\\t5\\tFALSE\\n636\\tLarvesta\\tBug\\tFire\\t55\\t85\\t55\\t50\\t55\\t60\\t5\\tFALSE\\n637\\tVolcarona\\tBug\\tFire\\t85\\t60\\t65\\t135\\t105\\t100\\t5\\tFALSE\\n638\\tCobalion\\tSteel\\tFighting\\t91\\t90\\t129\\t90\\t72\\t108\\t5\\tTRUE\\n639\\tTerrakion\\tRock\\tFighting\\t91\\t129\\t90\\t72\\t90\\t108\\t5\\tTRUE\\n640\\tVirizion\\tGrass\\tFighting\\t91\\t90\\t72\\t90\\t129\\t108\\t5\\tTRUE\\n641\\tTornadusIncarnate Forme\\tFlying\\t\\t79\\t115\\t70\\t125\\t80\\t111\\t5\\tTRUE\\n641\\tTornadusTherian Forme\\tFlying\\t\\t79\\t100\\t80\\t110\\t90\\t121\\t5\\tTRUE\\n642\\tThundurusIncarnate Forme\\tElectric\\tFlying\\t79\\t115\\t70\\t125\\t80\\t111\\t5\\tTRUE\\n642\\tThundurusTherian Forme\\tElectric\\tFlying\\t79\\t105\\t70\\t145\\t80\\t101\\t5\\tTRUE\\n643\\tReshiram\\tDragon\\tFire\\t100\\t120\\t100\\t150\\t120\\t90\\t5\\tTRUE\\n644\\tZekrom\\tDragon\\tElectric\\t100\\t150\\t120\\t120\\t100\\t90\\t5\\tTRUE\\n645\\tLandorusIncarnate Forme\\tGround\\tFlying\\t89\\t125\\t90\\t115\\t80\\t101\\t5\\tTRUE\\n645\\tLandorusTherian Forme\\tGround\\tFlying\\t89\\t145\\t90\\t105\\t80\\t91\\t5\\tTRUE\\n646\\tKyurem\\tDragon\\tIce\\t125\\t130\\t90\\t130\\t90\\t95\\t5\\tTRUE\\n646\\tKyuremBlack Kyurem\\tDragon\\tIce\\t125\\t170\\t100\\t120\\t90\\t95\\t5\\tTRUE\\n646\\tKyuremWhite Kyurem\\tDragon\\tIce\\t125\\t120\\t90\\t170\\t100\\t95\\t5\\tTRUE\\n647\\tKeldeoOrdinary Forme\\tWater\\tFighting\\t91\\t72\\t90\\t129\\t90\\t108\\t5\\tFALSE\\n647\\tKeldeoResolute Forme\\tWater\\tFighting\\t91\\t72\\t90\\t129\\t90\\t108\\t5\\tFALSE\\n648\\tMeloettaAria Forme\\tNormal\\tPsychic\\t100\\t77\\t77\\t128\\t128\\t90\\t5\\tFALSE\\n648\\tMeloettaPirouette Forme\\tNormal\\tFighting\\t100\\t128\\t90\\t77\\t77\\t128\\t5\\tFALSE\\n649\\tGenesect\\tBug\\tSteel\\t71\\t120\\t95\\t120\\t95\\t99\\t5\\tFALSE\\n650\\tChespin\\tGrass\\t\\t56\\t61\\t65\\t48\\t45\\t38\\t6\\tFALSE\\n651\\tQuilladin\\tGrass\\t\\t61\\t78\\t95\\t56\\t58\\t57\\t6\\tFALSE\\n652\\tChesnaught\\tGrass\\tFighting\\t88\\t107\\t122\\t74\\t75\\t64\\t6\\tFALSE\\n653\\tFennekin\\tFire\\t\\t40\\t45\\t40\\t62\\t60\\t60\\t6\\tFALSE\\n654\\tBraixen\\tFire\\t\\t59\\t59\\t58\\t90\\t70\\t73\\t6\\tFALSE\\n655\\tDelphox\\tFire\\tPsychic\\t75\\t69\\t72\\t114\\t100\\t104\\t6\\tFALSE\\n656\\tFroakie\\tWater\\t\\t41\\t56\\t40\\t62\\t44\\t71\\t6\\tFALSE\\n657\\tFrogadier\\tWater\\t\\t54\\t63\\t52\\t83\\t56\\t97\\t6\\tFALSE\\n658\\tGreninja\\tWater\\tDark\\t72\\t95\\t67\\t103\\t71\\t122\\t6\\tFALSE\\n659\\tBunnelby\\tNormal\\t\\t38\\t36\\t38\\t32\\t36\\t57\\t6\\tFALSE\\n660\\tDiggersby\\tNormal\\tGround\\t85\\t56\\t77\\t50\\t77\\t78\\t6\\tFALSE\\n661\\tFletchling\\tNormal\\tFlying\\t45\\t50\\t43\\t40\\t38\\t62\\t6\\tFALSE\\n662\\tFletchinder\\tFire\\tFlying\\t62\\t73\\t55\\t56\\t52\\t84\\t6\\tFALSE\\n663\\tTalonflame\\tFire\\tFlying\\t78\\t81\\t71\\t74\\t69\\t126\\t6\\tFALSE\\n664\\tScatterbug\\tBug\\t\\t38\\t35\\t40\\t27\\t25\\t35\\t6\\tFALSE\\n665\\tSpewpa\\tBug\\t\\t45\\t22\\t60\\t27\\t30\\t29\\t6\\tFALSE\\n666\\tVivillon\\tBug\\tFlying\\t80\\t52\\t50\\t90\\t50\\t89\\t6\\tFALSE\\n667\\tLitleo\\tFire\\tNormal\\t62\\t50\\t58\\t73\\t54\\t72\\t6\\tFALSE\\n668\\tPyroar\\tFire\\tNormal\\t86\\t68\\t72\\t109\\t66\\t106\\t6\\tFALSE\\n669\\tFlab\\xc3\\xa9b\\xc3\\xa9\\tFairy\\t\\t44\\t38\\t39\\t61\\t79\\t42\\t6\\tFALSE\\n670\\tFloette\\tFairy\\t\\t54\\t45\\t47\\t75\\t98\\t52\\t6\\tFALSE\\n671\\tFlorges\\tFairy\\t\\t78\\t65\\t68\\t112\\t154\\t75\\t6\\tFALSE\\n672\\tSkiddo\\tGrass\\t\\t66\\t65\\t48\\t62\\t57\\t52\\t6\\tFALSE\\n673\\tGogoat\\tGrass\\t\\t123\\t100\\t62\\t97\\t81\\t68\\t6\\tFALSE\\n674\\tPancham\\tFighting\\t\\t67\\t82\\t62\\t46\\t48\\t43\\t6\\tFALSE\\n675\\tPangoro\\tFighting\\tDark\\t95\\t124\\t78\\t69\\t71\\t58\\t6\\tFALSE\\n676\\tFurfrou\\tNormal\\t\\t75\\t80\\t60\\t65\\t90\\t102\\t6\\tFALSE\\n677\\tEspurr\\tPsychic\\t\\t62\\t48\\t54\\t63\\t60\\t68\\t6\\tFALSE\\n678\\tMeowsticMale\\tPsychic\\t\\t74\\t48\\t76\\t83\\t81\\t104\\t6\\tFALSE\\n678\\tMeowsticFemale\\tPsychic\\t\\t74\\t48\\t76\\t83\\t81\\t104\\t6\\tFALSE\\n679\\tHonedge\\tSteel\\tGhost\\t45\\t80\\t100\\t35\\t37\\t28\\t6\\tFALSE\\n680\\tDoublade\\tSteel\\tGhost\\t59\\t110\\t150\\t45\\t49\\t35\\t6\\tFALSE\\n681\\tAegislashBlade Forme\\tSteel\\tGhost\\t60\\t150\\t50\\t150\\t50\\t60\\t6\\tFALSE\\n681\\tAegislashShield Forme\\tSteel\\tGhost\\t60\\t50\\t150\\t50\\t150\\t60\\t6\\tFALSE\\n682\\tSpritzee\\tFairy\\t\\t78\\t52\\t60\\t63\\t65\\t23\\t6\\tFALSE\\n683\\tAromatisse\\tFairy\\t\\t101\\t72\\t72\\t99\\t89\\t29\\t6\\tFALSE\\n684\\tSwirlix\\tFairy\\t\\t62\\t48\\t66\\t59\\t57\\t49\\t6\\tFALSE\\n685\\tSlurpuff\\tFairy\\t\\t82\\t80\\t86\\t85\\t75\\t72\\t6\\tFALSE\\n686\\tInkay\\tDark\\tPsychic\\t53\\t54\\t53\\t37\\t46\\t45\\t6\\tFALSE\\n687\\tMalamar\\tDark\\tPsychic\\t86\\t92\\t88\\t68\\t75\\t73\\t6\\tFALSE\\n688\\tBinacle\\tRock\\tWater\\t42\\t52\\t67\\t39\\t56\\t50\\t6\\tFALSE\\n689\\tBarbaracle\\tRock\\tWater\\t72\\t105\\t115\\t54\\t86\\t68\\t6\\tFALSE\\n690\\tSkrelp\\tPoison\\tWater\\t50\\t60\\t60\\t60\\t60\\t30\\t6\\tFALSE\\n691\\tDragalge\\tPoison\\tDragon\\t65\\t75\\t90\\t97\\t123\\t44\\t6\\tFALSE\\n692\\tClauncher\\tWater\\t\\t50\\t53\\t62\\t58\\t63\\t44\\t6\\tFALSE\\n693\\tClawitzer\\tWater\\t\\t71\\t73\\t88\\t120\\t89\\t59\\t6\\tFALSE\\n694\\tHelioptile\\tElectric\\tNormal\\t44\\t38\\t33\\t61\\t43\\t70\\t6\\tFALSE\\n695\\tHeliolisk\\tElectric\\tNormal\\t62\\t55\\t52\\t109\\t94\\t109\\t6\\tFALSE\\n696\\tTyrunt\\tRock\\tDragon\\t58\\t89\\t77\\t45\\t45\\t48\\t6\\tFALSE\\n697\\tTyrantrum\\tRock\\tDragon\\t82\\t121\\t119\\t69\\t59\\t71\\t6\\tFALSE\\n698\\tAmaura\\tRock\\tIce\\t77\\t59\\t50\\t67\\t63\\t46\\t6\\tFALSE\\n699\\tAurorus\\tRock\\tIce\\t123\\t77\\t72\\t99\\t92\\t58\\t6\\tFALSE\\n700\\tSylveon\\tFairy\\t\\t95\\t65\\t65\\t110\\t130\\t60\\t6\\tFALSE\\n701\\tHawlucha\\tFighting\\tFlying\\t78\\t92\\t75\\t74\\t63\\t118\\t6\\tFALSE\\n702\\tDedenne\\tElectric\\tFairy\\t67\\t58\\t57\\t81\\t67\\t101\\t6\\tFALSE\\n703\\tCarbink\\tRock\\tFairy\\t50\\t50\\t150\\t50\\t150\\t50\\t6\\tFALSE\\n704\\tGoomy\\tDragon\\t\\t45\\t50\\t35\\t55\\t75\\t40\\t6\\tFALSE\\n705\\tSliggoo\\tDragon\\t\\t68\\t75\\t53\\t83\\t113\\t60\\t6\\tFALSE\\n706\\tGoodra\\tDragon\\t\\t90\\t100\\t70\\t110\\t150\\t80\\t6\\tFALSE\\n707\\tKlefki\\tSteel\\tFairy\\t57\\t80\\t91\\t80\\t87\\t75\\t6\\tFALSE\\n708\\tPhantump\\tGhost\\tGrass\\t43\\t70\\t48\\t50\\t60\\t38\\t6\\tFALSE\\n709\\tTrevenant\\tGhost\\tGrass\\t85\\t110\\t76\\t65\\t82\\t56\\t6\\tFALSE\\n710\\tPumpkabooAverage Size\\tGhost\\tGrass\\t49\\t66\\t70\\t44\\t55\\t51\\t6\\tFALSE\\n710\\tPumpkabooSmall Size\\tGhost\\tGrass\\t44\\t66\\t70\\t44\\t55\\t56\\t6\\tFALSE\\n710\\tPumpkabooLarge Size\\tGhost\\tGrass\\t54\\t66\\t70\\t44\\t55\\t46\\t6\\tFALSE\\n710\\tPumpkabooSuper Size\\tGhost\\tGrass\\t59\\t66\\t70\\t44\\t55\\t41\\t6\\tFALSE\\n711\\tGourgeistAverage Size\\tGhost\\tGrass\\t65\\t90\\t122\\t58\\t75\\t84\\t6\\tFALSE\\n711\\tGourgeistSmall Size\\tGhost\\tGrass\\t55\\t85\\t122\\t58\\t75\\t99\\t6\\tFALSE\\n711\\tGourgeistLarge Size\\tGhost\\tGrass\\t75\\t95\\t122\\t58\\t75\\t69\\t6\\tFALSE\\n711\\tGourgeistSuper Size\\tGhost\\tGrass\\t85\\t100\\t122\\t58\\t75\\t54\\t6\\tFALSE\\n712\\tBergmite\\tIce\\t\\t55\\t69\\t85\\t32\\t35\\t28\\t6\\tFALSE\\n713\\tAvalugg\\tIce\\t\\t95\\t117\\t184\\t44\\t46\\t28\\t6\\tFALSE\\n714\\tNoibat\\tFlying\\tDragon\\t40\\t30\\t35\\t45\\t40\\t55\\t6\\tFALSE\\n715\\tNoivern\\tFlying\\tDragon\\t85\\t70\\t80\\t97\\t80\\t123\\t6\\tFALSE\\n716\\tXerneas\\tFairy\\t\\t126\\t131\\t95\\t131\\t98\\t99\\t6\\tTRUE\\n717\\tYveltal\\tDark\\tFlying\\t126\\t131\\t95\\t131\\t98\\t99\\t6\\tTRUE\\n718\\tZygarde50% Forme\\tDragon\\tGround\\t108\\t100\\t121\\t81\\t95\\t95\\t6\\tTRUE\\n719\\tDiancie\\tRock\\tFairy\\t50\\t100\\t150\\t100\\t150\\t50\\t6\\tTRUE\\n719\\tDiancieMega Diancie\\tRock\\tFairy\\t50\\t160\\t110\\t160\\t110\\t110\\t6\\tTRUE\\n720\\tHoopaHoopa Confined\\tPsychic\\tGhost\\t80\\t110\\t60\\t150\\t130\\t70\\t6\\tTRUE\\n720\\tHoopaHoopa Unbound\\tPsychic\\tDark\\t80\\t160\\t60\\t170\\t130\\t80\\t6\\tTRUE\\n721\\tVolcanion\\tFire\\tWater\\t80\\t110\\t120\\t130\\t90\\t70\\t6\\tTRUE\\n\"}"
            ]
          },
          "metadata": {},
          "execution_count": 15
        }
      ]
    },
    {
      "cell_type": "code",
      "source": [
        "import pandas as pd\n",
        "dataset3=pd.read_csv(\"dataset.txt\")\n",
        "print(dataset3.head(5))"
      ],
      "metadata": {
        "colab": {
          "base_uri": "https://localhost:8080/"
        },
        "id": "x1t7_b47Rjuz",
        "outputId": "d0c72902-e1bb-4810-a52e-b852a0fef718"
      },
      "execution_count": 16,
      "outputs": [
        {
          "output_type": "stream",
          "name": "stdout",
          "text": [
            "  #\\tName\\tType 1\\tType 2\\tHP\\tAttack\\tDefense\\tSp. Atk\\tSp. Def\\tSpeed\\tGeneration\\tLegendary\n",
            "0  1\\tBulbasaur\\tGrass\\tPoison\\t45\\t49\\t49\\t65\\t6...                                          \n",
            "1  2\\tIvysaur\\tGrass\\tPoison\\t60\\t62\\t63\\t80\\t80\\...                                          \n",
            "2  3\\tVenusaur\\tGrass\\tPoison\\t80\\t82\\t83\\t100\\t1...                                          \n",
            "3  3\\tVenusaurMega Venusaur\\tGrass\\tPoison\\t80\\t1...                                          \n",
            "4  4\\tCharmander\\tFire\\t\\t39\\t52\\t43\\t60\\t50\\t65\\...                                          \n"
          ]
        }
      ]
    },
    {
      "cell_type": "markdown",
      "source": [
        "Dataset Details"
      ],
      "metadata": {
        "id": "9UFcC1CoSqq9"
      }
    },
    {
      "cell_type": "code",
      "source": [
        "print(dataset1.shape) #No. of rows and coloumn\n",
        "print(dataset1.describe()) #Detailed info about dataset"
      ],
      "metadata": {
        "colab": {
          "base_uri": "https://localhost:8080/"
        },
        "id": "dr8NQXjWSthz",
        "outputId": "2a49d37d-e709-43fb-9204-53cc229b4fa3"
      },
      "execution_count": 17,
      "outputs": [
        {
          "output_type": "stream",
          "name": "stdout",
          "text": [
            "(800, 12)\n",
            "                #          HP      Attack  ...     Sp. Def       Speed  Generation\n",
            "count  800.000000  800.000000  800.000000  ...  800.000000  800.000000   800.00000\n",
            "mean   362.813750   69.258750   79.001250  ...   71.902500   68.277500     3.32375\n",
            "std    208.343798   25.534669   32.457366  ...   27.828916   29.060474     1.66129\n",
            "min      1.000000    1.000000    5.000000  ...   20.000000    5.000000     1.00000\n",
            "25%    184.750000   50.000000   55.000000  ...   50.000000   45.000000     2.00000\n",
            "50%    364.500000   65.000000   75.000000  ...   70.000000   65.000000     3.00000\n",
            "75%    539.250000   80.000000  100.000000  ...   90.000000   90.000000     5.00000\n",
            "max    721.000000  255.000000  190.000000  ...  230.000000  180.000000     6.00000\n",
            "\n",
            "[8 rows x 8 columns]\n"
          ]
        }
      ]
    },
    {
      "cell_type": "markdown",
      "source": [
        "Data Slicing"
      ],
      "metadata": {
        "id": "myPfmXyIWhiR"
      }
    },
    {
      "cell_type": "code",
      "source": [
        "print(dataset1.columns) #To get only Column Title\n",
        "print(dataset1[\"Name\"]) #To get data based on the specific title\n",
        "print(dataset1[[\"Name\",\"Speed\"]]) #To get data based on multiple titkle\n",
        "print(dataset1[\"Name\"][0:6]) # to get data based on the specific title with specific count"
      ],
      "metadata": {
        "colab": {
          "base_uri": "https://localhost:8080/"
        },
        "id": "tgPQeIWpWlDP",
        "outputId": "b633a2bf-0d47-4069-ce83-84d6986774a2"
      },
      "execution_count": 18,
      "outputs": [
        {
          "output_type": "stream",
          "name": "stdout",
          "text": [
            "Index(['#', 'Name', 'Type 1', 'Type 2', 'HP', 'Attack', 'Defense', 'Sp. Atk',\n",
            "       'Sp. Def', 'Speed', 'Generation', 'Legendary'],\n",
            "      dtype='object')\n",
            "0                  Bulbasaur\n",
            "1                    Ivysaur\n",
            "2                   Venusaur\n",
            "3      VenusaurMega Venusaur\n",
            "4                 Charmander\n",
            "               ...          \n",
            "795                  Diancie\n",
            "796      DiancieMega Diancie\n",
            "797      HoopaHoopa Confined\n",
            "798       HoopaHoopa Unbound\n",
            "799                Volcanion\n",
            "Name: Name, Length: 800, dtype: object\n",
            "                      Name  Speed\n",
            "0                Bulbasaur     45\n",
            "1                  Ivysaur     60\n",
            "2                 Venusaur     80\n",
            "3    VenusaurMega Venusaur     80\n",
            "4               Charmander     65\n",
            "..                     ...    ...\n",
            "795                Diancie     50\n",
            "796    DiancieMega Diancie    110\n",
            "797    HoopaHoopa Confined     70\n",
            "798     HoopaHoopa Unbound     80\n",
            "799              Volcanion     70\n",
            "\n",
            "[800 rows x 2 columns]\n",
            "0                Bulbasaur\n",
            "1                  Ivysaur\n",
            "2                 Venusaur\n",
            "3    VenusaurMega Venusaur\n",
            "4               Charmander\n",
            "5               Charmeleon\n",
            "Name: Name, dtype: object\n"
          ]
        }
      ]
    },
    {
      "cell_type": "markdown",
      "source": [
        "iloc used case (gettng data what ammount of we wanted)"
      ],
      "metadata": {
        "id": "fYmxO_nSa1bi"
      }
    },
    {
      "cell_type": "code",
      "source": [
        "print(dataset1.iloc[0]) # integer location-acquire complete infoabout certain index\n",
        "print(dataset1.iloc[1:5]) # acquire complete info about range of index\n",
        "print(dataset1.iloc[1,2]) # acquire specific cell data"
      ],
      "metadata": {
        "colab": {
          "base_uri": "https://localhost:8080/"
        },
        "id": "z1tV2vLPa3y4",
        "outputId": "ed3d92ce-ef3c-4bb5-eaf2-5bb2fd8a0e0e"
      },
      "execution_count": 19,
      "outputs": [
        {
          "output_type": "stream",
          "name": "stdout",
          "text": [
            "#                     1\n",
            "Name          Bulbasaur\n",
            "Type 1            Grass\n",
            "Type 2           Poison\n",
            "HP                   45\n",
            "Attack               49\n",
            "Defense              49\n",
            "Sp. Atk              65\n",
            "Sp. Def              65\n",
            "Speed                45\n",
            "Generation            1\n",
            "Legendary         False\n",
            "Name: 0, dtype: object\n",
            "   #                   Name Type 1  ... Speed  Generation  Legendary\n",
            "1  2                Ivysaur  Grass  ...    60           1      False\n",
            "2  3               Venusaur  Grass  ...    80           1      False\n",
            "3  3  VenusaurMega Venusaur  Grass  ...    80           1      False\n",
            "4  4             Charmander   Fire  ...    65           1      False\n",
            "\n",
            "[4 rows x 12 columns]\n",
            "Grass\n"
          ]
        }
      ]
    },
    {
      "cell_type": "markdown",
      "source": [
        "accesing data in another way"
      ],
      "metadata": {
        "id": "6lny3MUXdDnE"
      }
    },
    {
      "cell_type": "code",
      "source": [
        "for index, row in dataset1.iterrows():  # getting data in another way\n",
        "  print(index,row[\"Name\"])"
      ],
      "metadata": {
        "colab": {
          "base_uri": "https://localhost:8080/"
        },
        "id": "udGWqB4vdJpN",
        "outputId": "3b5d992b-e9c5-4c25-dbe1-e6ffc5644d9c"
      },
      "execution_count": 20,
      "outputs": [
        {
          "output_type": "stream",
          "name": "stdout",
          "text": [
            "0 Bulbasaur\n",
            "1 Ivysaur\n",
            "2 Venusaur\n",
            "3 VenusaurMega Venusaur\n",
            "4 Charmander\n",
            "5 Charmeleon\n",
            "6 Charizard\n",
            "7 CharizardMega Charizard X\n",
            "8 CharizardMega Charizard Y\n",
            "9 Squirtle\n",
            "10 Wartortle\n",
            "11 Blastoise\n",
            "12 BlastoiseMega Blastoise\n",
            "13 Caterpie\n",
            "14 Metapod\n",
            "15 Butterfree\n",
            "16 Weedle\n",
            "17 Kakuna\n",
            "18 Beedrill\n",
            "19 BeedrillMega Beedrill\n",
            "20 Pidgey\n",
            "21 Pidgeotto\n",
            "22 Pidgeot\n",
            "23 PidgeotMega Pidgeot\n",
            "24 Rattata\n",
            "25 Raticate\n",
            "26 Spearow\n",
            "27 Fearow\n",
            "28 Ekans\n",
            "29 Arbok\n",
            "30 Pikachu\n",
            "31 Raichu\n",
            "32 Sandshrew\n",
            "33 Sandslash\n",
            "34 Nidoran (Female)\n",
            "35 Nidorina\n",
            "36 Nidoqueen\n",
            "37 Nidoran (Male)\n",
            "38 Nidorino\n",
            "39 Nidoking\n",
            "40 Clefairy\n",
            "41 Clefable\n",
            "42 Vulpix\n",
            "43 Ninetales\n",
            "44 Jigglypuff\n",
            "45 Wigglytuff\n",
            "46 Zubat\n",
            "47 Golbat\n",
            "48 Oddish\n",
            "49 Gloom\n",
            "50 Vileplume\n",
            "51 Paras\n",
            "52 Parasect\n",
            "53 Venonat\n",
            "54 Venomoth\n",
            "55 Diglett\n",
            "56 Dugtrio\n",
            "57 Meowth\n",
            "58 Persian\n",
            "59 Psyduck\n",
            "60 Golduck\n",
            "61 Mankey\n",
            "62 Primeape\n",
            "63 Growlithe\n",
            "64 Arcanine\n",
            "65 Poliwag\n",
            "66 Poliwhirl\n",
            "67 Poliwrath\n",
            "68 Abra\n",
            "69 Kadabra\n",
            "70 Alakazam\n",
            "71 AlakazamMega Alakazam\n",
            "72 Machop\n",
            "73 Machoke\n",
            "74 Machamp\n",
            "75 Bellsprout\n",
            "76 Weepinbell\n",
            "77 Victreebel\n",
            "78 Tentacool\n",
            "79 Tentacruel\n",
            "80 Geodude\n",
            "81 Graveler\n",
            "82 Golem\n",
            "83 Ponyta\n",
            "84 Rapidash\n",
            "85 Slowpoke\n",
            "86 Slowbro\n",
            "87 SlowbroMega Slowbro\n",
            "88 Magnemite\n",
            "89 Magneton\n",
            "90 Farfetch'd\n",
            "91 Doduo\n",
            "92 Dodrio\n",
            "93 Seel\n",
            "94 Dewgong\n",
            "95 Grimer\n",
            "96 Muk\n",
            "97 Shellder\n",
            "98 Cloyster\n",
            "99 Gastly\n",
            "100 Haunter\n",
            "101 Gengar\n",
            "102 GengarMega Gengar\n",
            "103 Onix\n",
            "104 Drowzee\n",
            "105 Hypno\n",
            "106 Krabby\n",
            "107 Kingler\n",
            "108 Voltorb\n",
            "109 Electrode\n",
            "110 Exeggcute\n",
            "111 Exeggutor\n",
            "112 Cubone\n",
            "113 Marowak\n",
            "114 Hitmonlee\n",
            "115 Hitmonchan\n",
            "116 Lickitung\n",
            "117 Koffing\n",
            "118 Weezing\n",
            "119 Rhyhorn\n",
            "120 Rhydon\n",
            "121 Chansey\n",
            "122 Tangela\n",
            "123 Kangaskhan\n",
            "124 KangaskhanMega Kangaskhan\n",
            "125 Horsea\n",
            "126 Seadra\n",
            "127 Goldeen\n",
            "128 Seaking\n",
            "129 Staryu\n",
            "130 Starmie\n",
            "131 Mr. Mime\n",
            "132 Scyther\n",
            "133 Jynx\n",
            "134 Electabuzz\n",
            "135 Magmar\n",
            "136 Pinsir\n",
            "137 PinsirMega Pinsir\n",
            "138 Tauros\n",
            "139 Magikarp\n",
            "140 Gyarados\n",
            "141 GyaradosMega Gyarados\n",
            "142 Lapras\n",
            "143 Ditto\n",
            "144 Eevee\n",
            "145 Vaporeon\n",
            "146 Jolteon\n",
            "147 Flareon\n",
            "148 Porygon\n",
            "149 Omanyte\n",
            "150 Omastar\n",
            "151 Kabuto\n",
            "152 Kabutops\n",
            "153 Aerodactyl\n",
            "154 AerodactylMega Aerodactyl\n",
            "155 Snorlax\n",
            "156 Articuno\n",
            "157 Zapdos\n",
            "158 Moltres\n",
            "159 Dratini\n",
            "160 Dragonair\n",
            "161 Dragonite\n",
            "162 Mewtwo\n",
            "163 MewtwoMega Mewtwo X\n",
            "164 MewtwoMega Mewtwo Y\n",
            "165 Mew\n",
            "166 Chikorita\n",
            "167 Bayleef\n",
            "168 Meganium\n",
            "169 Cyndaquil\n",
            "170 Quilava\n",
            "171 Typhlosion\n",
            "172 Totodile\n",
            "173 Croconaw\n",
            "174 Feraligatr\n",
            "175 Sentret\n",
            "176 Furret\n",
            "177 Hoothoot\n",
            "178 Noctowl\n",
            "179 Ledyba\n",
            "180 Ledian\n",
            "181 Spinarak\n",
            "182 Ariados\n",
            "183 Crobat\n",
            "184 Chinchou\n",
            "185 Lanturn\n",
            "186 Pichu\n",
            "187 Cleffa\n",
            "188 Igglybuff\n",
            "189 Togepi\n",
            "190 Togetic\n",
            "191 Natu\n",
            "192 Xatu\n",
            "193 Mareep\n",
            "194 Flaaffy\n",
            "195 Ampharos\n",
            "196 AmpharosMega Ampharos\n",
            "197 Bellossom\n",
            "198 Marill\n",
            "199 Azumarill\n",
            "200 Sudowoodo\n",
            "201 Politoed\n",
            "202 Hoppip\n",
            "203 Skiploom\n",
            "204 Jumpluff\n",
            "205 Aipom\n",
            "206 Sunkern\n",
            "207 Sunflora\n",
            "208 Yanma\n",
            "209 Wooper\n",
            "210 Quagsire\n",
            "211 Espeon\n",
            "212 Umbreon\n",
            "213 Murkrow\n",
            "214 Slowking\n",
            "215 Misdreavus\n",
            "216 Unown\n",
            "217 Wobbuffet\n",
            "218 Girafarig\n",
            "219 Pineco\n",
            "220 Forretress\n",
            "221 Dunsparce\n",
            "222 Gligar\n",
            "223 Steelix\n",
            "224 SteelixMega Steelix\n",
            "225 Snubbull\n",
            "226 Granbull\n",
            "227 Qwilfish\n",
            "228 Scizor\n",
            "229 ScizorMega Scizor\n",
            "230 Shuckle\n",
            "231 Heracross\n",
            "232 HeracrossMega Heracross\n",
            "233 Sneasel\n",
            "234 Teddiursa\n",
            "235 Ursaring\n",
            "236 Slugma\n",
            "237 Magcargo\n",
            "238 Swinub\n",
            "239 Piloswine\n",
            "240 Corsola\n",
            "241 Remoraid\n",
            "242 Octillery\n",
            "243 Delibird\n",
            "244 Mantine\n",
            "245 Skarmory\n",
            "246 Houndour\n",
            "247 Houndoom\n",
            "248 HoundoomMega Houndoom\n",
            "249 Kingdra\n",
            "250 Phanpy\n",
            "251 Donphan\n",
            "252 Porygon2\n",
            "253 Stantler\n",
            "254 Smeargle\n",
            "255 Tyrogue\n",
            "256 Hitmontop\n",
            "257 Smoochum\n",
            "258 Elekid\n",
            "259 Magby\n",
            "260 Miltank\n",
            "261 Blissey\n",
            "262 Raikou\n",
            "263 Entei\n",
            "264 Suicune\n",
            "265 Larvitar\n",
            "266 Pupitar\n",
            "267 Tyranitar\n",
            "268 TyranitarMega Tyranitar\n",
            "269 Lugia\n",
            "270 Ho-oh\n",
            "271 Celebi\n",
            "272 Treecko\n",
            "273 Grovyle\n",
            "274 Sceptile\n",
            "275 SceptileMega Sceptile\n",
            "276 Torchic\n",
            "277 Combusken\n",
            "278 Blaziken\n",
            "279 BlazikenMega Blaziken\n",
            "280 Mudkip\n",
            "281 Marshtomp\n",
            "282 Swampert\n",
            "283 SwampertMega Swampert\n",
            "284 Poochyena\n",
            "285 Mightyena\n",
            "286 Zigzagoon\n",
            "287 Linoone\n",
            "288 Wurmple\n",
            "289 Silcoon\n",
            "290 Beautifly\n",
            "291 Cascoon\n",
            "292 Dustox\n",
            "293 Lotad\n",
            "294 Lombre\n",
            "295 Ludicolo\n",
            "296 Seedot\n",
            "297 Nuzleaf\n",
            "298 Shiftry\n",
            "299 Taillow\n",
            "300 Swellow\n",
            "301 Wingull\n",
            "302 Pelipper\n",
            "303 Ralts\n",
            "304 Kirlia\n",
            "305 Gardevoir\n",
            "306 GardevoirMega Gardevoir\n",
            "307 Surskit\n",
            "308 Masquerain\n",
            "309 Shroomish\n",
            "310 Breloom\n",
            "311 Slakoth\n",
            "312 Vigoroth\n",
            "313 Slaking\n",
            "314 Nincada\n",
            "315 Ninjask\n",
            "316 Shedinja\n",
            "317 Whismur\n",
            "318 Loudred\n",
            "319 Exploud\n",
            "320 Makuhita\n",
            "321 Hariyama\n",
            "322 Azurill\n",
            "323 Nosepass\n",
            "324 Skitty\n",
            "325 Delcatty\n",
            "326 Sableye\n",
            "327 SableyeMega Sableye\n",
            "328 Mawile\n",
            "329 MawileMega Mawile\n",
            "330 Aron\n",
            "331 Lairon\n",
            "332 Aggron\n",
            "333 AggronMega Aggron\n",
            "334 Meditite\n",
            "335 Medicham\n",
            "336 MedichamMega Medicham\n",
            "337 Electrike\n",
            "338 Manectric\n",
            "339 ManectricMega Manectric\n",
            "340 Plusle\n",
            "341 Minun\n",
            "342 Volbeat\n",
            "343 Illumise\n",
            "344 Roselia\n",
            "345 Gulpin\n",
            "346 Swalot\n",
            "347 Carvanha\n",
            "348 Sharpedo\n",
            "349 SharpedoMega Sharpedo\n",
            "350 Wailmer\n",
            "351 Wailord\n",
            "352 Numel\n",
            "353 Camerupt\n",
            "354 CameruptMega Camerupt\n",
            "355 Torkoal\n",
            "356 Spoink\n",
            "357 Grumpig\n",
            "358 Spinda\n",
            "359 Trapinch\n",
            "360 Vibrava\n",
            "361 Flygon\n",
            "362 Cacnea\n",
            "363 Cacturne\n",
            "364 Swablu\n",
            "365 Altaria\n",
            "366 AltariaMega Altaria\n",
            "367 Zangoose\n",
            "368 Seviper\n",
            "369 Lunatone\n",
            "370 Solrock\n",
            "371 Barboach\n",
            "372 Whiscash\n",
            "373 Corphish\n",
            "374 Crawdaunt\n",
            "375 Baltoy\n",
            "376 Claydol\n",
            "377 Lileep\n",
            "378 Cradily\n",
            "379 Anorith\n",
            "380 Armaldo\n",
            "381 Feebas\n",
            "382 Milotic\n",
            "383 Castform\n",
            "384 Kecleon\n",
            "385 Shuppet\n",
            "386 Banette\n",
            "387 BanetteMega Banette\n",
            "388 Duskull\n",
            "389 Dusclops\n",
            "390 Tropius\n",
            "391 Chimecho\n",
            "392 Absol\n",
            "393 AbsolMega Absol\n",
            "394 Wynaut\n",
            "395 Snorunt\n",
            "396 Glalie\n",
            "397 GlalieMega Glalie\n",
            "398 Spheal\n",
            "399 Sealeo\n",
            "400 Walrein\n",
            "401 Clamperl\n",
            "402 Huntail\n",
            "403 Gorebyss\n",
            "404 Relicanth\n",
            "405 Luvdisc\n",
            "406 Bagon\n",
            "407 Shelgon\n",
            "408 Salamence\n",
            "409 SalamenceMega Salamence\n",
            "410 Beldum\n",
            "411 Metang\n",
            "412 Metagross\n",
            "413 MetagrossMega Metagross\n",
            "414 Regirock\n",
            "415 Regice\n",
            "416 Registeel\n",
            "417 Latias\n",
            "418 LatiasMega Latias\n",
            "419 Latios\n",
            "420 LatiosMega Latios\n",
            "421 Kyogre\n",
            "422 KyogrePrimal Kyogre\n",
            "423 Groudon\n",
            "424 GroudonPrimal Groudon\n",
            "425 Rayquaza\n",
            "426 RayquazaMega Rayquaza\n",
            "427 Jirachi\n",
            "428 DeoxysNormal Forme\n",
            "429 DeoxysAttack Forme\n",
            "430 DeoxysDefense Forme\n",
            "431 DeoxysSpeed Forme\n",
            "432 Turtwig\n",
            "433 Grotle\n",
            "434 Torterra\n",
            "435 Chimchar\n",
            "436 Monferno\n",
            "437 Infernape\n",
            "438 Piplup\n",
            "439 Prinplup\n",
            "440 Empoleon\n",
            "441 Starly\n",
            "442 Staravia\n",
            "443 Staraptor\n",
            "444 Bidoof\n",
            "445 Bibarel\n",
            "446 Kricketot\n",
            "447 Kricketune\n",
            "448 Shinx\n",
            "449 Luxio\n",
            "450 Luxray\n",
            "451 Budew\n",
            "452 Roserade\n",
            "453 Cranidos\n",
            "454 Rampardos\n",
            "455 Shieldon\n",
            "456 Bastiodon\n",
            "457 Burmy\n",
            "458 WormadamPlant Cloak\n",
            "459 WormadamSandy Cloak\n",
            "460 WormadamTrash Cloak\n",
            "461 Mothim\n",
            "462 Combee\n",
            "463 Vespiquen\n",
            "464 Pachirisu\n",
            "465 Buizel\n",
            "466 Floatzel\n",
            "467 Cherubi\n",
            "468 Cherrim\n",
            "469 Shellos\n",
            "470 Gastrodon\n",
            "471 Ambipom\n",
            "472 Drifloon\n",
            "473 Drifblim\n",
            "474 Buneary\n",
            "475 Lopunny\n",
            "476 LopunnyMega Lopunny\n",
            "477 Mismagius\n",
            "478 Honchkrow\n",
            "479 Glameow\n",
            "480 Purugly\n",
            "481 Chingling\n",
            "482 Stunky\n",
            "483 Skuntank\n",
            "484 Bronzor\n",
            "485 Bronzong\n",
            "486 Bonsly\n",
            "487 Mime Jr.\n",
            "488 Happiny\n",
            "489 Chatot\n",
            "490 Spiritomb\n",
            "491 Gible\n",
            "492 Gabite\n",
            "493 Garchomp\n",
            "494 GarchompMega Garchomp\n",
            "495 Munchlax\n",
            "496 Riolu\n",
            "497 Lucario\n",
            "498 LucarioMega Lucario\n",
            "499 Hippopotas\n",
            "500 Hippowdon\n",
            "501 Skorupi\n",
            "502 Drapion\n",
            "503 Croagunk\n",
            "504 Toxicroak\n",
            "505 Carnivine\n",
            "506 Finneon\n",
            "507 Lumineon\n",
            "508 Mantyke\n",
            "509 Snover\n",
            "510 Abomasnow\n",
            "511 AbomasnowMega Abomasnow\n",
            "512 Weavile\n",
            "513 Magnezone\n",
            "514 Lickilicky\n",
            "515 Rhyperior\n",
            "516 Tangrowth\n",
            "517 Electivire\n",
            "518 Magmortar\n",
            "519 Togekiss\n",
            "520 Yanmega\n",
            "521 Leafeon\n",
            "522 Glaceon\n",
            "523 Gliscor\n",
            "524 Mamoswine\n",
            "525 Porygon-Z\n",
            "526 Gallade\n",
            "527 GalladeMega Gallade\n",
            "528 Probopass\n",
            "529 Dusknoir\n",
            "530 Froslass\n",
            "531 Rotom\n",
            "532 RotomHeat Rotom\n",
            "533 RotomWash Rotom\n",
            "534 RotomFrost Rotom\n",
            "535 RotomFan Rotom\n",
            "536 RotomMow Rotom\n",
            "537 Uxie\n",
            "538 Mesprit\n",
            "539 Azelf\n",
            "540 Dialga\n",
            "541 Palkia\n",
            "542 Heatran\n",
            "543 Regigigas\n",
            "544 GiratinaAltered Forme\n",
            "545 GiratinaOrigin Forme\n",
            "546 Cresselia\n",
            "547 Phione\n",
            "548 Manaphy\n",
            "549 Darkrai\n",
            "550 ShayminLand Forme\n",
            "551 ShayminSky Forme\n",
            "552 Arceus\n",
            "553 Victini\n",
            "554 Snivy\n",
            "555 Servine\n",
            "556 Serperior\n",
            "557 Tepig\n",
            "558 Pignite\n",
            "559 Emboar\n",
            "560 Oshawott\n",
            "561 Dewott\n",
            "562 Samurott\n",
            "563 Patrat\n",
            "564 Watchog\n",
            "565 Lillipup\n",
            "566 Herdier\n",
            "567 Stoutland\n",
            "568 Purrloin\n",
            "569 Liepard\n",
            "570 Pansage\n",
            "571 Simisage\n",
            "572 Pansear\n",
            "573 Simisear\n",
            "574 Panpour\n",
            "575 Simipour\n",
            "576 Munna\n",
            "577 Musharna\n",
            "578 Pidove\n",
            "579 Tranquill\n",
            "580 Unfezant\n",
            "581 Blitzle\n",
            "582 Zebstrika\n",
            "583 Roggenrola\n",
            "584 Boldore\n",
            "585 Gigalith\n",
            "586 Woobat\n",
            "587 Swoobat\n",
            "588 Drilbur\n",
            "589 Excadrill\n",
            "590 Audino\n",
            "591 AudinoMega Audino\n",
            "592 Timburr\n",
            "593 Gurdurr\n",
            "594 Conkeldurr\n",
            "595 Tympole\n",
            "596 Palpitoad\n",
            "597 Seismitoad\n",
            "598 Throh\n",
            "599 Sawk\n",
            "600 Sewaddle\n",
            "601 Swadloon\n",
            "602 Leavanny\n",
            "603 Venipede\n",
            "604 Whirlipede\n",
            "605 Scolipede\n",
            "606 Cottonee\n",
            "607 Whimsicott\n",
            "608 Petilil\n",
            "609 Lilligant\n",
            "610 Basculin\n",
            "611 Sandile\n",
            "612 Krokorok\n",
            "613 Krookodile\n",
            "614 Darumaka\n",
            "615 DarmanitanStandard Mode\n",
            "616 DarmanitanZen Mode\n",
            "617 Maractus\n",
            "618 Dwebble\n",
            "619 Crustle\n",
            "620 Scraggy\n",
            "621 Scrafty\n",
            "622 Sigilyph\n",
            "623 Yamask\n",
            "624 Cofagrigus\n",
            "625 Tirtouga\n",
            "626 Carracosta\n",
            "627 Archen\n",
            "628 Archeops\n",
            "629 Trubbish\n",
            "630 Garbodor\n",
            "631 Zorua\n",
            "632 Zoroark\n",
            "633 Minccino\n",
            "634 Cinccino\n",
            "635 Gothita\n",
            "636 Gothorita\n",
            "637 Gothitelle\n",
            "638 Solosis\n",
            "639 Duosion\n",
            "640 Reuniclus\n",
            "641 Ducklett\n",
            "642 Swanna\n",
            "643 Vanillite\n",
            "644 Vanillish\n",
            "645 Vanilluxe\n",
            "646 Deerling\n",
            "647 Sawsbuck\n",
            "648 Emolga\n",
            "649 Karrablast\n",
            "650 Escavalier\n",
            "651 Foongus\n",
            "652 Amoonguss\n",
            "653 Frillish\n",
            "654 Jellicent\n",
            "655 Alomomola\n",
            "656 Joltik\n",
            "657 Galvantula\n",
            "658 Ferroseed\n",
            "659 Ferrothorn\n",
            "660 Klink\n",
            "661 Klang\n",
            "662 Klinklang\n",
            "663 Tynamo\n",
            "664 Eelektrik\n",
            "665 Eelektross\n",
            "666 Elgyem\n",
            "667 Beheeyem\n",
            "668 Litwick\n",
            "669 Lampent\n",
            "670 Chandelure\n",
            "671 Axew\n",
            "672 Fraxure\n",
            "673 Haxorus\n",
            "674 Cubchoo\n",
            "675 Beartic\n",
            "676 Cryogonal\n",
            "677 Shelmet\n",
            "678 Accelgor\n",
            "679 Stunfisk\n",
            "680 Mienfoo\n",
            "681 Mienshao\n",
            "682 Druddigon\n",
            "683 Golett\n",
            "684 Golurk\n",
            "685 Pawniard\n",
            "686 Bisharp\n",
            "687 Bouffalant\n",
            "688 Rufflet\n",
            "689 Braviary\n",
            "690 Vullaby\n",
            "691 Mandibuzz\n",
            "692 Heatmor\n",
            "693 Durant\n",
            "694 Deino\n",
            "695 Zweilous\n",
            "696 Hydreigon\n",
            "697 Larvesta\n",
            "698 Volcarona\n",
            "699 Cobalion\n",
            "700 Terrakion\n",
            "701 Virizion\n",
            "702 TornadusIncarnate Forme\n",
            "703 TornadusTherian Forme\n",
            "704 ThundurusIncarnate Forme\n",
            "705 ThundurusTherian Forme\n",
            "706 Reshiram\n",
            "707 Zekrom\n",
            "708 LandorusIncarnate Forme\n",
            "709 LandorusTherian Forme\n",
            "710 Kyurem\n",
            "711 KyuremBlack Kyurem\n",
            "712 KyuremWhite Kyurem\n",
            "713 KeldeoOrdinary Forme\n",
            "714 KeldeoResolute Forme\n",
            "715 MeloettaAria Forme\n",
            "716 MeloettaPirouette Forme\n",
            "717 Genesect\n",
            "718 Chespin\n",
            "719 Quilladin\n",
            "720 Chesnaught\n",
            "721 Fennekin\n",
            "722 Braixen\n",
            "723 Delphox\n",
            "724 Froakie\n",
            "725 Frogadier\n",
            "726 Greninja\n",
            "727 Bunnelby\n",
            "728 Diggersby\n",
            "729 Fletchling\n",
            "730 Fletchinder\n",
            "731 Talonflame\n",
            "732 Scatterbug\n",
            "733 Spewpa\n",
            "734 Vivillon\n",
            "735 Litleo\n",
            "736 Pyroar\n",
            "737 Flabébé\n",
            "738 Floette\n",
            "739 Florges\n",
            "740 Skiddo\n",
            "741 Gogoat\n",
            "742 Pancham\n",
            "743 Pangoro\n",
            "744 Furfrou\n",
            "745 Espurr\n",
            "746 MeowsticMale\n",
            "747 MeowsticFemale\n",
            "748 Honedge\n",
            "749 Doublade\n",
            "750 AegislashBlade Forme\n",
            "751 AegislashShield Forme\n",
            "752 Spritzee\n",
            "753 Aromatisse\n",
            "754 Swirlix\n",
            "755 Slurpuff\n",
            "756 Inkay\n",
            "757 Malamar\n",
            "758 Binacle\n",
            "759 Barbaracle\n",
            "760 Skrelp\n",
            "761 Dragalge\n",
            "762 Clauncher\n",
            "763 Clawitzer\n",
            "764 Helioptile\n",
            "765 Heliolisk\n",
            "766 Tyrunt\n",
            "767 Tyrantrum\n",
            "768 Amaura\n",
            "769 Aurorus\n",
            "770 Sylveon\n",
            "771 Hawlucha\n",
            "772 Dedenne\n",
            "773 Carbink\n",
            "774 Goomy\n",
            "775 Sliggoo\n",
            "776 Goodra\n",
            "777 Klefki\n",
            "778 Phantump\n",
            "779 Trevenant\n",
            "780 PumpkabooAverage Size\n",
            "781 PumpkabooSmall Size\n",
            "782 PumpkabooLarge Size\n",
            "783 PumpkabooSuper Size\n",
            "784 GourgeistAverage Size\n",
            "785 GourgeistSmall Size\n",
            "786 GourgeistLarge Size\n",
            "787 GourgeistSuper Size\n",
            "788 Bergmite\n",
            "789 Avalugg\n",
            "790 Noibat\n",
            "791 Noivern\n",
            "792 Xerneas\n",
            "793 Yveltal\n",
            "794 Zygarde50% Forme\n",
            "795 Diancie\n",
            "796 DiancieMega Diancie\n",
            "797 HoopaHoopa Confined\n",
            "798 HoopaHoopa Unbound\n",
            "799 Volcanion\n"
          ]
        }
      ]
    },
    {
      "cell_type": "markdown",
      "source": [
        "Dataslicing with filter"
      ],
      "metadata": {
        "id": "BJymIFpddn7T"
      }
    },
    {
      "cell_type": "code",
      "source": [
        "print(dataset1.loc[dataset1[\"Speed\"]>90])"
      ],
      "metadata": {
        "colab": {
          "base_uri": "https://localhost:8080/"
        },
        "id": "q5_-Drfsffeb",
        "outputId": "aa2ad592-7e5f-418f-aada-ae127f9c87d1"
      },
      "execution_count": 21,
      "outputs": [
        {
          "output_type": "stream",
          "name": "stdout",
          "text": [
            "       #                       Name  Type 1  ... Speed  Generation  Legendary\n",
            "6      6                  Charizard    Fire  ...   100           1      False\n",
            "7      6  CharizardMega Charizard X    Fire  ...   100           1      False\n",
            "8      6  CharizardMega Charizard Y    Fire  ...   100           1      False\n",
            "19    15      BeedrillMega Beedrill     Bug  ...   145           1      False\n",
            "22    18                    Pidgeot  Normal  ...   101           1      False\n",
            "..   ...                        ...     ...  ...   ...         ...        ...\n",
            "791  715                    Noivern  Flying  ...   123           6      False\n",
            "792  716                    Xerneas   Fairy  ...    99           6       True\n",
            "793  717                    Yveltal    Dark  ...    99           6       True\n",
            "794  718           Zygarde50% Forme  Dragon  ...    95           6       True\n",
            "796  719        DiancieMega Diancie    Rock  ...   110           6       True\n",
            "\n",
            "[186 rows x 12 columns]\n"
          ]
        }
      ]
    },
    {
      "cell_type": "code",
      "source": [
        "print(dataset1.loc[dataset1[\"Type 2\"]==\"Poison\"])"
      ],
      "metadata": {
        "colab": {
          "base_uri": "https://localhost:8080/"
        },
        "id": "OcJWjZlzfuh1",
        "outputId": "33557d8c-edb9-4a77-e10e-edb72ab45a9b"
      },
      "execution_count": 22,
      "outputs": [
        {
          "output_type": "stream",
          "name": "stdout",
          "text": [
            "       #                   Name Type 1  ... Speed  Generation  Legendary\n",
            "0      1              Bulbasaur  Grass  ...    45           1      False\n",
            "1      2                Ivysaur  Grass  ...    60           1      False\n",
            "2      3               Venusaur  Grass  ...    80           1      False\n",
            "3      3  VenusaurMega Venusaur  Grass  ...    80           1      False\n",
            "16    13                 Weedle    Bug  ...    50           1      False\n",
            "17    14                 Kakuna    Bug  ...    35           1      False\n",
            "18    15               Beedrill    Bug  ...    75           1      False\n",
            "19    15  BeedrillMega Beedrill    Bug  ...   145           1      False\n",
            "48    43                 Oddish  Grass  ...    30           1      False\n",
            "49    44                  Gloom  Grass  ...    40           1      False\n",
            "50    45              Vileplume  Grass  ...    50           1      False\n",
            "53    48                Venonat    Bug  ...    45           1      False\n",
            "54    49               Venomoth    Bug  ...    90           1      False\n",
            "75    69             Bellsprout  Grass  ...    40           1      False\n",
            "76    70             Weepinbell  Grass  ...    55           1      False\n",
            "77    71             Victreebel  Grass  ...    70           1      False\n",
            "78    72              Tentacool  Water  ...    70           1      False\n",
            "79    73             Tentacruel  Water  ...   100           1      False\n",
            "99    92                 Gastly  Ghost  ...    80           1      False\n",
            "100   93                Haunter  Ghost  ...    95           1      False\n",
            "101   94                 Gengar  Ghost  ...   110           1      False\n",
            "102   94      GengarMega Gengar  Ghost  ...   130           1      False\n",
            "181  167               Spinarak    Bug  ...    30           2      False\n",
            "182  168                Ariados    Bug  ...    40           2      False\n",
            "227  211               Qwilfish  Water  ...    85           2      False\n",
            "292  269                 Dustox    Bug  ...    65           3      False\n",
            "344  315                Roselia  Grass  ...    65           3      False\n",
            "451  406                  Budew  Grass  ...    55           4      False\n",
            "452  407               Roserade  Grass  ...    90           4      False\n",
            "603  543               Venipede    Bug  ...    57           5      False\n",
            "604  544             Whirlipede    Bug  ...    47           5      False\n",
            "605  545              Scolipede    Bug  ...   112           5      False\n",
            "651  590                Foongus  Grass  ...    15           5      False\n",
            "652  591              Amoonguss  Grass  ...    30           5      False\n",
            "\n",
            "[34 rows x 12 columns]\n"
          ]
        }
      ]
    },
    {
      "cell_type": "markdown",
      "source": [
        "Slicing-Sorting data"
      ],
      "metadata": {
        "id": "d1CkSZpxiShh"
      }
    },
    {
      "cell_type": "code",
      "source": [
        "dataset1.sort_values([\"HP\"],ascending=False) # Hp Value are decending order\n",
        "#replace false by true and get the values in ascending order"
      ],
      "metadata": {
        "colab": {
          "base_uri": "https://localhost:8080/",
          "height": 424
        },
        "id": "p9IFv1BFiWyc",
        "outputId": "cf9efc9d-e209-4d95-96b8-9cdc72a3a8e8"
      },
      "execution_count": 23,
      "outputs": [
        {
          "output_type": "execute_result",
          "data": {
            "text/html": [
              "\n",
              "  <div id=\"df-bcc53900-413f-4c5e-83ef-ae864b072f0a\">\n",
              "    <div class=\"colab-df-container\">\n",
              "      <div>\n",
              "<style scoped>\n",
              "    .dataframe tbody tr th:only-of-type {\n",
              "        vertical-align: middle;\n",
              "    }\n",
              "\n",
              "    .dataframe tbody tr th {\n",
              "        vertical-align: top;\n",
              "    }\n",
              "\n",
              "    .dataframe thead th {\n",
              "        text-align: right;\n",
              "    }\n",
              "</style>\n",
              "<table border=\"1\" class=\"dataframe\">\n",
              "  <thead>\n",
              "    <tr style=\"text-align: right;\">\n",
              "      <th></th>\n",
              "      <th>#</th>\n",
              "      <th>Name</th>\n",
              "      <th>Type 1</th>\n",
              "      <th>Type 2</th>\n",
              "      <th>HP</th>\n",
              "      <th>Attack</th>\n",
              "      <th>Defense</th>\n",
              "      <th>Sp. Atk</th>\n",
              "      <th>Sp. Def</th>\n",
              "      <th>Speed</th>\n",
              "      <th>Generation</th>\n",
              "      <th>Legendary</th>\n",
              "    </tr>\n",
              "  </thead>\n",
              "  <tbody>\n",
              "    <tr>\n",
              "      <th>261</th>\n",
              "      <td>242</td>\n",
              "      <td>Blissey</td>\n",
              "      <td>Normal</td>\n",
              "      <td>NaN</td>\n",
              "      <td>255</td>\n",
              "      <td>10</td>\n",
              "      <td>10</td>\n",
              "      <td>75</td>\n",
              "      <td>135</td>\n",
              "      <td>55</td>\n",
              "      <td>2</td>\n",
              "      <td>False</td>\n",
              "    </tr>\n",
              "    <tr>\n",
              "      <th>121</th>\n",
              "      <td>113</td>\n",
              "      <td>Chansey</td>\n",
              "      <td>Normal</td>\n",
              "      <td>NaN</td>\n",
              "      <td>250</td>\n",
              "      <td>5</td>\n",
              "      <td>5</td>\n",
              "      <td>35</td>\n",
              "      <td>105</td>\n",
              "      <td>50</td>\n",
              "      <td>1</td>\n",
              "      <td>False</td>\n",
              "    </tr>\n",
              "    <tr>\n",
              "      <th>217</th>\n",
              "      <td>202</td>\n",
              "      <td>Wobbuffet</td>\n",
              "      <td>Psychic</td>\n",
              "      <td>NaN</td>\n",
              "      <td>190</td>\n",
              "      <td>33</td>\n",
              "      <td>58</td>\n",
              "      <td>33</td>\n",
              "      <td>58</td>\n",
              "      <td>33</td>\n",
              "      <td>2</td>\n",
              "      <td>False</td>\n",
              "    </tr>\n",
              "    <tr>\n",
              "      <th>351</th>\n",
              "      <td>321</td>\n",
              "      <td>Wailord</td>\n",
              "      <td>Water</td>\n",
              "      <td>NaN</td>\n",
              "      <td>170</td>\n",
              "      <td>90</td>\n",
              "      <td>45</td>\n",
              "      <td>90</td>\n",
              "      <td>45</td>\n",
              "      <td>60</td>\n",
              "      <td>3</td>\n",
              "      <td>False</td>\n",
              "    </tr>\n",
              "    <tr>\n",
              "      <th>655</th>\n",
              "      <td>594</td>\n",
              "      <td>Alomomola</td>\n",
              "      <td>Water</td>\n",
              "      <td>NaN</td>\n",
              "      <td>165</td>\n",
              "      <td>75</td>\n",
              "      <td>80</td>\n",
              "      <td>40</td>\n",
              "      <td>45</td>\n",
              "      <td>65</td>\n",
              "      <td>5</td>\n",
              "      <td>False</td>\n",
              "    </tr>\n",
              "    <tr>\n",
              "      <th>...</th>\n",
              "      <td>...</td>\n",
              "      <td>...</td>\n",
              "      <td>...</td>\n",
              "      <td>...</td>\n",
              "      <td>...</td>\n",
              "      <td>...</td>\n",
              "      <td>...</td>\n",
              "      <td>...</td>\n",
              "      <td>...</td>\n",
              "      <td>...</td>\n",
              "      <td>...</td>\n",
              "      <td>...</td>\n",
              "    </tr>\n",
              "    <tr>\n",
              "      <th>139</th>\n",
              "      <td>129</td>\n",
              "      <td>Magikarp</td>\n",
              "      <td>Water</td>\n",
              "      <td>NaN</td>\n",
              "      <td>20</td>\n",
              "      <td>10</td>\n",
              "      <td>55</td>\n",
              "      <td>15</td>\n",
              "      <td>20</td>\n",
              "      <td>80</td>\n",
              "      <td>1</td>\n",
              "      <td>False</td>\n",
              "    </tr>\n",
              "    <tr>\n",
              "      <th>381</th>\n",
              "      <td>349</td>\n",
              "      <td>Feebas</td>\n",
              "      <td>Water</td>\n",
              "      <td>NaN</td>\n",
              "      <td>20</td>\n",
              "      <td>15</td>\n",
              "      <td>20</td>\n",
              "      <td>10</td>\n",
              "      <td>55</td>\n",
              "      <td>80</td>\n",
              "      <td>3</td>\n",
              "      <td>False</td>\n",
              "    </tr>\n",
              "    <tr>\n",
              "      <th>388</th>\n",
              "      <td>355</td>\n",
              "      <td>Duskull</td>\n",
              "      <td>Ghost</td>\n",
              "      <td>NaN</td>\n",
              "      <td>20</td>\n",
              "      <td>40</td>\n",
              "      <td>90</td>\n",
              "      <td>30</td>\n",
              "      <td>90</td>\n",
              "      <td>25</td>\n",
              "      <td>3</td>\n",
              "      <td>False</td>\n",
              "    </tr>\n",
              "    <tr>\n",
              "      <th>55</th>\n",
              "      <td>50</td>\n",
              "      <td>Diglett</td>\n",
              "      <td>Ground</td>\n",
              "      <td>NaN</td>\n",
              "      <td>10</td>\n",
              "      <td>55</td>\n",
              "      <td>25</td>\n",
              "      <td>35</td>\n",
              "      <td>45</td>\n",
              "      <td>95</td>\n",
              "      <td>1</td>\n",
              "      <td>False</td>\n",
              "    </tr>\n",
              "    <tr>\n",
              "      <th>316</th>\n",
              "      <td>292</td>\n",
              "      <td>Shedinja</td>\n",
              "      <td>Bug</td>\n",
              "      <td>Ghost</td>\n",
              "      <td>1</td>\n",
              "      <td>90</td>\n",
              "      <td>45</td>\n",
              "      <td>30</td>\n",
              "      <td>30</td>\n",
              "      <td>40</td>\n",
              "      <td>3</td>\n",
              "      <td>False</td>\n",
              "    </tr>\n",
              "  </tbody>\n",
              "</table>\n",
              "<p>800 rows × 12 columns</p>\n",
              "</div>\n",
              "      <button class=\"colab-df-convert\" onclick=\"convertToInteractive('df-bcc53900-413f-4c5e-83ef-ae864b072f0a')\"\n",
              "              title=\"Convert this dataframe to an interactive table.\"\n",
              "              style=\"display:none;\">\n",
              "        \n",
              "  <svg xmlns=\"http://www.w3.org/2000/svg\" height=\"24px\"viewBox=\"0 0 24 24\"\n",
              "       width=\"24px\">\n",
              "    <path d=\"M0 0h24v24H0V0z\" fill=\"none\"/>\n",
              "    <path d=\"M18.56 5.44l.94 2.06.94-2.06 2.06-.94-2.06-.94-.94-2.06-.94 2.06-2.06.94zm-11 1L8.5 8.5l.94-2.06 2.06-.94-2.06-.94L8.5 2.5l-.94 2.06-2.06.94zm10 10l.94 2.06.94-2.06 2.06-.94-2.06-.94-.94-2.06-.94 2.06-2.06.94z\"/><path d=\"M17.41 7.96l-1.37-1.37c-.4-.4-.92-.59-1.43-.59-.52 0-1.04.2-1.43.59L10.3 9.45l-7.72 7.72c-.78.78-.78 2.05 0 2.83L4 21.41c.39.39.9.59 1.41.59.51 0 1.02-.2 1.41-.59l7.78-7.78 2.81-2.81c.8-.78.8-2.07 0-2.86zM5.41 20L4 18.59l7.72-7.72 1.47 1.35L5.41 20z\"/>\n",
              "  </svg>\n",
              "      </button>\n",
              "      \n",
              "  <style>\n",
              "    .colab-df-container {\n",
              "      display:flex;\n",
              "      flex-wrap:wrap;\n",
              "      gap: 12px;\n",
              "    }\n",
              "\n",
              "    .colab-df-convert {\n",
              "      background-color: #E8F0FE;\n",
              "      border: none;\n",
              "      border-radius: 50%;\n",
              "      cursor: pointer;\n",
              "      display: none;\n",
              "      fill: #1967D2;\n",
              "      height: 32px;\n",
              "      padding: 0 0 0 0;\n",
              "      width: 32px;\n",
              "    }\n",
              "\n",
              "    .colab-df-convert:hover {\n",
              "      background-color: #E2EBFA;\n",
              "      box-shadow: 0px 1px 2px rgba(60, 64, 67, 0.3), 0px 1px 3px 1px rgba(60, 64, 67, 0.15);\n",
              "      fill: #174EA6;\n",
              "    }\n",
              "\n",
              "    [theme=dark] .colab-df-convert {\n",
              "      background-color: #3B4455;\n",
              "      fill: #D2E3FC;\n",
              "    }\n",
              "\n",
              "    [theme=dark] .colab-df-convert:hover {\n",
              "      background-color: #434B5C;\n",
              "      box-shadow: 0px 1px 3px 1px rgba(0, 0, 0, 0.15);\n",
              "      filter: drop-shadow(0px 1px 2px rgba(0, 0, 0, 0.3));\n",
              "      fill: #FFFFFF;\n",
              "    }\n",
              "  </style>\n",
              "\n",
              "      <script>\n",
              "        const buttonEl =\n",
              "          document.querySelector('#df-bcc53900-413f-4c5e-83ef-ae864b072f0a button.colab-df-convert');\n",
              "        buttonEl.style.display =\n",
              "          google.colab.kernel.accessAllowed ? 'block' : 'none';\n",
              "\n",
              "        async function convertToInteractive(key) {\n",
              "          const element = document.querySelector('#df-bcc53900-413f-4c5e-83ef-ae864b072f0a');\n",
              "          const dataTable =\n",
              "            await google.colab.kernel.invokeFunction('convertToInteractive',\n",
              "                                                     [key], {});\n",
              "          if (!dataTable) return;\n",
              "\n",
              "          const docLinkHtml = 'Like what you see? Visit the ' +\n",
              "            '<a target=\"_blank\" href=https://colab.research.google.com/notebooks/data_table.ipynb>data table notebook</a>'\n",
              "            + ' to learn more about interactive tables.';\n",
              "          element.innerHTML = '';\n",
              "          dataTable['output_type'] = 'display_data';\n",
              "          await google.colab.output.renderOutput(dataTable, element);\n",
              "          const docLink = document.createElement('div');\n",
              "          docLink.innerHTML = docLinkHtml;\n",
              "          element.appendChild(docLink);\n",
              "        }\n",
              "      </script>\n",
              "    </div>\n",
              "  </div>\n",
              "  "
            ],
            "text/plain": [
              "       #       Name   Type 1 Type 2  ...  Sp. Def  Speed  Generation  Legendary\n",
              "261  242    Blissey   Normal    NaN  ...      135     55           2      False\n",
              "121  113    Chansey   Normal    NaN  ...      105     50           1      False\n",
              "217  202  Wobbuffet  Psychic    NaN  ...       58     33           2      False\n",
              "351  321    Wailord    Water    NaN  ...       45     60           3      False\n",
              "655  594  Alomomola    Water    NaN  ...       45     65           5      False\n",
              "..   ...        ...      ...    ...  ...      ...    ...         ...        ...\n",
              "139  129   Magikarp    Water    NaN  ...       20     80           1      False\n",
              "381  349     Feebas    Water    NaN  ...       55     80           3      False\n",
              "388  355    Duskull    Ghost    NaN  ...       90     25           3      False\n",
              "55    50    Diglett   Ground    NaN  ...       45     95           1      False\n",
              "316  292   Shedinja      Bug  Ghost  ...       30     40           3      False\n",
              "\n",
              "[800 rows x 12 columns]"
            ]
          },
          "metadata": {},
          "execution_count": 23
        }
      ]
    },
    {
      "cell_type": "code",
      "source": [
        "dataset1.sort_values([\"Speed\"],ascending=False)"
      ],
      "metadata": {
        "colab": {
          "base_uri": "https://localhost:8080/",
          "height": 424
        },
        "id": "YD1wBIYZixLS",
        "outputId": "48ca43e5-ca06-4263-88be-7ee5106efdfb"
      },
      "execution_count": 24,
      "outputs": [
        {
          "output_type": "execute_result",
          "data": {
            "text/html": [
              "\n",
              "  <div id=\"df-f2d48f9b-6a8f-4b1f-91a2-bbdc6d6d20b7\">\n",
              "    <div class=\"colab-df-container\">\n",
              "      <div>\n",
              "<style scoped>\n",
              "    .dataframe tbody tr th:only-of-type {\n",
              "        vertical-align: middle;\n",
              "    }\n",
              "\n",
              "    .dataframe tbody tr th {\n",
              "        vertical-align: top;\n",
              "    }\n",
              "\n",
              "    .dataframe thead th {\n",
              "        text-align: right;\n",
              "    }\n",
              "</style>\n",
              "<table border=\"1\" class=\"dataframe\">\n",
              "  <thead>\n",
              "    <tr style=\"text-align: right;\">\n",
              "      <th></th>\n",
              "      <th>#</th>\n",
              "      <th>Name</th>\n",
              "      <th>Type 1</th>\n",
              "      <th>Type 2</th>\n",
              "      <th>HP</th>\n",
              "      <th>Attack</th>\n",
              "      <th>Defense</th>\n",
              "      <th>Sp. Atk</th>\n",
              "      <th>Sp. Def</th>\n",
              "      <th>Speed</th>\n",
              "      <th>Generation</th>\n",
              "      <th>Legendary</th>\n",
              "    </tr>\n",
              "  </thead>\n",
              "  <tbody>\n",
              "    <tr>\n",
              "      <th>431</th>\n",
              "      <td>386</td>\n",
              "      <td>DeoxysSpeed Forme</td>\n",
              "      <td>Psychic</td>\n",
              "      <td>NaN</td>\n",
              "      <td>50</td>\n",
              "      <td>95</td>\n",
              "      <td>90</td>\n",
              "      <td>95</td>\n",
              "      <td>90</td>\n",
              "      <td>180</td>\n",
              "      <td>3</td>\n",
              "      <td>True</td>\n",
              "    </tr>\n",
              "    <tr>\n",
              "      <th>315</th>\n",
              "      <td>291</td>\n",
              "      <td>Ninjask</td>\n",
              "      <td>Bug</td>\n",
              "      <td>Flying</td>\n",
              "      <td>61</td>\n",
              "      <td>90</td>\n",
              "      <td>45</td>\n",
              "      <td>50</td>\n",
              "      <td>50</td>\n",
              "      <td>160</td>\n",
              "      <td>3</td>\n",
              "      <td>False</td>\n",
              "    </tr>\n",
              "    <tr>\n",
              "      <th>428</th>\n",
              "      <td>386</td>\n",
              "      <td>DeoxysNormal Forme</td>\n",
              "      <td>Psychic</td>\n",
              "      <td>NaN</td>\n",
              "      <td>50</td>\n",
              "      <td>150</td>\n",
              "      <td>50</td>\n",
              "      <td>150</td>\n",
              "      <td>50</td>\n",
              "      <td>150</td>\n",
              "      <td>3</td>\n",
              "      <td>True</td>\n",
              "    </tr>\n",
              "    <tr>\n",
              "      <th>154</th>\n",
              "      <td>142</td>\n",
              "      <td>AerodactylMega Aerodactyl</td>\n",
              "      <td>Rock</td>\n",
              "      <td>Flying</td>\n",
              "      <td>80</td>\n",
              "      <td>135</td>\n",
              "      <td>85</td>\n",
              "      <td>70</td>\n",
              "      <td>95</td>\n",
              "      <td>150</td>\n",
              "      <td>1</td>\n",
              "      <td>False</td>\n",
              "    </tr>\n",
              "    <tr>\n",
              "      <th>71</th>\n",
              "      <td>65</td>\n",
              "      <td>AlakazamMega Alakazam</td>\n",
              "      <td>Psychic</td>\n",
              "      <td>NaN</td>\n",
              "      <td>55</td>\n",
              "      <td>50</td>\n",
              "      <td>65</td>\n",
              "      <td>175</td>\n",
              "      <td>95</td>\n",
              "      <td>150</td>\n",
              "      <td>1</td>\n",
              "      <td>False</td>\n",
              "    </tr>\n",
              "    <tr>\n",
              "      <th>...</th>\n",
              "      <td>...</td>\n",
              "      <td>...</td>\n",
              "      <td>...</td>\n",
              "      <td>...</td>\n",
              "      <td>...</td>\n",
              "      <td>...</td>\n",
              "      <td>...</td>\n",
              "      <td>...</td>\n",
              "      <td>...</td>\n",
              "      <td>...</td>\n",
              "      <td>...</td>\n",
              "      <td>...</td>\n",
              "    </tr>\n",
              "    <tr>\n",
              "      <th>658</th>\n",
              "      <td>597</td>\n",
              "      <td>Ferroseed</td>\n",
              "      <td>Grass</td>\n",
              "      <td>Steel</td>\n",
              "      <td>44</td>\n",
              "      <td>50</td>\n",
              "      <td>91</td>\n",
              "      <td>24</td>\n",
              "      <td>86</td>\n",
              "      <td>10</td>\n",
              "      <td>5</td>\n",
              "      <td>False</td>\n",
              "    </tr>\n",
              "    <tr>\n",
              "      <th>486</th>\n",
              "      <td>438</td>\n",
              "      <td>Bonsly</td>\n",
              "      <td>Rock</td>\n",
              "      <td>NaN</td>\n",
              "      <td>50</td>\n",
              "      <td>80</td>\n",
              "      <td>95</td>\n",
              "      <td>10</td>\n",
              "      <td>45</td>\n",
              "      <td>10</td>\n",
              "      <td>4</td>\n",
              "      <td>False</td>\n",
              "    </tr>\n",
              "    <tr>\n",
              "      <th>359</th>\n",
              "      <td>328</td>\n",
              "      <td>Trapinch</td>\n",
              "      <td>Ground</td>\n",
              "      <td>NaN</td>\n",
              "      <td>45</td>\n",
              "      <td>100</td>\n",
              "      <td>45</td>\n",
              "      <td>45</td>\n",
              "      <td>45</td>\n",
              "      <td>10</td>\n",
              "      <td>3</td>\n",
              "      <td>False</td>\n",
              "    </tr>\n",
              "    <tr>\n",
              "      <th>230</th>\n",
              "      <td>213</td>\n",
              "      <td>Shuckle</td>\n",
              "      <td>Bug</td>\n",
              "      <td>Rock</td>\n",
              "      <td>20</td>\n",
              "      <td>10</td>\n",
              "      <td>230</td>\n",
              "      <td>10</td>\n",
              "      <td>230</td>\n",
              "      <td>5</td>\n",
              "      <td>2</td>\n",
              "      <td>False</td>\n",
              "    </tr>\n",
              "    <tr>\n",
              "      <th>495</th>\n",
              "      <td>446</td>\n",
              "      <td>Munchlax</td>\n",
              "      <td>Normal</td>\n",
              "      <td>NaN</td>\n",
              "      <td>135</td>\n",
              "      <td>85</td>\n",
              "      <td>40</td>\n",
              "      <td>40</td>\n",
              "      <td>85</td>\n",
              "      <td>5</td>\n",
              "      <td>4</td>\n",
              "      <td>False</td>\n",
              "    </tr>\n",
              "  </tbody>\n",
              "</table>\n",
              "<p>800 rows × 12 columns</p>\n",
              "</div>\n",
              "      <button class=\"colab-df-convert\" onclick=\"convertToInteractive('df-f2d48f9b-6a8f-4b1f-91a2-bbdc6d6d20b7')\"\n",
              "              title=\"Convert this dataframe to an interactive table.\"\n",
              "              style=\"display:none;\">\n",
              "        \n",
              "  <svg xmlns=\"http://www.w3.org/2000/svg\" height=\"24px\"viewBox=\"0 0 24 24\"\n",
              "       width=\"24px\">\n",
              "    <path d=\"M0 0h24v24H0V0z\" fill=\"none\"/>\n",
              "    <path d=\"M18.56 5.44l.94 2.06.94-2.06 2.06-.94-2.06-.94-.94-2.06-.94 2.06-2.06.94zm-11 1L8.5 8.5l.94-2.06 2.06-.94-2.06-.94L8.5 2.5l-.94 2.06-2.06.94zm10 10l.94 2.06.94-2.06 2.06-.94-2.06-.94-.94-2.06-.94 2.06-2.06.94z\"/><path d=\"M17.41 7.96l-1.37-1.37c-.4-.4-.92-.59-1.43-.59-.52 0-1.04.2-1.43.59L10.3 9.45l-7.72 7.72c-.78.78-.78 2.05 0 2.83L4 21.41c.39.39.9.59 1.41.59.51 0 1.02-.2 1.41-.59l7.78-7.78 2.81-2.81c.8-.78.8-2.07 0-2.86zM5.41 20L4 18.59l7.72-7.72 1.47 1.35L5.41 20z\"/>\n",
              "  </svg>\n",
              "      </button>\n",
              "      \n",
              "  <style>\n",
              "    .colab-df-container {\n",
              "      display:flex;\n",
              "      flex-wrap:wrap;\n",
              "      gap: 12px;\n",
              "    }\n",
              "\n",
              "    .colab-df-convert {\n",
              "      background-color: #E8F0FE;\n",
              "      border: none;\n",
              "      border-radius: 50%;\n",
              "      cursor: pointer;\n",
              "      display: none;\n",
              "      fill: #1967D2;\n",
              "      height: 32px;\n",
              "      padding: 0 0 0 0;\n",
              "      width: 32px;\n",
              "    }\n",
              "\n",
              "    .colab-df-convert:hover {\n",
              "      background-color: #E2EBFA;\n",
              "      box-shadow: 0px 1px 2px rgba(60, 64, 67, 0.3), 0px 1px 3px 1px rgba(60, 64, 67, 0.15);\n",
              "      fill: #174EA6;\n",
              "    }\n",
              "\n",
              "    [theme=dark] .colab-df-convert {\n",
              "      background-color: #3B4455;\n",
              "      fill: #D2E3FC;\n",
              "    }\n",
              "\n",
              "    [theme=dark] .colab-df-convert:hover {\n",
              "      background-color: #434B5C;\n",
              "      box-shadow: 0px 1px 3px 1px rgba(0, 0, 0, 0.15);\n",
              "      filter: drop-shadow(0px 1px 2px rgba(0, 0, 0, 0.3));\n",
              "      fill: #FFFFFF;\n",
              "    }\n",
              "  </style>\n",
              "\n",
              "      <script>\n",
              "        const buttonEl =\n",
              "          document.querySelector('#df-f2d48f9b-6a8f-4b1f-91a2-bbdc6d6d20b7 button.colab-df-convert');\n",
              "        buttonEl.style.display =\n",
              "          google.colab.kernel.accessAllowed ? 'block' : 'none';\n",
              "\n",
              "        async function convertToInteractive(key) {\n",
              "          const element = document.querySelector('#df-f2d48f9b-6a8f-4b1f-91a2-bbdc6d6d20b7');\n",
              "          const dataTable =\n",
              "            await google.colab.kernel.invokeFunction('convertToInteractive',\n",
              "                                                     [key], {});\n",
              "          if (!dataTable) return;\n",
              "\n",
              "          const docLinkHtml = 'Like what you see? Visit the ' +\n",
              "            '<a target=\"_blank\" href=https://colab.research.google.com/notebooks/data_table.ipynb>data table notebook</a>'\n",
              "            + ' to learn more about interactive tables.';\n",
              "          element.innerHTML = '';\n",
              "          dataTable['output_type'] = 'display_data';\n",
              "          await google.colab.output.renderOutput(dataTable, element);\n",
              "          const docLink = document.createElement('div');\n",
              "          docLink.innerHTML = docLinkHtml;\n",
              "          element.appendChild(docLink);\n",
              "        }\n",
              "      </script>\n",
              "    </div>\n",
              "  </div>\n",
              "  "
            ],
            "text/plain": [
              "       #                       Name   Type 1  ... Speed  Generation  Legendary\n",
              "431  386          DeoxysSpeed Forme  Psychic  ...   180           3       True\n",
              "315  291                    Ninjask      Bug  ...   160           3      False\n",
              "428  386         DeoxysNormal Forme  Psychic  ...   150           3       True\n",
              "154  142  AerodactylMega Aerodactyl     Rock  ...   150           1      False\n",
              "71    65      AlakazamMega Alakazam  Psychic  ...   150           1      False\n",
              "..   ...                        ...      ...  ...   ...         ...        ...\n",
              "658  597                  Ferroseed    Grass  ...    10           5      False\n",
              "486  438                     Bonsly     Rock  ...    10           4      False\n",
              "359  328                   Trapinch   Ground  ...    10           3      False\n",
              "230  213                    Shuckle      Bug  ...     5           2      False\n",
              "495  446                   Munchlax   Normal  ...     5           4      False\n",
              "\n",
              "[800 rows x 12 columns]"
            ]
          },
          "metadata": {},
          "execution_count": 24
        }
      ]
    },
    {
      "cell_type": "markdown",
      "source": [
        "Editing Data (Adding Column)"
      ],
      "metadata": {
        "id": "_3dWKGxnlIhg"
      }
    },
    {
      "cell_type": "code",
      "source": [
        "dataset1[\"Power\"]=dataset1[\"HP\"]+dataset1[\"Attack\"] #add the power column i.e extra column in that data\n",
        "print(dataset1.head(5))"
      ],
      "metadata": {
        "colab": {
          "base_uri": "https://localhost:8080/"
        },
        "id": "CHIwB4X9lK1G",
        "outputId": "c85f815b-1375-404b-8d07-7e77b2c27555"
      },
      "execution_count": 29,
      "outputs": [
        {
          "output_type": "stream",
          "name": "stdout",
          "text": [
            "   #                   Name Type 1  Type 2  ...  Speed  Generation  Legendary  Power\n",
            "0  1              Bulbasaur  Grass  Poison  ...     45           1      False     94\n",
            "1  2                Ivysaur  Grass  Poison  ...     60           1      False    122\n",
            "2  3               Venusaur  Grass  Poison  ...     80           1      False    162\n",
            "3  3  VenusaurMega Venusaur  Grass  Poison  ...     80           1      False    180\n",
            "4  4             Charmander   Fire     NaN  ...     65           1      False     91\n",
            "\n",
            "[5 rows x 13 columns]\n"
          ]
        }
      ]
    },
    {
      "cell_type": "markdown",
      "source": [
        "Remove column"
      ],
      "metadata": {
        "id": "PcRPxGOHl669"
      }
    },
    {
      "cell_type": "code",
      "source": [
        "dataset1 = dataset1.drop(columns=[\"Power\"])  #removing column\n",
        "print(dataset1.head(5))"
      ],
      "metadata": {
        "id": "LdYZGLqetG4n"
      },
      "execution_count": null,
      "outputs": []
    },
    {
      "cell_type": "markdown",
      "source": [
        "Save Dataset in new file"
      ],
      "metadata": {
        "id": "PougDiz8p3yv"
      }
    },
    {
      "cell_type": "code",
      "source": [
        "dataset1.to_csv(\"newDataset.csv\")\n",
        "dataset1.to_excel(\"newDataset.xlsx\")\n",
        "dataset1.to_csv(\"newDataset.csv\",index=False,sep=\"\\t\")\n"
      ],
      "metadata": {
        "id": "6GYQh-fyqCyV"
      },
      "execution_count": 30,
      "outputs": []
    },
    {
      "cell_type": "markdown",
      "source": [
        "Checking Null values in Dataset"
      ],
      "metadata": {
        "id": "3SJLnS0uvHV5"
      }
    },
    {
      "cell_type": "code",
      "source": [
        "dataset1.isna().any()"
      ],
      "metadata": {
        "colab": {
          "base_uri": "https://localhost:8080/"
        },
        "id": "WoA4o-j-vPgU",
        "outputId": "456c532c-4cf5-4d3f-ed66-03f545089296"
      },
      "execution_count": 34,
      "outputs": [
        {
          "output_type": "execute_result",
          "data": {
            "text/plain": [
              "#             False\n",
              "Name          False\n",
              "Type 1        False\n",
              "Type 2        False\n",
              "HP            False\n",
              "Attack        False\n",
              "Defense       False\n",
              "Sp. Atk       False\n",
              "Sp. Def       False\n",
              "Speed         False\n",
              "Generation    False\n",
              "Legendary     False\n",
              "Power         False\n",
              "dtype: bool"
            ]
          },
          "metadata": {},
          "execution_count": 34
        }
      ]
    },
    {
      "cell_type": "markdown",
      "source": [
        "Acquiring Dataset without Nan Value, by removing the entire column"
      ],
      "metadata": {
        "id": "X4aQYCL6xGMi"
      }
    },
    {
      "cell_type": "code",
      "source": [
        "dataset1 = dataset1[dataset1[\"Type 2\"].notna()]"
      ],
      "metadata": {
        "id": "8OPPS0wXxWBR"
      },
      "execution_count": 38,
      "outputs": []
    },
    {
      "cell_type": "markdown",
      "source": [
        "Fillling NaN with mean of that specific Column \n"
      ],
      "metadata": {
        "id": "zyIbT7dBx1vI"
      }
    },
    {
      "cell_type": "code",
      "source": [
        "MeandatasetNotNan = dataset1[\"Speed\"].fillna(dataset1[\"Speed\"].mean())\n",
        "MeandatasetNotNan"
      ],
      "metadata": {
        "colab": {
          "base_uri": "https://localhost:8080/"
        },
        "id": "gyZt6XdMx_1i",
        "outputId": "ef1c4744-4247-45ab-b2e9-0dd084bd7204"
      },
      "execution_count": 37,
      "outputs": [
        {
          "output_type": "execute_result",
          "data": {
            "text/plain": [
              "0       45\n",
              "1       60\n",
              "2       80\n",
              "3       80\n",
              "6      100\n",
              "      ... \n",
              "795     50\n",
              "796    110\n",
              "797     70\n",
              "798     80\n",
              "799     70\n",
              "Name: Speed, Length: 414, dtype: int64"
            ]
          },
          "metadata": {},
          "execution_count": 37
        }
      ]
    },
    {
      "cell_type": "markdown",
      "source": [
        "Mapping Certain Data to another value"
      ],
      "metadata": {
        "id": "5XSE9AlGz7Ur"
      }
    },
    {
      "cell_type": "code",
      "source": [
        "print(dataset1.head(5))\n",
        "Generation = set(dataset1['Generation'])\n",
        "dataset1['Generation'] = dataset1['Generation'].map({1: \"one\", 2:\"two\", 3:\"three\", 4:\"four\",5:\"five\",6:\"six\"})\n",
        "print(dataset1.head(5))"
      ],
      "metadata": {
        "colab": {
          "base_uri": "https://localhost:8080/"
        },
        "id": "NEJmS8q40C13",
        "outputId": "42ec70a6-555c-4563-ffc6-aec01ba04739"
      },
      "execution_count": 39,
      "outputs": [
        {
          "output_type": "stream",
          "name": "stdout",
          "text": [
            "   #                   Name Type 1  Type 2  ...  Speed  Generation  Legendary  Power\n",
            "0  1              Bulbasaur  Grass  Poison  ...     45           1      False     94\n",
            "1  2                Ivysaur  Grass  Poison  ...     60           1      False    122\n",
            "2  3               Venusaur  Grass  Poison  ...     80           1      False    162\n",
            "3  3  VenusaurMega Venusaur  Grass  Poison  ...     80           1      False    180\n",
            "6  6              Charizard   Fire  Flying  ...    100           1      False    162\n",
            "\n",
            "[5 rows x 13 columns]\n",
            "   #                   Name Type 1  Type 2  ...  Speed  Generation  Legendary  Power\n",
            "0  1              Bulbasaur  Grass  Poison  ...     45         one      False     94\n",
            "1  2                Ivysaur  Grass  Poison  ...     60         one      False    122\n",
            "2  3               Venusaur  Grass  Poison  ...     80         one      False    162\n",
            "3  3  VenusaurMega Venusaur  Grass  Poison  ...     80         one      False    180\n",
            "6  6              Charizard   Fire  Flying  ...    100         one      False    162\n",
            "\n",
            "[5 rows x 13 columns]\n"
          ]
        }
      ]
    }
  ]
}