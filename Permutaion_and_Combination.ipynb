{
  "nbformat": 4,
  "nbformat_minor": 0,
  "metadata": {
    "colab": {
      "name": "Permutaion and Combination.ipynb",
      "provenance": [],
      "authorship_tag": "ABX9TyN2cD+qjTXmJ3TbgkGfe9rg",
      "include_colab_link": true
    },
    "kernelspec": {
      "name": "python3",
      "display_name": "Python 3"
    },
    "language_info": {
      "name": "python"
    }
  },
  "cells": [
    {
      "cell_type": "markdown",
      "metadata": {
        "id": "view-in-github",
        "colab_type": "text"
      },
      "source": [
        "<a href=\"https://colab.research.google.com/github/maheshpandao/Mahesh/blob/main/Permutaion_and_Combination.ipynb\" target=\"_parent\"><img src=\"https://colab.research.google.com/assets/colab-badge.svg\" alt=\"Open In Colab\"/></a>"
      ]
    },
    {
      "cell_type": "markdown",
      "metadata": {
        "id": "A1lUG05pRZm7"
      },
      "source": [
        "Permutation with Length 2\n",
        "🌛\\\n",
        "\n",
        "---\n",
        "\n"
      ]
    },
    {
      "cell_type": "code",
      "metadata": {
        "colab": {
          "base_uri": "https://localhost:8080/"
        },
        "id": "r_tzvadSRZCj",
        "outputId": "e776428c-6fc0-45f3-a22e-cb722ac3a5d7"
      },
      "source": [
        "from itertools import permutations\n",
        "count=0\n",
        "data=(1,2,3)\n",
        "perm=permutations(data,2)\n",
        "for i in list(perm):\n",
        "    print(i)\n",
        "    count+=1\n",
        "print(\"Permutation Count:\",count)"
      ],
      "execution_count": 7,
      "outputs": [
        {
          "output_type": "stream",
          "name": "stdout",
          "text": [
            "(1, 2)\n",
            "(1, 3)\n",
            "(2, 1)\n",
            "(2, 3)\n",
            "(3, 1)\n",
            "(3, 2)\n",
            "Permutation Count: 6\n"
          ]
        }
      ]
    },
    {
      "cell_type": "markdown",
      "metadata": {
        "id": "VPUriS6UTaR3"
      },
      "source": [
        "Combination with length 2"
      ]
    },
    {
      "cell_type": "code",
      "metadata": {
        "colab": {
          "base_uri": "https://localhost:8080/"
        },
        "id": "zcPNuTCwTeMN",
        "outputId": "0cf7e53c-edfe-4664-acc0-1b33338c6705"
      },
      "source": [
        "from itertools import combinations\n",
        "count=0\n",
        "data=(1,2,3)\n",
        "perm=combinations(data,2)\n",
        "for i in list(perm):\n",
        "    print(i)\n",
        "    count+=1\n",
        "print(\"conbination Count:\",count)"
      ],
      "execution_count": 8,
      "outputs": [
        {
          "output_type": "stream",
          "name": "stdout",
          "text": [
            "(1, 2)\n",
            "(1, 3)\n",
            "(2, 3)\n",
            "conbination Count: 3\n"
          ]
        }
      ]
    },
    {
      "cell_type": "markdown",
      "metadata": {
        "id": "iCyF810UVA8J"
      },
      "source": [
        "Combination with similar number"
      ]
    },
    {
      "cell_type": "code",
      "metadata": {
        "colab": {
          "base_uri": "https://localhost:8080/"
        },
        "id": "zCqKDavPU-uS",
        "outputId": "f074a039-7d6b-44e1-b140-e2614b9bf17c"
      },
      "source": [
        "from itertools import combinations_with_replacement as cr\n",
        "count=0\n",
        "data=(1,2,3)\n",
        "perm=cr(data,2)\n",
        "for i in list(perm):\n",
        "    print(i)\n",
        "    count+=1\n",
        "print(\"conbination Count:\",count)"
      ],
      "execution_count": 9,
      "outputs": [
        {
          "output_type": "stream",
          "name": "stdout",
          "text": [
            "(1, 1)\n",
            "(1, 2)\n",
            "(1, 3)\n",
            "(2, 2)\n",
            "(2, 3)\n",
            "(3, 3)\n",
            "conbination Count: 6\n"
          ]
        }
      ]
    }
  ]
}