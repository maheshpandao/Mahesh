{
  "nbformat": 4,
  "nbformat_minor": 0,
  "metadata": {
    "colab": {
      "name": "1st_assesement_capgemini.ipynb",
      "provenance": [],
      "authorship_tag": "ABX9TyN/21D7mCe++muhOmw8pWRX",
      "include_colab_link": true
    },
    "kernelspec": {
      "name": "python3",
      "display_name": "Python 3"
    },
    "language_info": {
      "name": "python"
    }
  },
  "cells": [
    {
      "cell_type": "markdown",
      "metadata": {
        "id": "view-in-github",
        "colab_type": "text"
      },
      "source": [
        "<a href=\"https://colab.research.google.com/github/maheshpandao/Mahesh/blob/main/1st_assesement_capgemini.ipynb\" target=\"_parent\"><img src=\"https://colab.research.google.com/assets/colab-badge.svg\" alt=\"Open In Colab\"/></a>"
      ]
    },
    {
      "cell_type": "markdown",
      "source": [
        "3. Write a program that stores a number and keeps trying to get user input until the \n",
        "user enters the number correctly. As soon as the correct number is entered, it prints: \n",
        "Correct! "
      ],
      "metadata": {
        "id": "uEYb6DZ_SsvQ"
      }
    },
    {
      "cell_type": "code",
      "execution_count": 7,
      "metadata": {
        "colab": {
          "base_uri": "https://localhost:8080/"
        },
        "id": "dalF6W1X19Rw",
        "outputId": "42796a8c-1beb-4f25-a95d-2bc486c4ec00"
      },
      "outputs": [
        {
          "output_type": "stream",
          "name": "stdout",
          "text": [
            "Enter the value20\n",
            "Please enter another value to correct\n",
            "Enter the value23\n",
            "Please enter another value to correct\n",
            "Enter the value25\n",
            "correct\n"
          ]
        }
      ],
      "source": [
        "x = 25\n",
        "while True:\n",
        "  n = int(input(\"Enter the value\"))\n",
        "  if n == x:\n",
        "    print('correct')\n",
        "    break\n",
        "  else:\n",
        "    print(\"Please enter another value to correct\")"
      ]
    },
    {
      "cell_type": "markdown",
      "source": [
        "6. Write a program which will perform sum and multiplication ,that sums and \n",
        "multiplies (respectively) all the numbers in a list of numbers. For example, sum([1, 2, \n",
        "3, 4]) should return 10, and multiply([1, 2, 3, 4]) should return 24. "
      ],
      "metadata": {
        "id": "v_ZYOSsdS3p1"
      }
    },
    {
      "cell_type": "code",
      "source": [
        "x = [1,2,3,4]\n",
        "sum = 0\n",
        "multiply = 1\n",
        "\n",
        "for i in range (0,len(x)):\n",
        "  sum = sum + x[i]\n",
        "  multiply =multiply*x[i]\n",
        "\n",
        "print(sum)\n",
        "print(multiply)\n",
        "\n"
      ],
      "metadata": {
        "colab": {
          "base_uri": "https://localhost:8080/"
        },
        "id": "YrX-zUTH5L24",
        "outputId": "cb61414e-61c8-4192-fb64-bf8a3c30f482"
      },
      "execution_count": 18,
      "outputs": [
        {
          "output_type": "stream",
          "name": "stdout",
          "text": [
            "10\n",
            "24\n"
          ]
        }
      ]
    },
    {
      "cell_type": "markdown",
      "source": [
        "7. Write a program that takes a value (i.e. a number, string, etc) x and a list of values a, \n",
        "and returns True if x is a member of a, False otherwise. (Note that this is exactly what \n",
        "the in operator does, but for the sake of the exercise you should pretend Python did \n",
        "not have this operator.) "
      ],
      "metadata": {
        "id": "WEDf9g07S7Cf"
      }
    },
    {
      "cell_type": "code",
      "source": [
        "x = int(input(\"enter the value\"))\n",
        "a = [25,30,50,2,5,60,70,50]\n",
        "for i in range (0 ,len(a)):\n",
        "  if a[i] == x :\n",
        "    print(\"True\")\n",
        "  else:\n",
        "    print(\"False\")\n"
      ],
      "metadata": {
        "colab": {
          "base_uri": "https://localhost:8080/"
        },
        "id": "pnEFB8kaBcn-",
        "outputId": "99d4de0b-3de7-49eb-8a1d-1277d413fa8b"
      },
      "execution_count": 28,
      "outputs": [
        {
          "output_type": "stream",
          "name": "stdout",
          "text": [
            "enter the value50\n",
            "False\n",
            "False\n",
            "True\n",
            "False\n",
            "False\n",
            "False\n",
            "False\n",
            "True\n"
          ]
        }
      ]
    },
    {
      "cell_type": "markdown",
      "source": [
        "7. Write a program for histogram that takes a list of integers and prints a histogram to \n",
        "the screen. For example, histogram([4, 9, 7]) should print the following: "
      ],
      "metadata": {
        "id": "u6DYw_HTTDcK"
      }
    },
    {
      "cell_type": "code",
      "source": [
        "histogram = [4, 9, 7]\n",
        "for i in range(0, len(histogram)):\n",
        "  a = histogram[i]* \"*\"\n",
        "  print(a)"
      ],
      "metadata": {
        "colab": {
          "base_uri": "https://localhost:8080/"
        },
        "id": "xSl-xUIgMDLZ",
        "outputId": "502f25f6-918a-448e-9f22-51544eedf110"
      },
      "execution_count": 29,
      "outputs": [
        {
          "output_type": "stream",
          "name": "stdout",
          "text": [
            "****\n",
            "*********\n",
            "*******\n"
          ]
        }
      ]
    },
    {
      "cell_type": "markdown",
      "source": [
        "2. Write a program that adds two numbers and then prints out whether the sum of \n",
        "those two numbers is positive or negative."
      ],
      "metadata": {
        "id": "cCXVO24rSa8x"
      }
    },
    {
      "cell_type": "code",
      "source": [
        "x = int(input(\"enter value\"))\n",
        "y = int(input(\"enter value\"))\n",
        "z = x+y\n",
        "if z>0:\n",
        "  print(\"Positive Number\")\n",
        "else:\n",
        "  print(\"Negative Number\")"
      ],
      "metadata": {
        "colab": {
          "base_uri": "https://localhost:8080/"
        },
        "id": "7Iteb9nMQKtB",
        "outputId": "25892ab9-1448-4cb2-ded3-a94717f904d1"
      },
      "execution_count": 32,
      "outputs": [
        {
          "output_type": "stream",
          "name": "stdout",
          "text": [
            "enter value20\n",
            "enter value-40\n",
            "Negative Number\n"
          ]
        }
      ]
    }
  ]
}