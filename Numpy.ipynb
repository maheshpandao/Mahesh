{
  "nbformat": 4,
  "nbformat_minor": 0,
  "metadata": {
    "colab": {
      "name": "Untitled5.ipynb",
      "provenance": [],
      "authorship_tag": "ABX9TyPAld+psRgyACOqC6VCcn1k",
      "include_colab_link": true
    },
    "kernelspec": {
      "name": "python3",
      "display_name": "Python 3"
    },
    "language_info": {
      "name": "python"
    }
  },
  "cells": [
    {
      "cell_type": "markdown",
      "metadata": {
        "id": "view-in-github",
        "colab_type": "text"
      },
      "source": [
        "<a href=\"https://colab.research.google.com/github/maheshpandao/Mahesh/blob/main/Numpy.ipynb\" target=\"_parent\"><img src=\"https://colab.research.google.com/assets/colab-badge.svg\" alt=\"Open In Colab\"/></a>"
      ]
    },
    {
      "cell_type": "markdown",
      "source": [
        "Single diamensional array"
      ],
      "metadata": {
        "id": "prKYEieDieoU"
      }
    },
    {
      "cell_type": "code",
      "execution_count": null,
      "metadata": {
        "colab": {
          "base_uri": "https://localhost:8080/"
        },
        "id": "ui5GPGiRfzM7",
        "outputId": "b4483755-3643-4de6-afdf-f82a79e14478"
      },
      "outputs": [
        {
          "output_type": "execute_result",
          "data": {
            "text/plain": [
              "array([1, 0, 3, 2, 3])"
            ]
          },
          "metadata": {},
          "execution_count": 2
        }
      ],
      "source": [
        "import numpy as np\n",
        "a=np.array([1,00,3,2,3])\n",
        "a"
      ]
    },
    {
      "cell_type": "markdown",
      "source": [
        "Multi diamensional array"
      ],
      "metadata": {
        "id": "FK9nun05ikrP"
      }
    },
    {
      "cell_type": "markdown",
      "source": [
        ""
      ],
      "metadata": {
        "id": "IdrQfS7BiuKt"
      }
    },
    {
      "cell_type": "code",
      "source": [
        "import numpy as np\n",
        "a=np.array(([1,00,3,2,3]),([1,2,3,6,5]),([2,3,5,5,6]))\n",
        "a"
      ],
      "metadata": {
        "colab": {
          "base_uri": "https://localhost:8080/",
          "height": 201
        },
        "id": "AAPl-ts3ipfR",
        "outputId": "ebadd893-1722-4c91-c8f5-02dcf270d764"
      },
      "execution_count": null,
      "outputs": [
        {
          "output_type": "error",
          "ename": "TypeError",
          "evalue": "ignored",
          "traceback": [
            "\u001b[0;31m---------------------------------------------------------------------------\u001b[0m",
            "\u001b[0;31mTypeError\u001b[0m                                 Traceback (most recent call last)",
            "\u001b[0;32m<ipython-input-5-99d1dee58ecf>\u001b[0m in \u001b[0;36m<module>\u001b[0;34m()\u001b[0m\n\u001b[1;32m      1\u001b[0m \u001b[0;32mimport\u001b[0m \u001b[0mnumpy\u001b[0m \u001b[0;32mas\u001b[0m \u001b[0mnp\u001b[0m\u001b[0;34m\u001b[0m\u001b[0;34m\u001b[0m\u001b[0m\n\u001b[0;32m----> 2\u001b[0;31m \u001b[0ma\u001b[0m\u001b[0;34m=\u001b[0m\u001b[0mnp\u001b[0m\u001b[0;34m.\u001b[0m\u001b[0marray\u001b[0m\u001b[0;34m(\u001b[0m\u001b[0;34m(\u001b[0m\u001b[0;34m[\u001b[0m\u001b[0;36m1\u001b[0m\u001b[0;34m,\u001b[0m\u001b[0;36m00\u001b[0m\u001b[0;34m,\u001b[0m\u001b[0;36m3\u001b[0m\u001b[0;34m,\u001b[0m\u001b[0;36m2\u001b[0m\u001b[0;34m,\u001b[0m\u001b[0;36m3\u001b[0m\u001b[0;34m]\u001b[0m\u001b[0;34m)\u001b[0m\u001b[0;34m,\u001b[0m\u001b[0;34m(\u001b[0m\u001b[0;34m[\u001b[0m\u001b[0;36m1\u001b[0m\u001b[0;34m,\u001b[0m\u001b[0;36m2\u001b[0m\u001b[0;34m,\u001b[0m\u001b[0;36m3\u001b[0m\u001b[0;34m,\u001b[0m\u001b[0;36m6\u001b[0m\u001b[0;34m,\u001b[0m\u001b[0;36m5\u001b[0m\u001b[0;34m]\u001b[0m\u001b[0;34m)\u001b[0m\u001b[0;34m,\u001b[0m\u001b[0;34m(\u001b[0m\u001b[0;34m[\u001b[0m\u001b[0;36m2\u001b[0m\u001b[0;34m,\u001b[0m\u001b[0;36m3\u001b[0m\u001b[0;34m,\u001b[0m\u001b[0;36m5\u001b[0m\u001b[0;34m,\u001b[0m\u001b[0;36m5\u001b[0m\u001b[0;34m,\u001b[0m\u001b[0;36m6\u001b[0m\u001b[0;34m]\u001b[0m\u001b[0;34m)\u001b[0m\u001b[0;34m)\u001b[0m\u001b[0;34m\u001b[0m\u001b[0;34m\u001b[0m\u001b[0m\n\u001b[0m\u001b[1;32m      3\u001b[0m \u001b[0ma\u001b[0m\u001b[0;34m\u001b[0m\u001b[0;34m\u001b[0m\u001b[0m\n",
            "\u001b[0;31mTypeError\u001b[0m: array() takes from 1 to 2 positional arguments but 3 were given"
          ]
        }
      ]
    },
    {
      "cell_type": "markdown",
      "source": [
        "Generating array"
      ],
      "metadata": {
        "id": "iB5gtot8jJ4r"
      }
    },
    {
      "cell_type": "code",
      "source": [
        "c= np.arange(10)  #range of values in array\n",
        "d= np.linspace(1,5,6)  # set of values by interval [start,end,no.of caluesEquation]\n",
        "print(c)\n",
        "print(d)"
      ],
      "metadata": {
        "colab": {
          "base_uri": "https://localhost:8080/"
        },
        "id": "cAfZCSQrjNjd",
        "outputId": "1da7859a-dd8d-4643-ea29-033e3281654a"
      },
      "execution_count": null,
      "outputs": [
        {
          "output_type": "stream",
          "name": "stdout",
          "text": [
            "[0 1 2 3 4 5 6 7 8 9]\n",
            "[1.  1.8 2.6 3.4 4.2 5. ]\n"
          ]
        }
      ]
    },
    {
      "cell_type": "markdown",
      "source": [
        "Array properties\n"
      ],
      "metadata": {
        "id": "5wIke1gukurf"
      }
    },
    {
      "cell_type": "code",
      "source": [
        "a = np.array([7,7,9,8])\n",
        "b = np.array([(5,6,9,6),(6,9,8,5)])\n",
        "print(a.ndim)#dimension of array\n",
        "print(b.ndim)#dimension of array\n",
        "print(a.itemsize)#Byte size of each element\n",
        "print(b.itemsize)#byte size of each element\n",
        "print(a.dtype)#datatype of array\n",
        "print(b.dtype)#datatype of array\n",
        "print(a.size*a.itemsize)#memory occupied - space occupied by one element * length of array\n",
        "print(b.size*b.itemsize)# memory occupied - space occupied by one element * length of array\n",
        "print(a.size)#number of elements in array\n",
        "print(b.size)\n",
        "print(b.shape) #shape of array(rows and coloumn)          "
      ],
      "metadata": {
        "colab": {
          "base_uri": "https://localhost:8080/"
        },
        "id": "pCy04hnekybj",
        "outputId": "62ac0b47-6c58-4e09-ce59-787c14e8ab23"
      },
      "execution_count": null,
      "outputs": [
        {
          "output_type": "stream",
          "name": "stdout",
          "text": [
            "1\n",
            "2\n",
            "8\n",
            "8\n",
            "int64\n",
            "int64\n",
            "32\n",
            "64\n",
            "4\n",
            "8\n",
            "(2, 4)\n"
          ]
        }
      ]
    },
    {
      "cell_type": "markdown",
      "source": [
        "array reshaping"
      ],
      "metadata": {
        "id": "l2bDG_ovrHLn"
      }
    },
    {
      "cell_type": "code",
      "source": [
        "b = np.array([(5,6,9,6),(6,9,8,5)])\n",
        "print(b)\n",
        "b=b.reshape(4,2)\n",
        "print(b)"
      ],
      "metadata": {
        "colab": {
          "base_uri": "https://localhost:8080/"
        },
        "id": "OohZfPVDrJaY",
        "outputId": "7fcf8b05-9d9e-4ce9-dbc8-80b53c9c4ddd"
      },
      "execution_count": null,
      "outputs": [
        {
          "output_type": "stream",
          "name": "stdout",
          "text": [
            "[[5 6 9 6]\n",
            " [6 9 8 5]]\n",
            "[[5 6]\n",
            " [9 6]\n",
            " [6 9]\n",
            " [8 5]]\n"
          ]
        }
      ]
    },
    {
      "cell_type": "markdown",
      "source": [
        "Array slicing"
      ],
      "metadata": {
        "id": "-uvOz9jUu3PS"
      }
    },
    {
      "cell_type": "code",
      "source": [
        "b = np.array([(1,3,6,5),(3,6,8,9)])\n",
        "print((b[0,2])) # slicing element from certain row and certain coloumn b[rowIndex, ColoumnIndex]\n",
        "\n",
        "print(b[0:,2])# Slicing element from all rows and certain coloumn"
      ],
      "metadata": {
        "colab": {
          "base_uri": "https://localhost:8080/"
        },
        "id": "uZz0xaQyu562",
        "outputId": "9b923b59-2ee5-4a4d-81d3-102392111b27"
      },
      "execution_count": null,
      "outputs": [
        {
          "output_type": "stream",
          "name": "stdout",
          "text": [
            "6\n",
            "[6 8]\n"
          ]
        }
      ]
    },
    {
      "cell_type": "markdown",
      "source": [
        "Array value operation"
      ],
      "metadata": {
        "id": "ChmhYeeaxKKH"
      }
    },
    {
      "cell_type": "code",
      "source": [
        "e = np.array([5,6,5,2,3,6,2])\n",
        "print(e.min())\n",
        "print(e.max())\n",
        "print(e.sum())"
      ],
      "metadata": {
        "colab": {
          "base_uri": "https://localhost:8080/"
        },
        "id": "VWK42s5exbEP",
        "outputId": "5cf52143-4ce7-4fba-db25-9140073f8374"
      },
      "execution_count": null,
      "outputs": [
        {
          "output_type": "stream",
          "name": "stdout",
          "text": [
            "2\n",
            "6\n",
            "29\n"
          ]
        }
      ]
    },
    {
      "cell_type": "markdown",
      "source": [
        "Arithmetic operation"
      ],
      "metadata": {
        "id": "XclC2wPBx0m5"
      }
    },
    {
      "cell_type": "code",
      "source": [
        "a = np.array([7,7,9,8])\n",
        "b = np.array([5,6,9,6])\n",
        "print(a+b)\n",
        "print(a-b)\n",
        "print(a*b)\n",
        "print(a/b)"
      ],
      "metadata": {
        "colab": {
          "base_uri": "https://localhost:8080/"
        },
        "id": "c8mBz-O8x4I3",
        "outputId": "02de03f1-18c2-4ab8-b483-8839940aa378"
      },
      "execution_count": null,
      "outputs": [
        {
          "output_type": "stream",
          "name": "stdout",
          "text": [
            "[12 13 18 14]\n",
            "[2 1 0 2]\n",
            "[35 42 81 48]\n",
            "[1.4        1.16666667 1.         1.33333333]\n"
          ]
        }
      ]
    },
    {
      "cell_type": "markdown",
      "source": [
        "I"
      ],
      "metadata": {
        "id": "cDA-fSVHzN3O"
      }
    },
    {
      "cell_type": "markdown",
      "source": [
        "Important operations on Array"
      ],
      "metadata": {
        "id": "BJ8r0XC6zXmg"
      }
    },
    {
      "cell_type": "code",
      "source": [
        "a = np.array([7,9,9,2])\n",
        "b = np.array([(7,9,9,2),(16,11,9,6)])\n",
        "print(b.sum(axis=0)) # Each element of 1st dim array with same index with another dim element\n",
        "print(b.sum(axis=1)) #Sum of all elements is 1dia and sum of all element is 2nd dim"
      ],
      "metadata": {
        "colab": {
          "base_uri": "https://localhost:8080/"
        },
        "id": "A5eiO4VZzOpq",
        "outputId": "5358bb7a-a470-4e6d-ffe3-225a27e931be"
      },
      "execution_count": null,
      "outputs": [
        {
          "output_type": "stream",
          "name": "stdout",
          "text": [
            "[23 20 18  8]\n",
            "[27 42]\n"
          ]
        }
      ]
    },
    {
      "cell_type": "code",
      "source": [
        "print(np.sqrt(a))#squareroot of array element"
      ],
      "metadata": {
        "colab": {
          "base_uri": "https://localhost:8080/"
        },
        "id": "ahlf0ceUz-Vq",
        "outputId": "be8e882d-77d7-4593-d048-3dd91424af39"
      },
      "execution_count": null,
      "outputs": [
        {
          "output_type": "stream",
          "name": "stdout",
          "text": [
            "[2.64575131 3.         3.         1.41421356]\n"
          ]
        }
      ]
    },
    {
      "cell_type": "code",
      "source": [
        "print(np.std(a)) #standard deviation"
      ],
      "metadata": {
        "colab": {
          "base_uri": "https://localhost:8080/"
        },
        "id": "zgUtcz5R0R2d",
        "outputId": "a7707a18-b157-469a-e003-be2c47d752f3"
      },
      "execution_count": null,
      "outputs": [
        {
          "output_type": "stream",
          "name": "stdout",
          "text": [
            "2.8613807855648994\n"
          ]
        }
      ]
    },
    {
      "cell_type": "code",
      "source": [
        "print(np.exp(a)) #Exponetial of array"
      ],
      "metadata": {
        "colab": {
          "base_uri": "https://localhost:8080/"
        },
        "id": "L_PbSgWU0X__",
        "outputId": "7c32f11a-7ece-4a5f-d008-4410fa1686db"
      },
      "execution_count": null,
      "outputs": [
        {
          "output_type": "stream",
          "name": "stdout",
          "text": [
            "[1.09663316e+03 8.10308393e+03 8.10308393e+03 7.38905610e+00]\n"
          ]
        }
      ]
    },
    {
      "cell_type": "code",
      "source": [
        "print(np.log(a)) #Natural log -In"
      ],
      "metadata": {
        "colab": {
          "base_uri": "https://localhost:8080/"
        },
        "id": "XSQDgXKN0gG4",
        "outputId": "4fed5625-701f-4cf9-a3c2-0ee2d611e61f"
      },
      "execution_count": null,
      "outputs": [
        {
          "output_type": "stream",
          "name": "stdout",
          "text": [
            "[1.94591015 2.19722458 2.19722458 0.69314718]\n"
          ]
        }
      ]
    },
    {
      "cell_type": "code",
      "source": [
        "print(np.log10(a)) #Logbase 10"
      ],
      "metadata": {
        "colab": {
          "base_uri": "https://localhost:8080/"
        },
        "id": "1wv7eU__0lAy",
        "outputId": "a2488e7b-e377-476d-9dea-df6460877117"
      },
      "execution_count": null,
      "outputs": [
        {
          "output_type": "stream",
          "name": "stdout",
          "text": [
            "[0.84509804 0.95424251 0.95424251 0.30103   ]\n"
          ]
        }
      ]
    },
    {
      "cell_type": "markdown",
      "source": [
        "Vertical stack and horizontal stack"
      ],
      "metadata": {
        "id": "tDjuK67L2UOF"
      }
    },
    {
      "cell_type": "code",
      "source": [
        "b = np.array([(7,9,9,2),(16,11,9,6)])\n",
        "f = np.array([(1,2,3,4),(5,6,7,8)])\n",
        "print(np.vstack((b,f))) # verticle stack"
      ],
      "metadata": {
        "colab": {
          "base_uri": "https://localhost:8080/"
        },
        "id": "ySq3MyGn2b39",
        "outputId": "75439875-b64e-4357-c7c9-fb69eb10d735"
      },
      "execution_count": null,
      "outputs": [
        {
          "output_type": "stream",
          "name": "stdout",
          "text": [
            "[[ 7  9  9  2]\n",
            " [16 11  9  6]\n",
            " [ 1  2  3  4]\n",
            " [ 5  6  7  8]]\n"
          ]
        }
      ]
    },
    {
      "cell_type": "code",
      "source": [
        "print(np.hstack((b,f))) #horizontal stack"
      ],
      "metadata": {
        "colab": {
          "base_uri": "https://localhost:8080/"
        },
        "id": "oMx_kkXE3eq2",
        "outputId": "0f4d2dba-0285-4a25-8f12-d3db4a2a52b8"
      },
      "execution_count": null,
      "outputs": [
        {
          "output_type": "stream",
          "name": "stdout",
          "text": [
            "[[ 7  9  9  2  1  2  3  4]\n",
            " [16 11  9  6  5  6  7  8]]\n"
          ]
        }
      ]
    },
    {
      "cell_type": "code",
      "source": [
        "print(b.ravel()) #Merging as single"
      ],
      "metadata": {
        "colab": {
          "base_uri": "https://localhost:8080/"
        },
        "id": "JZS3fOKX3vPG",
        "outputId": "6e823664-f75f-41a4-ca28-da1b07f8819b"
      },
      "execution_count": null,
      "outputs": [
        {
          "output_type": "stream",
          "name": "stdout",
          "text": [
            "[ 7  9  9  2 16 11  9  6]\n"
          ]
        }
      ]
    }
  ]
}